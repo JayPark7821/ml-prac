{
 "cells": [
  {
   "cell_type": "markdown",
   "source": [
    "# CF 예제 실습"
   ],
   "metadata": {
    "collapsed": false
   },
   "id": "d73e88c179662b7f"
  },
  {
   "cell_type": "code",
   "outputs": [],
   "source": [
    "import pandas as pd\n",
    "import numpy as np\n",
    "import hashlib\n",
    "from tqdm import tqdm\n",
    "from datasets import load_dataset\n",
    "from scipy.sparse import csr_matrix\n",
    "from sklearn.model_selection import train_test_split\n",
    "from sklearn.metrics.pairwise import cosine_similarity\n",
    "from sklearn.metrics import accuracy_score\n",
    "import matplotlib.pyplot as plt"
   ],
   "metadata": {
    "collapsed": false,
    "ExecuteTime": {
     "end_time": "2024-03-13T07:59:16.316488Z",
     "start_time": "2024-03-13T07:59:15.060152Z"
    }
   },
   "id": "3a4a150433c382f",
   "execution_count": 1
  },
  {
   "cell_type": "code",
   "outputs": [],
   "source": [
    "# 영화 테이블 구성\n",
    "\n",
    "data = {\n",
    "    \"영화 1\": [4,5,None,2,4],\n",
    "    \"영화 2\": [None,4,3,3,4],\n",
    "    \"영화 3\": [5,None,4,5,4],\n",
    "    \"영화 4\": [3,3,5,None,4],\n",
    "    \"영화 5\": [4,3,4,2,None],\n",
    "}\n",
    "\n",
    "df = pd.DataFrame(data, index=[\"사용자 1\", \"사용자 2\", \"사용자 3\", \"사용자 4\", \"사용자 5\"])"
   ],
   "metadata": {
    "collapsed": false,
    "ExecuteTime": {
     "end_time": "2024-03-13T07:59:16.320259Z",
     "start_time": "2024-03-13T07:59:16.317344Z"
    }
   },
   "id": "40e91c7c5f55da1f",
   "execution_count": 2
  },
  {
   "cell_type": "code",
   "outputs": [
    {
     "data": {
      "text/plain": "       영화 1  영화 2  영화 3  영화 4  영화 5\n사용자 1   4.0   NaN   5.0   3.0   4.0\n사용자 2   5.0   4.0   NaN   3.0   3.0\n사용자 3   NaN   3.0   4.0   5.0   4.0\n사용자 4   2.0   3.0   5.0   NaN   2.0\n사용자 5   4.0   4.0   4.0   4.0   NaN",
      "text/html": "<div>\n<style scoped>\n    .dataframe tbody tr th:only-of-type {\n        vertical-align: middle;\n    }\n\n    .dataframe tbody tr th {\n        vertical-align: top;\n    }\n\n    .dataframe thead th {\n        text-align: right;\n    }\n</style>\n<table border=\"1\" class=\"dataframe\">\n  <thead>\n    <tr style=\"text-align: right;\">\n      <th></th>\n      <th>영화 1</th>\n      <th>영화 2</th>\n      <th>영화 3</th>\n      <th>영화 4</th>\n      <th>영화 5</th>\n    </tr>\n  </thead>\n  <tbody>\n    <tr>\n      <th>사용자 1</th>\n      <td>4.0</td>\n      <td>NaN</td>\n      <td>5.0</td>\n      <td>3.0</td>\n      <td>4.0</td>\n    </tr>\n    <tr>\n      <th>사용자 2</th>\n      <td>5.0</td>\n      <td>4.0</td>\n      <td>NaN</td>\n      <td>3.0</td>\n      <td>3.0</td>\n    </tr>\n    <tr>\n      <th>사용자 3</th>\n      <td>NaN</td>\n      <td>3.0</td>\n      <td>4.0</td>\n      <td>5.0</td>\n      <td>4.0</td>\n    </tr>\n    <tr>\n      <th>사용자 4</th>\n      <td>2.0</td>\n      <td>3.0</td>\n      <td>5.0</td>\n      <td>NaN</td>\n      <td>2.0</td>\n    </tr>\n    <tr>\n      <th>사용자 5</th>\n      <td>4.0</td>\n      <td>4.0</td>\n      <td>4.0</td>\n      <td>4.0</td>\n      <td>NaN</td>\n    </tr>\n  </tbody>\n</table>\n</div>"
     },
     "execution_count": 3,
     "metadata": {},
     "output_type": "execute_result"
    }
   ],
   "source": [
    "df"
   ],
   "metadata": {
    "collapsed": false,
    "ExecuteTime": {
     "end_time": "2024-03-13T07:59:16.327989Z",
     "start_time": "2024-03-13T07:59:16.320845Z"
    }
   },
   "id": "530fb48ac7247e5d",
   "execution_count": 3
  },
  {
   "cell_type": "code",
   "outputs": [
    {
     "data": {
      "text/plain": "          사용자 1     사용자 2     사용자 3     사용자 4     사용자 5\n사용자 1  1.000000  0.657031  0.772727  0.778731  0.738549\n사용자 2  0.657031  1.000000  0.624981  0.562480  0.781133\n사용자 3  0.772727  0.624981  1.000000  0.702757  0.738549\n사용자 4  0.778731  0.562480  0.702757  1.000000  0.771517\n사용자 5  0.738549  0.781133  0.738549  0.771517  1.000000",
      "text/html": "<div>\n<style scoped>\n    .dataframe tbody tr th:only-of-type {\n        vertical-align: middle;\n    }\n\n    .dataframe tbody tr th {\n        vertical-align: top;\n    }\n\n    .dataframe thead th {\n        text-align: right;\n    }\n</style>\n<table border=\"1\" class=\"dataframe\">\n  <thead>\n    <tr style=\"text-align: right;\">\n      <th></th>\n      <th>사용자 1</th>\n      <th>사용자 2</th>\n      <th>사용자 3</th>\n      <th>사용자 4</th>\n      <th>사용자 5</th>\n    </tr>\n  </thead>\n  <tbody>\n    <tr>\n      <th>사용자 1</th>\n      <td>1.000000</td>\n      <td>0.657031</td>\n      <td>0.772727</td>\n      <td>0.778731</td>\n      <td>0.738549</td>\n    </tr>\n    <tr>\n      <th>사용자 2</th>\n      <td>0.657031</td>\n      <td>1.000000</td>\n      <td>0.624981</td>\n      <td>0.562480</td>\n      <td>0.781133</td>\n    </tr>\n    <tr>\n      <th>사용자 3</th>\n      <td>0.772727</td>\n      <td>0.624981</td>\n      <td>1.000000</td>\n      <td>0.702757</td>\n      <td>0.738549</td>\n    </tr>\n    <tr>\n      <th>사용자 4</th>\n      <td>0.778731</td>\n      <td>0.562480</td>\n      <td>0.702757</td>\n      <td>1.000000</td>\n      <td>0.771517</td>\n    </tr>\n    <tr>\n      <th>사용자 5</th>\n      <td>0.738549</td>\n      <td>0.781133</td>\n      <td>0.738549</td>\n      <td>0.771517</td>\n      <td>1.000000</td>\n    </tr>\n  </tbody>\n</table>\n</div>"
     },
     "execution_count": 4,
     "metadata": {},
     "output_type": "execute_result"
    }
   ],
   "source": [
    "# 사용자 유사도 테이블 구성\n",
    "\n",
    "user_df = df.copy()\n",
    "user_df = user_df.fillna(0)\n",
    "user_similarity = cosine_similarity(user_df, user_df)\n",
    "user_similarity_df = pd.DataFrame(user_similarity, index=user_df.index, columns=user_df.index)\n",
    "user_similarity_df"
   ],
   "metadata": {
    "collapsed": false,
    "ExecuteTime": {
     "end_time": "2024-03-13T07:59:16.334296Z",
     "start_time": "2024-03-13T07:59:16.329207Z"
    }
   },
   "id": "388fb8c75c53158e",
   "execution_count": 4
  },
  {
   "cell_type": "code",
   "outputs": [
    {
     "data": {
      "text/plain": "          영화 1      영화 2      영화 3      영화 4      영화 5\n영화 1  1.000000  0.760500  0.650408  0.716766  0.668031\n영화 2  0.760500  1.000000  0.671547  0.791694  0.632456\n영화 3  0.650408  0.671547  1.000000  0.733225  0.757259\n영화 4  0.716766  0.791694  0.733225  1.000000  0.795704\n영화 5  0.668031  0.632456  0.757259  0.795704  1.000000",
      "text/html": "<div>\n<style scoped>\n    .dataframe tbody tr th:only-of-type {\n        vertical-align: middle;\n    }\n\n    .dataframe tbody tr th {\n        vertical-align: top;\n    }\n\n    .dataframe thead th {\n        text-align: right;\n    }\n</style>\n<table border=\"1\" class=\"dataframe\">\n  <thead>\n    <tr style=\"text-align: right;\">\n      <th></th>\n      <th>영화 1</th>\n      <th>영화 2</th>\n      <th>영화 3</th>\n      <th>영화 4</th>\n      <th>영화 5</th>\n    </tr>\n  </thead>\n  <tbody>\n    <tr>\n      <th>영화 1</th>\n      <td>1.000000</td>\n      <td>0.760500</td>\n      <td>0.650408</td>\n      <td>0.716766</td>\n      <td>0.668031</td>\n    </tr>\n    <tr>\n      <th>영화 2</th>\n      <td>0.760500</td>\n      <td>1.000000</td>\n      <td>0.671547</td>\n      <td>0.791694</td>\n      <td>0.632456</td>\n    </tr>\n    <tr>\n      <th>영화 3</th>\n      <td>0.650408</td>\n      <td>0.671547</td>\n      <td>1.000000</td>\n      <td>0.733225</td>\n      <td>0.757259</td>\n    </tr>\n    <tr>\n      <th>영화 4</th>\n      <td>0.716766</td>\n      <td>0.791694</td>\n      <td>0.733225</td>\n      <td>1.000000</td>\n      <td>0.795704</td>\n    </tr>\n    <tr>\n      <th>영화 5</th>\n      <td>0.668031</td>\n      <td>0.632456</td>\n      <td>0.757259</td>\n      <td>0.795704</td>\n      <td>1.000000</td>\n    </tr>\n  </tbody>\n</table>\n</div>"
     },
     "execution_count": 5,
     "metadata": {},
     "output_type": "execute_result"
    }
   ],
   "source": [
    "# 아이템 유사도 테이블 구성\n",
    "item_df = np.transpose(df.copy())\n",
    "item_df = item_df.fillna(0)\n",
    "item_similarity = cosine_similarity(item_df, item_df)\n",
    "item_similarity_df = pd.DataFrame(item_similarity, index=item_df.index, columns=item_df.index)\n",
    "item_similarity_df"
   ],
   "metadata": {
    "collapsed": false,
    "ExecuteTime": {
     "end_time": "2024-03-13T07:59:16.338815Z",
     "start_time": "2024-03-13T07:59:16.334947Z"
    }
   },
   "id": "827ea6d7b5e5d6f7",
   "execution_count": 5
  },
  {
   "cell_type": "code",
   "outputs": [
    {
     "data": {
      "text/plain": "           영화 1      영화 2      영화 3      영화 4      영화 5\n사용자 1  4.000000  3.473553  5.000000  3.000000  4.000000\n사용자 2  5.000000  4.000000  4.464465  3.000000  3.000000\n사용자 3  3.725069  3.000000  4.000000  5.000000  4.000000\n사용자 4  2.000000  3.000000  5.000000  3.773235  2.000000\n사용자 5  4.000000  4.000000  4.000000  4.000000  3.232884",
      "text/html": "<div>\n<style scoped>\n    .dataframe tbody tr th:only-of-type {\n        vertical-align: middle;\n    }\n\n    .dataframe tbody tr th {\n        vertical-align: top;\n    }\n\n    .dataframe thead th {\n        text-align: right;\n    }\n</style>\n<table border=\"1\" class=\"dataframe\">\n  <thead>\n    <tr style=\"text-align: right;\">\n      <th></th>\n      <th>영화 1</th>\n      <th>영화 2</th>\n      <th>영화 3</th>\n      <th>영화 4</th>\n      <th>영화 5</th>\n    </tr>\n  </thead>\n  <tbody>\n    <tr>\n      <th>사용자 1</th>\n      <td>4.000000</td>\n      <td>3.473553</td>\n      <td>5.000000</td>\n      <td>3.000000</td>\n      <td>4.000000</td>\n    </tr>\n    <tr>\n      <th>사용자 2</th>\n      <td>5.000000</td>\n      <td>4.000000</td>\n      <td>4.464465</td>\n      <td>3.000000</td>\n      <td>3.000000</td>\n    </tr>\n    <tr>\n      <th>사용자 3</th>\n      <td>3.725069</td>\n      <td>3.000000</td>\n      <td>4.000000</td>\n      <td>5.000000</td>\n      <td>4.000000</td>\n    </tr>\n    <tr>\n      <th>사용자 4</th>\n      <td>2.000000</td>\n      <td>3.000000</td>\n      <td>5.000000</td>\n      <td>3.773235</td>\n      <td>2.000000</td>\n    </tr>\n    <tr>\n      <th>사용자 5</th>\n      <td>4.000000</td>\n      <td>4.000000</td>\n      <td>4.000000</td>\n      <td>4.000000</td>\n      <td>3.232884</td>\n    </tr>\n  </tbody>\n</table>\n</div>"
     },
     "execution_count": 6,
     "metadata": {},
     "output_type": "execute_result"
    }
   ],
   "source": [
    "full_df = df.copy()\n",
    "for user_id in full_df.index:\n",
    "    for movie_id in full_df.columns:\n",
    "        if not np.isnan(full_df[movie_id][user_id]): continue\n",
    "        \n",
    "        similarities = user_similarity_df[user_id].copy()\n",
    "        movie_ratings = full_df[movie_id].copy()\n",
    "        \n",
    "        none_rating_idx = movie_ratings[movie_ratings.isnull()].index\n",
    "        movie_ratings = movie_ratings.dropna()\n",
    "        similarities = similarities.drop(none_rating_idx)\n",
    "        \n",
    "        mean_rating = np.dot(similarities, movie_ratings) / similarities.sum()\n",
    "        full_df[movie_id][user_id] = mean_rating\n",
    "        \n",
    "full_df\n",
    "        \n",
    "        "
   ],
   "metadata": {
    "collapsed": false,
    "ExecuteTime": {
     "end_time": "2024-03-13T07:59:16.345972Z",
     "start_time": "2024-03-13T07:59:16.339328Z"
    }
   },
   "id": "28c42afce803134",
   "execution_count": 6
  },
  {
   "cell_type": "code",
   "outputs": [
    {
     "data": {
      "text/plain": "영화 5    0.795704\n영화 2    0.791694\n영화 1    0.716766\nName: 영화 4, dtype: float64"
     },
     "execution_count": 7,
     "metadata": {},
     "output_type": "execute_result"
    }
   ],
   "source": [
    "watched_movies = [\"영화 4\", \"영화 3\"]\n",
    "item_similarity_df[watched_movies[0]][~item_similarity_df.index.isin(watched_movies)].sort_values(ascending=False)[:3]"
   ],
   "metadata": {
    "collapsed": false,
    "ExecuteTime": {
     "end_time": "2024-03-13T07:59:16.350485Z",
     "start_time": "2024-03-13T07:59:16.346632Z"
    }
   },
   "id": "a22a8e41e038f5f8",
   "execution_count": 7
  },
  {
   "cell_type": "code",
   "outputs": [
    {
     "name": "stderr",
     "output_type": "stream",
     "text": [
      "Found cached dataset parquet (/Users/jaypark/.cache/huggingface/datasets/nbtpj___parquet/nbtpj--movielens-1m-ratings-b1aa424c884e38a3/0.0.0/2a3b91fbd88a2c90d1dbbb32b460cf621d31bd5b05b934492fdef7d8d6f236ec)\n"
     ]
    },
    {
     "data": {
      "text/plain": "  0%|          | 0/1 [00:00<?, ?it/s]",
      "application/vnd.jupyter.widget-view+json": {
       "version_major": 2,
       "version_minor": 0,
       "model_id": "d9e7e75c683e4a18a94bdad4575dd502"
      }
     },
     "metadata": {},
     "output_type": "display_data"
    },
    {
     "name": "stderr",
     "output_type": "stream",
     "text": [
      "Loading cached shuffled indices for dataset at /Users/jaypark/.cache/huggingface/datasets/nbtpj___parquet/nbtpj--movielens-1m-ratings-b1aa424c884e38a3/0.0.0/2a3b91fbd88a2c90d1dbbb32b460cf621d31bd5b05b934492fdef7d8d6f236ec/cache-15aa091e090a52af.arrow\n",
      "100%|██████████| 10/10 [00:16<00:00,  1.70s/it]\n"
     ]
    }
   ],
   "source": [
    "data = load_dataset(\"nbtpj/movielens-1m-ratings\")[\"train\"].shuffle(seed=10)\n",
    "n_chunks = 10\n",
    "chunk_size = len(data) // n_chunks\n",
    "if len(data) % n_chunks != 0:\n",
    "    chunk_size += 1\n",
    "\n",
    "movielens_df = pd.DataFrame()\n",
    "\n",
    "for start in tqdm(range(0, len(data), chunk_size)):\n",
    "    end = start + chunk_size\n",
    "    chunk_df = pd.DataFrame(data[start:end])\n",
    "    movielens_df = pd.concat([movielens_df, chunk_df], ignore_index=True)\n",
    "    \n",
    "movielens_df = movielens_df[[\"user_id\", \"movie_id\", \"user_rating\"]]\n"
   ],
   "metadata": {
    "collapsed": false,
    "ExecuteTime": {
     "end_time": "2024-03-13T07:59:35.236230Z",
     "start_time": "2024-03-13T07:59:16.351111Z"
    }
   },
   "id": "2093afc8b4bd992d",
   "execution_count": 8
  },
  {
   "cell_type": "code",
   "outputs": [
    {
     "data": {
      "text/plain": "         user_id movie_id  user_rating\n0        b'3032'   b'782'          5.0\n1        b'5963'  b'2716'          4.0\n2        b'2088'  b'2019'          5.0\n3        b'2340'  b'3253'          5.0\n4        b'3942'  b'1200'          4.0\n...          ...      ...          ...\n1000204  b'4777'  b'3461'          4.0\n1000205  b'2986'  b'1345'          4.0\n1000206   b'854'  b'3253'          3.0\n1000207  b'3462'  b'2734'          4.0\n1000208  b'3732'  b'2352'          3.0\n\n[1000209 rows x 3 columns]",
      "text/html": "<div>\n<style scoped>\n    .dataframe tbody tr th:only-of-type {\n        vertical-align: middle;\n    }\n\n    .dataframe tbody tr th {\n        vertical-align: top;\n    }\n\n    .dataframe thead th {\n        text-align: right;\n    }\n</style>\n<table border=\"1\" class=\"dataframe\">\n  <thead>\n    <tr style=\"text-align: right;\">\n      <th></th>\n      <th>user_id</th>\n      <th>movie_id</th>\n      <th>user_rating</th>\n    </tr>\n  </thead>\n  <tbody>\n    <tr>\n      <th>0</th>\n      <td>b'3032'</td>\n      <td>b'782'</td>\n      <td>5.0</td>\n    </tr>\n    <tr>\n      <th>1</th>\n      <td>b'5963'</td>\n      <td>b'2716'</td>\n      <td>4.0</td>\n    </tr>\n    <tr>\n      <th>2</th>\n      <td>b'2088'</td>\n      <td>b'2019'</td>\n      <td>5.0</td>\n    </tr>\n    <tr>\n      <th>3</th>\n      <td>b'2340'</td>\n      <td>b'3253'</td>\n      <td>5.0</td>\n    </tr>\n    <tr>\n      <th>4</th>\n      <td>b'3942'</td>\n      <td>b'1200'</td>\n      <td>4.0</td>\n    </tr>\n    <tr>\n      <th>...</th>\n      <td>...</td>\n      <td>...</td>\n      <td>...</td>\n    </tr>\n    <tr>\n      <th>1000204</th>\n      <td>b'4777'</td>\n      <td>b'3461'</td>\n      <td>4.0</td>\n    </tr>\n    <tr>\n      <th>1000205</th>\n      <td>b'2986'</td>\n      <td>b'1345'</td>\n      <td>4.0</td>\n    </tr>\n    <tr>\n      <th>1000206</th>\n      <td>b'854'</td>\n      <td>b'3253'</td>\n      <td>3.0</td>\n    </tr>\n    <tr>\n      <th>1000207</th>\n      <td>b'3462'</td>\n      <td>b'2734'</td>\n      <td>4.0</td>\n    </tr>\n    <tr>\n      <th>1000208</th>\n      <td>b'3732'</td>\n      <td>b'2352'</td>\n      <td>3.0</td>\n    </tr>\n  </tbody>\n</table>\n<p>1000209 rows × 3 columns</p>\n</div>"
     },
     "execution_count": 9,
     "metadata": {},
     "output_type": "execute_result"
    }
   ],
   "source": [
    "movielens_df"
   ],
   "metadata": {
    "collapsed": false,
    "ExecuteTime": {
     "end_time": "2024-03-13T07:59:35.242015Z",
     "start_time": "2024-03-13T07:59:35.237087Z"
    }
   },
   "id": "d5dc8a31c6e0a814",
   "execution_count": 9
  },
  {
   "cell_type": "code",
   "outputs": [
    {
     "data": {
      "text/plain": "movie_id  b'1'  b'10'  b'100'  b'1000'  b'1002'  b'1003'  b'1004'  b'1005'  \\\nuser_id                                                                      \nb'1'       5.0    NaN     NaN      NaN      NaN      NaN      NaN      NaN   \nb'10'      5.0    NaN     NaN      NaN      NaN      NaN      NaN      NaN   \nb'100'     NaN    NaN     NaN      NaN      NaN      NaN      NaN      NaN   \nb'1000'    5.0    NaN     NaN      NaN      NaN      NaN      NaN      NaN   \nb'1001'    4.0    NaN     NaN      NaN      NaN      NaN      NaN      NaN   \n...        ...    ...     ...      ...      ...      ...      ...      ...   \nb'995'     NaN    NaN     NaN      NaN      NaN      NaN      NaN      NaN   \nb'996'     4.0    NaN     NaN      NaN      NaN      NaN      NaN      NaN   \nb'997'     4.0    NaN     NaN      NaN      NaN      NaN      NaN      NaN   \nb'998'     NaN    NaN     NaN      NaN      NaN      NaN      NaN      NaN   \nb'999'     NaN    NaN     NaN      NaN      NaN      2.0      3.0      NaN   \n\nmovie_id  b'1006'  b'1007'  ...  b'99'  b'990'  b'991'  b'992'  b'993'  \\\nuser_id                     ...                                          \nb'1'          NaN      NaN  ...    NaN     NaN     NaN     NaN     NaN   \nb'10'         NaN      NaN  ...    NaN     NaN     NaN     NaN     NaN   \nb'100'        NaN      NaN  ...    NaN     NaN     NaN     NaN     NaN   \nb'1000'       NaN      NaN  ...    NaN     NaN     NaN     NaN     NaN   \nb'1001'       NaN      NaN  ...    NaN     NaN     NaN     NaN     NaN   \n...           ...      ...  ...    ...     ...     ...     ...     ...   \nb'995'        NaN      NaN  ...    NaN     NaN     NaN     NaN     NaN   \nb'996'        NaN      NaN  ...    NaN     NaN     NaN     NaN     NaN   \nb'997'        NaN      NaN  ...    NaN     NaN     NaN     NaN     NaN   \nb'998'        NaN      NaN  ...    NaN     NaN     NaN     NaN     NaN   \nb'999'        NaN      NaN  ...    NaN     NaN     NaN     NaN     NaN   \n\nmovie_id  b'994'  b'996'  b'997'  b'998'  b'999'  \nuser_id                                           \nb'1'         NaN     NaN     NaN     NaN     NaN  \nb'10'        NaN     NaN     NaN     NaN     NaN  \nb'100'       NaN     NaN     NaN     NaN     NaN  \nb'1000'      NaN     NaN     NaN     NaN     NaN  \nb'1001'      NaN     NaN     NaN     NaN     NaN  \n...          ...     ...     ...     ...     ...  \nb'995'       NaN     NaN     NaN     NaN     NaN  \nb'996'       NaN     NaN     NaN     NaN     3.0  \nb'997'       NaN     NaN     NaN     NaN     NaN  \nb'998'       NaN     NaN     NaN     NaN     NaN  \nb'999'       NaN     2.0     NaN     NaN     NaN  \n\n[6040 rows x 3706 columns]",
      "text/html": "<div>\n<style scoped>\n    .dataframe tbody tr th:only-of-type {\n        vertical-align: middle;\n    }\n\n    .dataframe tbody tr th {\n        vertical-align: top;\n    }\n\n    .dataframe thead th {\n        text-align: right;\n    }\n</style>\n<table border=\"1\" class=\"dataframe\">\n  <thead>\n    <tr style=\"text-align: right;\">\n      <th>movie_id</th>\n      <th>b'1'</th>\n      <th>b'10'</th>\n      <th>b'100'</th>\n      <th>b'1000'</th>\n      <th>b'1002'</th>\n      <th>b'1003'</th>\n      <th>b'1004'</th>\n      <th>b'1005'</th>\n      <th>b'1006'</th>\n      <th>b'1007'</th>\n      <th>...</th>\n      <th>b'99'</th>\n      <th>b'990'</th>\n      <th>b'991'</th>\n      <th>b'992'</th>\n      <th>b'993'</th>\n      <th>b'994'</th>\n      <th>b'996'</th>\n      <th>b'997'</th>\n      <th>b'998'</th>\n      <th>b'999'</th>\n    </tr>\n    <tr>\n      <th>user_id</th>\n      <th></th>\n      <th></th>\n      <th></th>\n      <th></th>\n      <th></th>\n      <th></th>\n      <th></th>\n      <th></th>\n      <th></th>\n      <th></th>\n      <th></th>\n      <th></th>\n      <th></th>\n      <th></th>\n      <th></th>\n      <th></th>\n      <th></th>\n      <th></th>\n      <th></th>\n      <th></th>\n      <th></th>\n    </tr>\n  </thead>\n  <tbody>\n    <tr>\n      <th>b'1'</th>\n      <td>5.0</td>\n      <td>NaN</td>\n      <td>NaN</td>\n      <td>NaN</td>\n      <td>NaN</td>\n      <td>NaN</td>\n      <td>NaN</td>\n      <td>NaN</td>\n      <td>NaN</td>\n      <td>NaN</td>\n      <td>...</td>\n      <td>NaN</td>\n      <td>NaN</td>\n      <td>NaN</td>\n      <td>NaN</td>\n      <td>NaN</td>\n      <td>NaN</td>\n      <td>NaN</td>\n      <td>NaN</td>\n      <td>NaN</td>\n      <td>NaN</td>\n    </tr>\n    <tr>\n      <th>b'10'</th>\n      <td>5.0</td>\n      <td>NaN</td>\n      <td>NaN</td>\n      <td>NaN</td>\n      <td>NaN</td>\n      <td>NaN</td>\n      <td>NaN</td>\n      <td>NaN</td>\n      <td>NaN</td>\n      <td>NaN</td>\n      <td>...</td>\n      <td>NaN</td>\n      <td>NaN</td>\n      <td>NaN</td>\n      <td>NaN</td>\n      <td>NaN</td>\n      <td>NaN</td>\n      <td>NaN</td>\n      <td>NaN</td>\n      <td>NaN</td>\n      <td>NaN</td>\n    </tr>\n    <tr>\n      <th>b'100'</th>\n      <td>NaN</td>\n      <td>NaN</td>\n      <td>NaN</td>\n      <td>NaN</td>\n      <td>NaN</td>\n      <td>NaN</td>\n      <td>NaN</td>\n      <td>NaN</td>\n      <td>NaN</td>\n      <td>NaN</td>\n      <td>...</td>\n      <td>NaN</td>\n      <td>NaN</td>\n      <td>NaN</td>\n      <td>NaN</td>\n      <td>NaN</td>\n      <td>NaN</td>\n      <td>NaN</td>\n      <td>NaN</td>\n      <td>NaN</td>\n      <td>NaN</td>\n    </tr>\n    <tr>\n      <th>b'1000'</th>\n      <td>5.0</td>\n      <td>NaN</td>\n      <td>NaN</td>\n      <td>NaN</td>\n      <td>NaN</td>\n      <td>NaN</td>\n      <td>NaN</td>\n      <td>NaN</td>\n      <td>NaN</td>\n      <td>NaN</td>\n      <td>...</td>\n      <td>NaN</td>\n      <td>NaN</td>\n      <td>NaN</td>\n      <td>NaN</td>\n      <td>NaN</td>\n      <td>NaN</td>\n      <td>NaN</td>\n      <td>NaN</td>\n      <td>NaN</td>\n      <td>NaN</td>\n    </tr>\n    <tr>\n      <th>b'1001'</th>\n      <td>4.0</td>\n      <td>NaN</td>\n      <td>NaN</td>\n      <td>NaN</td>\n      <td>NaN</td>\n      <td>NaN</td>\n      <td>NaN</td>\n      <td>NaN</td>\n      <td>NaN</td>\n      <td>NaN</td>\n      <td>...</td>\n      <td>NaN</td>\n      <td>NaN</td>\n      <td>NaN</td>\n      <td>NaN</td>\n      <td>NaN</td>\n      <td>NaN</td>\n      <td>NaN</td>\n      <td>NaN</td>\n      <td>NaN</td>\n      <td>NaN</td>\n    </tr>\n    <tr>\n      <th>...</th>\n      <td>...</td>\n      <td>...</td>\n      <td>...</td>\n      <td>...</td>\n      <td>...</td>\n      <td>...</td>\n      <td>...</td>\n      <td>...</td>\n      <td>...</td>\n      <td>...</td>\n      <td>...</td>\n      <td>...</td>\n      <td>...</td>\n      <td>...</td>\n      <td>...</td>\n      <td>...</td>\n      <td>...</td>\n      <td>...</td>\n      <td>...</td>\n      <td>...</td>\n      <td>...</td>\n    </tr>\n    <tr>\n      <th>b'995'</th>\n      <td>NaN</td>\n      <td>NaN</td>\n      <td>NaN</td>\n      <td>NaN</td>\n      <td>NaN</td>\n      <td>NaN</td>\n      <td>NaN</td>\n      <td>NaN</td>\n      <td>NaN</td>\n      <td>NaN</td>\n      <td>...</td>\n      <td>NaN</td>\n      <td>NaN</td>\n      <td>NaN</td>\n      <td>NaN</td>\n      <td>NaN</td>\n      <td>NaN</td>\n      <td>NaN</td>\n      <td>NaN</td>\n      <td>NaN</td>\n      <td>NaN</td>\n    </tr>\n    <tr>\n      <th>b'996'</th>\n      <td>4.0</td>\n      <td>NaN</td>\n      <td>NaN</td>\n      <td>NaN</td>\n      <td>NaN</td>\n      <td>NaN</td>\n      <td>NaN</td>\n      <td>NaN</td>\n      <td>NaN</td>\n      <td>NaN</td>\n      <td>...</td>\n      <td>NaN</td>\n      <td>NaN</td>\n      <td>NaN</td>\n      <td>NaN</td>\n      <td>NaN</td>\n      <td>NaN</td>\n      <td>NaN</td>\n      <td>NaN</td>\n      <td>NaN</td>\n      <td>3.0</td>\n    </tr>\n    <tr>\n      <th>b'997'</th>\n      <td>4.0</td>\n      <td>NaN</td>\n      <td>NaN</td>\n      <td>NaN</td>\n      <td>NaN</td>\n      <td>NaN</td>\n      <td>NaN</td>\n      <td>NaN</td>\n      <td>NaN</td>\n      <td>NaN</td>\n      <td>...</td>\n      <td>NaN</td>\n      <td>NaN</td>\n      <td>NaN</td>\n      <td>NaN</td>\n      <td>NaN</td>\n      <td>NaN</td>\n      <td>NaN</td>\n      <td>NaN</td>\n      <td>NaN</td>\n      <td>NaN</td>\n    </tr>\n    <tr>\n      <th>b'998'</th>\n      <td>NaN</td>\n      <td>NaN</td>\n      <td>NaN</td>\n      <td>NaN</td>\n      <td>NaN</td>\n      <td>NaN</td>\n      <td>NaN</td>\n      <td>NaN</td>\n      <td>NaN</td>\n      <td>NaN</td>\n      <td>...</td>\n      <td>NaN</td>\n      <td>NaN</td>\n      <td>NaN</td>\n      <td>NaN</td>\n      <td>NaN</td>\n      <td>NaN</td>\n      <td>NaN</td>\n      <td>NaN</td>\n      <td>NaN</td>\n      <td>NaN</td>\n    </tr>\n    <tr>\n      <th>b'999'</th>\n      <td>NaN</td>\n      <td>NaN</td>\n      <td>NaN</td>\n      <td>NaN</td>\n      <td>NaN</td>\n      <td>2.0</td>\n      <td>3.0</td>\n      <td>NaN</td>\n      <td>NaN</td>\n      <td>NaN</td>\n      <td>...</td>\n      <td>NaN</td>\n      <td>NaN</td>\n      <td>NaN</td>\n      <td>NaN</td>\n      <td>NaN</td>\n      <td>NaN</td>\n      <td>2.0</td>\n      <td>NaN</td>\n      <td>NaN</td>\n      <td>NaN</td>\n    </tr>\n  </tbody>\n</table>\n<p>6040 rows × 3706 columns</p>\n</div>"
     },
     "execution_count": 10,
     "metadata": {},
     "output_type": "execute_result"
    }
   ],
   "source": [
    "user_item_matrix = movielens_df.pivot_table(index=\"user_id\", columns=\"movie_id\", values=\"user_rating\")\n",
    "user_item_matrix"
   ],
   "metadata": {
    "collapsed": false,
    "ExecuteTime": {
     "end_time": "2024-03-13T07:59:35.879814Z",
     "start_time": "2024-03-13T07:59:35.243624Z"
    }
   },
   "id": "b1d18111dfc0c635",
   "execution_count": 10
  },
  {
   "cell_type": "code",
   "outputs": [
    {
     "data": {
      "text/plain": "user_id      b'1'     b'10'    b'100'   b'1000'   b'1001'   b'1002'   b'1003'  \\\nuser_id                                                                         \nb'1'     1.000000  0.255288  0.123967  0.207800  0.139061  0.110320  0.121384   \nb'10'    0.255288  1.000000  0.258047  0.278753  0.154858  0.112222  0.141111   \nb'100'   0.123967  0.258047  1.000000  0.297539  0.075597  0.110450  0.358686   \nb'1000'  0.207800  0.278753  0.297539  1.000000  0.094710  0.047677  0.201722   \nb'1001'  0.139061  0.154858  0.075597  0.094710  1.000000  0.164551  0.053788   \n...           ...       ...       ...       ...       ...       ...       ...   \nb'995'   0.035731  0.145650  0.033754  0.044404  0.109499  0.072578  0.031406   \nb'996'   0.170184  0.300175  0.344290  0.330748  0.221710  0.224779  0.185226   \nb'997'   0.159267  0.160346  0.204302  0.172803  0.100597  0.068980  0.170771   \nb'998'   0.119356  0.132506  0.113522  0.098456  0.269456  0.218905  0.141829   \nb'999'   0.122059  0.246251  0.306104  0.245292  0.175194  0.177989  0.198117   \n\nuser_id   b'1004'   b'1005'   b'1006'  ...    b'990'    b'991'    b'992'  \\\nuser_id                                ...                                 \nb'1'     0.179143  0.103137  0.052816  ...  0.079367  0.038048  0.032136   \nb'10'    0.428224  0.188569  0.101856  ...  0.153462  0.186086  0.083224   \nb'100'   0.236065  0.171609  0.099147  ...  0.098235  0.097953  0.065152   \nb'1000'  0.353782  0.323584  0.130702  ...  0.170100  0.076779  0.000000   \nb'1001'  0.149019  0.137336  0.134462  ...  0.146001  0.026842  0.096832   \n...           ...       ...       ...  ...       ...       ...       ...   \nb'995'   0.088304  0.061001  0.032265  ...  0.080559  0.252222  0.074207   \nb'996'   0.349899  0.285861  0.164045  ...  0.205186  0.086546  0.062523   \nb'997'   0.171951  0.105527  0.049536  ...  0.187734  0.030588  0.081380   \nb'998'   0.075084  0.111210  0.052900  ...  0.061241  0.074269  0.086398   \nb'999'   0.331558  0.163129  0.143475  ...  0.214226  0.085049  0.040198   \n\nuser_id    b'993'    b'994'    b'995'    b'996'    b'997'    b'998'    b'999'  \nuser_id                                                                        \nb'1'     0.066641  0.070052  0.035731  0.170184  0.159267  0.119356  0.122059  \nb'10'    0.123288  0.117829  0.145650  0.300175  0.160346  0.132506  0.246251  \nb'100'   0.176048  0.271311  0.033754  0.344290  0.204302  0.113522  0.306104  \nb'1000'  0.197410  0.380741  0.044404  0.330748  0.172803  0.098456  0.245292  \nb'1001'  0.117641  0.092065  0.109499  0.221710  0.100597  0.269456  0.175194  \n...           ...       ...       ...       ...       ...       ...       ...  \nb'995'   0.097260  0.048650  1.000000  0.063925  0.019459  0.075830  0.052428  \nb'996'   0.183712  0.217672  0.063925  1.000000  0.174127  0.178834  0.417330  \nb'997'   0.160234  0.110656  0.019459  0.174127  1.000000  0.186575  0.182452  \nb'998'   0.164026  0.018659  0.075830  0.178834  0.186575  1.000000  0.107977  \nb'999'   0.165339  0.161555  0.052428  0.417330  0.182452  0.107977  1.000000  \n\n[6040 rows x 6040 columns]",
      "text/html": "<div>\n<style scoped>\n    .dataframe tbody tr th:only-of-type {\n        vertical-align: middle;\n    }\n\n    .dataframe tbody tr th {\n        vertical-align: top;\n    }\n\n    .dataframe thead th {\n        text-align: right;\n    }\n</style>\n<table border=\"1\" class=\"dataframe\">\n  <thead>\n    <tr style=\"text-align: right;\">\n      <th>user_id</th>\n      <th>b'1'</th>\n      <th>b'10'</th>\n      <th>b'100'</th>\n      <th>b'1000'</th>\n      <th>b'1001'</th>\n      <th>b'1002'</th>\n      <th>b'1003'</th>\n      <th>b'1004'</th>\n      <th>b'1005'</th>\n      <th>b'1006'</th>\n      <th>...</th>\n      <th>b'990'</th>\n      <th>b'991'</th>\n      <th>b'992'</th>\n      <th>b'993'</th>\n      <th>b'994'</th>\n      <th>b'995'</th>\n      <th>b'996'</th>\n      <th>b'997'</th>\n      <th>b'998'</th>\n      <th>b'999'</th>\n    </tr>\n    <tr>\n      <th>user_id</th>\n      <th></th>\n      <th></th>\n      <th></th>\n      <th></th>\n      <th></th>\n      <th></th>\n      <th></th>\n      <th></th>\n      <th></th>\n      <th></th>\n      <th></th>\n      <th></th>\n      <th></th>\n      <th></th>\n      <th></th>\n      <th></th>\n      <th></th>\n      <th></th>\n      <th></th>\n      <th></th>\n      <th></th>\n    </tr>\n  </thead>\n  <tbody>\n    <tr>\n      <th>b'1'</th>\n      <td>1.000000</td>\n      <td>0.255288</td>\n      <td>0.123967</td>\n      <td>0.207800</td>\n      <td>0.139061</td>\n      <td>0.110320</td>\n      <td>0.121384</td>\n      <td>0.179143</td>\n      <td>0.103137</td>\n      <td>0.052816</td>\n      <td>...</td>\n      <td>0.079367</td>\n      <td>0.038048</td>\n      <td>0.032136</td>\n      <td>0.066641</td>\n      <td>0.070052</td>\n      <td>0.035731</td>\n      <td>0.170184</td>\n      <td>0.159267</td>\n      <td>0.119356</td>\n      <td>0.122059</td>\n    </tr>\n    <tr>\n      <th>b'10'</th>\n      <td>0.255288</td>\n      <td>1.000000</td>\n      <td>0.258047</td>\n      <td>0.278753</td>\n      <td>0.154858</td>\n      <td>0.112222</td>\n      <td>0.141111</td>\n      <td>0.428224</td>\n      <td>0.188569</td>\n      <td>0.101856</td>\n      <td>...</td>\n      <td>0.153462</td>\n      <td>0.186086</td>\n      <td>0.083224</td>\n      <td>0.123288</td>\n      <td>0.117829</td>\n      <td>0.145650</td>\n      <td>0.300175</td>\n      <td>0.160346</td>\n      <td>0.132506</td>\n      <td>0.246251</td>\n    </tr>\n    <tr>\n      <th>b'100'</th>\n      <td>0.123967</td>\n      <td>0.258047</td>\n      <td>1.000000</td>\n      <td>0.297539</td>\n      <td>0.075597</td>\n      <td>0.110450</td>\n      <td>0.358686</td>\n      <td>0.236065</td>\n      <td>0.171609</td>\n      <td>0.099147</td>\n      <td>...</td>\n      <td>0.098235</td>\n      <td>0.097953</td>\n      <td>0.065152</td>\n      <td>0.176048</td>\n      <td>0.271311</td>\n      <td>0.033754</td>\n      <td>0.344290</td>\n      <td>0.204302</td>\n      <td>0.113522</td>\n      <td>0.306104</td>\n    </tr>\n    <tr>\n      <th>b'1000'</th>\n      <td>0.207800</td>\n      <td>0.278753</td>\n      <td>0.297539</td>\n      <td>1.000000</td>\n      <td>0.094710</td>\n      <td>0.047677</td>\n      <td>0.201722</td>\n      <td>0.353782</td>\n      <td>0.323584</td>\n      <td>0.130702</td>\n      <td>...</td>\n      <td>0.170100</td>\n      <td>0.076779</td>\n      <td>0.000000</td>\n      <td>0.197410</td>\n      <td>0.380741</td>\n      <td>0.044404</td>\n      <td>0.330748</td>\n      <td>0.172803</td>\n      <td>0.098456</td>\n      <td>0.245292</td>\n    </tr>\n    <tr>\n      <th>b'1001'</th>\n      <td>0.139061</td>\n      <td>0.154858</td>\n      <td>0.075597</td>\n      <td>0.094710</td>\n      <td>1.000000</td>\n      <td>0.164551</td>\n      <td>0.053788</td>\n      <td>0.149019</td>\n      <td>0.137336</td>\n      <td>0.134462</td>\n      <td>...</td>\n      <td>0.146001</td>\n      <td>0.026842</td>\n      <td>0.096832</td>\n      <td>0.117641</td>\n      <td>0.092065</td>\n      <td>0.109499</td>\n      <td>0.221710</td>\n      <td>0.100597</td>\n      <td>0.269456</td>\n      <td>0.175194</td>\n    </tr>\n    <tr>\n      <th>...</th>\n      <td>...</td>\n      <td>...</td>\n      <td>...</td>\n      <td>...</td>\n      <td>...</td>\n      <td>...</td>\n      <td>...</td>\n      <td>...</td>\n      <td>...</td>\n      <td>...</td>\n      <td>...</td>\n      <td>...</td>\n      <td>...</td>\n      <td>...</td>\n      <td>...</td>\n      <td>...</td>\n      <td>...</td>\n      <td>...</td>\n      <td>...</td>\n      <td>...</td>\n      <td>...</td>\n    </tr>\n    <tr>\n      <th>b'995'</th>\n      <td>0.035731</td>\n      <td>0.145650</td>\n      <td>0.033754</td>\n      <td>0.044404</td>\n      <td>0.109499</td>\n      <td>0.072578</td>\n      <td>0.031406</td>\n      <td>0.088304</td>\n      <td>0.061001</td>\n      <td>0.032265</td>\n      <td>...</td>\n      <td>0.080559</td>\n      <td>0.252222</td>\n      <td>0.074207</td>\n      <td>0.097260</td>\n      <td>0.048650</td>\n      <td>1.000000</td>\n      <td>0.063925</td>\n      <td>0.019459</td>\n      <td>0.075830</td>\n      <td>0.052428</td>\n    </tr>\n    <tr>\n      <th>b'996'</th>\n      <td>0.170184</td>\n      <td>0.300175</td>\n      <td>0.344290</td>\n      <td>0.330748</td>\n      <td>0.221710</td>\n      <td>0.224779</td>\n      <td>0.185226</td>\n      <td>0.349899</td>\n      <td>0.285861</td>\n      <td>0.164045</td>\n      <td>...</td>\n      <td>0.205186</td>\n      <td>0.086546</td>\n      <td>0.062523</td>\n      <td>0.183712</td>\n      <td>0.217672</td>\n      <td>0.063925</td>\n      <td>1.000000</td>\n      <td>0.174127</td>\n      <td>0.178834</td>\n      <td>0.417330</td>\n    </tr>\n    <tr>\n      <th>b'997'</th>\n      <td>0.159267</td>\n      <td>0.160346</td>\n      <td>0.204302</td>\n      <td>0.172803</td>\n      <td>0.100597</td>\n      <td>0.068980</td>\n      <td>0.170771</td>\n      <td>0.171951</td>\n      <td>0.105527</td>\n      <td>0.049536</td>\n      <td>...</td>\n      <td>0.187734</td>\n      <td>0.030588</td>\n      <td>0.081380</td>\n      <td>0.160234</td>\n      <td>0.110656</td>\n      <td>0.019459</td>\n      <td>0.174127</td>\n      <td>1.000000</td>\n      <td>0.186575</td>\n      <td>0.182452</td>\n    </tr>\n    <tr>\n      <th>b'998'</th>\n      <td>0.119356</td>\n      <td>0.132506</td>\n      <td>0.113522</td>\n      <td>0.098456</td>\n      <td>0.269456</td>\n      <td>0.218905</td>\n      <td>0.141829</td>\n      <td>0.075084</td>\n      <td>0.111210</td>\n      <td>0.052900</td>\n      <td>...</td>\n      <td>0.061241</td>\n      <td>0.074269</td>\n      <td>0.086398</td>\n      <td>0.164026</td>\n      <td>0.018659</td>\n      <td>0.075830</td>\n      <td>0.178834</td>\n      <td>0.186575</td>\n      <td>1.000000</td>\n      <td>0.107977</td>\n    </tr>\n    <tr>\n      <th>b'999'</th>\n      <td>0.122059</td>\n      <td>0.246251</td>\n      <td>0.306104</td>\n      <td>0.245292</td>\n      <td>0.175194</td>\n      <td>0.177989</td>\n      <td>0.198117</td>\n      <td>0.331558</td>\n      <td>0.163129</td>\n      <td>0.143475</td>\n      <td>...</td>\n      <td>0.214226</td>\n      <td>0.085049</td>\n      <td>0.040198</td>\n      <td>0.165339</td>\n      <td>0.161555</td>\n      <td>0.052428</td>\n      <td>0.417330</td>\n      <td>0.182452</td>\n      <td>0.107977</td>\n      <td>1.000000</td>\n    </tr>\n  </tbody>\n</table>\n<p>6040 rows × 6040 columns</p>\n</div>"
     },
     "execution_count": 11,
     "metadata": {},
     "output_type": "execute_result"
    }
   ],
   "source": [
    "user_similarity = cosine_similarity(csr_matrix(user_item_matrix.fillna(0)))\n",
    "user_similarity = pd.DataFrame(user_similarity, index=user_item_matrix.index, columns=user_item_matrix.index)\n",
    "\n",
    "def predict_rating(user_id: str, movie_id: str):\n",
    "    movie_ratings = user_item_matrix[movie_id]\n",
    "    user_similarities = user_similarity[user_id]\n",
    "    valid_indices = movie_ratings.notna()\n",
    "    movie_ratings = movie_ratings[valid_indices]\n",
    "    user_similarities = user_similarities[valid_indices]\n",
    "    if user_similarities.sum() > 0:\n",
    "        return np.dot(user_similarities ,movie_ratings)/ user_similarities.sum()\n",
    "    return movielens_df[movielens_df[\"movie_id\"] == movie_id][\"user_rating\"].mean()\n",
    "\n",
    "user_similarity\n"
   ],
   "metadata": {
    "collapsed": false,
    "ExecuteTime": {
     "end_time": "2024-03-13T07:59:37.742805Z",
     "start_time": "2024-03-13T07:59:35.880682Z"
    }
   },
   "id": "8b4eea78dbc21361",
   "execution_count": 11
  },
  {
   "cell_type": "code",
   "outputs": [
    {
     "name": "stderr",
     "output_type": "stream",
     "text": [
      "100%|██████████| 20005/20005 [00:03<00:00, 5258.49it/s]\n"
     ]
    },
    {
     "name": "stdout",
     "output_type": "stream",
     "text": [
      "Accuracy: 0.39\n"
     ]
    },
    {
     "data": {
      "text/plain": "<Figure size 1000x500 with 1 Axes>",
      "image/png": "[encoded data removed]"
     },
     "metadata": {},
     "output_type": "display_data"
    }
   ],
   "source": [
    "train_data, test_data = train_test_split(movielens_df, test_size=0.02, random_state=10)\n",
    "\n",
    "predictions: list[float] = []\n",
    "true_ratings: list[float] = []\n",
    "\n",
    "for idx, row in tqdm(test_data.iterrows(), total=test_data.shape[0]):\n",
    "    prediction = predict_rating(row[\"user_id\"], row[\"movie_id\"])\n",
    "    predictions.append(prediction)\n",
    "    true_ratings.append(row[\"user_rating\"])\n",
    "    \n",
    "rounded_predictions = [round(pred) for pred in predictions]\n",
    "accuracy = accuracy_score(true_ratings, rounded_predictions)\n",
    "print(f\"Accuracy: {accuracy:.2f}\")\n",
    "\n",
    "cumulative_accuracy = np.cumsum(np.array(rounded_predictions) == np.array(true_ratings)) / (np.arange(len(test_data)) + 1)\n",
    "\n",
    "plt.figure(figsize=(10, 5))\n",
    "plt.plot([i for i in range(len(test_data))], cumulative_accuracy, linewidth=2, color=\"#fc1c49\")\n",
    "plt.xlabel(\"TestInstance\")\n",
    "plt.ylabel(\"Cumulative Accuracy\")\n",
    "plt.show()"
   ],
   "metadata": {
    "collapsed": false,
    "ExecuteTime": {
     "end_time": "2024-03-13T08:06:16.268028Z",
     "start_time": "2024-03-13T08:06:12.183877Z"
    }
   },
   "id": "dc9aeda2df1a85fa",
   "execution_count": 13
  },
  {
   "cell_type": "code",
   "outputs": [],
   "source": [],
   "metadata": {
    "collapsed": false
   },
   "id": "6ef36bee78e324a1"
  }
 ],
 "metadata": {
  "kernelspec": {
   "display_name": "Python 3",
   "language": "python",
   "name": "python3"
  },
  "language_info": {
   "codemirror_mode": {
    "name": "ipython",
    "version": 2
   },
   "file_extension": ".py",
   "mimetype": "text/x-python",
   "name": "python",
   "nbconvert_exporter": "python",
   "pygments_lexer": "ipython2",
   "version": "2.7.6"
  }
 },
 "nbformat": 4,
 "nbformat_minor": 5
}
