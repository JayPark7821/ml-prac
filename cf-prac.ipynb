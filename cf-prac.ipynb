{
 "cells": [
  {
   "cell_type": "markdown",
   "source": [
    "# CF 예제 실습"
   ],
   "metadata": {
    "collapsed": false
   },
   "id": "d73e88c179662b7f"
  },
  {
   "cell_type": "code",
   "outputs": [],
   "source": [
    "import pandas as pd\n",
    "import numpy as np\n",
    "import hashlib\n",
    "from tqdm import tqdm\n",
    "from datasets import load_dataset\n",
    "from scipy.sparse import csr_matrix\n",
    "from sklearn.model_selection import train_test_split\n",
    "from sklearn.metrics.pairwise import cosine_similarity\n",
    "from sklearn.metrics import accuracy_score\n",
    "import matplotlib.pyplot as plt"
   ],
   "metadata": {
    "collapsed": false,
    "ExecuteTime": {
     "end_time": "2024-03-08T14:23:50.853876Z",
     "start_time": "2024-03-08T14:23:47.646922Z"
    }
   },
   "id": "3a4a150433c382f",
   "execution_count": 2
  },
  {
   "cell_type": "code",
   "outputs": [],
   "source": [
    "# 영화 테이블 구성\n",
    "\n",
    "data = {\n",
    "    \"영화 1\": [4,5,None,2,4],\n",
    "    \"영화 2\": [None,4,3,3,4],\n",
    "    \"영화 3\": [5,None,4,5,4],\n",
    "    \"영화 4\": [3,3,5,None,4],\n",
    "    \"영화 5\": [4,3,4,2,None],\n",
    "}\n",
    "\n",
    "df = pd.DataFrame(data, index=[\"사용자 1\", \"사용자 2\", \"사용자 3\", \"사용자 4\", \"사용자 5\"])"
   ],
   "metadata": {
    "collapsed": false,
    "ExecuteTime": {
     "end_time": "2024-03-08T14:26:58.995712Z",
     "start_time": "2024-03-08T14:26:58.988732Z"
    }
   },
   "id": "40e91c7c5f55da1f",
   "execution_count": 3
  },
  {
   "cell_type": "code",
   "outputs": [
    {
     "data": {
      "text/plain": "       영화 1  영화 2  영화 3  영화 4  영화 5\n사용자 1   4.0   NaN   5.0   3.0   4.0\n사용자 2   5.0   4.0   NaN   3.0   3.0\n사용자 3   NaN   3.0   4.0   5.0   4.0\n사용자 4   2.0   3.0   5.0   NaN   2.0\n사용자 5   4.0   4.0   4.0   4.0   NaN",
      "text/html": "<div>\n<style scoped>\n    .dataframe tbody tr th:only-of-type {\n        vertical-align: middle;\n    }\n\n    .dataframe tbody tr th {\n        vertical-align: top;\n    }\n\n    .dataframe thead th {\n        text-align: right;\n    }\n</style>\n<table border=\"1\" class=\"dataframe\">\n  <thead>\n    <tr style=\"text-align: right;\">\n      <th></th>\n      <th>영화 1</th>\n      <th>영화 2</th>\n      <th>영화 3</th>\n      <th>영화 4</th>\n      <th>영화 5</th>\n    </tr>\n  </thead>\n  <tbody>\n    <tr>\n      <th>사용자 1</th>\n      <td>4.0</td>\n      <td>NaN</td>\n      <td>5.0</td>\n      <td>3.0</td>\n      <td>4.0</td>\n    </tr>\n    <tr>\n      <th>사용자 2</th>\n      <td>5.0</td>\n      <td>4.0</td>\n      <td>NaN</td>\n      <td>3.0</td>\n      <td>3.0</td>\n    </tr>\n    <tr>\n      <th>사용자 3</th>\n      <td>NaN</td>\n      <td>3.0</td>\n      <td>4.0</td>\n      <td>5.0</td>\n      <td>4.0</td>\n    </tr>\n    <tr>\n      <th>사용자 4</th>\n      <td>2.0</td>\n      <td>3.0</td>\n      <td>5.0</td>\n      <td>NaN</td>\n      <td>2.0</td>\n    </tr>\n    <tr>\n      <th>사용자 5</th>\n      <td>4.0</td>\n      <td>4.0</td>\n      <td>4.0</td>\n      <td>4.0</td>\n      <td>NaN</td>\n    </tr>\n  </tbody>\n</table>\n</div>"
     },
     "execution_count": 5,
     "metadata": {},
     "output_type": "execute_result"
    }
   ],
   "source": [
    "df"
   ],
   "metadata": {
    "collapsed": false,
    "ExecuteTime": {
     "end_time": "2024-03-08T14:27:03.977759Z",
     "start_time": "2024-03-08T14:27:03.970448Z"
    }
   },
   "id": "530fb48ac7247e5d",
   "execution_count": 5
  },
  {
   "cell_type": "code",
   "outputs": [
    {
     "data": {
      "text/plain": "          사용자 1     사용자 2     사용자 3     사용자 4     사용자 5\n사용자 1  1.000000  0.657031  0.772727  0.778731  0.738549\n사용자 2  0.657031  1.000000  0.624981  0.562480  0.781133\n사용자 3  0.772727  0.624981  1.000000  0.702757  0.738549\n사용자 4  0.778731  0.562480  0.702757  1.000000  0.771517\n사용자 5  0.738549  0.781133  0.738549  0.771517  1.000000",
      "text/html": "<div>\n<style scoped>\n    .dataframe tbody tr th:only-of-type {\n        vertical-align: middle;\n    }\n\n    .dataframe tbody tr th {\n        vertical-align: top;\n    }\n\n    .dataframe thead th {\n        text-align: right;\n    }\n</style>\n<table border=\"1\" class=\"dataframe\">\n  <thead>\n    <tr style=\"text-align: right;\">\n      <th></th>\n      <th>사용자 1</th>\n      <th>사용자 2</th>\n      <th>사용자 3</th>\n      <th>사용자 4</th>\n      <th>사용자 5</th>\n    </tr>\n  </thead>\n  <tbody>\n    <tr>\n      <th>사용자 1</th>\n      <td>1.000000</td>\n      <td>0.657031</td>\n      <td>0.772727</td>\n      <td>0.778731</td>\n      <td>0.738549</td>\n    </tr>\n    <tr>\n      <th>사용자 2</th>\n      <td>0.657031</td>\n      <td>1.000000</td>\n      <td>0.624981</td>\n      <td>0.562480</td>\n      <td>0.781133</td>\n    </tr>\n    <tr>\n      <th>사용자 3</th>\n      <td>0.772727</td>\n      <td>0.624981</td>\n      <td>1.000000</td>\n      <td>0.702757</td>\n      <td>0.738549</td>\n    </tr>\n    <tr>\n      <th>사용자 4</th>\n      <td>0.778731</td>\n      <td>0.562480</td>\n      <td>0.702757</td>\n      <td>1.000000</td>\n      <td>0.771517</td>\n    </tr>\n    <tr>\n      <th>사용자 5</th>\n      <td>0.738549</td>\n      <td>0.781133</td>\n      <td>0.738549</td>\n      <td>0.771517</td>\n      <td>1.000000</td>\n    </tr>\n  </tbody>\n</table>\n</div>"
     },
     "execution_count": 7,
     "metadata": {},
     "output_type": "execute_result"
    }
   ],
   "source": [
    "# 사용자 유사도 테이블 구성\n",
    "\n",
    "user_df = df.copy()\n",
    "user_df = user_df.fillna(0)\n",
    "user_similarity = cosine_similarity(user_df, user_df)\n",
    "user_similarity_df = pd.DataFrame(user_similarity, index=user_df.index, columns=user_df.index)\n",
    "user_similarity_df"
   ],
   "metadata": {
    "collapsed": false,
    "ExecuteTime": {
     "end_time": "2024-03-08T14:29:47.307329Z",
     "start_time": "2024-03-08T14:29:47.296307Z"
    }
   },
   "id": "388fb8c75c53158e",
   "execution_count": 7
  },
  {
   "cell_type": "code",
   "outputs": [
    {
     "data": {
      "text/plain": "          영화 1      영화 2      영화 3      영화 4      영화 5\n영화 1  1.000000  0.760500  0.650408  0.716766  0.668031\n영화 2  0.760500  1.000000  0.671547  0.791694  0.632456\n영화 3  0.650408  0.671547  1.000000  0.733225  0.757259\n영화 4  0.716766  0.791694  0.733225  1.000000  0.795704\n영화 5  0.668031  0.632456  0.757259  0.795704  1.000000",
      "text/html": "<div>\n<style scoped>\n    .dataframe tbody tr th:only-of-type {\n        vertical-align: middle;\n    }\n\n    .dataframe tbody tr th {\n        vertical-align: top;\n    }\n\n    .dataframe thead th {\n        text-align: right;\n    }\n</style>\n<table border=\"1\" class=\"dataframe\">\n  <thead>\n    <tr style=\"text-align: right;\">\n      <th></th>\n      <th>영화 1</th>\n      <th>영화 2</th>\n      <th>영화 3</th>\n      <th>영화 4</th>\n      <th>영화 5</th>\n    </tr>\n  </thead>\n  <tbody>\n    <tr>\n      <th>영화 1</th>\n      <td>1.000000</td>\n      <td>0.760500</td>\n      <td>0.650408</td>\n      <td>0.716766</td>\n      <td>0.668031</td>\n    </tr>\n    <tr>\n      <th>영화 2</th>\n      <td>0.760500</td>\n      <td>1.000000</td>\n      <td>0.671547</td>\n      <td>0.791694</td>\n      <td>0.632456</td>\n    </tr>\n    <tr>\n      <th>영화 3</th>\n      <td>0.650408</td>\n      <td>0.671547</td>\n      <td>1.000000</td>\n      <td>0.733225</td>\n      <td>0.757259</td>\n    </tr>\n    <tr>\n      <th>영화 4</th>\n      <td>0.716766</td>\n      <td>0.791694</td>\n      <td>0.733225</td>\n      <td>1.000000</td>\n      <td>0.795704</td>\n    </tr>\n    <tr>\n      <th>영화 5</th>\n      <td>0.668031</td>\n      <td>0.632456</td>\n      <td>0.757259</td>\n      <td>0.795704</td>\n      <td>1.000000</td>\n    </tr>\n  </tbody>\n</table>\n</div>"
     },
     "execution_count": 8,
     "metadata": {},
     "output_type": "execute_result"
    }
   ],
   "source": [
    "# 아이템 유사도 테이블 구성\n",
    "item_df = np.transpose(df.copy())\n",
    "item_df = item_df.fillna(0)\n",
    "item_similarity = cosine_similarity(item_df, item_df)\n",
    "item_similarity_df = pd.DataFrame(item_similarity, index=item_df.index, columns=item_df.index)\n",
    "item_similarity_df"
   ],
   "metadata": {
    "collapsed": false,
    "ExecuteTime": {
     "end_time": "2024-03-08T14:30:58.098682Z",
     "start_time": "2024-03-08T14:30:58.092961Z"
    }
   },
   "id": "827ea6d7b5e5d6f7",
   "execution_count": 8
  },
  {
   "cell_type": "code",
   "outputs": [
    {
     "data": {
      "text/plain": "           영화 1      영화 2      영화 3      영화 4      영화 5\n사용자 1  4.000000  3.473553  5.000000  3.000000  4.000000\n사용자 2  5.000000  4.000000  4.464465  3.000000  3.000000\n사용자 3  3.725069  3.000000  4.000000  5.000000  4.000000\n사용자 4  2.000000  3.000000  5.000000  3.773235  2.000000\n사용자 5  4.000000  4.000000  4.000000  4.000000  3.232884",
      "text/html": "<div>\n<style scoped>\n    .dataframe tbody tr th:only-of-type {\n        vertical-align: middle;\n    }\n\n    .dataframe tbody tr th {\n        vertical-align: top;\n    }\n\n    .dataframe thead th {\n        text-align: right;\n    }\n</style>\n<table border=\"1\" class=\"dataframe\">\n  <thead>\n    <tr style=\"text-align: right;\">\n      <th></th>\n      <th>영화 1</th>\n      <th>영화 2</th>\n      <th>영화 3</th>\n      <th>영화 4</th>\n      <th>영화 5</th>\n    </tr>\n  </thead>\n  <tbody>\n    <tr>\n      <th>사용자 1</th>\n      <td>4.000000</td>\n      <td>3.473553</td>\n      <td>5.000000</td>\n      <td>3.000000</td>\n      <td>4.000000</td>\n    </tr>\n    <tr>\n      <th>사용자 2</th>\n      <td>5.000000</td>\n      <td>4.000000</td>\n      <td>4.464465</td>\n      <td>3.000000</td>\n      <td>3.000000</td>\n    </tr>\n    <tr>\n      <th>사용자 3</th>\n      <td>3.725069</td>\n      <td>3.000000</td>\n      <td>4.000000</td>\n      <td>5.000000</td>\n      <td>4.000000</td>\n    </tr>\n    <tr>\n      <th>사용자 4</th>\n      <td>2.000000</td>\n      <td>3.000000</td>\n      <td>5.000000</td>\n      <td>3.773235</td>\n      <td>2.000000</td>\n    </tr>\n    <tr>\n      <th>사용자 5</th>\n      <td>4.000000</td>\n      <td>4.000000</td>\n      <td>4.000000</td>\n      <td>4.000000</td>\n      <td>3.232884</td>\n    </tr>\n  </tbody>\n</table>\n</div>"
     },
     "execution_count": 9,
     "metadata": {},
     "output_type": "execute_result"
    }
   ],
   "source": [
    "full_df = df.copy()\n",
    "for user_id in full_df.index:\n",
    "    for movie_id in full_df.columns:\n",
    "        if not np.isnan(full_df[movie_id][user_id]): continue\n",
    "        \n",
    "        similarities = user_similarity_df[user_id].copy()\n",
    "        movie_ratings = full_df[movie_id].copy()\n",
    "        \n",
    "        none_rating_idx = movie_ratings[movie_ratings.isnull()].index\n",
    "        movie_ratings = movie_ratings.dropna()\n",
    "        similarities = similarities.drop(none_rating_idx)\n",
    "        \n",
    "        mean_rating = np.dot(similarities, movie_ratings) / similarities.sum()\n",
    "        full_df[movie_id][user_id] = mean_rating\n",
    "        \n",
    "full_df\n",
    "        \n",
    "        "
   ],
   "metadata": {
    "collapsed": false,
    "ExecuteTime": {
     "end_time": "2024-03-08T15:31:20.366501Z",
     "start_time": "2024-03-08T15:31:20.329509Z"
    }
   },
   "id": "28c42afce803134",
   "execution_count": 9
  },
  {
   "cell_type": "code",
   "outputs": [
    {
     "data": {
      "text/plain": "영화 5    0.795704\n영화 2    0.791694\n영화 1    0.716766\nName: 영화 4, dtype: float64"
     },
     "execution_count": 10,
     "metadata": {},
     "output_type": "execute_result"
    }
   ],
   "source": [
    "watched_movies = [\"영화 4\", \"영화 3\"]\n",
    "item_similarity_df[watched_movies[0]][~item_similarity_df.index.isin(watched_movies)].sort_values(ascending=False)[:3]"
   ],
   "metadata": {
    "collapsed": false,
    "ExecuteTime": {
     "end_time": "2024-03-08T15:33:49.258286Z",
     "start_time": "2024-03-08T15:33:49.251055Z"
    }
   },
   "id": "a22a8e41e038f5f8",
   "execution_count": 10
  },
  {
   "cell_type": "code",
   "outputs": [],
   "source": [],
   "metadata": {
    "collapsed": false
   },
   "id": "2093afc8b4bd992d"
  }
 ],
 "metadata": {
  "kernelspec": {
   "display_name": "Python 3",
   "language": "python",
   "name": "python3"
  },
  "language_info": {
   "codemirror_mode": {
    "name": "ipython",
    "version": 2
   },
   "file_extension": ".py",
   "mimetype": "text/x-python",
   "name": "python",
   "nbconvert_exporter": "python",
   "pygments_lexer": "ipython2",
   "version": "2.7.6"
  }
 },
 "nbformat": 4,
 "nbformat_minor": 5
}
