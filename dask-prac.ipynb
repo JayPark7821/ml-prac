{
 "cells": [
  {
   "cell_type": "markdown",
   "source": [
    "# Dask 대용량 데이터 처리"
   ],
   "metadata": {
    "collapsed": false
   },
   "id": "19994b721da6f37"
  },
  {
   "cell_type": "code",
   "outputs": [],
   "source": [
    "import time\n",
    "import pandas as pd\n",
    "import numpy as np\n",
    "import dask.dataframe as dd"
   ],
   "metadata": {
    "collapsed": false,
    "ExecuteTime": {
     "end_time": "2024-01-23T02:45:39.987705Z",
     "start_time": "2024-01-23T02:45:39.965065Z"
    }
   },
   "id": "bafc1157076a5263",
   "execution_count": 19
  },
  {
   "cell_type": "code",
   "outputs": [],
   "source": [
    "def create_datesets(nrows: int, ncols: int) -> tuple[pd.DataFrame, dd.DataFrame]:\n",
    "    main_date = {f\"col_{i}\": np.random.rand(nrows) for i in range(ncols)}\n",
    "    ref_data = {f\"col_{i}\": np.random.rand(nrows // 10) for i in range(ncols)}\n",
    "    main_df = pd.DataFrame(main_date)\n",
    "    ref_df = pd.DataFrame(ref_data)\n",
    "    return main_df, ref_df"
   ],
   "metadata": {
    "collapsed": false,
    "ExecuteTime": {
     "end_time": "2024-01-23T02:45:39.996224Z",
     "start_time": "2024-01-23T02:45:39.991974Z"
    }
   },
   "id": "85130ad1784f5e5d",
   "execution_count": 20
  },
  {
   "cell_type": "code",
   "outputs": [],
   "source": [
    "def pandas_operations(main_df: pd.DataFrame, ref_df:pd.DataFrame)->tuple[float, float]:\n",
    "    start_time_agg = time.time()\n",
    "    grouped = main_df.groupby(\"col_0\").mean()\n",
    "    end_time_agg = time.time()\n",
    "    \n",
    "    start_time_join = time.time()\n",
    "    joined = main_df.merge(ref_df, on=\"col_0\", how=\"left\")\n",
    "    end_time_join = time.time()\n",
    "    \n",
    "    return end_time_agg - start_time_agg, end_time_join - start_time_join"
   ],
   "metadata": {
    "collapsed": false,
    "ExecuteTime": {
     "end_time": "2024-01-23T02:45:40.004999Z",
     "start_time": "2024-01-23T02:45:39.999113Z"
    }
   },
   "id": "eddc7ae9ab9cdddd",
   "execution_count": 21
  },
  {
   "cell_type": "code",
   "outputs": [],
   "source": [
    "def dask_operations(\n",
    "        main_df: dd.DataFrame,\n",
    "        ref_df: dd.DataFrame,\n",
    "        npartitions: int\n",
    ")->tuple[float, float]:\n",
    "    dmain_df = dd.from_pandas(main_df, npartitions=npartitions)\n",
    "    dref_df = dd.from_pandas(ref_df, npartitions=npartitions)\n",
    "    \n",
    "    start_time_agg = time.time()\n",
    "    grouped_task = dmain_df.groupby(\"col_0\").mean()\n",
    "    grouped = grouped_task.compute()\n",
    "    end_time_agg = time.time()\n",
    "    grouped_task.visualize(\"grouped_task.svg\")\n",
    "    \n",
    "    start_time_join = time.time()\n",
    "    joined_task = dmain_df.merge(dref_df, on=\"col_0\", how=\"left\")\n",
    "    joined = joined_task.compute()\n",
    "    end_time_join = time.time()\n",
    "    joined_task.visualize(\"joined_task.svg\")\n",
    "    \n",
    "    return end_time_agg - start_time_agg, end_time_join - start_time_join\n",
    "    \n",
    "    return end_time_agg - start_time_agg, end_time_join - start_time_join"
   ],
   "metadata": {
    "collapsed": false,
    "ExecuteTime": {
     "end_time": "2024-01-23T02:45:40.005479Z",
     "start_time": "2024-01-23T02:45:40.004024Z"
    }
   },
   "id": "56c88ca23976ab56",
   "execution_count": 22
  },
  {
   "cell_type": "code",
   "outputs": [],
   "source": [
    "main_df, ref_df = create_datesets(10_000_000, 5)"
   ],
   "metadata": {
    "collapsed": false,
    "ExecuteTime": {
     "end_time": "2024-01-23T02:45:40.602716Z",
     "start_time": "2024-01-23T02:45:40.006500Z"
    }
   },
   "id": "2306018f1891c70d",
   "execution_count": 23
  },
  {
   "cell_type": "code",
   "outputs": [],
   "source": [
    "pandas_agg_time, pandas_join_time = pandas_operations(main_df, ref_df)\n",
    "dask_agg_time, dask_join_time = dask_operations(main_df, ref_df, npartitions=10)"
   ],
   "metadata": {
    "collapsed": false,
    "ExecuteTime": {
     "end_time": "2024-01-23T02:45:54.899461Z",
     "start_time": "2024-01-23T02:45:40.606233Z"
    }
   },
   "id": "a96d339ad8721f50",
   "execution_count": 24
  },
  {
   "cell_type": "code",
   "outputs": [
    {
     "name": "stdout",
     "output_type": "stream",
     "text": [
      "Pandas Aggregation Time:  4.432865142822266\n",
      "Pandas Join Time:  1.8928120136260986\n",
      "Dask Aggregation Time:  5.052574872970581\n",
      "Dask Join Time:  1.7457740306854248\n"
     ]
    }
   ],
   "source": [
    "print(\"Pandas Aggregation Time: \", pandas_agg_time)\n",
    "print(\"Pandas Join Time: \", pandas_join_time)\n",
    "\n",
    "print(\"Dask Aggregation Time: \", dask_agg_time)\n",
    "print(\"Dask Join Time: \", dask_join_time)"
   ],
   "metadata": {
    "collapsed": false,
    "ExecuteTime": {
     "end_time": "2024-01-23T02:46:33.014661Z",
     "start_time": "2024-01-23T02:46:33.014202Z"
    }
   },
   "id": "927f9f465dbb1bf6",
   "execution_count": 25
  },
  {
   "cell_type": "code",
   "outputs": [],
   "source": [],
   "metadata": {
    "collapsed": false
   },
   "id": "dc6848298134d949"
  }
 ],
 "metadata": {
  "kernelspec": {
   "display_name": "Python 3",
   "language": "python",
   "name": "python3"
  },
  "language_info": {
   "codemirror_mode": {
    "name": "ipython",
    "version": 2
   },
   "file_extension": ".py",
   "mimetype": "text/x-python",
   "name": "python",
   "nbconvert_exporter": "python",
   "pygments_lexer": "ipython2",
   "version": "2.7.6"
  }
 },
 "nbformat": 4,
 "nbformat_minor": 5
}
