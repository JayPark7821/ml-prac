{
 "cells": [
  {
   "cell_type": "code",
   "execution_count": 12,
   "id": "initial_id",
   "metadata": {
    "collapsed": true,
    "ExecuteTime": {
     "end_time": "2024-04-11T13:40:27.286559Z",
     "start_time": "2024-04-11T13:40:27.283549Z"
    }
   },
   "outputs": [],
   "source": [
    "from pinecone import Pinecone\n",
    "\n",
    "pc = Pinecone(api_key='')"
   ]
  },
  {
   "cell_type": "code",
   "outputs": [
    {
     "name": "stdout",
     "output_type": "stream",
     "text": [
      "{'dimension': 8,\n",
      " 'index_fullness': 0.0,\n",
      " 'namespaces': {},\n",
      " 'total_vector_count': 0}\n"
     ]
    }
   ],
   "source": [
    "from pinecone import PodSpec\n",
    "\n",
    "index_name = 'vectordbprac'\n",
    "dimension = 8\n",
    "metric = 'euclidean'\n",
    "spec = PodSpec('gcp-starter')\n",
    "\n",
    "if index_name in [index_info[\"name\"] for index_info in pc.list_indexes()]:\n",
    "    pc.delete_index(index_name)\n",
    "\n",
    "pc.create_index(index_name, dimension=dimension, metric=metric, spec=spec)\n",
    "\n",
    "index = pc.Index(index_name)\n",
    "\n",
    "index_stats = index.describe_index_stats()\n",
    "print(index_stats)"
   ],
   "metadata": {
    "collapsed": false,
    "ExecuteTime": {
     "end_time": "2024-04-11T13:41:03.850145Z",
     "start_time": "2024-04-11T13:40:44.208597Z"
    }
   },
   "id": "61665b0454c00878",
   "execution_count": 13
  },
  {
   "cell_type": "code",
   "outputs": [
    {
     "data": {
      "text/plain": "{'upserted_count': 4}"
     },
     "execution_count": 4,
     "metadata": {},
     "output_type": "execute_result"
    }
   ],
   "source": [
    "index.upsert(\n",
    "    vectors=[\n",
    "        {\"id\": \"vec1\", \"values\": [0.1, 0.1, 0.1, 0.1, 0.1, 0.1, 0.1, 0.1]},\n",
    "        {\"id\": \"vec2\", \"values\": [0.2, 0.2, 0.2, 0.2, 0.2, 0.2, 0.2, 0.2]},\n",
    "        {\"id\": \"vec3\", \"values\": [0.3, 0.3, 0.3, 0.3, 0.3, 0.3, 0.3, 0.3]},\n",
    "        {\"id\": \"vec4\", \"values\": [0.4, 0.4, 0.4, 0.4, 0.4, 0.4, 0.4, 0.4]}\n",
    "\n",
    "    ],\n",
    "    namespace=\"ns1\"\n",
    ")\n",
    "\n",
    "index.upsert(\n",
    "    vectors=[\n",
    "        {\"id\": \"vec5\", \"values\": [0.5, 0.5, 0.5, 0.5, 0.5, 0.5, 0.5, 0.5]},\n",
    "        {\"id\": \"vec6\", \"values\": [0.6, 0.6, 0.6, 0.6, 0.6, 0.6, 0.6, 0.6]},\n",
    "        {\"id\": \"vec7\", \"values\": [0.7, 0.7, 0.7, 0.7, 0.7, 0.7, 0.7, 0.7]},\n",
    "        {\"id\": \"vec8\", \"values\": [0.8, 0.8, 0.8, 0.8, 0.8, 0.8, 0.8, 0.8]}\n",
    "    ],\n",
    "    namespace=\"ns2\"\n",
    ")"
   ],
   "metadata": {
    "collapsed": false,
    "ExecuteTime": {
     "end_time": "2024-04-11T13:33:31.157120Z",
     "start_time": "2024-04-11T13:33:30.640727Z"
    }
   },
   "id": "c85169367b8c7800",
   "execution_count": 4
  },
  {
   "cell_type": "code",
   "outputs": [
    {
     "data": {
      "text/plain": "{'dimension': 8,\n 'index_fullness': 0.0,\n 'namespaces': {},\n 'total_vector_count': 0}"
     },
     "execution_count": 5,
     "metadata": {},
     "output_type": "execute_result"
    }
   ],
   "source": [
    "index.describe_index_stats()"
   ],
   "metadata": {
    "collapsed": false,
    "ExecuteTime": {
     "end_time": "2024-04-11T13:33:39.820648Z",
     "start_time": "2024-04-11T13:33:39.638718Z"
    }
   },
   "id": "bc56bb485d22464c",
   "execution_count": 5
  },
  {
   "cell_type": "code",
   "outputs": [
    {
     "data": {
      "text/plain": "{'matches': [{'id': 'vec3',\n              'score': 0.0133069754,\n              'values': [0.3, 0.3, 0.3, 0.3, 0.3, 0.3, 0.3, 0.3]},\n             {'id': 'vec4',\n              'score': 0.0744096041,\n              'values': [0.4, 0.4, 0.4, 0.4, 0.4, 0.4, 0.4, 0.4]}],\n 'namespace': 'ns1',\n 'usage': {'read_units': 6}}"
     },
     "execution_count": 7,
     "metadata": {},
     "output_type": "execute_result"
    }
   ],
   "source": [
    "index.query(\n",
    "    namespace=\"ns1\",\n",
    "    vector=[0.3, 0.3, 0.3, 0.4, 0.3, 0.3, 0.3, 0.3],\n",
    "    top_k=2,\n",
    "    include_values=True\n",
    ")\n"
   ],
   "metadata": {
    "collapsed": false,
    "ExecuteTime": {
     "end_time": "2024-04-11T13:34:52.435623Z",
     "start_time": "2024-04-11T13:34:51.980101Z"
    }
   },
   "id": "fc4cf5b0441dcec6",
   "execution_count": 7
  },
  {
   "cell_type": "code",
   "outputs": [
    {
     "data": {
      "text/plain": "{'matches': [{'id': 'vec7',\n              'score': 0.0177164078,\n              'values': [0.7, 0.7, 0.7, 0.7, 0.7, 0.7, 0.7, 0.7]},\n             {'id': 'vec8',\n              'score': 0.0788192749,\n              'values': [0.8, 0.8, 0.8, 0.8, 0.8, 0.8, 0.8, 0.8]},\n             {'id': 'vec6',\n              'score': 0.116613865,\n              'values': [0.6, 0.6, 0.6, 0.6, 0.6, 0.6, 0.6, 0.6]}],\n 'namespace': 'ns2',\n 'usage': {'read_units': 6}}"
     },
     "execution_count": 8,
     "metadata": {},
     "output_type": "execute_result"
    }
   ],
   "source": [
    "index.query(\n",
    "    namespace=\"ns2\",\n",
    "    vector=[0.7, 0.7, 0.7, 0.7, 0.8, 0.7, 0.7, 0.7],\n",
    "    top_k=3,\n",
    "    include_values=True\n",
    ")"
   ],
   "metadata": {
    "collapsed": false,
    "ExecuteTime": {
     "end_time": "2024-04-11T13:35:41.503068Z",
     "start_time": "2024-04-11T13:35:41.158022Z"
    }
   },
   "id": "7c0861e4e397637a",
   "execution_count": 8
  },
  {
   "cell_type": "code",
   "outputs": [
    {
     "name": "stdout",
     "output_type": "stream",
     "text": [
      "{'dimension': 8,\n",
      " 'index_fullness': 0.0,\n",
      " 'namespaces': {},\n",
      " 'total_vector_count': 0}\n"
     ]
    }
   ],
   "source": [
    "index_name = 'vectordbprac'\n",
    "dimension = 8\n",
    "metric = 'euclidean'\n",
    "spec = PodSpec('gcp-starter')\n",
    "\n",
    "if index_name in [index_info[\"name\"] for index_info in pc.list_indexes()]:\n",
    "    pc.delete_index(index_name)\n",
    "\n",
    "pc.create_index(index_name, dimension=dimension, metric=metric, spec=spec)\n",
    "\n",
    "index = pc.Index(index_name)\n",
    "\n",
    "index_stats = index.describe_index_stats()\n",
    "print(index_stats)"
   ],
   "metadata": {
    "collapsed": false,
    "ExecuteTime": {
     "end_time": "2024-04-11T13:41:44.538109Z",
     "start_time": "2024-04-11T13:41:20.043865Z"
    }
   },
   "id": "b4f266e78e2b9012",
   "execution_count": 14
  },
  {
   "cell_type": "code",
   "outputs": [
    {
     "data": {
      "text/plain": "{'upserted_count': 4}"
     },
     "execution_count": 15,
     "metadata": {},
     "output_type": "execute_result"
    }
   ],
   "source": [
    "index.upsert(\n",
    "    vectors=[\n",
    "        {\n",
    "            \"id\": \"A\",\n",
    "            \"values\": [0.1, 0.1, 0.1, 0.1, 0.1, 0.1, 0.1, 0.1],\n",
    "            \"metadata\": {\"genre\": \"comedy\", \"year\": 2020}\n",
    "        },\n",
    "        {\n",
    "            \"id\": \"B\",\n",
    "            \"values\": [0.2, 0.2, 0.2, 0.2, 0.2, 0.2, 0.2, 0.2],\n",
    "            \"metadata\": {\"genre\": \"documentary\", \"year\": 2019}\n",
    "        },\n",
    "        {\n",
    "            \"id\": \"C\",\n",
    "            \"values\": [0.3, 0.3, 0.3, 0.3, 0.3, 0.3, 0.3, 0.3],\n",
    "            \"metadata\": {\"genre\": \"comedy\", \"year\": 2019}\n",
    "        },\n",
    "        {\n",
    "            \"id\": \"D\",\n",
    "            \"values\": [0.4, 0.4, 0.4, 0.4, 0.4, 0.4, 0.4, 0.4],\n",
    "            \"metadata\": {\"genre\": \"drama\"}\n",
    "        },\n",
    "    ],\n",
    ")"
   ],
   "metadata": {
    "collapsed": false,
    "ExecuteTime": {
     "end_time": "2024-04-11T13:44:47.038098Z",
     "start_time": "2024-04-11T13:44:46.773840Z"
    }
   },
   "id": "1b472047c8df522c",
   "execution_count": 15
  },
  {
   "cell_type": "code",
   "outputs": [
    {
     "data": {
      "text/plain": "{'dimension': 8,\n 'index_fullness': 4e-05,\n 'namespaces': {'': {'vector_count': 4}},\n 'total_vector_count': 4}"
     },
     "execution_count": 16,
     "metadata": {},
     "output_type": "execute_result"
    }
   ],
   "source": [
    "index.describe_index_stats()"
   ],
   "metadata": {
    "collapsed": false,
    "ExecuteTime": {
     "end_time": "2024-04-11T13:45:23.793941Z",
     "start_time": "2024-04-11T13:45:23.593053Z"
    }
   },
   "id": "c88cd55de57732da",
   "execution_count": 16
  },
  {
   "cell_type": "markdown",
   "source": [
    "* $eq: equal to (number, string, boolean)\n",
    "* $ne: not equal to (number, string, boolean)\n",
    "* $gt: greater than (number)\n",
    "* $gte: greater than or equal to (number)\n",
    "* $lt: less than (number)\n",
    "* $lte: less than or equal to (number)\n",
    "* $in: in a list of values (number, string)\n",
    "* $nin: not in a list of values (number, string)\n"
   ],
   "metadata": {
    "collapsed": false
   },
   "id": "1b9ab54851b43ffa"
  },
  {
   "cell_type": "code",
   "outputs": [
    {
     "data": {
      "text/plain": "{'matches': [{'id': 'C',\n              'score': 0.32,\n              'values': [0.3, 0.3, 0.3, 0.3, 0.3, 0.3, 0.3, 0.3]}],\n 'namespace': '',\n 'usage': {'read_units': 6}}"
     },
     "execution_count": 17,
     "metadata": {},
     "output_type": "execute_result"
    }
   ],
   "source": [
    "index.query(\n",
    "    vector=[0.1, 0.1, 0.1, 0.1, 0.1, 0.1, 0.1, 0.1],\n",
    "    filter={\"genre\": {\"$eq\": \"comedy\"},\n",
    "            \"year\": 2019},\n",
    "    top_k=1,\n",
    "    include_values=True\n",
    ")"
   ],
   "metadata": {
    "collapsed": false,
    "ExecuteTime": {
     "end_time": "2024-04-11T13:48:49.867943Z",
     "start_time": "2024-04-11T13:48:49.465218Z"
    }
   },
   "id": "5df3ae1c67151b69",
   "execution_count": 17
  },
  {
   "cell_type": "code",
   "outputs": [
    {
     "data": {
      "text/plain": "{'matches': [{'id': 'A',\n              'score': 0.0,\n              'values': [0.1, 0.1, 0.1, 0.1, 0.1, 0.1, 0.1, 0.1]},\n             {'id': 'B',\n              'score': 0.0800000131,\n              'values': [0.2, 0.2, 0.2, 0.2, 0.2, 0.2, 0.2, 0.2]}],\n 'namespace': '',\n 'usage': {'read_units': 6}}"
     },
     "execution_count": 19,
     "metadata": {},
     "output_type": "execute_result"
    }
   ],
   "source": [
    "index.query(\n",
    "    vector=[0.1, 0.1, 0.1, 0.1, 0.1, 0.1, 0.1, 0.1],\n",
    "    filter={\"genre\": {\"$in\": [\"comedy\", \"documentary\", \"drama\"]}},\n",
    "    top_k=2,\n",
    "    include_values=True\n",
    ")"
   ],
   "metadata": {
    "collapsed": false,
    "ExecuteTime": {
     "end_time": "2024-04-11T13:50:47.383895Z",
     "start_time": "2024-04-11T13:50:47.195407Z"
    }
   },
   "id": "e9dd8d4302246e9f",
   "execution_count": 19
  },
  {
   "cell_type": "code",
   "outputs": [
    {
     "data": {
      "text/plain": "{'matches': [], 'namespace': '', 'usage': {'read_units': 6}}"
     },
     "execution_count": 20,
     "metadata": {},
     "output_type": "execute_result"
    }
   ],
   "source": [
    "index.query(\n",
    "    vector=[0.1, 0.1, 0.1, 0.1, 0.1, 0.1, 0.1, 0.1],\n",
    "    filter={\"genre\": {\"$eq\": \"documentary\"},\n",
    "            \"year\": {\"$gte\": 2020}},\n",
    "    top_k=2,\n",
    "    include_values=True\n",
    ")"
   ],
   "metadata": {
    "collapsed": false,
    "ExecuteTime": {
     "end_time": "2024-04-11T13:51:56.098488Z",
     "start_time": "2024-04-11T13:51:55.875369Z"
    }
   },
   "id": "153da3e68439a760",
   "execution_count": 20
  },
  {
   "cell_type": "code",
   "outputs": [
    {
     "data": {
      "text/plain": "{'matches': [{'id': 'A',\n              'score': 0.0,\n              'values': [0.1, 0.1, 0.1, 0.1, 0.1, 0.1, 0.1, 0.1]},\n             {'id': 'B',\n              'score': 0.0800000131,\n              'values': [0.2, 0.2, 0.2, 0.2, 0.2, 0.2, 0.2, 0.2]}],\n 'namespace': '',\n 'usage': {'read_units': 6}}"
     },
     "execution_count": 21,
     "metadata": {},
     "output_type": "execute_result"
    }
   ],
   "source": [
    "index.query(\n",
    "    vector=[0.1, 0.1, 0.1, 0.1, 0.1, 0.1, 0.1, 0.1],\n",
    "    filter={\"$or\": [{\"genre\": {\"$eq\": \"documentary\"}},\n",
    "                    {\"year\": {\"$gte\": 2020}}]},\n",
    "    top_k=2,\n",
    "    include_values=True\n",
    ")"
   ],
   "metadata": {
    "collapsed": false,
    "ExecuteTime": {
     "end_time": "2024-04-11T13:52:42.650415Z",
     "start_time": "2024-04-11T13:52:42.438464Z"
    }
   },
   "id": "af643c97fce0c2b0",
   "execution_count": 21
  },
  {
   "cell_type": "code",
   "outputs": [],
   "source": [],
   "metadata": {
    "collapsed": false
   },
   "id": "9647a945d9a9d0c6"
  }
 ],
 "metadata": {
  "kernelspec": {
   "display_name": "Python 3",
   "language": "python",
   "name": "python3"
  },
  "language_info": {
   "codemirror_mode": {
    "name": "ipython",
    "version": 2
   },
   "file_extension": ".py",
   "mimetype": "text/x-python",
   "name": "python",
   "nbconvert_exporter": "python",
   "pygments_lexer": "ipython2",
   "version": "2.7.6"
  }
 },
 "nbformat": 4,
 "nbformat_minor": 5
}
