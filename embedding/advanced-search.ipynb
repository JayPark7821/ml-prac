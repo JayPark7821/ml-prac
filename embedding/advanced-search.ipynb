{
 "cells": [
  {
   "cell_type": "markdown",
   "source": [
    "### 사용자 의도 파악"
   ],
   "metadata": {
    "collapsed": false
   },
   "id": "5e5b3e1903d482b6"
  },
  {
   "cell_type": "code",
   "outputs": [],
   "source": [
    "import os\n",
    "import openai\n",
    "from openai import OpenAI\n",
    "from sklearn.cluster import KMeans \n",
    "\n",
    "# initialize openai\n",
    "os.environ['OPENAI_API_KEY']= \"\"\n",
    "openai.api_key = os.environ[\"OPENAI_API_KEY\"]"
   ],
   "metadata": {
    "collapsed": false,
    "ExecuteTime": {
     "end_time": "2024-03-23T14:49:46.431346Z",
     "start_time": "2024-03-23T14:49:46.429027Z"
    }
   },
   "id": "d2ca019e41a05e1d",
   "execution_count": 38
  },
  {
   "cell_type": "code",
   "outputs": [],
   "source": [
    "politics = [\"What are the key policies of the main political parties in the upcoming election?\",\n",
    "            \"Who do you vote for the next presedent?\",\n",
    "            \"I love the current Democratic Party.\",\n",
    "            \"What is your opinion on the president's current political move?\",\n",
    "            \"I love politics. Don't you?\"]\n",
    "\n",
    "ml = [\"How does supervised learning differ from unsupervised learning in machine learning models?\",\n",
    "      \"What are the ethical considerations of using machine learning in predictive policing?\",\n",
    "    \"How do neural networks mimic the human brain in processing data and recognizing patterns?\",\n",
    "    \"What are some examples of natural language processing?\",\n",
    "    \"Can you describe how machine learning is being utilized in personalized medicine and healthcare?\"]"
   ],
   "metadata": {
    "collapsed": false,
    "ExecuteTime": {
     "end_time": "2024-03-23T14:49:46.434115Z",
     "start_time": "2024-03-23T14:49:46.432425Z"
    }
   },
   "id": "347b123e32b63d33",
   "execution_count": 39
  },
  {
   "cell_type": "code",
   "outputs": [],
   "source": [
    "def create_embeddings(txt_list):\n",
    "    client = OpenAI()\n",
    "\n",
    "    response = client.embeddings.create(\n",
    "    input=txt_list,\n",
    "    model=\"text-embedding-3-small\")\n",
    "    responses = [r.embedding for r in response.data]\n",
    "\n",
    "    return responses"
   ],
   "metadata": {
    "collapsed": false,
    "ExecuteTime": {
     "end_time": "2024-03-23T14:49:46.436963Z",
     "start_time": "2024-03-23T14:49:46.434703Z"
    }
   },
   "id": "e8df9d753bbddb57",
   "execution_count": 40
  },
  {
   "cell_type": "code",
   "outputs": [],
   "source": [
    "embeddings = politics+ml\n",
    "emb = create_embeddings(embeddings)"
   ],
   "metadata": {
    "collapsed": false,
    "ExecuteTime": {
     "end_time": "2024-03-23T14:49:47.067363Z",
     "start_time": "2024-03-23T14:49:46.437559Z"
    }
   },
   "id": "5ff3ba0c05d5a4a1",
   "execution_count": 41
  },
  {
   "cell_type": "code",
   "outputs": [],
   "source": [
    "n_clusters = 2\n",
    "kmeans = KMeans(n_clusters=n_clusters)\n",
    "clusters = kmeans.fit_predict(emb)"
   ],
   "metadata": {
    "collapsed": false,
    "ExecuteTime": {
     "end_time": "2024-03-23T14:49:47.076963Z",
     "start_time": "2024-03-23T14:49:47.069710Z"
    }
   },
   "id": "3e1815148cd8fc34",
   "execution_count": 42
  },
  {
   "cell_type": "code",
   "outputs": [
    {
     "data": {
      "text/plain": "array([1, 1, 1, 1, 1, 0, 0, 0, 0, 0], dtype=int32)"
     },
     "execution_count": 43,
     "metadata": {},
     "output_type": "execute_result"
    }
   ],
   "source": [
    "clusters"
   ],
   "metadata": {
    "collapsed": false,
    "ExecuteTime": {
     "end_time": "2024-03-23T14:49:47.081242Z",
     "start_time": "2024-03-23T14:49:47.077850Z"
    }
   },
   "id": "b1dd65ca54ff4227",
   "execution_count": 43
  },
  {
   "cell_type": "code",
   "outputs": [],
   "source": [
    "input_sentence = \"I would like to have a talk about politics.\"\n",
    "sent_emb = create_embeddings([input_sentence])"
   ],
   "metadata": {
    "collapsed": false,
    "ExecuteTime": {
     "end_time": "2024-03-23T14:49:47.390916Z",
     "start_time": "2024-03-23T14:49:47.081964Z"
    }
   },
   "id": "9885bc960bbe330e",
   "execution_count": 44
  },
  {
   "cell_type": "code",
   "outputs": [
    {
     "data": {
      "text/plain": "array([1], dtype=int32)"
     },
     "execution_count": 45,
     "metadata": {},
     "output_type": "execute_result"
    }
   ],
   "source": [
    "kmeans.predict(sent_emb)"
   ],
   "metadata": {
    "collapsed": false,
    "ExecuteTime": {
     "end_time": "2024-03-23T14:49:47.394221Z",
     "start_time": "2024-03-23T14:49:47.391438Z"
    }
   },
   "id": "60df11a8cbfc9d08",
   "execution_count": 45
  },
  {
   "cell_type": "code",
   "outputs": [],
   "source": [
    "input_sentence = \"Tell me about machine learning.\"\n",
    "sent_emb = create_embeddings([input_sentence])"
   ],
   "metadata": {
    "collapsed": false,
    "ExecuteTime": {
     "end_time": "2024-03-23T14:49:47.707096Z",
     "start_time": "2024-03-23T14:49:47.395039Z"
    }
   },
   "id": "b26959d19fe26416",
   "execution_count": 46
  },
  {
   "cell_type": "code",
   "outputs": [
    {
     "data": {
      "text/plain": "array([0], dtype=int32)"
     },
     "execution_count": 47,
     "metadata": {},
     "output_type": "execute_result"
    }
   ],
   "source": [
    "kmeans.predict(sent_emb)"
   ],
   "metadata": {
    "collapsed": false,
    "ExecuteTime": {
     "end_time": "2024-03-23T14:49:47.711904Z",
     "start_time": "2024-03-23T14:49:47.708011Z"
    }
   },
   "id": "f80bec9deda8ede4",
   "execution_count": 47
  },
  {
   "cell_type": "markdown",
   "source": [
    "### Similarity search"
   ],
   "metadata": {
    "collapsed": false
   },
   "id": "7f2a440142048b7d"
  },
  {
   "cell_type": "code",
   "outputs": [],
   "source": [
    "politics_emb = create_embeddings(politics)\n",
    "ml_emb = create_embeddings(ml)"
   ],
   "metadata": {
    "collapsed": false,
    "ExecuteTime": {
     "end_time": "2024-03-23T14:49:48.817502Z",
     "start_time": "2024-03-23T14:49:47.712756Z"
    }
   },
   "id": "a99117b6db619c3f",
   "execution_count": 48
  },
  {
   "cell_type": "code",
   "outputs": [],
   "source": [
    "from numpy.linalg import norm\n",
    "import numpy as np\n",
    "\n",
    "def cosine_similarity(vector_a, vector_b):\n",
    "    \"\"\"Calculate the cosine similarity between two vectors.\"\"\"\n",
    "    dot_product = np.dot(vector_a, vector_b)\n",
    "    norm_a = norm(vector_a)\n",
    "    norm_b = norm(vector_b)\n",
    "    similarity = dot_product / (norm_a * norm_b)\n",
    "    return similarity\n",
    "\n",
    "def route_selection(emb_list, query_emb, threshold=0.5):\n",
    "    cos_sim = [cosine_similarity(i, query_emb) for i in emb_list]\n",
    "\n",
    "    threshold_filtered = [i for i in cos_sim if i>threshold]\n",
    "\n",
    "    if len(threshold_filtered)>0:\n",
    "        return True\n",
    "    else:\n",
    "        return False"
   ],
   "metadata": {
    "collapsed": false,
    "ExecuteTime": {
     "end_time": "2024-03-23T14:49:48.823168Z",
     "start_time": "2024-03-23T14:49:48.819005Z"
    }
   },
   "id": "b434e120075e73a8",
   "execution_count": 49
  },
  {
   "cell_type": "code",
   "outputs": [
    {
     "name": "stdout",
     "output_type": "stream",
     "text": [
      "True for politics, False for machine learning\n"
     ]
    }
   ],
   "source": [
    "input_sentence = \"I would like to have a talk about politics.\"\n",
    "sent_emb = create_embeddings([input_sentence])\n",
    "\n",
    "print(\"{} for politics, {} for machine learning\".format(route_selection(politics_emb, sent_emb[0]), route_selection(ml_emb, sent_emb[0])))"
   ],
   "metadata": {
    "collapsed": false,
    "ExecuteTime": {
     "end_time": "2024-03-23T14:49:49.141147Z",
     "start_time": "2024-03-23T14:49:48.824490Z"
    }
   },
   "id": "3b202d4ee942faba",
   "execution_count": 50
  },
  {
   "cell_type": "code",
   "outputs": [
    {
     "name": "stdout",
     "output_type": "stream",
     "text": [
      "False for politics, False for machine learning\n"
     ]
    }
   ],
   "source": [
    "input_sentence = \"How is the weather today?\"\n",
    "sent_emb = create_embeddings([input_sentence])\n",
    "\n",
    "print(\"{} for politics, {} for machine learning\".format(route_selection(politics_emb, sent_emb[0]), route_selection(ml_emb, sent_emb[0])))"
   ],
   "metadata": {
    "collapsed": false,
    "ExecuteTime": {
     "end_time": "2024-03-23T14:49:49.480135Z",
     "start_time": "2024-03-23T14:49:49.144297Z"
    }
   },
   "id": "44652b519fc9a609",
   "execution_count": 51
  },
  {
   "cell_type": "code",
   "outputs": [
    {
     "name": "stdout",
     "output_type": "stream",
     "text": [
      "False for politics, True for machine learning\n"
     ]
    }
   ],
   "source": [
    "input_sentence = \"What is the best way to learn machine learning?\"\n",
    "sent_emb = create_embeddings([input_sentence])\n",
    "\n",
    "print(\"{} for politics, {} for machine learning\".format(route_selection(politics_emb, sent_emb[0]), route_selection(ml_emb, sent_emb[0], threshold=0.4)))"
   ],
   "metadata": {
    "collapsed": false,
    "ExecuteTime": {
     "end_time": "2024-03-23T14:49:49.771723Z",
     "start_time": "2024-03-23T14:49:49.481254Z"
    }
   },
   "id": "3aab01538775993d",
   "execution_count": 52
  },
  {
   "cell_type": "code",
   "outputs": [],
   "source": [],
   "metadata": {
    "collapsed": false,
    "ExecuteTime": {
     "end_time": "2024-03-23T14:49:49.774917Z",
     "start_time": "2024-03-23T14:49:49.773034Z"
    }
   },
   "id": "6402b77afa935ce",
   "execution_count": 52
  }
 ],
 "metadata": {
  "kernelspec": {
   "display_name": "Python 3",
   "language": "python",
   "name": "python3"
  },
  "language_info": {
   "codemirror_mode": {
    "name": "ipython",
    "version": 2
   },
   "file_extension": ".py",
   "mimetype": "text/x-python",
   "name": "python",
   "nbconvert_exporter": "python",
   "pygments_lexer": "ipython2",
   "version": "2.7.6"
  }
 },
 "nbformat": 4,
 "nbformat_minor": 5
}
