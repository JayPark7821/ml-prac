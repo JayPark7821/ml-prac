{
 "cells": [
  {
   "cell_type": "code",
   "execution_count": 4,
   "id": "initial_id",
   "metadata": {
    "collapsed": true,
    "ExecuteTime": {
     "end_time": "2024-03-21T14:56:16.434223Z",
     "start_time": "2024-03-21T14:56:15.309947Z"
    }
   },
   "outputs": [],
   "source": [
    "import pandas as pd\n",
    "import os\n",
    "import json\n",
    "import openai\n",
    "from openai import OpenAI\n",
    "import numpy as np\n",
    "from tqdm.notebook import tqdm, trange\n",
    "from typing import List\n",
    "from sklearn.cluster import KMeans "
   ]
  },
  {
   "cell_type": "code",
   "outputs": [],
   "source": [
    "df = pd.read_csv('./data/abcnews_2020.csv')"
   ],
   "metadata": {
    "collapsed": false,
    "ExecuteTime": {
     "end_time": "2024-03-21T14:56:16.952850Z",
     "start_time": "2024-03-21T14:56:16.944590Z"
    }
   },
   "id": "3ab579e9bde17389",
   "execution_count": 5
  },
  {
   "cell_type": "code",
   "outputs": [
    {
     "data": {
      "text/plain": "   publish_date                                      headline_text\n0      20200101          a new type of resolution for the new year\n1      20200101  adelaide records driest year in more than a de...\n2      20200101  adelaide riverbank catches alight after new ye...\n3      20200101   adelaides 9pm fireworks spark blaze on riverbank\n4      20200101  archaic legislation governing nt women propert...",
      "text/html": "<div>\n<style scoped>\n    .dataframe tbody tr th:only-of-type {\n        vertical-align: middle;\n    }\n\n    .dataframe tbody tr th {\n        vertical-align: top;\n    }\n\n    .dataframe thead th {\n        text-align: right;\n    }\n</style>\n<table border=\"1\" class=\"dataframe\">\n  <thead>\n    <tr style=\"text-align: right;\">\n      <th></th>\n      <th>publish_date</th>\n      <th>headline_text</th>\n    </tr>\n  </thead>\n  <tbody>\n    <tr>\n      <th>0</th>\n      <td>20200101</td>\n      <td>a new type of resolution for the new year</td>\n    </tr>\n    <tr>\n      <th>1</th>\n      <td>20200101</td>\n      <td>adelaide records driest year in more than a de...</td>\n    </tr>\n    <tr>\n      <th>2</th>\n      <td>20200101</td>\n      <td>adelaide riverbank catches alight after new ye...</td>\n    </tr>\n    <tr>\n      <th>3</th>\n      <td>20200101</td>\n      <td>adelaides 9pm fireworks spark blaze on riverbank</td>\n    </tr>\n    <tr>\n      <th>4</th>\n      <td>20200101</td>\n      <td>archaic legislation governing nt women propert...</td>\n    </tr>\n  </tbody>\n</table>\n</div>"
     },
     "execution_count": 6,
     "metadata": {},
     "output_type": "execute_result"
    }
   ],
   "source": [
    "df.head()"
   ],
   "metadata": {
    "collapsed": false,
    "ExecuteTime": {
     "end_time": "2024-03-21T14:56:17.352638Z",
     "start_time": "2024-03-21T14:56:17.348748Z"
    }
   },
   "id": "19bba4600bbb57ba",
   "execution_count": 6
  },
  {
   "cell_type": "code",
   "outputs": [],
   "source": [
    "def create_embeddings(txt_list: List[str], model='text-embedding-3-small') -> List[np.ndarray]:\n",
    " \n",
    "    client = OpenAI()\n",
    "\n",
    "    response = client.embeddings.create(\n",
    "    input=txt_list,\n",
    "    model=model)\n",
    "    responses = [r.embedding for r in response.data]\n",
    "\n",
    "    return responses"
   ],
   "metadata": {
    "collapsed": false,
    "ExecuteTime": {
     "end_time": "2024-03-21T14:56:28.522554Z",
     "start_time": "2024-03-21T14:56:28.518200Z"
    }
   },
   "id": "2b4df55ef668ee83",
   "execution_count": 7
  },
  {
   "cell_type": "code",
   "outputs": [],
   "source": [
    "batch_size = 2000\n",
    "headline_emb = list()\n",
    "\n",
    "headline = df['headline_text'].tolist()\n",
    "\n",
    "for i in trange(0, len(headline), batch_size):\n",
    "    i_end = min(len(headline), i+batch_size)\n",
    "    data_batch = headline[i:i_end]\n",
    "    \n",
    "    temp_emb = create_embeddings(data_batch)\n",
    "    headline_emb.extend(temp_emb)\n"
   ],
   "metadata": {
    "collapsed": false
   },
   "id": "112d2b20ea63bc70"
  },
  {
   "cell_type": "code",
   "outputs": [],
   "source": [
    "df = pd.read_csv('./data/abcnews_2020_emb.csv')"
   ],
   "metadata": {
    "collapsed": false,
    "ExecuteTime": {
     "end_time": "2024-03-21T14:58:00.663147Z",
     "start_time": "2024-03-21T14:58:00.114244Z"
    }
   },
   "id": "28b3c61c5be6773c",
   "execution_count": 9
  },
  {
   "cell_type": "code",
   "outputs": [],
   "source": [
    "df['headline_emb'] = df['headline_emb'].apply(json.loads)"
   ],
   "metadata": {
    "collapsed": false,
    "ExecuteTime": {
     "end_time": "2024-03-21T14:58:01.345970Z",
     "start_time": "2024-03-21T14:58:00.664199Z"
    }
   },
   "id": "5f10bbe12703f79f",
   "execution_count": 10
  },
  {
   "cell_type": "code",
   "outputs": [],
   "source": [
    "clusters = KMeans(n_clusters=30, random_state=0).fit_predict(df['headline_emb'].tolist())\n",
    "df['cluster'] = clusters"
   ],
   "metadata": {
    "collapsed": false,
    "ExecuteTime": {
     "end_time": "2024-03-21T14:59:30.911561Z",
     "start_time": "2024-03-21T14:59:30.213631Z"
    }
   },
   "id": "d57890de6cce5d9c",
   "execution_count": 12
  },
  {
   "cell_type": "code",
   "outputs": [
    {
     "data": {
      "text/plain": "   publish_date                                      headline_text  \\\n0      20200101          a new type of resolution for the new year   \n1      20200101  adelaide records driest year in more than a de...   \n2      20200101  adelaide riverbank catches alight after new ye...   \n3      20200101   adelaides 9pm fireworks spark blaze on riverbank   \n4      20200101  archaic legislation governing nt women propert...   \n\n                                        headline_emb  cluster  \n0  [-0.029918815940618515, 0.027576250955462456, ...       14  \n1  [0.02332385629415512, 0.024166574701666832, 0....       17  \n2  [0.008539590984582901, -0.00674605555832386, 0...       13  \n3  [0.03185156360268593, -1.126696679421002e-05, ...        6  \n4  [0.05419066920876503, 0.061877865344285965, 0....       11  ",
      "text/html": "<div>\n<style scoped>\n    .dataframe tbody tr th:only-of-type {\n        vertical-align: middle;\n    }\n\n    .dataframe tbody tr th {\n        vertical-align: top;\n    }\n\n    .dataframe thead th {\n        text-align: right;\n    }\n</style>\n<table border=\"1\" class=\"dataframe\">\n  <thead>\n    <tr style=\"text-align: right;\">\n      <th></th>\n      <th>publish_date</th>\n      <th>headline_text</th>\n      <th>headline_emb</th>\n      <th>cluster</th>\n    </tr>\n  </thead>\n  <tbody>\n    <tr>\n      <th>0</th>\n      <td>20200101</td>\n      <td>a new type of resolution for the new year</td>\n      <td>[-0.029918815940618515, 0.027576250955462456, ...</td>\n      <td>14</td>\n    </tr>\n    <tr>\n      <th>1</th>\n      <td>20200101</td>\n      <td>adelaide records driest year in more than a de...</td>\n      <td>[0.02332385629415512, 0.024166574701666832, 0....</td>\n      <td>17</td>\n    </tr>\n    <tr>\n      <th>2</th>\n      <td>20200101</td>\n      <td>adelaide riverbank catches alight after new ye...</td>\n      <td>[0.008539590984582901, -0.00674605555832386, 0...</td>\n      <td>13</td>\n    </tr>\n    <tr>\n      <th>3</th>\n      <td>20200101</td>\n      <td>adelaides 9pm fireworks spark blaze on riverbank</td>\n      <td>[0.03185156360268593, -1.126696679421002e-05, ...</td>\n      <td>6</td>\n    </tr>\n    <tr>\n      <th>4</th>\n      <td>20200101</td>\n      <td>archaic legislation governing nt women propert...</td>\n      <td>[0.05419066920876503, 0.061877865344285965, 0....</td>\n      <td>11</td>\n    </tr>\n  </tbody>\n</table>\n</div>"
     },
     "execution_count": 13,
     "metadata": {},
     "output_type": "execute_result"
    }
   ],
   "source": [
    "df.head()"
   ],
   "metadata": {
    "collapsed": false,
    "ExecuteTime": {
     "end_time": "2024-03-21T14:59:36.189542Z",
     "start_time": "2024-03-21T14:59:36.180659Z"
    }
   },
   "id": "39dfeb5c8bcd0571",
   "execution_count": 13
  },
  {
   "cell_type": "code",
   "outputs": [
    {
     "data": {
      "text/plain": "      publish_date                                      headline_text  \\\n212       20200104  china to identify cause of mystery pneumonia p...   \n360       20200106            mysterious illness in china is not sars   \n1045      20200115  who says new china coronavirus could spread; w...   \n1237      20200117  thailand finds second case of new chinese coro...   \n1265      20200118  china reports new virus cases raising concern ...   \n...            ...                                                ...   \n2385      20200131                      how deadly is the coronavirus   \n2437      20200131  wall street volatile coronavirus australian do...   \n2442      20200131                   who coronavirus global emergency   \n2443      20200131  who declares coronavirus outbreak as global he...   \n2446      20200131                              wuhan evacuation form   \n\n                                           headline_emb  cluster  \n212   [-0.006448061671108007, -0.054372843354940414,...       18  \n360   [-0.0005059370887465775, -0.033365555107593536...       18  \n1045  [-0.013549289666116238, -0.028695644810795784,...       18  \n1237  [-0.02747490629553795, -0.044669169932603836, ...       18  \n1265  [0.004373899661004543, -0.031095510348677635, ...       18  \n...                                                 ...      ...  \n2385  [-0.01725398749113083, 0.0033517233096063137, ...       18  \n2437  [-0.07781743258237839, -0.02185390144586563, 0...       18  \n2442  [-0.025180980563163757, -0.004652089439332485,...       18  \n2443  [-0.04890184849500656, -0.033849552273750305, ...       18  \n2446  [-0.02797412872314453, 0.019678156822919846, 0...       18  \n\n[75 rows x 4 columns]",
      "text/html": "<div>\n<style scoped>\n    .dataframe tbody tr th:only-of-type {\n        vertical-align: middle;\n    }\n\n    .dataframe tbody tr th {\n        vertical-align: top;\n    }\n\n    .dataframe thead th {\n        text-align: right;\n    }\n</style>\n<table border=\"1\" class=\"dataframe\">\n  <thead>\n    <tr style=\"text-align: right;\">\n      <th></th>\n      <th>publish_date</th>\n      <th>headline_text</th>\n      <th>headline_emb</th>\n      <th>cluster</th>\n    </tr>\n  </thead>\n  <tbody>\n    <tr>\n      <th>212</th>\n      <td>20200104</td>\n      <td>china to identify cause of mystery pneumonia p...</td>\n      <td>[-0.006448061671108007, -0.054372843354940414,...</td>\n      <td>18</td>\n    </tr>\n    <tr>\n      <th>360</th>\n      <td>20200106</td>\n      <td>mysterious illness in china is not sars</td>\n      <td>[-0.0005059370887465775, -0.033365555107593536...</td>\n      <td>18</td>\n    </tr>\n    <tr>\n      <th>1045</th>\n      <td>20200115</td>\n      <td>who says new china coronavirus could spread; w...</td>\n      <td>[-0.013549289666116238, -0.028695644810795784,...</td>\n      <td>18</td>\n    </tr>\n    <tr>\n      <th>1237</th>\n      <td>20200117</td>\n      <td>thailand finds second case of new chinese coro...</td>\n      <td>[-0.02747490629553795, -0.044669169932603836, ...</td>\n      <td>18</td>\n    </tr>\n    <tr>\n      <th>1265</th>\n      <td>20200118</td>\n      <td>china reports new virus cases raising concern ...</td>\n      <td>[0.004373899661004543, -0.031095510348677635, ...</td>\n      <td>18</td>\n    </tr>\n    <tr>\n      <th>...</th>\n      <td>...</td>\n      <td>...</td>\n      <td>...</td>\n      <td>...</td>\n    </tr>\n    <tr>\n      <th>2385</th>\n      <td>20200131</td>\n      <td>how deadly is the coronavirus</td>\n      <td>[-0.01725398749113083, 0.0033517233096063137, ...</td>\n      <td>18</td>\n    </tr>\n    <tr>\n      <th>2437</th>\n      <td>20200131</td>\n      <td>wall street volatile coronavirus australian do...</td>\n      <td>[-0.07781743258237839, -0.02185390144586563, 0...</td>\n      <td>18</td>\n    </tr>\n    <tr>\n      <th>2442</th>\n      <td>20200131</td>\n      <td>who coronavirus global emergency</td>\n      <td>[-0.025180980563163757, -0.004652089439332485,...</td>\n      <td>18</td>\n    </tr>\n    <tr>\n      <th>2443</th>\n      <td>20200131</td>\n      <td>who declares coronavirus outbreak as global he...</td>\n      <td>[-0.04890184849500656, -0.033849552273750305, ...</td>\n      <td>18</td>\n    </tr>\n    <tr>\n      <th>2446</th>\n      <td>20200131</td>\n      <td>wuhan evacuation form</td>\n      <td>[-0.02797412872314453, 0.019678156822919846, 0...</td>\n      <td>18</td>\n    </tr>\n  </tbody>\n</table>\n<p>75 rows × 4 columns</p>\n</div>"
     },
     "execution_count": 14,
     "metadata": {},
     "output_type": "execute_result"
    }
   ],
   "source": [
    "df.loc[df['cluster']==18]"
   ],
   "metadata": {
    "collapsed": false,
    "ExecuteTime": {
     "end_time": "2024-03-21T14:59:59.121582Z",
     "start_time": "2024-03-21T14:59:59.110561Z"
    }
   },
   "id": "636a8540b06b8345",
   "execution_count": 14
  },
  {
   "cell_type": "markdown",
   "source": [
    "### 정보의 다양성 Diversity 측정"
   ],
   "metadata": {
    "collapsed": false
   },
   "id": "88da26c5a16daaf2"
  },
  {
   "cell_type": "code",
   "outputs": [],
   "source": [
    "from sklearn.metrics.pairwise import cosine_similarity\n",
    "\n",
    "def calculate_diversity(df, column_name):\n",
    " \n",
    "    # 각각의 임베딩끼리 모두 pairwise cosine similarity를 계산\n",
    "    embeddings = np.vstack(df[column_name])\n",
    "    cosine_sim = cosine_similarity(embeddings)\n",
    "    \n",
    "    # self-comparisons (diagonal elements)를 제외하고 cosine similarity 계산\n",
    "    np.fill_diagonal(cosine_sim, np.nan) # 본인과의 similarity는 제외\n",
    "    avg_distance = np.nanmean(cosine_sim)\n",
    "    \n",
    "    return cosine_sim, avg_distance\n"
   ],
   "metadata": {
    "collapsed": false,
    "ExecuteTime": {
     "end_time": "2024-03-21T15:01:49.973558Z",
     "start_time": "2024-03-21T15:01:49.963944Z"
    }
   },
   "id": "d93378c75c04f1b1",
   "execution_count": 15
  },
  {
   "cell_type": "code",
   "outputs": [],
   "source": [
    "dist, avg = calculate_diversity(df, 'headline_emb')"
   ],
   "metadata": {
    "collapsed": false,
    "ExecuteTime": {
     "end_time": "2024-03-21T15:02:21.283812Z",
     "start_time": "2024-03-21T15:02:20.991857Z"
    }
   },
   "id": "d71eac344f7f8cdd",
   "execution_count": 16
  },
  {
   "cell_type": "code",
   "outputs": [
    {
     "data": {
      "text/plain": "0.19837456404442783"
     },
     "execution_count": 17,
     "metadata": {},
     "output_type": "execute_result"
    }
   ],
   "source": [
    "avg"
   ],
   "metadata": {
    "collapsed": false,
    "ExecuteTime": {
     "end_time": "2024-03-21T15:02:26.044226Z",
     "start_time": "2024-03-21T15:02:26.041121Z"
    }
   },
   "id": "7aafe7298120a874",
   "execution_count": 17
  },
  {
   "cell_type": "code",
   "outputs": [],
   "source": [
    "diversity_score = {k:calculate_diversity(df.loc[df['cluster']==k], 'headline_emb')[1] for k in range(0, 15)}"
   ],
   "metadata": {
    "collapsed": false,
    "ExecuteTime": {
     "end_time": "2024-03-21T15:02:40.650557Z",
     "start_time": "2024-03-21T15:02:40.554927Z"
    }
   },
   "id": "fc6695fb34cfe555",
   "execution_count": 18
  },
  {
   "cell_type": "code",
   "outputs": [
    {
     "data": {
      "text/plain": "{0: 0.30127963292576626,\n 1: 0.4339087803488167,\n 2: 0.2147994063589832,\n 3: 0.3984893541964128,\n 4: 0.8579692271248458,\n 5: 0.4212757317776546,\n 6: 0.3205253159622736,\n 7: 0.44165128926019925,\n 8: 0.5049445264108715,\n 9: 0.18107570874467785,\n 10: 0.34823013001835207,\n 11: 0.19773536876618047,\n 12: 0.4786903719253222,\n 13: 0.4870874258713398,\n 14: 0.21972834313499837}"
     },
     "execution_count": 19,
     "metadata": {},
     "output_type": "execute_result"
    }
   ],
   "source": [
    "diversity_score"
   ],
   "metadata": {
    "collapsed": false,
    "ExecuteTime": {
     "end_time": "2024-03-21T15:02:44.785023Z",
     "start_time": "2024-03-21T15:02:44.781024Z"
    }
   },
   "id": "e868fd89d817357f",
   "execution_count": 19
  },
  {
   "cell_type": "code",
   "outputs": [],
   "source": [
    "### Outlier detection"
   ],
   "metadata": {
    "collapsed": false,
    "ExecuteTime": {
     "end_time": "2024-03-21T15:09:15.111410Z",
     "start_time": "2024-03-21T15:09:15.107492Z"
    }
   },
   "id": "5866c5211c8d6936",
   "execution_count": 20
  },
  {
   "cell_type": "code",
   "outputs": [],
   "source": [
    "from sklearn.ensemble import IsolationForest"
   ],
   "metadata": {
    "collapsed": false,
    "ExecuteTime": {
     "end_time": "2024-03-21T15:09:22.237848Z",
     "start_time": "2024-03-21T15:09:22.117596Z"
    }
   },
   "id": "7de82527d4e25981",
   "execution_count": 21
  },
  {
   "cell_type": "code",
   "outputs": [],
   "source": [
    "cluster = df.loc[df['cluster']==10]"
   ],
   "metadata": {
    "collapsed": false,
    "ExecuteTime": {
     "end_time": "2024-03-21T15:09:22.945616Z",
     "start_time": "2024-03-21T15:09:22.942779Z"
    }
   },
   "id": "f8c77384ac207b3d",
   "execution_count": 22
  },
  {
   "cell_type": "code",
   "outputs": [],
   "source": [
    "iso_forest = IsolationForest(contamination=0.05)  # Adjust contamination as needed\n",
    "anomalies = iso_forest.fit_predict(cluster['headline_emb'].tolist())\n",
    "\n",
    "anomalous_headlines = np.array(cluster['headline_text'].tolist())[anomalies == -1]\n",
    "# print(\"Anomalous Headlines:\", anomalous_headlines)"
   ],
   "metadata": {
    "collapsed": false,
    "ExecuteTime": {
     "end_time": "2024-03-21T15:09:29.261267Z",
     "start_time": "2024-03-21T15:09:29.188842Z"
    }
   },
   "id": "1aa5c29258c95924",
   "execution_count": 23
  },
  {
   "cell_type": "code",
   "outputs": [
    {
     "data": {
      "text/plain": "array([ 1,  1,  1, -1,  1,  1,  1,  1,  1,  1,  1,  1,  1,  1,  1,  1,  1,\n        1, -1,  1,  1,  1,  1,  1,  1,  1,  1, -1,  1,  1,  1,  1,  1,  1,\n        1,  1,  1,  1,  1,  1,  1,  1,  1,  1,  1,  1,  1,  1,  1])"
     },
     "execution_count": 24,
     "metadata": {},
     "output_type": "execute_result"
    }
   ],
   "source": [
    "anomalies"
   ],
   "metadata": {
    "collapsed": false,
    "ExecuteTime": {
     "end_time": "2024-03-21T15:09:35.244880Z",
     "start_time": "2024-03-21T15:09:35.242224Z"
    }
   },
   "id": "15adc0b6141d035a",
   "execution_count": 24
  },
  {
   "cell_type": "code",
   "outputs": [
    {
     "data": {
      "text/plain": "array(['three americans killed in al shabaab militant attack in kenya',\n       'aeroplane dumps fuel over schools in emergency landing',\n       'large air tanker c 130 water bomber crash cooma'], dtype='<U64')"
     },
     "execution_count": 25,
     "metadata": {},
     "output_type": "execute_result"
    }
   ],
   "source": [
    "anomalous_headlines"
   ],
   "metadata": {
    "collapsed": false,
    "ExecuteTime": {
     "end_time": "2024-03-21T15:09:39.079434Z",
     "start_time": "2024-03-21T15:09:39.075237Z"
    }
   },
   "id": "90af469f3524986b",
   "execution_count": 25
  },
  {
   "cell_type": "code",
   "outputs": [],
   "source": [],
   "metadata": {
    "collapsed": false
   },
   "id": "11af66bf56d94931"
  }
 ],
 "metadata": {
  "kernelspec": {
   "display_name": "Python 3",
   "language": "python",
   "name": "python3"
  },
  "language_info": {
   "codemirror_mode": {
    "name": "ipython",
    "version": 2
   },
   "file_extension": ".py",
   "mimetype": "text/x-python",
   "name": "python",
   "nbconvert_exporter": "python",
   "pygments_lexer": "ipython2",
   "version": "2.7.6"
  }
 },
 "nbformat": 4,
 "nbformat_minor": 5
}
