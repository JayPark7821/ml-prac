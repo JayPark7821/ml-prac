{
 "cells": [
  {
   "cell_type": "code",
   "execution_count": 98,
   "id": "initial_id",
   "metadata": {
    "collapsed": true,
    "ExecuteTime": {
     "end_time": "2024-03-20T07:28:29.619349Z",
     "start_time": "2024-03-20T07:28:29.538978Z"
    }
   },
   "outputs": [
    {
     "ename": "CohereError",
     "evalue": "No API key provided. Provide the API key in the client initialization or the CO_API_KEY environment variable.",
     "output_type": "error",
     "traceback": [
      "\u001B[0;31m---------------------------------------------------------------------------\u001B[0m",
      "\u001B[0;31mCohereError\u001B[0m                               Traceback (most recent call last)",
      "Cell \u001B[0;32mIn[98], line 20\u001B[0m\n\u001B[1;32m     18\u001B[0m \u001B[38;5;66;03m# initialize cohere\u001B[39;00m\n\u001B[1;32m     19\u001B[0m os\u001B[38;5;241m.\u001B[39menviron[\u001B[38;5;124m\"\u001B[39m\u001B[38;5;124mCO_API_KEY\u001B[39m\u001B[38;5;124m\"\u001B[39m] \u001B[38;5;241m=\u001B[39m \u001B[38;5;124m\"\u001B[39m\u001B[38;5;124m\"\u001B[39m\n\u001B[0;32m---> 20\u001B[0m co \u001B[38;5;241m=\u001B[39m cohere\u001B[38;5;241m.\u001B[39mClient()\n\u001B[1;32m     22\u001B[0m \u001B[38;5;28;01mimport\u001B[39;00m \u001B[38;5;21;01mwarnings\u001B[39;00m\n\u001B[1;32m     23\u001B[0m warnings\u001B[38;5;241m.\u001B[39mfilterwarnings(\u001B[38;5;124m'\u001B[39m\u001B[38;5;124mignore\u001B[39m\u001B[38;5;124m'\u001B[39m)\n",
      "File \u001B[0;32m~/anaconda3/envs/embedding/lib/python3.11/site-packages/cohere/client.py:100\u001B[0m, in \u001B[0;36mClient.__init__\u001B[0;34m(self, api_key, num_workers, request_dict, check_api_key, client_name, max_retries, timeout, api_url)\u001B[0m\n\u001B[1;32m     97\u001B[0m     \u001B[38;5;28mself\u001B[39m\u001B[38;5;241m.\u001B[39mrequest_source \u001B[38;5;241m+\u001B[39m\u001B[38;5;241m=\u001B[39m \u001B[38;5;124m\"\u001B[39m\u001B[38;5;124m:\u001B[39m\u001B[38;5;124m\"\u001B[39m \u001B[38;5;241m+\u001B[39m client_name\n\u001B[1;32m     99\u001B[0m \u001B[38;5;28;01mif\u001B[39;00m check_api_key:\n\u001B[0;32m--> 100\u001B[0m     \u001B[38;5;28mself\u001B[39m\u001B[38;5;241m.\u001B[39mcheck_api_key()\n",
      "File \u001B[0;32m~/anaconda3/envs/embedding/lib/python3.11/site-packages/cohere/client.py:108\u001B[0m, in \u001B[0;36mClient.check_api_key\u001B[0;34m(self)\u001B[0m\n\u001B[1;32m    102\u001B[0m \u001B[38;5;28;01mdef\u001B[39;00m \u001B[38;5;21mcheck_api_key\u001B[39m(\u001B[38;5;28mself\u001B[39m) \u001B[38;5;241m-\u001B[39m\u001B[38;5;241m>\u001B[39m Dict[\u001B[38;5;28mstr\u001B[39m, \u001B[38;5;28mbool\u001B[39m]:\n\u001B[1;32m    103\u001B[0m \u001B[38;5;250m    \u001B[39m\u001B[38;5;124;03m\"\"\"\u001B[39;00m\n\u001B[1;32m    104\u001B[0m \u001B[38;5;124;03m    Checks the api key, which happens automatically during Client initialization, but not in AsyncClient.\u001B[39;00m\n\u001B[1;32m    105\u001B[0m \u001B[38;5;124;03m    check_api_key raises an exception when the key is invalid, but the return value for valid keys is kept for\u001B[39;00m\n\u001B[1;32m    106\u001B[0m \u001B[38;5;124;03m    backwards compatibility.\u001B[39;00m\n\u001B[1;32m    107\u001B[0m \u001B[38;5;124;03m    \"\"\"\u001B[39;00m\n\u001B[0;32m--> 108\u001B[0m     \u001B[38;5;28;01mreturn\u001B[39;00m {\u001B[38;5;124m\"\u001B[39m\u001B[38;5;124mvalid\u001B[39m\u001B[38;5;124m\"\u001B[39m: is_api_key_valid(\u001B[38;5;28mself\u001B[39m\u001B[38;5;241m.\u001B[39mapi_key)}\n",
      "File \u001B[0;32m~/anaconda3/envs/embedding/lib/python3.11/site-packages/cohere/utils.py:52\u001B[0m, in \u001B[0;36mis_api_key_valid\u001B[0;34m(key)\u001B[0m\n\u001B[1;32m     50\u001B[0m \u001B[38;5;250m\u001B[39m\u001B[38;5;124;03m\"\"\"is_api_key_valid returns True when the key is valid and raises a CohereError when it is invalid.\"\"\"\u001B[39;00m\n\u001B[1;32m     51\u001B[0m \u001B[38;5;28;01mif\u001B[39;00m \u001B[38;5;129;01mnot\u001B[39;00m key:\n\u001B[0;32m---> 52\u001B[0m     \u001B[38;5;28;01mraise\u001B[39;00m CohereError(\n\u001B[1;32m     53\u001B[0m         \u001B[38;5;124m\"\u001B[39m\u001B[38;5;124mNo API key provided. Provide the API key in the client initialization or the CO_API_KEY environment variable.\u001B[39m\u001B[38;5;124m\"\u001B[39m  \u001B[38;5;66;03m# noqa: E501\u001B[39;00m\n\u001B[1;32m     54\u001B[0m     )\n\u001B[1;32m     56\u001B[0m \u001B[38;5;28;01mreturn\u001B[39;00m \u001B[38;5;28;01mTrue\u001B[39;00m\n",
      "\u001B[0;31mCohereError\u001B[0m: No API key provided. Provide the API key in the client initialization or the CO_API_KEY environment variable."
     ]
    }
   ],
   "source": [
    "import pandas as pd\n",
    "import os\n",
    "import random\n",
    "import cohere\n",
    "import torch\n",
    "import numpy as np\n",
    "from transformers import AutoModel, AutoTokenizer\n",
    "import openai\n",
    "from openai import OpenAI\n",
    "from tqdm.notebook import tqdm\n",
    "\n",
    "os.environ[\"TOKENIZERS_PARALLELISM\"] = \"false\"\n",
    "\n",
    "# initialize openai\n",
    "os.environ['OPENAI_API_KEY']= \"\"\n",
    "openai.api_key = os.environ[\"OPENAI_API_KEY\"]\n",
    "\n",
    "# initialize cohere\n",
    "os.environ[\"CO_API_KEY\"] = \"\"\n",
    "co = cohere.Client()\n",
    "\n",
    "import warnings\n",
    "warnings.filterwarnings('ignore')\n"
   ]
  },
  {
   "cell_type": "code",
   "outputs": [],
   "source": [
    "# prepare dataset\n",
    "\n",
    "from datasets import load_dataset\n",
    "import pandas as pd\n",
    "\n",
    "\n",
    "dataset = load_dataset(\"quora\")\n",
    "raw_df = dataset[\"train\"].to_pandas() \n",
    "raw_df = raw_df.loc[raw_df['is_duplicate'] == True].reset_index(drop=True)\n",
    "\n",
    "# 중복되는 id를 개별 컬럼으로 배치\n",
    "raw_df[\"q1\"] = raw_df[\"questions\"].apply(lambda q: q[\"text\"][0])\n",
    "raw_df[\"q2\"] = raw_df[\"questions\"].apply(lambda q: q[\"text\"][1])\n",
    "raw_df[\"id1\"] = raw_df[\"questions\"].apply(lambda q: q[\"id\"][0])\n",
    "raw_df[\"id2\"] = raw_df[\"questions\"].apply(lambda q: q[\"id\"][1])\n",
    "\n",
    "q1_to_q2 = raw_df.copy().rename(columns={\"q1\": \"text\", \"id1\": \"id\", \"id2\": \"dq_id\"}).drop(columns=[\"questions\", \"q2\"])\n",
    "q2_to_q1 = raw_df.copy().rename(columns={\"q2\": \"text\", \"id2\": \"id\", \"id1\": \"dq_id\"}).drop(columns=[\"questions\", \"q1\"])\n",
    "flat_df = pd.concat([q1_to_q2, q2_to_q1])\n",
    "\n",
    "flat_df = flat_df.sort_values(by=['id']).reset_index(drop=True)\n",
    "flat_df.loc[flat_df['id'] == 568] \n",
    "flat_df = flat_df.loc[((flat_df['id'] <= 15000) & (flat_df['dq_id'] <= 15000))]\n",
    "\n",
    "# 각 질문 하나당 중복되는 질문 id를 list 형태로 저장\n",
    "df = flat_df.drop_duplicates(\"id\")\n",
    "df.loc[:, \"duplicated_questions\"] = df[\"id\"].apply(lambda qid: flat_df[flat_df[\"id\"] == qid][\"dq_id\"].tolist())\n",
    "df = df.drop(columns=[\"dq_id\", \"is_duplicate\"])\n",
    "df.loc[:, 'length'] = [len(x) for x in df['duplicated_questions']]\n",
    "\n",
    "df.loc[[len(i) > 2 for i in df.duplicated_questions]]\n",
    "df.to_csv(\"./data/quora_dataset.csv\", index=False)"
   ],
   "metadata": {
    "collapsed": false,
    "ExecuteTime": {
     "end_time": "2024-03-20T07:13:22.712377Z",
     "start_time": "2024-03-20T07:13:17.644736Z"
    }
   },
   "id": "5230647ff2a9d935",
   "execution_count": 72
  },
  {
   "cell_type": "code",
   "outputs": [
    {
     "data": {
      "text/plain": "                                                text  id duplicated_questions  \\\n0  Astrology: I am a Capricorn Sun Cap moon and c...  11                 [12]   \n1  I'm a triple Capricorn (Sun, Moon and ascendan...  12                 [11]   \n2                     How can I be a good geologist?  15                 [16]   \n3          What should I do to be a great geologist?  16                 [15]   \n4        How do I read and find my YouTube comments?  23                 [24]   \n\n   length  \n0       1  \n1       1  \n2       1  \n3       1  \n4       1  ",
      "text/html": "<div>\n<style scoped>\n    .dataframe tbody tr th:only-of-type {\n        vertical-align: middle;\n    }\n\n    .dataframe tbody tr th {\n        vertical-align: top;\n    }\n\n    .dataframe thead th {\n        text-align: right;\n    }\n</style>\n<table border=\"1\" class=\"dataframe\">\n  <thead>\n    <tr style=\"text-align: right;\">\n      <th></th>\n      <th>text</th>\n      <th>id</th>\n      <th>duplicated_questions</th>\n      <th>length</th>\n    </tr>\n  </thead>\n  <tbody>\n    <tr>\n      <th>0</th>\n      <td>Astrology: I am a Capricorn Sun Cap moon and c...</td>\n      <td>11</td>\n      <td>[12]</td>\n      <td>1</td>\n    </tr>\n    <tr>\n      <th>1</th>\n      <td>I'm a triple Capricorn (Sun, Moon and ascendan...</td>\n      <td>12</td>\n      <td>[11]</td>\n      <td>1</td>\n    </tr>\n    <tr>\n      <th>2</th>\n      <td>How can I be a good geologist?</td>\n      <td>15</td>\n      <td>[16]</td>\n      <td>1</td>\n    </tr>\n    <tr>\n      <th>3</th>\n      <td>What should I do to be a great geologist?</td>\n      <td>16</td>\n      <td>[15]</td>\n      <td>1</td>\n    </tr>\n    <tr>\n      <th>4</th>\n      <td>How do I read and find my YouTube comments?</td>\n      <td>23</td>\n      <td>[24]</td>\n      <td>1</td>\n    </tr>\n  </tbody>\n</table>\n</div>"
     },
     "execution_count": 73,
     "metadata": {},
     "output_type": "execute_result"
    }
   ],
   "source": [
    "df = pd.read_csv(\"./data/quora_dataset.csv\")\n",
    "df.head()"
   ],
   "metadata": {
    "collapsed": false,
    "ExecuteTime": {
     "end_time": "2024-03-20T07:13:23.329836Z",
     "start_time": "2024-03-20T07:13:23.303990Z"
    }
   },
   "id": "9ccf0e776a85e918",
   "execution_count": 73
  },
  {
   "cell_type": "code",
   "outputs": [
    {
     "name": "stdout",
     "output_type": "stream",
     "text": [
      "How can I be a good geologist?\n"
     ]
    }
   ],
   "source": [
    "text1 = df.loc[2,'text']\n",
    "print(text1)"
   ],
   "metadata": {
    "collapsed": false,
    "ExecuteTime": {
     "end_time": "2024-03-20T07:13:24.625216Z",
     "start_time": "2024-03-20T07:13:24.621702Z"
    }
   },
   "id": "e75c9419a9622082",
   "execution_count": 74
  },
  {
   "cell_type": "code",
   "outputs": [
    {
     "name": "stdout",
     "output_type": "stream",
     "text": [
      "What should I do to be a great geologist?\n"
     ]
    }
   ],
   "source": [
    "text2 = df.loc[3,'text']\n",
    "print(text2)"
   ],
   "metadata": {
    "collapsed": false,
    "ExecuteTime": {
     "end_time": "2024-03-20T07:13:25.279654Z",
     "start_time": "2024-03-20T07:13:25.276915Z"
    }
   },
   "id": "70f7b2e81b0f0bdd",
   "execution_count": 75
  },
  {
   "cell_type": "code",
   "outputs": [],
   "source": [
    "def create_embeddings(txt_list, provider='openai'):\n",
    "    if provider=='openai':\n",
    "        client = OpenAI()\n",
    "\n",
    "        response = client.embeddings.create(\n",
    "        input=txt_list,\n",
    "        model=\"text-embedding-3-small\")\n",
    "        responses = [r.embedding for r in response.data]\n",
    "\n",
    "        return responses\n",
    "    \n",
    "    elif provider=='cohere':\n",
    "        doc_embeds = co.embed(\n",
    "        txt_list,\n",
    "        input_type=\"search_document\",\n",
    "        model=\"embed-english-v3.0\")\n",
    "        return doc_embeds.embeddings\n",
    "    else:\n",
    "        assert False, \"Double check provider name\""
   ],
   "metadata": {
    "collapsed": false,
    "ExecuteTime": {
     "end_time": "2024-03-20T07:13:26.161294Z",
     "start_time": "2024-03-20T07:13:26.157665Z"
    }
   },
   "id": "5e849556428bd517",
   "execution_count": 76
  },
  {
   "cell_type": "code",
   "outputs": [],
   "source": [
    "emb1 = create_embeddings(df.loc[2, 'text'])\n",
    "emb2 = create_embeddings(df.loc[3, 'text'])"
   ],
   "metadata": {
    "collapsed": false,
    "ExecuteTime": {
     "end_time": "2024-03-20T07:13:27.854390Z",
     "start_time": "2024-03-20T07:13:27.174442Z"
    }
   },
   "id": "c21cce957f50f8f3",
   "execution_count": 77
  },
  {
   "cell_type": "code",
   "outputs": [],
   "source": [
    "from numpy.linalg import norm\n",
    "\n",
    "def cosine_similarity(vector_a, vector_b):\n",
    "    \"\"\"Calculate the cosine similarity between two vectors.\"\"\"\n",
    "    dot_product = np.dot(vector_a, vector_b)\n",
    "    norm_a = norm(vector_a)\n",
    "    norm_b = norm(vector_b)\n",
    "    similarity = dot_product / (norm_a * norm_b)\n",
    "    return similarity\n"
   ],
   "metadata": {
    "collapsed": false,
    "ExecuteTime": {
     "end_time": "2024-03-20T07:13:28.934370Z",
     "start_time": "2024-03-20T07:13:28.931196Z"
    }
   },
   "id": "46d680724b719181",
   "execution_count": 78
  },
  {
   "cell_type": "code",
   "outputs": [
    {
     "name": "stdout",
     "output_type": "stream",
     "text": [
      "Cosine 유사도 : 0.9153125306391902.\n",
      "사용된 문장 : \n",
      "How can I be a good geologist?\n",
      "What should I do to be a great geologist?\n"
     ]
    }
   ],
   "source": [
    "print(\"Cosine 유사도 : {}.\\n사용된 문장 : \\n{}\\n{}\".format(cosine_similarity(emb1[0], emb2[0]), text1, text2))"
   ],
   "metadata": {
    "collapsed": false,
    "ExecuteTime": {
     "end_time": "2024-03-20T07:13:30.004902Z",
     "start_time": "2024-03-20T07:13:30.000774Z"
    }
   },
   "id": "1ce8c292eb4aeb32",
   "execution_count": 79
  },
  {
   "cell_type": "code",
   "outputs": [
    {
     "name": "stdout",
     "output_type": "stream",
     "text": [
      "Cosine 유사도 : 0.1817481836952418.\n",
      "사용된 문장 : \n",
      "How can I be a good geologist?\n",
      "How do I read and find my YouTube comments?\n"
     ]
    }
   ],
   "source": [
    "text3 = df.loc[4, 'text']\n",
    "\n",
    "emb3 = create_embeddings(text3)\n",
    "print(\"Cosine 유사도 : {}.\\n사용된 문장 : \\n{}\\n{}\".format(cosine_similarity(emb1[0], emb3[0]), text1, text3))"
   ],
   "metadata": {
    "collapsed": false,
    "ExecuteTime": {
     "end_time": "2024-03-20T07:13:30.689786Z",
     "start_time": "2024-03-20T07:13:30.332341Z"
    }
   },
   "id": "6385db294a2ef8a6",
   "execution_count": 80
  },
  {
   "cell_type": "code",
   "outputs": [
    {
     "name": "stdout",
     "output_type": "stream",
     "text": [
      "Cosine 유사도 : 0.2795677393942889.\n",
      "사용된 문장 : \n",
      "How can I be a good geologist?\n",
      "What can make Physics easy to learn?\n"
     ]
    }
   ],
   "source": [
    "text4 = df.loc[6, 'text']\n",
    "\n",
    "emb3 = create_embeddings(text4)\n",
    "print(\"Cosine 유사도 : {}.\\n사용된 문장 : \\n{}\\n{}\".format(cosine_similarity(emb1[0], emb3[0]), text1, text4))"
   ],
   "metadata": {
    "collapsed": false,
    "ExecuteTime": {
     "end_time": "2024-03-20T07:13:31.161913Z",
     "start_time": "2024-03-20T07:13:30.807916Z"
    }
   },
   "id": "6e72b98d7bc3c585",
   "execution_count": 81
  },
  {
   "cell_type": "markdown",
   "source": [
    "### Embedding vector Dataset 생성"
   ],
   "metadata": {
    "collapsed": false
   },
   "id": "af5fc86b0375a624"
  },
  {
   "cell_type": "code",
   "outputs": [
    {
     "data": {
      "text/plain": "tokenizer_config.json:   0%|          | 0.00/314 [00:00<?, ?B/s]",
      "application/vnd.jupyter.widget-view+json": {
       "version_major": 2,
       "version_minor": 0,
       "model_id": "53c1e51cb994415a8a6c30c6ef06026a"
      }
     },
     "metadata": {},
     "output_type": "display_data"
    },
    {
     "data": {
      "text/plain": "vocab.txt:   0%|          | 0.00/232k [00:00<?, ?B/s]",
      "application/vnd.jupyter.widget-view+json": {
       "version_major": 2,
       "version_minor": 0,
       "model_id": "d0c510bc96a147b89606e52eb935ea8f"
      }
     },
     "metadata": {},
     "output_type": "display_data"
    },
    {
     "data": {
      "text/plain": "tokenizer.json:   0%|          | 0.00/711k [00:00<?, ?B/s]",
      "application/vnd.jupyter.widget-view+json": {
       "version_major": 2,
       "version_minor": 0,
       "model_id": "8cd8f098a8764214800d1d1b62efa9a1"
      }
     },
     "metadata": {},
     "output_type": "display_data"
    },
    {
     "data": {
      "text/plain": "special_tokens_map.json:   0%|          | 0.00/125 [00:00<?, ?B/s]",
      "application/vnd.jupyter.widget-view+json": {
       "version_major": 2,
       "version_minor": 0,
       "model_id": "e5dfedcaddd641a1bbb09c0823865855"
      }
     },
     "metadata": {},
     "output_type": "display_data"
    },
    {
     "data": {
      "text/plain": "config.json:   0%|          | 0.00/650 [00:00<?, ?B/s]",
      "application/vnd.jupyter.widget-view+json": {
       "version_major": 2,
       "version_minor": 0,
       "model_id": "39cdf237c18449dda0090667277d7f5f"
      }
     },
     "metadata": {},
     "output_type": "display_data"
    },
    {
     "data": {
      "text/plain": "model.safetensors:   0%|          | 0.00/438M [00:00<?, ?B/s]",
      "application/vnd.jupyter.widget-view+json": {
       "version_major": 2,
       "version_minor": 0,
       "model_id": "f948bebbd7844099942f61c93bf11396"
      }
     },
     "metadata": {},
     "output_type": "display_data"
    }
   ],
   "source": [
    "# openai_emb = create_embeddings(df.text.tolist(), provider='openai')\n",
    "# cohere_emb = create_embeddings(df.text.tolist(), 'cohere')\n",
    "\n",
    "# e5 embeddings\n",
    "# load gpu if possible\n",
    "device = \"cuda\" if torch.cuda.is_available() else \"cpu\"\n",
    "\n",
    "model_id = \"intfloat/e5-base-v2\"\n",
    "\n",
    "# init tokenizer and model\n",
    "tokenizer = AutoTokenizer.from_pretrained(model_id)\n",
    "model = AutoModel.from_pretrained(model_id).to(device)\n",
    "model.eval()\n",
    "\n",
    "\n",
    "def create_e5_emb(docs, model):\n",
    "    \"\"\"\n",
    "    e5 embedding 모델을 활용하여 임베딩 벡터 생성\n",
    "    \"\"\"\n",
    "    docs = [f\"query: {d}\" for d in docs]\n",
    "    # tokenize\n",
    "    tokens = tokenizer(\n",
    "        docs, padding=True, max_length=512, truncation=True, return_tensors=\"pt\"\n",
    "    ).to(device)\n",
    "    with torch.no_grad():\n",
    "        out = model(**tokens)\n",
    "        last_hidden = out.last_hidden_state.masked_fill(  # from last hidden state\n",
    "            ~tokens[\"attention_mask\"][..., None].bool(), 0.0\n",
    "        )\n",
    "        # average out embeddings per token (non-padding)\n",
    "        doc_embeds = last_hidden.sum(dim=1) / tokens[\"attention_mask\"].sum(dim=1)[..., None]\n",
    "    return doc_embeds.cpu().numpy()"
   ],
   "metadata": {
    "collapsed": false,
    "ExecuteTime": {
     "end_time": "2024-03-20T07:14:15.184915Z",
     "start_time": "2024-03-20T07:13:31.819064Z"
    }
   },
   "id": "53d9bb433de501ac",
   "execution_count": 82
  },
  {
   "cell_type": "code",
   "outputs": [],
   "source": [
    "# data = df.text.tolist()\n",
    "# batch_size = 128\n",
    "\n",
    "# for i in tqdm(range(0, len(data), batch_size)):\n",
    "#     i_end = min(len(data), i+batch_size)\n",
    "#     data_batch = data[i:i_end]\n",
    "#     # embed current batch\n",
    "#     embed_batch = create_e5_emb(data_batch)\n",
    "#     if i == 0:\n",
    "#         emb3 = embed_batch.copy()\n",
    "#     else:\n",
    "#         emb3 = np.concatenate([emb3, embed_batch.copy()])\n",
    "# emb3 = [list(e) for e in emb3]\n",
    "# df['e5_emb'] = emb3\n",
    "# df.to_csv(\"quora_dataset_emb.csv\", index=False)"
   ],
   "metadata": {
    "collapsed": false,
    "ExecuteTime": {
     "end_time": "2024-03-20T07:14:15.189097Z",
     "start_time": "2024-03-20T07:14:15.186528Z"
    }
   },
   "id": "ca9f4b1e5bc072fa",
   "execution_count": 83
  },
  {
   "cell_type": "code",
   "outputs": [],
   "source": [
    "df = pd.read_csv(\"./data/quora_dataset_emb.csv\")\n",
    "# str -> list 형태로 변환\n",
    "import json\n",
    "df['openai_emb'] = df['openai_emb'].apply(json.loads)\n",
    "df['cohere_emb'] = df['cohere_emb'].apply(json.loads)\n",
    "df['e5_emb'] = df['e5_emb'].apply(json.loads)\n",
    "df['duplicated_questions'] = df['duplicated_questions'].apply(json.loads)"
   ],
   "metadata": {
    "collapsed": false,
    "ExecuteTime": {
     "end_time": "2024-03-20T07:14:19.490802Z",
     "start_time": "2024-03-20T07:14:15.189833Z"
    }
   },
   "id": "6ebd4a499fd64053",
   "execution_count": 84
  },
  {
   "cell_type": "code",
   "outputs": [
    {
     "data": {
      "text/plain": "                                                text  id duplicated_questions  \\\n0  Astrology: I am a Capricorn Sun Cap moon and c...  11                 [12]   \n1  I'm a triple Capricorn (Sun, Moon and ascendan...  12                 [11]   \n2                     How can I be a good geologist?  15                 [16]   \n3          What should I do to be a great geologist?  16                 [15]   \n4        How do I read and find my YouTube comments?  23                 [24]   \n\n   length                                         openai_emb  \\\n0       1  [-0.005765771958976984, -0.018585262820124626,...   \n1       1  [0.026014558970928192, -0.014319832436740398, ...   \n2       1  [0.005276682320982218, 0.004194203298538923, 0...   \n3       1  [0.015116829425096512, 0.0010464431252330542, ...   \n4       1  [0.03505030274391174, -0.0010134828044101596, ...   \n\n                                          cohere_emb  \\\n0  [-0.05834961, -0.010795593, -0.04522705, 0.035...   \n1  [-0.022338867, -0.0063285828, -0.057128906, 0....   \n2  [-0.012535095, 0.005092621, -0.033233643, -0.0...   \n3  [-0.013465881, 0.0018148422, -0.052612305, 0.0...   \n4  [-0.0047836304, 0.028137207, -0.037231445, -0....   \n\n                                              e5_emb  \n0  [0.059878636, -0.15769655, -0.14131568, -0.546...  \n1  [0.08937627, -0.2954505, -0.33455396, -0.32940...  \n2  [0.0825816, -0.09264662, -0.78053623, -0.32416...  \n3  [-0.1653303, 0.19044468, -0.8906647, -0.364357...  \n4  [0.50644577, -0.62657785, -0.2523397, -0.17112...  ",
      "text/html": "<div>\n<style scoped>\n    .dataframe tbody tr th:only-of-type {\n        vertical-align: middle;\n    }\n\n    .dataframe tbody tr th {\n        vertical-align: top;\n    }\n\n    .dataframe thead th {\n        text-align: right;\n    }\n</style>\n<table border=\"1\" class=\"dataframe\">\n  <thead>\n    <tr style=\"text-align: right;\">\n      <th></th>\n      <th>text</th>\n      <th>id</th>\n      <th>duplicated_questions</th>\n      <th>length</th>\n      <th>openai_emb</th>\n      <th>cohere_emb</th>\n      <th>e5_emb</th>\n    </tr>\n  </thead>\n  <tbody>\n    <tr>\n      <th>0</th>\n      <td>Astrology: I am a Capricorn Sun Cap moon and c...</td>\n      <td>11</td>\n      <td>[12]</td>\n      <td>1</td>\n      <td>[-0.005765771958976984, -0.018585262820124626,...</td>\n      <td>[-0.05834961, -0.010795593, -0.04522705, 0.035...</td>\n      <td>[0.059878636, -0.15769655, -0.14131568, -0.546...</td>\n    </tr>\n    <tr>\n      <th>1</th>\n      <td>I'm a triple Capricorn (Sun, Moon and ascendan...</td>\n      <td>12</td>\n      <td>[11]</td>\n      <td>1</td>\n      <td>[0.026014558970928192, -0.014319832436740398, ...</td>\n      <td>[-0.022338867, -0.0063285828, -0.057128906, 0....</td>\n      <td>[0.08937627, -0.2954505, -0.33455396, -0.32940...</td>\n    </tr>\n    <tr>\n      <th>2</th>\n      <td>How can I be a good geologist?</td>\n      <td>15</td>\n      <td>[16]</td>\n      <td>1</td>\n      <td>[0.005276682320982218, 0.004194203298538923, 0...</td>\n      <td>[-0.012535095, 0.005092621, -0.033233643, -0.0...</td>\n      <td>[0.0825816, -0.09264662, -0.78053623, -0.32416...</td>\n    </tr>\n    <tr>\n      <th>3</th>\n      <td>What should I do to be a great geologist?</td>\n      <td>16</td>\n      <td>[15]</td>\n      <td>1</td>\n      <td>[0.015116829425096512, 0.0010464431252330542, ...</td>\n      <td>[-0.013465881, 0.0018148422, -0.052612305, 0.0...</td>\n      <td>[-0.1653303, 0.19044468, -0.8906647, -0.364357...</td>\n    </tr>\n    <tr>\n      <th>4</th>\n      <td>How do I read and find my YouTube comments?</td>\n      <td>23</td>\n      <td>[24]</td>\n      <td>1</td>\n      <td>[0.03505030274391174, -0.0010134828044101596, ...</td>\n      <td>[-0.0047836304, 0.028137207, -0.037231445, -0....</td>\n      <td>[0.50644577, -0.62657785, -0.2523397, -0.17112...</td>\n    </tr>\n  </tbody>\n</table>\n</div>"
     },
     "execution_count": 85,
     "metadata": {},
     "output_type": "execute_result"
    }
   ],
   "source": [
    "df.head()"
   ],
   "metadata": {
    "collapsed": false,
    "ExecuteTime": {
     "end_time": "2024-03-20T07:14:19.503855Z",
     "start_time": "2024-03-20T07:14:19.492310Z"
    }
   },
   "id": "a09ec6b518edb447",
   "execution_count": 85
  },
  {
   "cell_type": "markdown",
   "source": [
    "### Test set 선별"
   ],
   "metadata": {
    "collapsed": false
   },
   "id": "125974a14ab825d7"
  },
  {
   "cell_type": "code",
   "outputs": [],
   "source": [
    "# now choose random 1000 rows of answers\n",
    "test_query = random.choices(df.id, k=1000)"
   ],
   "metadata": {
    "collapsed": false,
    "ExecuteTime": {
     "end_time": "2024-03-20T07:14:19.514462Z",
     "start_time": "2024-03-20T07:14:19.511624Z"
    }
   },
   "id": "c1c09db935ffdd01",
   "execution_count": 86
  },
  {
   "cell_type": "code",
   "outputs": [
    {
     "data": {
      "text/plain": "[2408, 8192, 2323, 12111, 9335]"
     },
     "execution_count": 87,
     "metadata": {},
     "output_type": "execute_result"
    }
   ],
   "source": [
    "test_query[:5]"
   ],
   "metadata": {
    "collapsed": false,
    "ExecuteTime": {
     "end_time": "2024-03-20T07:14:19.517456Z",
     "start_time": "2024-03-20T07:14:19.515257Z"
    }
   },
   "id": "36f477a719da01e2",
   "execution_count": 87
  },
  {
   "cell_type": "code",
   "outputs": [
    {
     "data": {
      "text/plain": "                                                   text     id  \\\n0     Astrology: I am a Capricorn Sun Cap moon and c...     11   \n5                How can I see all my Youtube comments?     24   \n10    What would a Trump presidency mean for current...     31   \n14    Why are so many Quora users posting questions ...     37   \n15    Why do people ask Quora questions which can be...     38   \n...                                                 ...    ...   \n5507       How do I repair a cracked Apple iPad screen?  14932   \n5513    What are the best 10 books on human psychology?  14956   \n5520  What are the consequences for a dog that ate a...  14964   \n5526  Why were the polls so inaccurate in the 2016 e...  14977   \n5527  What are some good recipes for drinking Southe...  14980   \n\n                                   duplicated_questions  length  \\\n0                                                  [12]       1   \n5                                                  [23]       1   \n10                       [6937, 12544, 11435, 32, 1101]       5   \n14                  [12639, 1358, 4951, 1357, 6551, 38]       6   \n15    [4950, 4407, 4408, 6552, 6551, 12638, 5041, 12...      14   \n...                                                 ...     ...   \n5507                                            [14933]       1   \n5513                                            [14957]       1   \n5520                                            [14965]       1   \n5526                                     [10435, 14976]       2   \n5527                                            [14981]       1   \n\n                                             openai_emb  \\\n0     [-0.005765771958976984, -0.018585262820124626,...   \n5     [0.03636268153786659, -0.012933776713907719, -...   \n10    [-0.013222329318523407, 0.02965708076953888, 0...   \n14    [0.01824173703789711, -0.004906218498945236, -...   \n15    [0.02489926852285862, 0.0011929606553167105, 0...   \n...                                                 ...   \n5507  [-0.02857847511768341, 0.022044092416763306, -...   \n5513  [-0.014451244845986366, 0.04510343819856644, 0...   \n5520  [0.011731699109077454, -0.0027778330259025097,...   \n5526  [-0.00614636717364192, 0.025594908744096756, 0...   \n5527  [0.040804892778396606, -0.05292919650673866, -...   \n\n                                             cohere_emb  \\\n0     [-0.05834961, -0.010795593, -0.04522705, 0.035...   \n5     [0.03540039, 0.00944519, -0.018493652, -0.0660...   \n10    [0.012786865, 0.007156372, -0.008010864, -0.00...   \n14    [0.019226074, 0.01802063, -0.015594482, 0.0082...   \n15    [-0.002243042, 0.011894226, -0.027938843, 0.00...   \n...                                                 ...   \n5507  [-0.025787354, 0.006336212, -0.026367188, 0.00...   \n5513  [-0.002462387, 0.016586304, -0.0053596497, 0.0...   \n5520  [0.0046577454, 0.0027656555, -0.023910522, 0.0...   \n5526  [0.045928955, 0.007270813, 0.03881836, 0.04837...   \n5527  [0.0002439022, 0.025939941, -0.012428284, 0.00...   \n\n                                                 e5_emb  \n0     [0.059878636, -0.15769655, -0.14131568, -0.546...  \n5     [0.51798314, -0.856419, -0.02671636, -0.262854...  \n10    [-0.19193286, 0.0355199, -0.3380041, 0.4697569...  \n14    [0.2927003, -0.54217947, -0.23348098, 0.230665...  \n15    [0.3183511, -0.48502415, -0.42100692, 0.181978...  \n...                                                 ...  \n5507  [-0.78678465, -0.084891155, -0.7357442, 0.1926...  \n5513  [-0.01930344, -0.3888001, -1.0665482, -0.23144...  \n5520  [-0.060623508, -0.44962543, -1.0839481, 0.2325...  \n5526  [-0.229896, -0.63861954, -0.67509526, 0.541378...  \n5527  [-0.50731575, -0.52914214, -0.805274, -0.23682...  \n\n[932 rows x 7 columns]",
      "text/html": "<div>\n<style scoped>\n    .dataframe tbody tr th:only-of-type {\n        vertical-align: middle;\n    }\n\n    .dataframe tbody tr th {\n        vertical-align: top;\n    }\n\n    .dataframe thead th {\n        text-align: right;\n    }\n</style>\n<table border=\"1\" class=\"dataframe\">\n  <thead>\n    <tr style=\"text-align: right;\">\n      <th></th>\n      <th>text</th>\n      <th>id</th>\n      <th>duplicated_questions</th>\n      <th>length</th>\n      <th>openai_emb</th>\n      <th>cohere_emb</th>\n      <th>e5_emb</th>\n    </tr>\n  </thead>\n  <tbody>\n    <tr>\n      <th>0</th>\n      <td>Astrology: I am a Capricorn Sun Cap moon and c...</td>\n      <td>11</td>\n      <td>[12]</td>\n      <td>1</td>\n      <td>[-0.005765771958976984, -0.018585262820124626,...</td>\n      <td>[-0.05834961, -0.010795593, -0.04522705, 0.035...</td>\n      <td>[0.059878636, -0.15769655, -0.14131568, -0.546...</td>\n    </tr>\n    <tr>\n      <th>5</th>\n      <td>How can I see all my Youtube comments?</td>\n      <td>24</td>\n      <td>[23]</td>\n      <td>1</td>\n      <td>[0.03636268153786659, -0.012933776713907719, -...</td>\n      <td>[0.03540039, 0.00944519, -0.018493652, -0.0660...</td>\n      <td>[0.51798314, -0.856419, -0.02671636, -0.262854...</td>\n    </tr>\n    <tr>\n      <th>10</th>\n      <td>What would a Trump presidency mean for current...</td>\n      <td>31</td>\n      <td>[6937, 12544, 11435, 32, 1101]</td>\n      <td>5</td>\n      <td>[-0.013222329318523407, 0.02965708076953888, 0...</td>\n      <td>[0.012786865, 0.007156372, -0.008010864, -0.00...</td>\n      <td>[-0.19193286, 0.0355199, -0.3380041, 0.4697569...</td>\n    </tr>\n    <tr>\n      <th>14</th>\n      <td>Why are so many Quora users posting questions ...</td>\n      <td>37</td>\n      <td>[12639, 1358, 4951, 1357, 6551, 38]</td>\n      <td>6</td>\n      <td>[0.01824173703789711, -0.004906218498945236, -...</td>\n      <td>[0.019226074, 0.01802063, -0.015594482, 0.0082...</td>\n      <td>[0.2927003, -0.54217947, -0.23348098, 0.230665...</td>\n    </tr>\n    <tr>\n      <th>15</th>\n      <td>Why do people ask Quora questions which can be...</td>\n      <td>38</td>\n      <td>[4950, 4407, 4408, 6552, 6551, 12638, 5041, 12...</td>\n      <td>14</td>\n      <td>[0.02489926852285862, 0.0011929606553167105, 0...</td>\n      <td>[-0.002243042, 0.011894226, -0.027938843, 0.00...</td>\n      <td>[0.3183511, -0.48502415, -0.42100692, 0.181978...</td>\n    </tr>\n    <tr>\n      <th>...</th>\n      <td>...</td>\n      <td>...</td>\n      <td>...</td>\n      <td>...</td>\n      <td>...</td>\n      <td>...</td>\n      <td>...</td>\n    </tr>\n    <tr>\n      <th>5507</th>\n      <td>How do I repair a cracked Apple iPad screen?</td>\n      <td>14932</td>\n      <td>[14933]</td>\n      <td>1</td>\n      <td>[-0.02857847511768341, 0.022044092416763306, -...</td>\n      <td>[-0.025787354, 0.006336212, -0.026367188, 0.00...</td>\n      <td>[-0.78678465, -0.084891155, -0.7357442, 0.1926...</td>\n    </tr>\n    <tr>\n      <th>5513</th>\n      <td>What are the best 10 books on human psychology?</td>\n      <td>14956</td>\n      <td>[14957]</td>\n      <td>1</td>\n      <td>[-0.014451244845986366, 0.04510343819856644, 0...</td>\n      <td>[-0.002462387, 0.016586304, -0.0053596497, 0.0...</td>\n      <td>[-0.01930344, -0.3888001, -1.0665482, -0.23144...</td>\n    </tr>\n    <tr>\n      <th>5520</th>\n      <td>What are the consequences for a dog that ate a...</td>\n      <td>14964</td>\n      <td>[14965]</td>\n      <td>1</td>\n      <td>[0.011731699109077454, -0.0027778330259025097,...</td>\n      <td>[0.0046577454, 0.0027656555, -0.023910522, 0.0...</td>\n      <td>[-0.060623508, -0.44962543, -1.0839481, 0.2325...</td>\n    </tr>\n    <tr>\n      <th>5526</th>\n      <td>Why were the polls so inaccurate in the 2016 e...</td>\n      <td>14977</td>\n      <td>[10435, 14976]</td>\n      <td>2</td>\n      <td>[-0.00614636717364192, 0.025594908744096756, 0...</td>\n      <td>[0.045928955, 0.007270813, 0.03881836, 0.04837...</td>\n      <td>[-0.229896, -0.63861954, -0.67509526, 0.541378...</td>\n    </tr>\n    <tr>\n      <th>5527</th>\n      <td>What are some good recipes for drinking Southe...</td>\n      <td>14980</td>\n      <td>[14981]</td>\n      <td>1</td>\n      <td>[0.040804892778396606, -0.05292919650673866, -...</td>\n      <td>[0.0002439022, 0.025939941, -0.012428284, 0.00...</td>\n      <td>[-0.50731575, -0.52914214, -0.805274, -0.23682...</td>\n    </tr>\n  </tbody>\n</table>\n<p>932 rows × 7 columns</p>\n</div>"
     },
     "execution_count": 88,
     "metadata": {},
     "output_type": "execute_result"
    }
   ],
   "source": [
    "test = df.loc[df.id.isin(test_query)]\n",
    "test"
   ],
   "metadata": {
    "collapsed": false,
    "ExecuteTime": {
     "end_time": "2024-03-20T07:14:19.531469Z",
     "start_time": "2024-03-20T07:14:19.518165Z"
    }
   },
   "id": "b55a443efdcc1de9",
   "execution_count": 88
  },
  {
   "cell_type": "code",
   "outputs": [],
   "source": [
    "from sklearn.metrics.pairwise import cosine_similarity\n",
    "\n",
    "def search_top_k(search_df, search_df_column, id, topk):\n",
    "    \"\"\"\n",
    "    search_df : search를 할 대상 dataframe\n",
    "    search_df_column : search를 위해 사용될 embedding column name\n",
    "    id : test query id\n",
    "    topk : 유사도 기반으로 top-k개 선별\n",
    "    \"\"\"\n",
    "    query = search_df.loc[search_df['id']==id, search_df_column].values[0]\n",
    "    query_reshaped = np.array(query).reshape(1, -1)\n",
    "    \n",
    "    search_df = search_df.loc[search_df['id']!=id]\n",
    "    # cosine similarity in batch\n",
    "    similarities = cosine_similarity(query_reshaped, np.vstack(search_df[search_df_column].values)).flatten()\n",
    "    \n",
    "    search_df['similarity'] = similarities\n",
    "    \n",
    "    # Get top-k indices\n",
    "    # hence we sort the topk indices again to ensure they are truly the top-k\n",
    "    topk_indices = np.argpartition(similarities, -topk)[-topk:]\n",
    "    topk_indices_sorted = topk_indices[np.argsort(-similarities[topk_indices])]\n",
    "    \n",
    "    # Retrieve the top-k results\n",
    "    search_result = search_df.iloc[topk_indices_sorted]\n",
    "    \n",
    "    return search_result\n"
   ],
   "metadata": {
    "collapsed": false,
    "ExecuteTime": {
     "end_time": "2024-03-20T07:14:19.535149Z",
     "start_time": "2024-03-20T07:14:19.532163Z"
    }
   },
   "id": "41dcee4e4b6fb897",
   "execution_count": 89
  },
  {
   "cell_type": "markdown",
   "source": [
    "- 각 테스트 질문당 데이터 전체를 대상으로 cosine_similarity를 계산하고\n",
    "- openai embedding, cohere embedding에 대해 각각 질문 k 개씩 진행\n",
    "- search_result format :\n",
    "```json\n",
    "{\n",
    "    'question id' : cosine_sim 기준 유사한 질문 top-k개를 담은 pd.DataFrame,\n",
    "    'question id' : ...\n",
    "}\n",
    "```"
   ],
   "metadata": {
    "collapsed": false
   },
   "id": "d60f4e7e634ee7e5"
  },
  {
   "cell_type": "code",
   "outputs": [],
   "source": [
    "# 각 질문들 중, test 질문과 동일한 질문이 가장 유사하게 도출될 것이기 때문에\n",
    "# test 질문을 제외한 top-5\n",
    "query_results_openai = { k:search_top_k(df, 'openai_emb', k, 5) for k in test.id }\n",
    "query_results_cohere = { k:search_top_k(df, 'cohere_emb', k, 5) for k in test.id }\n",
    "query_results_e5 = { k:search_top_k(df, 'e5_emb', k, 5) for k in test.id }"
   ],
   "metadata": {
    "collapsed": false,
    "ExecuteTime": {
     "end_time": "2024-03-20T07:25:08.633363Z",
     "start_time": "2024-03-20T07:14:19.535752Z"
    }
   },
   "id": "42df1da449ff02b4",
   "execution_count": 90
  },
  {
   "cell_type": "code",
   "outputs": [
    {
     "data": {
      "text/plain": "                                                   text     id  \\\n4920                How do you disable a Yahoo account?  13133   \n4961          Who won the 2nd U.S. Presidential Debate?  13252   \n5100                             Does semen taste good?  13681   \n5274  What same food should I eat every day to prote...  14182   \n5463  Why MS Dhoni left captaincy though he was a su...  14806   \n\n       duplicated_questions  length  \\\n4920     [5914, 4139, 3297]       3   \n4961    [10965, 6676, 6675]       3   \n5100    [4395, 4396, 13680]       3   \n5274     [6194, 854, 14183]       3   \n5463  [12516, 14807, 12515]       3   \n\n                                             openai_emb  \\\n4920  [0.05142635107040405, 0.011298739351332188, 0....   \n4961  [0.019203325733542442, -0.03866427019238472, -...   \n5100  [-0.004688047803938389, 0.0003611133142840117,...   \n5274  [-0.004403913859277964, -0.04025837033987045, ...   \n5463  [0.05268150195479393, 0.015848418697714806, 0....   \n\n                                             cohere_emb  \\\n4920  [0.059295654, 0.03527832, 0.015151978, -0.0056...   \n4961  [0.017166138, -0.0041885376, -0.005996704, 0.0...   \n5100  [0.022918701, 0.032470703, -0.008583069, -0.00...   \n5274  [0.023086548, 0.03036499, -0.08929443, -0.0823...   \n5463  [-0.015716553, 0.005004883, -0.036834717, 0.00...   \n\n                                                 e5_emb  \n4920  [-0.4747715, -0.028856754, -0.41105205, -0.582...  \n4961  [-0.64972717, -0.74344456, -0.7384698, 0.34086...  \n5100  [0.15672438, -0.20730066, -0.6771037, -0.06450...  \n5274  [0.18870209, -0.3007043, -0.9383021, -0.120102...  \n5463  [-0.7862142, -0.78122103, -0.85379386, 0.05855...  ",
      "text/html": "<div>\n<style scoped>\n    .dataframe tbody tr th:only-of-type {\n        vertical-align: middle;\n    }\n\n    .dataframe tbody tr th {\n        vertical-align: top;\n    }\n\n    .dataframe thead th {\n        text-align: right;\n    }\n</style>\n<table border=\"1\" class=\"dataframe\">\n  <thead>\n    <tr style=\"text-align: right;\">\n      <th></th>\n      <th>text</th>\n      <th>id</th>\n      <th>duplicated_questions</th>\n      <th>length</th>\n      <th>openai_emb</th>\n      <th>cohere_emb</th>\n      <th>e5_emb</th>\n    </tr>\n  </thead>\n  <tbody>\n    <tr>\n      <th>4920</th>\n      <td>How do you disable a Yahoo account?</td>\n      <td>13133</td>\n      <td>[5914, 4139, 3297]</td>\n      <td>3</td>\n      <td>[0.05142635107040405, 0.011298739351332188, 0....</td>\n      <td>[0.059295654, 0.03527832, 0.015151978, -0.0056...</td>\n      <td>[-0.4747715, -0.028856754, -0.41105205, -0.582...</td>\n    </tr>\n    <tr>\n      <th>4961</th>\n      <td>Who won the 2nd U.S. Presidential Debate?</td>\n      <td>13252</td>\n      <td>[10965, 6676, 6675]</td>\n      <td>3</td>\n      <td>[0.019203325733542442, -0.03866427019238472, -...</td>\n      <td>[0.017166138, -0.0041885376, -0.005996704, 0.0...</td>\n      <td>[-0.64972717, -0.74344456, -0.7384698, 0.34086...</td>\n    </tr>\n    <tr>\n      <th>5100</th>\n      <td>Does semen taste good?</td>\n      <td>13681</td>\n      <td>[4395, 4396, 13680]</td>\n      <td>3</td>\n      <td>[-0.004688047803938389, 0.0003611133142840117,...</td>\n      <td>[0.022918701, 0.032470703, -0.008583069, -0.00...</td>\n      <td>[0.15672438, -0.20730066, -0.6771037, -0.06450...</td>\n    </tr>\n    <tr>\n      <th>5274</th>\n      <td>What same food should I eat every day to prote...</td>\n      <td>14182</td>\n      <td>[6194, 854, 14183]</td>\n      <td>3</td>\n      <td>[-0.004403913859277964, -0.04025837033987045, ...</td>\n      <td>[0.023086548, 0.03036499, -0.08929443, -0.0823...</td>\n      <td>[0.18870209, -0.3007043, -0.9383021, -0.120102...</td>\n    </tr>\n    <tr>\n      <th>5463</th>\n      <td>Why MS Dhoni left captaincy though he was a su...</td>\n      <td>14806</td>\n      <td>[12516, 14807, 12515]</td>\n      <td>3</td>\n      <td>[0.05268150195479393, 0.015848418697714806, 0....</td>\n      <td>[-0.015716553, 0.005004883, -0.036834717, 0.00...</td>\n      <td>[-0.7862142, -0.78122103, -0.85379386, 0.05855...</td>\n    </tr>\n  </tbody>\n</table>\n</div>"
     },
     "execution_count": 91,
     "metadata": {},
     "output_type": "execute_result"
    }
   ],
   "source": [
    "test.loc[test.length==3].tail()"
   ],
   "metadata": {
    "collapsed": false,
    "ExecuteTime": {
     "end_time": "2024-03-20T07:25:48.264452Z",
     "start_time": "2024-03-20T07:25:48.236229Z"
    }
   },
   "id": "85965acef7b58147",
   "execution_count": 91
  },
  {
   "cell_type": "code",
   "outputs": [
    {
     "data": {
      "text/plain": "                                                   text    id  \\\n2257        How can you delete your Yahoo mail account?  5914   \n1562       How can can I delete my yahoo email account?  4139   \n1232  What are some ways to delete my Yahoo Mail acc...  3297   \n1233  What are some ways to delete my Yahoo Mail acc...  3298   \n1563             How can you delete your Yahoo Mail ID?  4140   \n\n                 duplicated_questions  length  \\\n2257  [4140, 4139, 3297, 3298, 13133]       5   \n1562  [3298, 4140, 3297, 13133, 5914]       5   \n1232  [4140, 13133, 3298, 4139, 5914]       5   \n1233         [4139, 3297, 4140, 5914]       4   \n1563         [3298, 5914, 4139, 3297]       4   \n\n                                             openai_emb  \\\n2257  [0.04474090412259102, 0.010254010558128357, 0....   \n1562  [0.040250178426504135, 0.00830832589417696, 0....   \n1232  [0.04302453249692917, -0.01035858690738678, 0....   \n1233  [0.042433131486177444, -0.0011997126275673509,...   \n1563  [0.0572517067193985, -0.01654321514070034, 0.0...   \n\n                                             cohere_emb  \\\n2257  [-0.011230469, 0.036224365, -0.023910522, 0.02...   \n1562  [-0.0085372925, 0.040893555, -0.024917603, 0.0...   \n1232  [-0.0045928955, 0.030288696, -0.0135269165, 0....   \n1233  [0.00422287, 0.04473877, -0.021118164, 0.01844...   \n1563  [-0.015411377, 0.035339355, -0.027999878, 0.02...   \n\n                                                 e5_emb  similarity  \n2257  [-0.42633027, -0.02495384, -0.13672635, -0.310...    0.814143  \n1562  [-0.32373163, -0.17512423, -0.11643425, -0.490...    0.806792  \n1232  [-0.46334347, 0.06597824, -0.14693257, -0.0914...    0.793739  \n1233  [-0.43668953, -0.0137787815, -0.19602334, -0.0...    0.770388  \n1563  [-0.5276045, -0.021487916, -0.39395866, -0.062...    0.737111  ",
      "text/html": "<div>\n<style scoped>\n    .dataframe tbody tr th:only-of-type {\n        vertical-align: middle;\n    }\n\n    .dataframe tbody tr th {\n        vertical-align: top;\n    }\n\n    .dataframe thead th {\n        text-align: right;\n    }\n</style>\n<table border=\"1\" class=\"dataframe\">\n  <thead>\n    <tr style=\"text-align: right;\">\n      <th></th>\n      <th>text</th>\n      <th>id</th>\n      <th>duplicated_questions</th>\n      <th>length</th>\n      <th>openai_emb</th>\n      <th>cohere_emb</th>\n      <th>e5_emb</th>\n      <th>similarity</th>\n    </tr>\n  </thead>\n  <tbody>\n    <tr>\n      <th>2257</th>\n      <td>How can you delete your Yahoo mail account?</td>\n      <td>5914</td>\n      <td>[4140, 4139, 3297, 3298, 13133]</td>\n      <td>5</td>\n      <td>[0.04474090412259102, 0.010254010558128357, 0....</td>\n      <td>[-0.011230469, 0.036224365, -0.023910522, 0.02...</td>\n      <td>[-0.42633027, -0.02495384, -0.13672635, -0.310...</td>\n      <td>0.814143</td>\n    </tr>\n    <tr>\n      <th>1562</th>\n      <td>How can can I delete my yahoo email account?</td>\n      <td>4139</td>\n      <td>[3298, 4140, 3297, 13133, 5914]</td>\n      <td>5</td>\n      <td>[0.040250178426504135, 0.00830832589417696, 0....</td>\n      <td>[-0.0085372925, 0.040893555, -0.024917603, 0.0...</td>\n      <td>[-0.32373163, -0.17512423, -0.11643425, -0.490...</td>\n      <td>0.806792</td>\n    </tr>\n    <tr>\n      <th>1232</th>\n      <td>What are some ways to delete my Yahoo Mail acc...</td>\n      <td>3297</td>\n      <td>[4140, 13133, 3298, 4139, 5914]</td>\n      <td>5</td>\n      <td>[0.04302453249692917, -0.01035858690738678, 0....</td>\n      <td>[-0.0045928955, 0.030288696, -0.0135269165, 0....</td>\n      <td>[-0.46334347, 0.06597824, -0.14693257, -0.0914...</td>\n      <td>0.793739</td>\n    </tr>\n    <tr>\n      <th>1233</th>\n      <td>What are some ways to delete my Yahoo Mail acc...</td>\n      <td>3298</td>\n      <td>[4139, 3297, 4140, 5914]</td>\n      <td>4</td>\n      <td>[0.042433131486177444, -0.0011997126275673509,...</td>\n      <td>[0.00422287, 0.04473877, -0.021118164, 0.01844...</td>\n      <td>[-0.43668953, -0.0137787815, -0.19602334, -0.0...</td>\n      <td>0.770388</td>\n    </tr>\n    <tr>\n      <th>1563</th>\n      <td>How can you delete your Yahoo Mail ID?</td>\n      <td>4140</td>\n      <td>[3298, 5914, 4139, 3297]</td>\n      <td>4</td>\n      <td>[0.0572517067193985, -0.01654321514070034, 0.0...</td>\n      <td>[-0.015411377, 0.035339355, -0.027999878, 0.02...</td>\n      <td>[-0.5276045, -0.021487916, -0.39395866, -0.062...</td>\n      <td>0.737111</td>\n    </tr>\n  </tbody>\n</table>\n</div>"
     },
     "execution_count": 92,
     "metadata": {},
     "output_type": "execute_result"
    }
   ],
   "source": [
    "query_results_openai[13133]"
   ],
   "metadata": {
    "collapsed": false,
    "ExecuteTime": {
     "end_time": "2024-03-20T07:26:55.427858Z",
     "start_time": "2024-03-20T07:26:55.412709Z"
    }
   },
   "id": "46af8ede65b51ae2",
   "execution_count": 92
  },
  {
   "cell_type": "code",
   "outputs": [],
   "source": [
    "def score_accuracy(full_df, tmp_df, test_id):\n",
    "    \"\"\"\n",
    "    각 테스트 질문과 유사하다고 판단된 질문들 중, 실제 duplicated_questions에 들어있는 질문들을 count\n",
    "    \"\"\"\n",
    "    duplicated_questions = full_df.loc[full_df['id'] == test_id, 'duplicated_questions'].values[0]\n",
    "\n",
    "    # 본인 ID는 제외\n",
    "    filtered_df = tmp_df[tmp_df['id'] != test_id]\n",
    "    # 현재 retrieve 해온 ID들이, 테스트 질문 내에 들어있는 아이디들인지 count\n",
    "    match_count = filtered_df['id'].isin(duplicated_questions).sum()\n",
    "\n",
    "    # Calculate the accuracy in terms of percentage\n",
    "    if filtered_df.shape[0]<len(duplicated_questions):\n",
    "        percentage = (match_count / filtered_df.shape[0])\n",
    "    else:\n",
    "        percentage = (match_count / len(duplicated_questions))\n",
    "    return percentage"
   ],
   "metadata": {
    "collapsed": false,
    "ExecuteTime": {
     "end_time": "2024-03-20T07:27:41.571418Z",
     "start_time": "2024-03-20T07:27:41.555862Z"
    }
   },
   "id": "335fbc0187080318",
   "execution_count": 93
  },
  {
   "cell_type": "code",
   "outputs": [],
   "source": [
    "accuracy_openai = [score_accuracy(df, query_results_openai[i], i) for i in query_results_openai.keys()]\n",
    "accuracy_cohere = [score_accuracy(df, query_results_cohere[i], i) for i in query_results_cohere.keys()]\n",
    "accuracy_e5 = [score_accuracy(df, query_results_e5[i], i) for i in query_results_e5.keys()]"
   ],
   "metadata": {
    "collapsed": false,
    "ExecuteTime": {
     "end_time": "2024-03-20T07:27:54.921531Z",
     "start_time": "2024-03-20T07:27:54.280959Z"
    }
   },
   "id": "72abdf959c4a4373",
   "execution_count": 94
  },
  {
   "cell_type": "code",
   "outputs": [
    {
     "data": {
      "text/plain": "0.9560979971387696"
     },
     "execution_count": 95,
     "metadata": {},
     "output_type": "execute_result"
    }
   ],
   "source": [
    "np.mean(accuracy_openai)"
   ],
   "metadata": {
    "collapsed": false,
    "ExecuteTime": {
     "end_time": "2024-03-20T07:28:00.170078Z",
     "start_time": "2024-03-20T07:28:00.166830Z"
    }
   },
   "id": "5bfc451479141d7",
   "execution_count": 95
  },
  {
   "cell_type": "code",
   "outputs": [
    {
     "data": {
      "text/plain": "0.9540951359084406"
     },
     "execution_count": 96,
     "metadata": {},
     "output_type": "execute_result"
    }
   ],
   "source": [
    "np.mean(accuracy_cohere)"
   ],
   "metadata": {
    "collapsed": false,
    "ExecuteTime": {
     "end_time": "2024-03-20T07:28:04.333568Z",
     "start_time": "2024-03-20T07:28:04.328659Z"
    }
   },
   "id": "7604c773b624a61c",
   "execution_count": 96
  },
  {
   "cell_type": "code",
   "outputs": [
    {
     "data": {
      "text/plain": "0.9488018597997139"
     },
     "execution_count": 97,
     "metadata": {},
     "output_type": "execute_result"
    }
   ],
   "source": [
    "np.mean(accuracy_e5)"
   ],
   "metadata": {
    "collapsed": false,
    "ExecuteTime": {
     "end_time": "2024-03-20T07:28:10.817364Z",
     "start_time": "2024-03-20T07:28:10.806059Z"
    }
   },
   "id": "dce3ad60c815ef1b",
   "execution_count": 97
  },
  {
   "cell_type": "code",
   "outputs": [],
   "source": [],
   "metadata": {
    "collapsed": false
   },
   "id": "e7f1371613e33ee9"
  }
 ],
 "metadata": {
  "kernelspec": {
   "display_name": "Python 3",
   "language": "python",
   "name": "python3"
  },
  "language_info": {
   "codemirror_mode": {
    "name": "ipython",
    "version": 2
   },
   "file_extension": ".py",
   "mimetype": "text/x-python",
   "name": "python",
   "nbconvert_exporter": "python",
   "pygments_lexer": "ipython2",
   "version": "2.7.6"
  }
 },
 "nbformat": 4,
 "nbformat_minor": 5
}
