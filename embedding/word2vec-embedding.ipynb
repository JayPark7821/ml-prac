{
 "cells": [
  {
   "cell_type": "code",
   "execution_count": 40,
   "id": "initial_id",
   "metadata": {
    "collapsed": true,
    "ExecuteTime": {
     "end_time": "2024-03-20T05:47:52.618872Z",
     "start_time": "2024-03-20T05:47:52.615803Z"
    }
   },
   "outputs": [],
   "source": [
    "from gensim.models import Word2Vec\n",
    "import re"
   ]
  },
  {
   "cell_type": "code",
   "outputs": [],
   "source": [
    "# 임의 문장 생성 feat GPT\n",
    "sentences = [\"Homer Simpson forgot his lunch at home, so he had to buy a burger on his way to work.\",\n",
    "    \"Marge was busy knitting a new sweater for Bart's upcoming school play.\",\n",
    "    \"Lisa Simpson played a beautiful saxophone solo at the school concert.\",\n",
    "    \"Mr. Burns secretly plotted another scheme from his office at the Springfield Nuclear Power Plant.\",\n",
    "    \"Ned Flanders offered to help Homer fix the fence between their houses.\",\n",
    "    \"Bart Simpson tried a new prank at school, but it didn't go as planned.\",\n",
    "    \"Milhouse and Bart spent the afternoon playing video games and forgot to do their homework.\",\n",
    "    \"Maggie Simpson's adorable giggle filled the room as she played with her toys.\",\n",
    "    \"Apu had a busy day at the Kwik-E-Mart, dealing with a rush of customers.\",\n",
    "    \"Krusty the Clown decided to change his show a bit to attract a new audience.\"]"
   ],
   "metadata": {
    "collapsed": false,
    "ExecuteTime": {
     "end_time": "2024-03-20T05:47:52.622158Z",
     "start_time": "2024-03-20T05:47:52.620150Z"
    }
   },
   "id": "c4a6e0722f576260",
   "execution_count": 41
  },
  {
   "cell_type": "code",
   "outputs": [],
   "source": [
    "# 전처리\n",
    "sentences = [re.sub(r\"[/;.]\",\"\" ,sentence).lower().split(\" \") for sentence in sentences]"
   ],
   "metadata": {
    "collapsed": false,
    "ExecuteTime": {
     "end_time": "2024-03-20T05:47:52.624867Z",
     "start_time": "2024-03-20T05:47:52.622786Z"
    }
   },
   "id": "c15fbd69abc64efb",
   "execution_count": 42
  },
  {
   "cell_type": "code",
   "outputs": [
    {
     "data": {
      "text/plain": "['homer',\n 'simpson',\n 'forgot',\n 'his',\n 'lunch',\n 'at',\n 'home,',\n 'so',\n 'he',\n 'had',\n 'to',\n 'buy',\n 'a',\n 'burger',\n 'on',\n 'his',\n 'way',\n 'to',\n 'work']"
     },
     "execution_count": 43,
     "metadata": {},
     "output_type": "execute_result"
    }
   ],
   "source": [
    "sentences[0]"
   ],
   "metadata": {
    "collapsed": false,
    "ExecuteTime": {
     "end_time": "2024-03-20T05:47:52.634167Z",
     "start_time": "2024-03-20T05:47:52.631693Z"
    }
   },
   "id": "106800f4e405d663",
   "execution_count": 43
  },
  {
   "cell_type": "code",
   "outputs": [],
   "source": [
    "# train word2vec model\n",
    "\n",
    "skip_gram = Word2Vec(sentences, vector_size=300, window=5, sg=1, min_count=1)"
   ],
   "metadata": {
    "collapsed": false,
    "ExecuteTime": {
     "end_time": "2024-03-20T05:47:52.641687Z",
     "start_time": "2024-03-20T05:47:52.635128Z"
    }
   },
   "id": "d9ee1e8cf826bff0",
   "execution_count": 44
  },
  {
   "cell_type": "code",
   "outputs": [
    {
     "name": "stdout",
     "output_type": "stream",
     "text": [
      "homer 의 vector representation : \n",
      "[ 4.37010603e-04  2.20553810e-03  3.31862061e-03  2.99401255e-03\n",
      " -2.65673967e-03  2.12347833e-03 -1.88211305e-03 -2.38198700e-04\n",
      "  1.61271979e-04  2.17785477e-03  1.51176867e-03  1.51511212e-03\n",
      "  3.16741085e-03  1.19458826e-04 -2.02419143e-03 -2.14576861e-03\n",
      "  2.20433832e-03 -1.76242844e-03 -9.45917913e-04  1.27933640e-03\n",
      " -7.24085956e-04 -2.00292631e-03 -7.57622067e-04  4.20411321e-04\n",
      "  7.65976263e-04  2.03796569e-03 -1.74286042e-03  1.02971040e-03\n",
      "  2.42782990e-03  6.99461787e-04  1.79673161e-03 -1.59968506e-03\n",
      "  2.05293740e-03 -2.52368348e-03  1.15334080e-03 -3.07910051e-03\n",
      " -8.48860247e-04 -3.05664004e-03 -5.17563312e-04 -1.79819262e-03\n",
      " -1.29387691e-03  3.84993793e-04  9.41949547e-04 -5.10141545e-04\n",
      " -2.67216726e-03 -1.91109558e-03  2.82451365e-04 -1.28447858e-03\n",
      " -3.15148057e-03 -2.41194459e-04  2.21195235e-03  1.98771991e-03\n",
      " -3.32846283e-03  1.07913720e-03 -2.04740674e-03 -3.04534333e-03\n",
      "  3.59066107e-05 -8.09029953e-05 -2.32922519e-03 -2.05692626e-03\n",
      " -7.90156191e-04  2.37957225e-03 -2.50858325e-03  2.55988655e-03\n",
      " -1.92209700e-04  3.93240305e-04  3.16382363e-03  1.59238279e-03\n",
      " -1.19915092e-03  1.21760287e-03  1.17926998e-03  2.14230805e-03\n",
      "  5.49038123e-05 -1.52889697e-03  4.15444636e-04 -1.79715722e-03\n",
      "  4.45348152e-04  1.62141887e-03  1.71401131e-03  3.14477016e-03\n",
      " -2.51799030e-03 -1.80495915e-03  2.15552049e-03  5.24292875e-04\n",
      " -2.21196678e-03  3.11181589e-04  8.56180035e-04 -8.14061437e-04\n",
      " -1.60714542e-03  1.65404240e-03  3.22698010e-03 -2.43260828e-03\n",
      " -1.41123464e-05 -8.48986383e-04 -2.10095802e-03 -4.24060680e-04\n",
      " -1.71406206e-03  2.96302070e-03 -1.91637373e-03  1.25413144e-03\n",
      " -8.53120873e-05  1.43190601e-03  7.36858812e-04  3.35229188e-03\n",
      "  2.31138518e-04 -1.85032631e-03 -3.60546197e-04  7.19272823e-04\n",
      " -1.21043390e-03 -2.62388121e-03 -1.88876875e-03 -2.29570456e-03\n",
      "  2.10758857e-03  1.29629730e-03  2.72668200e-03  2.18086527e-03\n",
      " -2.05220398e-03  8.96603917e-04  2.82477727e-03  4.81158611e-04\n",
      "  1.01462193e-03  1.96619332e-03 -2.91920383e-03  3.04471329e-03\n",
      "  2.25044042e-03  2.85486225e-03 -2.75746640e-03  2.05916795e-03\n",
      "  2.21789442e-03 -4.11300309e-04 -2.08916003e-03  1.78871932e-03\n",
      " -2.26671621e-03 -1.79305999e-03  1.18686096e-03  2.71356106e-03\n",
      "  2.88821012e-03 -1.48816570e-03 -3.06075695e-03  3.19966371e-03\n",
      "  2.12240429e-03 -1.35897927e-03 -2.83366558e-03 -1.55427202e-03\n",
      " -1.29089982e-03 -1.12447306e-03  2.39936853e-04 -1.00358353e-04\n",
      " -1.01068895e-03 -2.02430552e-03  3.15027707e-03 -1.60665950e-03\n",
      " -2.41029938e-03  2.55928235e-03  8.41094705e-04  2.90289638e-03\n",
      " -1.49630464e-03 -2.33314745e-03  2.97330902e-04 -3.33619595e-04\n",
      " -3.16244829e-03 -4.83762997e-04  9.99314478e-04  2.20195274e-03\n",
      "  2.20975722e-03  1.07747305e-03 -1.47389411e-03 -5.89542382e-04\n",
      " -1.34102418e-03  1.97134586e-03 -2.15359405e-03  6.78095268e-04\n",
      " -4.28841071e-04 -1.88420666e-03 -2.40584160e-03  1.96573790e-03\n",
      " -2.72256043e-03 -2.77450832e-04  9.70412162e-04  2.60400260e-03\n",
      " -2.43118522e-03  1.13769970e-03  3.24032642e-03 -2.35767639e-03\n",
      " -1.19700981e-03  1.72103883e-03  1.74662855e-03  5.98985353e-04\n",
      "  2.65802373e-03  2.20440081e-04  6.07861497e-04 -5.32006903e-04\n",
      " -2.74640881e-03  1.08814612e-03  6.60893798e-04 -2.93297484e-03\n",
      " -2.10926359e-04  5.38973268e-07  8.51341701e-06  2.87639187e-03\n",
      " -8.54649930e-04 -1.92703435e-03  2.49789027e-03 -2.42663082e-03\n",
      " -2.96505447e-03 -6.14679302e-04 -2.77197105e-03  1.26020328e-04\n",
      "  6.83249615e-04 -8.16493877e-04 -2.16249726e-03 -1.32521542e-04\n",
      " -3.80727375e-04  1.13684090e-03  2.77008396e-03  1.93520763e-03\n",
      "  2.76169134e-03 -3.03313299e-03  3.08308890e-03 -8.11251055e-04\n",
      "  2.88620801e-03  7.92611623e-04  1.17568520e-03 -3.21933744e-03\n",
      " -3.19298753e-03  2.99369474e-03 -9.25712346e-04  9.17033816e-04\n",
      "  2.14976422e-03 -1.10297573e-04  3.30706802e-03 -3.86615458e-04\n",
      " -3.23167536e-03 -2.32540444e-03 -4.23286576e-04 -2.91580474e-03\n",
      "  2.47476413e-03  1.17232872e-03 -2.93115573e-03  2.75707501e-03\n",
      "  2.98670121e-03  1.97454682e-03  2.29232782e-03 -3.16878036e-03\n",
      "  1.48383682e-04 -3.12747830e-03 -1.19563635e-03  8.13940860e-05\n",
      " -9.73012284e-05  4.75076115e-04  1.09570543e-03  7.02918565e-04\n",
      "  1.81569264e-03  2.51302728e-03 -2.01529032e-03  2.62918649e-03\n",
      "  2.01419368e-03  3.24605056e-03  1.50897540e-03 -1.13928749e-03\n",
      " -1.22578593e-03 -2.14336469e-04 -5.07781690e-04  3.24423681e-03\n",
      "  3.65630985e-04  1.34402886e-03  1.14110357e-03 -2.91236653e-03\n",
      "  2.17571901e-03  2.74588051e-03 -5.89468807e-04  7.88743957e-04\n",
      " -2.16690521e-03 -2.04179762e-03  2.76177400e-03 -9.74536117e-04\n",
      "  2.23370036e-03  5.53731166e-04 -6.86027575e-04  9.62047721e-04\n",
      " -1.35236920e-03 -5.95737481e-04  4.39579162e-04  1.61697413e-03\n",
      " -4.68493963e-04  2.77915300e-04 -2.70113838e-03  3.19685577e-03\n",
      " -2.89903302e-03  2.34584115e-03  1.29819068e-03 -2.30066734e-03\n",
      " -1.74027088e-03 -2.63246475e-03 -1.69761665e-03  2.40791449e-03\n",
      "  3.21328104e-03  7.05118407e-04  2.47462944e-04  3.13800247e-03]\n"
     ]
    }
   ],
   "source": [
    "print(\"{} 의 vector representation : \\n{}\".format('homer', skip_gram.wv.get_vector(skip_gram.wv.key_to_index['homer'])))"
   ],
   "metadata": {
    "collapsed": false,
    "ExecuteTime": {
     "end_time": "2024-03-20T05:47:52.645565Z",
     "start_time": "2024-03-20T05:47:52.642427Z"
    }
   },
   "id": "59113bec84f046d2",
   "execution_count": 45
  },
  {
   "cell_type": "code",
   "outputs": [
    {
     "data": {
      "text/plain": "[('video', 0.14035673439502716),\n ('his', 0.12365606427192688),\n ('adorable', 0.11183690279722214),\n ('burger', 0.10865366458892822),\n ('planned', 0.09786190837621689),\n ('she', 0.09258976578712463),\n ('do', 0.09069041907787323),\n ('as', 0.08781418949365616),\n ('concert', 0.08753110468387604),\n ('lisa', 0.08640197664499283)]"
     },
     "execution_count": 46,
     "metadata": {},
     "output_type": "execute_result"
    }
   ],
   "source": [
    "skip_gram.wv.most_similar(\"homer\")"
   ],
   "metadata": {
    "collapsed": false,
    "ExecuteTime": {
     "end_time": "2024-03-20T05:47:52.708561Z",
     "start_time": "2024-03-20T05:47:52.646670Z"
    }
   },
   "id": "790e960992f9e046",
   "execution_count": 46
  },
  {
   "cell_type": "code",
   "outputs": [],
   "source": [
    "homer_vector = skip_gram.wv.get_vector(skip_gram.wv.key_to_index['homer'])\n",
    "video_vector = skip_gram.wv.get_vector(skip_gram.wv.key_to_index['video'])"
   ],
   "metadata": {
    "collapsed": false,
    "ExecuteTime": {
     "end_time": "2024-03-20T05:49:45.248180Z",
     "start_time": "2024-03-20T05:49:45.242983Z"
    }
   },
   "id": "38633586a87fbd56",
   "execution_count": 47
  },
  {
   "cell_type": "code",
   "outputs": [],
   "source": [
    "# 유사도 계산\n",
    "\n",
    "import numpy as np\n",
    "from numpy.linalg import norm\n",
    "\n",
    "def cosine_similarity(vector_a: np.ndarray, vector_b: np.ndarray) -> float:\n",
    "    dot_product = np.dot(vector_a, vector_b)\n",
    "    norm_a = norm(vector_a)\n",
    "    norm_b = norm(vector_b)\n",
    "    return dot_product / (norm_a * norm_b)"
   ],
   "metadata": {
    "collapsed": false,
    "ExecuteTime": {
     "end_time": "2024-03-20T05:53:08.038935Z",
     "start_time": "2024-03-20T05:53:08.033936Z"
    }
   },
   "id": "cb06f72f53e9deda",
   "execution_count": 48
  },
  {
   "cell_type": "code",
   "outputs": [
    {
     "data": {
      "text/plain": "0.14035672"
     },
     "execution_count": 49,
     "metadata": {},
     "output_type": "execute_result"
    }
   ],
   "source": [
    "cosine_similarity(homer_vector, video_vector)"
   ],
   "metadata": {
    "collapsed": false,
    "ExecuteTime": {
     "end_time": "2024-03-20T05:53:13.331120Z",
     "start_time": "2024-03-20T05:53:13.327545Z"
    }
   },
   "id": "bd03dda7dcf28c1d",
   "execution_count": 49
  },
  {
   "cell_type": "markdown",
   "source": [
    "## Simpsons dataset을 활용한 word2vec 모델 학습"
   ],
   "metadata": {
    "collapsed": false
   },
   "id": "4ab8e11eb839c2ac"
  },
  {
   "cell_type": "code",
   "outputs": [
    {
     "name": "stderr",
     "output_type": "stream",
     "text": [
      "[nltk_data] Downloading package punkt to /Users/jaypark/nltk_data...\n",
      "[nltk_data]   Unzipping tokenizers/punkt.zip.\n",
      "[nltk_data] Downloading package stopwords to\n",
      "[nltk_data]     /Users/jaypark/nltk_data...\n",
      "[nltk_data]   Unzipping corpora/stopwords.zip.\n"
     ]
    },
    {
     "data": {
      "text/plain": "True"
     },
     "execution_count": 51,
     "metadata": {},
     "output_type": "execute_result"
    }
   ],
   "source": [
    "from typing import Optional\n",
    "import nltk\n",
    "import re\n",
    "import pandas as pd\n",
    "import spacy\n",
    "\n",
    "nltk.download('punkt')\n",
    "nltk.download('stopwords')"
   ],
   "metadata": {
    "collapsed": false,
    "ExecuteTime": {
     "end_time": "2024-03-20T05:56:40.765273Z",
     "start_time": "2024-03-20T05:56:22.361419Z"
    }
   },
   "id": "cdf80b85e64590eb",
   "execution_count": 51
  },
  {
   "cell_type": "code",
   "outputs": [
    {
     "data": {
      "text/plain": "(158314, 2)"
     },
     "execution_count": 53,
     "metadata": {},
     "output_type": "execute_result"
    }
   ],
   "source": [
    "df = pd.read_csv('./data/simpsons_dataset.csv')\n",
    "df.shape"
   ],
   "metadata": {
    "collapsed": false,
    "ExecuteTime": {
     "end_time": "2024-03-20T05:57:44.479179Z",
     "start_time": "2024-03-20T05:57:44.380214Z"
    }
   },
   "id": "69e37db13a053ec1",
   "execution_count": 53
  },
  {
   "cell_type": "code",
   "outputs": [
    {
     "data": {
      "text/plain": "        raw_character_text                                       spoken_words\n0              Miss Hoover  No, actually, it was a little of both. Sometim...\n1             Lisa Simpson                             Where's Mr. Bergstrom?\n2              Miss Hoover  I don't know. Although I'd sure like to talk t...\n3             Lisa Simpson                         That life is worth living.\n4  Edna Krabappel-Flanders  The polls will be open from now until the end ...",
      "text/html": "<div>\n<style scoped>\n    .dataframe tbody tr th:only-of-type {\n        vertical-align: middle;\n    }\n\n    .dataframe tbody tr th {\n        vertical-align: top;\n    }\n\n    .dataframe thead th {\n        text-align: right;\n    }\n</style>\n<table border=\"1\" class=\"dataframe\">\n  <thead>\n    <tr style=\"text-align: right;\">\n      <th></th>\n      <th>raw_character_text</th>\n      <th>spoken_words</th>\n    </tr>\n  </thead>\n  <tbody>\n    <tr>\n      <th>0</th>\n      <td>Miss Hoover</td>\n      <td>No, actually, it was a little of both. Sometim...</td>\n    </tr>\n    <tr>\n      <th>1</th>\n      <td>Lisa Simpson</td>\n      <td>Where's Mr. Bergstrom?</td>\n    </tr>\n    <tr>\n      <th>2</th>\n      <td>Miss Hoover</td>\n      <td>I don't know. Although I'd sure like to talk t...</td>\n    </tr>\n    <tr>\n      <th>3</th>\n      <td>Lisa Simpson</td>\n      <td>That life is worth living.</td>\n    </tr>\n    <tr>\n      <th>4</th>\n      <td>Edna Krabappel-Flanders</td>\n      <td>The polls will be open from now until the end ...</td>\n    </tr>\n  </tbody>\n</table>\n</div>"
     },
     "execution_count": 54,
     "metadata": {},
     "output_type": "execute_result"
    }
   ],
   "source": [
    "df.head()"
   ],
   "metadata": {
    "collapsed": false,
    "ExecuteTime": {
     "end_time": "2024-03-20T05:57:54.653069Z",
     "start_time": "2024-03-20T05:57:54.648120Z"
    }
   },
   "id": "c6992cc576c5162d",
   "execution_count": 54
  },
  {
   "cell_type": "code",
   "outputs": [
    {
     "data": {
      "text/plain": "raw_character_text    17814\nspoken_words          26459\ndtype: int64"
     },
     "execution_count": 55,
     "metadata": {},
     "output_type": "execute_result"
    }
   ],
   "source": [
    "df.isnull().sum()"
   ],
   "metadata": {
    "collapsed": false,
    "ExecuteTime": {
     "end_time": "2024-03-20T05:58:05.852835Z",
     "start_time": "2024-03-20T05:58:05.832500Z"
    }
   },
   "id": "684dda13153cc61",
   "execution_count": 55
  },
  {
   "cell_type": "code",
   "outputs": [],
   "source": [
    "# 전처리\n",
    "\n",
    "nlp = spacy.load('en_core_web_sm', disable=['parser', 'ner'])\n",
    "# 표제어 추출 (good, better, best -> good) \n",
    "\n",
    "\n",
    "def cleaning(doc):\n",
    "    txt = [token.lemma_ for token in doc if not token.is_stop]\n",
    "    if len(txt) > 2:\n",
    "        return ' '.join(txt)\n",
    "    \n",
    "    \n",
    "cleaner = (re.sub(r\"[^A-Za-z']+\", ' ', str(row)).lower() for row in df['spoken_words'])"
   ],
   "metadata": {
    "collapsed": false,
    "ExecuteTime": {
     "end_time": "2024-03-20T06:03:51.340424Z",
     "start_time": "2024-03-20T06:03:50.924528Z"
    }
   },
   "id": "a01fb9a584df1829",
   "execution_count": 57
  },
  {
   "cell_type": "code",
   "outputs": [],
   "source": [
    "txt = [cleaning(doc) for doc in nlp.pipe(cleaner, batch_size=5000)]"
   ],
   "metadata": {
    "collapsed": false,
    "ExecuteTime": {
     "end_time": "2024-03-20T06:06:19.543941Z",
     "start_time": "2024-03-20T06:04:25.613502Z"
    }
   },
   "id": "9e1caa300478b770",
   "execution_count": 58
  },
  {
   "cell_type": "code",
   "outputs": [
    {
     "data": {
      "text/plain": "'actually little disease magazine news show natural think'"
     },
     "execution_count": 59,
     "metadata": {},
     "output_type": "execute_result"
    }
   ],
   "source": [
    "txt[0]"
   ],
   "metadata": {
    "collapsed": false,
    "ExecuteTime": {
     "end_time": "2024-03-20T06:06:28.415856Z",
     "start_time": "2024-03-20T06:06:28.413429Z"
    }
   },
   "id": "46f6ab57bf22094f",
   "execution_count": 59
  },
  {
   "cell_type": "code",
   "outputs": [],
   "source": [
    "# No, actually, it was a little of both. Sometimes when a disease is in all the magazines and all the news shows, it's only natural that you think you have it."
   ],
   "metadata": {
    "collapsed": false,
    "ExecuteTime": {
     "end_time": "2024-03-20T06:06:47.710228Z",
     "start_time": "2024-03-20T06:06:47.705585Z"
    }
   },
   "id": "54d3d284eac8054f",
   "execution_count": 60
  },
  {
   "cell_type": "code",
   "outputs": [
    {
     "data": {
      "text/plain": "(85956, 1)"
     },
     "execution_count": 61,
     "metadata": {},
     "output_type": "execute_result"
    }
   ],
   "source": [
    "df_clean = pd.DataFrame({'clean': txt})\n",
    "df_clean = df_clean.dropna().drop_duplicates()\n",
    "df_clean.shape"
   ],
   "metadata": {
    "collapsed": false,
    "ExecuteTime": {
     "end_time": "2024-03-20T06:07:28.756559Z",
     "start_time": "2024-03-20T06:07:28.712665Z"
    }
   },
   "id": "9ad0940d4c2ecd3b",
   "execution_count": 61
  },
  {
   "cell_type": "code",
   "outputs": [
    {
     "data": {
      "text/plain": "85956"
     },
     "execution_count": 63,
     "metadata": {},
     "output_type": "execute_result"
    }
   ],
   "source": [
    "sentences = [s.split(' ') for s in df_clean['clean']]\n",
    "len(sentences)"
   ],
   "metadata": {
    "collapsed": false,
    "ExecuteTime": {
     "end_time": "2024-03-20T06:08:19.062811Z",
     "start_time": "2024-03-20T06:08:19.021976Z"
    }
   },
   "id": "269306233ff73dea",
   "execution_count": 63
  },
  {
   "cell_type": "code",
   "outputs": [
    {
     "data": {
      "text/plain": "['actually',\n 'little',\n 'disease',\n 'magazine',\n 'news',\n 'show',\n 'natural',\n 'think']"
     },
     "execution_count": 64,
     "metadata": {},
     "output_type": "execute_result"
    }
   ],
   "source": [
    "sentences[0]"
   ],
   "metadata": {
    "collapsed": false,
    "ExecuteTime": {
     "end_time": "2024-03-20T06:08:41.954350Z",
     "start_time": "2024-03-20T06:08:41.949675Z"
    }
   },
   "id": "1c2b4a2b2e826d7b",
   "execution_count": 64
  },
  {
   "cell_type": "code",
   "outputs": [],
   "source": [
    "# word2vec 모델 학습\n",
    "from gensim.models import Word2Vec"
   ],
   "metadata": {
    "collapsed": false,
    "ExecuteTime": {
     "end_time": "2024-03-20T06:08:59.407974Z",
     "start_time": "2024-03-20T06:08:59.403750Z"
    }
   },
   "id": "c72845ee1c2f688",
   "execution_count": 65
  },
  {
   "cell_type": "markdown",
   "source": [
    "### help(Word2Vec)\n",
    "- `window` : 문장 내에서 현재 단어와 예측 단어 사이의 최대 거리. ex) 타겟 단어의 왼쪽과 오른쪽 n번째 단어\n",
    "- `vector_size` : 단어 벡터의 차원 수\n",
    "- `min_count` : 이 값보다 총 절대 빈도수가 낮은 모든 단어를 무시함 - (2, 100)\n",
    "- `sg` : 1은 skip-gram, 0은 CBOW method를 사용"
   ],
   "metadata": {
    "collapsed": false
   },
   "id": "51a1eb3a8f3bcf98"
  },
  {
   "cell_type": "code",
   "outputs": [],
   "source": [
    "# 모델 정의 하기\n",
    "w2v_model = Word2Vec(min_count=20,\n",
    "                     window=2,\n",
    "                     vector_size=300,\n",
    "                     sample=6e-5, \n",
    "                     alpha=0.03, \n",
    "                     min_alpha=0.0007)"
   ],
   "metadata": {
    "collapsed": false,
    "ExecuteTime": {
     "end_time": "2024-03-20T06:10:55.184756Z",
     "start_time": "2024-03-20T06:10:55.178602Z"
    }
   },
   "id": "a96024c774fb504",
   "execution_count": 67
  },
  {
   "cell_type": "code",
   "outputs": [],
   "source": [
    "# 문장에 들어있는 각 단어들을 Word2Vec 모델이 인식할 수 있는 형태로 변환\n",
    "w2v_model.build_vocab(sentences)"
   ],
   "metadata": {
    "collapsed": false,
    "ExecuteTime": {
     "end_time": "2024-03-20T06:11:17.951566Z",
     "start_time": "2024-03-20T06:11:17.844702Z"
    }
   },
   "id": "920795dae7c4f2b",
   "execution_count": 68
  },
  {
   "cell_type": "code",
   "outputs": [
    {
     "data": {
      "text/plain": "(19987512, 54001900)"
     },
     "execution_count": 69,
     "metadata": {},
     "output_type": "execute_result"
    }
   ],
   "source": [
    "# 모델 훈련\n",
    "w2v_model.train(sentences, total_examples=w2v_model.corpus_count, epochs=100)"
   ],
   "metadata": {
    "collapsed": false,
    "ExecuteTime": {
     "end_time": "2024-03-20T06:11:38.451391Z",
     "start_time": "2024-03-20T06:11:25.332690Z"
    }
   },
   "id": "78bc166cf1a265dd",
   "execution_count": 69
  },
  {
   "cell_type": "markdown",
   "source": [
    "### dir(w2v_model.wv)\n",
    "- most_similar : 주어진 조건에 가장 적합한 단어 탐색\n",
    "- similarity : 주어진 단어들의 유사도 계산\n",
    "- doesnt_match : 주어진 단어들 중 가장 '덜 유사한' 단어"
   ],
   "metadata": {
    "collapsed": false
   },
   "id": "62f57cc9581fbefc"
  },
  {
   "cell_type": "code",
   "outputs": [
    {
     "data": {
      "text/plain": "[('marge', 0.42831405997276306),\n ('simpson', 0.3640384376049042),\n ('mr', 0.30622023344039917),\n ('dad', 0.2774527668952942),\n ('bart', 0.26508015394210815),\n ('right', 0.23841038346290588),\n ('barney', 0.2356049120426178),\n ('moe', 0.23117829859256744),\n ('son', 0.22991864383220673),\n ('lisa', 0.22671663761138916)]"
     },
     "execution_count": 71,
     "metadata": {},
     "output_type": "execute_result"
    }
   ],
   "source": [
    "w2v_model.wv.most_similar(positive=['homer'])"
   ],
   "metadata": {
    "collapsed": false,
    "ExecuteTime": {
     "end_time": "2024-03-20T06:13:27.214273Z",
     "start_time": "2024-03-20T06:13:27.177026Z"
    }
   },
   "id": "acc0de5571dbe141",
   "execution_count": 71
  },
  {
   "cell_type": "code",
   "outputs": [
    {
     "data": {
      "text/plain": "[('lisa', 0.4833817780017853),\n ('kid', 0.323870986700058),\n ('milhouse', 0.3115254342556),\n ('dad', 0.30365189909935),\n ('mom', 0.2980813682079315),\n ('boy', 0.2954169809818268),\n ('child', 0.28352370858192444),\n ('son', 0.28075528144836426),\n ('think', 0.27276813983917236),\n ('homer', 0.26508015394210815)]"
     },
     "execution_count": 72,
     "metadata": {},
     "output_type": "execute_result"
    }
   ],
   "source": [
    "w2v_model.wv.most_similar(positive=['bart'])"
   ],
   "metadata": {
    "collapsed": false,
    "ExecuteTime": {
     "end_time": "2024-03-20T06:13:58.053324Z",
     "start_time": "2024-03-20T06:13:58.015189Z"
    }
   },
   "id": "ff4ed97cd7aa1526",
   "execution_count": 72
  },
  {
   "cell_type": "code",
   "outputs": [
    {
     "data": {
      "text/plain": "[('people', 0.19781005382537842),\n ('young', 0.19512462615966797),\n ('man', 0.19244812428951263)]"
     },
     "execution_count": 73,
     "metadata": {},
     "output_type": "execute_result"
    }
   ],
   "source": [
    "# woman : homer = ________ : marge\n",
    "w2v_model.wv.most_similar(positive=[\"woman\",\"homer\"], negative=[\"marge\"],topn=3)"
   ],
   "metadata": {
    "collapsed": false,
    "ExecuteTime": {
     "end_time": "2024-03-20T06:15:03.255647Z",
     "start_time": "2024-03-20T06:15:03.223068Z"
    }
   },
   "id": "7896de60d64bb2b2",
   "execution_count": 73
  },
  {
   "cell_type": "code",
   "outputs": [
    {
     "data": {
      "text/plain": "[('lisa', 0.2406603842973709),\n ('nelson', 0.22582858800888062),\n ('maggie', 0.22556255757808685)]"
     },
     "execution_count": 74,
     "metadata": {},
     "output_type": "execute_result"
    }
   ],
   "source": [
    "w2v_model.wv.most_similar(positive=[\"woman\", \"bart\"], negative=[\"man\"], topn=3)"
   ],
   "metadata": {
    "collapsed": false,
    "ExecuteTime": {
     "end_time": "2024-03-20T06:15:33.378816Z",
     "start_time": "2024-03-20T06:15:33.358523Z"
    }
   },
   "id": "a4d56eac4098077d",
   "execution_count": 74
  },
  {
   "cell_type": "code",
   "outputs": [
    {
     "data": {
      "text/plain": "'bart'"
     },
     "execution_count": 75,
     "metadata": {},
     "output_type": "execute_result"
    }
   ],
   "source": [
    "w2v_model.wv.doesnt_match(['bart', 'homer', 'marge'])"
   ],
   "metadata": {
    "collapsed": false,
    "ExecuteTime": {
     "end_time": "2024-03-20T06:15:51.235170Z",
     "start_time": "2024-03-20T06:15:51.231100Z"
    }
   },
   "id": "3ff16c9b268c03aa",
   "execution_count": 75
  },
  {
   "cell_type": "code",
   "outputs": [
    {
     "data": {
      "text/plain": "'marge'"
     },
     "execution_count": 76,
     "metadata": {},
     "output_type": "execute_result"
    }
   ],
   "source": [
    "w2v_model.wv.doesnt_match(['bart', 'lisa', 'marge'])"
   ],
   "metadata": {
    "collapsed": false,
    "ExecuteTime": {
     "end_time": "2024-03-20T06:15:56.839438Z",
     "start_time": "2024-03-20T06:15:56.835680Z"
    }
   },
   "id": "4c2c9ab49370fdfa",
   "execution_count": 76
  },
  {
   "cell_type": "markdown",
   "source": [
    "### 단어 임베딩의 한계점\n",
    "- 우리가 사용하는 모든 단어는 context에 따라 의미가 다르다\n",
    "- 단어 embedding의 경우 이런 유연성을 확보하지 못 함\n",
    "    - 배를 깎아 먹었다 / 배가 고프다 / 배 멀미를 하다\n"
   ],
   "metadata": {
    "collapsed": false
   },
   "id": "a15ccb6e49a6174"
  },
  {
   "cell_type": "code",
   "outputs": [],
   "source": [
    "# sentence embedding\n",
    "from transformers import BertTokenizer, BertModel\n",
    "import torch"
   ],
   "metadata": {
    "collapsed": false,
    "ExecuteTime": {
     "end_time": "2024-03-20T06:19:17.430986Z",
     "start_time": "2024-03-20T06:19:17.428566Z"
    }
   },
   "id": "705c1c877d0f7c9b",
   "execution_count": 81
  },
  {
   "cell_type": "code",
   "outputs": [
    {
     "data": {
      "text/plain": "tokenizer_config.json:   0%|          | 0.00/48.0 [00:00<?, ?B/s]",
      "application/vnd.jupyter.widget-view+json": {
       "version_major": 2,
       "version_minor": 0,
       "model_id": "550254da70bb4ca5bb1b0f65d1896320"
      }
     },
     "metadata": {},
     "output_type": "display_data"
    },
    {
     "data": {
      "text/plain": "tokenizer.json:   0%|          | 0.00/466k [00:00<?, ?B/s]",
      "application/vnd.jupyter.widget-view+json": {
       "version_major": 2,
       "version_minor": 0,
       "model_id": "aba940c0f2084fca8d3939c2c77f6791"
      }
     },
     "metadata": {},
     "output_type": "display_data"
    }
   ],
   "source": [
    "# pre-trained model tokenizer와 and bert model\n",
    "tokenizer = BertTokenizer.from_pretrained('bert-base-uncased') # smaller & uncased model\n",
    "model = BertModel.from_pretrained('bert-base-uncased')"
   ],
   "metadata": {
    "collapsed": false,
    "ExecuteTime": {
     "end_time": "2024-03-20T06:19:32.152569Z",
     "start_time": "2024-03-20T06:19:28.389726Z"
    }
   },
   "id": "4ac7a53ae4d208a0",
   "execution_count": 82
  },
  {
   "cell_type": "code",
   "outputs": [],
   "source": [
    "# bank가 들어간 유사한 문장 두 개\n",
    "sentence1 = \"I deposited money at the bank.\"\n",
    "sentence2 = \"The ducks swam to the river bank.\""
   ],
   "metadata": {
    "collapsed": false,
    "ExecuteTime": {
     "end_time": "2024-03-20T06:20:36.798991Z",
     "start_time": "2024-03-20T06:20:36.794506Z"
    }
   },
   "id": "64af456c78262c7a",
   "execution_count": 83
  },
  {
   "cell_type": "code",
   "outputs": [],
   "source": [
    "# 문장을 BERT가 인식할 수 있는 형태로 Tokenize\n",
    "encoded_input1 = tokenizer(sentence1, return_tensors='pt') # pytorch\n",
    "encoded_input2 = tokenizer(sentence2, return_tensors='pt')"
   ],
   "metadata": {
    "collapsed": false,
    "ExecuteTime": {
     "end_time": "2024-03-20T06:21:00.740368Z",
     "start_time": "2024-03-20T06:21:00.735552Z"
    }
   },
   "id": "84219bc9be2e2f64",
   "execution_count": 84
  },
  {
   "cell_type": "code",
   "outputs": [
    {
     "data": {
      "text/plain": "{'input_ids': tensor([[  101,  1045, 14140,  2769,  2012,  1996,  2924,  1012,   102]]), 'token_type_ids': tensor([[0, 0, 0, 0, 0, 0, 0, 0, 0]]), 'attention_mask': tensor([[1, 1, 1, 1, 1, 1, 1, 1, 1]])}"
     },
     "execution_count": 85,
     "metadata": {},
     "output_type": "execute_result"
    }
   ],
   "source": [
    "encoded_input1"
   ],
   "metadata": {
    "collapsed": false,
    "ExecuteTime": {
     "end_time": "2024-03-20T06:21:07.587079Z",
     "start_time": "2024-03-20T06:21:07.583269Z"
    }
   },
   "id": "6f608d5dfe3aee89",
   "execution_count": 85
  },
  {
   "cell_type": "markdown",
   "source": [
    "- `input_ids` : 각 단어별로 매핑된 key. 101은 문장의 시작을, 102는 문장의 끝을 의미\n",
    "- `token_type_ids` : 문장 번호\n",
    "- `attention_mask` : attention을 가져야 하는 단어는 1, 그렇지 않은 단어는 0. (만약 input이 실제 단어들이라면 1)"
   ],
   "metadata": {
    "collapsed": false
   },
   "id": "4a4f9dc0c34636d9"
  },
  {
   "cell_type": "code",
   "outputs": [],
   "source": [
    "# embedding 생성!\n",
    "with torch.no_grad():\n",
    "    output1 = model(**encoded_input1)\n",
    "    output2 = model(**encoded_input2)"
   ],
   "metadata": {
    "collapsed": false,
    "ExecuteTime": {
     "end_time": "2024-03-20T06:22:00.991419Z",
     "start_time": "2024-03-20T06:22:00.333472Z"
    }
   },
   "id": "1f7dae55a53d0e30",
   "execution_count": 86
  },
  {
   "cell_type": "code",
   "outputs": [],
   "source": [
    "# embedding 내에서 bank라는 단어 찾아오기 (문장의 5번째에 있는 단어)\n",
    "bank_embedding_sentence1 = output1.last_hidden_state[0, 5, :]\n",
    "bank_embedding_sentence2 = output2.last_hidden_state[0, 5, :]"
   ],
   "metadata": {
    "collapsed": false,
    "ExecuteTime": {
     "end_time": "2024-03-20T06:22:27.502858Z",
     "start_time": "2024-03-20T06:22:27.500733Z"
    }
   },
   "id": "a9c6f2e3041d050b",
   "execution_count": 87
  },
  {
   "cell_type": "code",
   "outputs": [
    {
     "name": "stdout",
     "output_type": "stream",
     "text": [
      "Cosine similarity between the two embeddings: 0.59224117\n"
     ]
    }
   ],
   "source": [
    "similarity = cosine_similarity(bank_embedding_sentence1, bank_embedding_sentence2)\n",
    "# print(\"Embedding for 'bank' in sentence 1:\", bank_embedding_sentence1)\n",
    "# print(\"Embedding for 'bank' in sentence 2:\", bank_embedding_sentence2)\n",
    "print(\"Cosine similarity between the two embeddings:\", similarity)"
   ],
   "metadata": {
    "collapsed": false,
    "ExecuteTime": {
     "end_time": "2024-03-20T06:22:35.851969Z",
     "start_time": "2024-03-20T06:22:35.846222Z"
    }
   },
   "id": "89e9a0117ec8e99a",
   "execution_count": 88
  },
  {
   "cell_type": "code",
   "outputs": [],
   "source": [],
   "metadata": {
    "collapsed": false
   },
   "id": "a964f2a22ce18f9b"
  }
 ],
 "metadata": {
  "kernelspec": {
   "display_name": "Python 3",
   "language": "python",
   "name": "python3"
  },
  "language_info": {
   "codemirror_mode": {
    "name": "ipython",
    "version": 2
   },
   "file_extension": ".py",
   "mimetype": "text/x-python",
   "name": "python",
   "nbconvert_exporter": "python",
   "pygments_lexer": "ipython2",
   "version": "2.7.6"
  }
 },
 "nbformat": 4,
 "nbformat_minor": 5
}
