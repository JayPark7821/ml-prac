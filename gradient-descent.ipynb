{
 "cells": [
  {
   "cell_type": "markdown",
   "source": [
    "# 모델 학습 원리 이해 ( 경사하강법 Gradient Descent )"
   ],
   "metadata": {
    "collapsed": false
   },
   "id": "62d0c6eb14dff6a0"
  },
  {
   "cell_type": "code",
   "execution_count": 19,
   "outputs": [],
   "source": [
    "import numpy as np"
   ],
   "metadata": {
    "collapsed": false,
    "ExecuteTime": {
     "end_time": "2024-01-16T23:21:20.985796Z",
     "start_time": "2024-01-16T23:21:20.966411Z"
    }
   },
   "id": "59f02ec37b51f859"
  },
  {
   "cell_type": "code",
   "execution_count": 24,
   "outputs": [
    {
     "name": "stdout",
     "output_type": "stream",
     "text": [
      "Input (A, B) | Predicted Y \n",
      "----------------------------\n",
      "    0, 0 | 1\n",
      "    0, 1 | 0\n",
      "    1, 0 | 1\n",
      "    1, 1 | 1\n"
     ]
    }
   ],
   "source": [
    "def sigmoid(x: np.ndarray) -> np.ndarray:\n",
    "    return 1 / (1 + np.exp(-x))\n",
    "\n",
    "\n",
    "def relu(x: np.ndarray) -> np.ndarray:\n",
    "    return x * (x > 0)  # max(x,0)\n",
    "\n",
    "\n",
    "def leaky_relu(x: np.ndarray, alpha: float = 0.01) -> np.ndarray:\n",
    "    return np.where(x > 0, x, x * alpha)\n",
    "\n",
    "\n",
    "def post_processing(predictions: np.ndarray) -> np.ndarray:\n",
    "    return np.where(predictions < 0.5, 0, 1)\n",
    "\n",
    "\n",
    "def display_results(inputs: np.ndarray, predictions: np.ndarray) -> None:\n",
    "    processed_predictions = post_processing(predictions)\n",
    "    print(\"Input (A, B) | Predicted Y \")\n",
    "    print(\"----------------------------\")\n",
    "    for i in range(inputs.shape[1]):\n",
    "        print(f\"    {inputs[0, i]}, {inputs[1, i]} | {processed_predictions[0, i]}\")\n",
    "\n",
    "\n",
    "def initialize_parameters() -> dict[str, np.ndarray]:\n",
    "    parameters = {\n",
    "        \"W1\": np.random.randn(2, 2),  # 가중치 input layer 2 -> hidden layer 2\n",
    "        \"b1\": np.zeros((2, 1)),  # hidden layer 2\n",
    "        \"W2\": np.random.randn(1, 2),  # 가중치 hidden layer 2 -> output layer 1\n",
    "        \"b2\": np.zeros((1, 1))  # output layer 1\n",
    "    }\n",
    "    return parameters\n",
    "\n",
    "\n",
    "def compute_loss(Y: np.ndarray, Y_hat: np.ndarray) -> np.ndarray:\n",
    "    # BCE (Binary Cross Entropy) \n",
    "    m = Y.shape[0]\n",
    "    loss = -np.sum(Y * np.log(Y_hat) + (1 - Y) * np.log(1 - Y_hat)) / m\n",
    "    return loss\n",
    "\n",
    "\n",
    "def forward_propagation(\n",
    "        X: np.ndarray,\n",
    "        parameters: dict[str, np.ndarray],\n",
    ") -> tuple[np.ndarray, np.ndarray]:\n",
    "    # 가중치와 편향 추출\n",
    "    W1 = parameters[\"W1\"]\n",
    "    b1 = parameters[\"b1\"]\n",
    "    W2 = parameters[\"W2\"]\n",
    "    b2 = parameters[\"b2\"]\n",
    "\n",
    "    # 입력층에서 히든레이어까지 연산\n",
    "    Z1 = np.dot(W1, X) + b1\n",
    "    A1 = relu(Z1)\n",
    "\n",
    "    # 히든레이어에서 출력층까지의 연산\n",
    "    Z2 = np.dot(W2, A1) + b2\n",
    "    A2 = sigmoid(Z2)\n",
    "\n",
    "    return A1, A2\n",
    "\n",
    "\n",
    "def backword_propagation(\n",
    "        parameters: dict[str, np.ndarray],\n",
    "        A1: np.ndarray,\n",
    "        A2: np.ndarray,\n",
    "        X: np.ndarray,\n",
    "        Y: np.ndarray,\n",
    ") -> dict[str, np.ndarray]:\n",
    "    m = X.shape[1]\n",
    "    W2 = parameters[\"W2\"]\n",
    "\n",
    "    dZ2 = (A2 - Y) * A2 * (1 - A2)\n",
    "    dW2 = np.dot(dZ2, A1.T) / m\n",
    "    db2 = np.sum(dZ2, axis=1, keepdims=True) / m\n",
    "    dZ1 = np.dot(W2.T, dZ2) * (A1 > 0)\n",
    "    dW1 = np.dot(dZ1, X.T) / m\n",
    "    db1 = np.sum(dZ1, axis=1, keepdims=True) / m\n",
    "\n",
    "    gradients = {\n",
    "        \"dW1\": dW1,\n",
    "        \"db1\": db1,\n",
    "        \"dW2\": dW2,\n",
    "        \"db2\": db2,\n",
    "    }\n",
    "    return gradients\n",
    "\n",
    "\n",
    "def update_parameters(\n",
    "        parameters: dict[str, np.ndarray],\n",
    "        grads: dict[str, np.ndarray],\n",
    "        learning_rate: float = 0.01,\n",
    ") -> dict[str, np.ndarray]:\n",
    "    parameters[\"W1\"] -= learning_rate * grads[\"dW1\"]\n",
    "    parameters[\"b1\"] -= learning_rate * grads[\"db1\"]\n",
    "    parameters[\"W2\"] -= learning_rate * grads[\"dW2\"]\n",
    "    parameters[\"b2\"] -= learning_rate * grads[\"db2\"]\n",
    "\n",
    "    return parameters\n",
    "\n",
    "\n",
    "inputs = np.array([[0,0], [0,1], [1,0], [1,1]]).T\n",
    "outputs = np.array([0,1,1,0])\n",
    "\n",
    "parameters = initialize_parameters()\n",
    "predictions = forward_propagation(inputs, parameters)[1]\n",
    "\n",
    "display_results(inputs, predictions)\n",
    "\n"
   ],
   "metadata": {
    "collapsed": false,
    "ExecuteTime": {
     "end_time": "2024-01-16T23:23:07.670294Z",
     "start_time": "2024-01-16T23:23:07.667546Z"
    }
   },
   "id": "361dd0cacd1f62a8"
  },
  {
   "cell_type": "code",
   "execution_count": 26,
   "outputs": [
    {
     "name": "stdout",
     "output_type": "stream",
     "text": [
      "i=10000, loss=0.6931471805599453\n",
      "i=20000, loss=0.6931471805599453\n",
      "i=30000, loss=0.6931471805599453\n",
      "i=40000, loss=0.6931471805599453\n",
      "i=50000, loss=0.6931471805599453\n",
      "i=60000, loss=0.6931471805599453\n",
      "i=70000, loss=0.6931471805599453\n",
      "i=80000, loss=0.6931471805599453\n",
      "i=90000, loss=0.6931471805599453\n",
      "i=100000, loss=0.6931471805599453\n",
      "i=110000, loss=0.6931471805599453\n",
      "i=120000, loss=0.6931471805599453\n",
      "i=130000, loss=0.6931471805599453\n",
      "i=140000, loss=0.6931471805599453\n",
      "i=150000, loss=0.6931471805599453\n",
      "i=160000, loss=0.6931471805599453\n",
      "i=170000, loss=0.6931471805599453\n",
      "i=180000, loss=0.6931471805599453\n",
      "i=190000, loss=0.6931471805599453\n",
      "[[0.5 0.5 0.5 0.5]]\n",
      "Input (A, B) | Predicted Y \n",
      "----------------------------\n",
      "    0, 0 | 0\n",
      "    0, 1 | 1\n",
      "    1, 0 | 1\n",
      "    1, 1 | 1\n"
     ]
    }
   ],
   "source": [
    "for i in range(200000):\n",
    "    A1, A2 = forward_propagation(inputs, parameters)\n",
    "    grads = backword_propagation(parameters, A1, A2, inputs, outputs)\n",
    "    parameters = update_parameters(parameters, grads)\n",
    "    loss = compute_loss(outputs, A2)\n",
    "    \n",
    "    if i > 0 and i % 10000 == 0:\n",
    "        print(f\"{i=}, {loss=}\")\n",
    "    \n",
    "predicted_outputs = forward_propagation(inputs, parameters)[1]\n",
    "print(predicted_outputs)\n",
    "display_results(inputs, predicted_outputs)"
   ],
   "metadata": {
    "collapsed": false,
    "ExecuteTime": {
     "end_time": "2024-01-16T23:24:01.568299Z",
     "start_time": "2024-01-16T23:23:55.018810Z"
    }
   },
   "id": "b64e4f9466b49005"
  },
  {
   "cell_type": "code",
   "execution_count": 27,
   "outputs": [],
   "source": [
    "def forward_propagation_for_debuging(X, parameters) -> tuple[np.ndarray, np.ndarray]:\n",
    "    # 가중치와 편향 추출\n",
    "    W1 = parameters[\"W1\"]\n",
    "    b1 = parameters[\"b1\"]\n",
    "    W2 = parameters[\"W2\"]\n",
    "    b2 = parameters[\"b2\"]\n",
    "\n",
    "    print(f\"{X=}\")\n",
    "    print(f\"{W1=}\")\n",
    "    print(f\"{b1=}\")\n",
    "    print(f\"{W2=}\")\n",
    "    print(f\"{b2=}\")\n",
    "\n",
    "    # 입력층에서 히든레이어까지의 연산\n",
    "    Z1 = np.dot(W1, X) + b1\n",
    "    print(f\"{Z1=}\")\n",
    "    A1 = relu(Z1)\n",
    "    print(f\"{A1=}\")\n",
    "\n",
    "    # 히든레이어에서 출력층까지의 연산\n",
    "    Z2 = np.dot(W2, A1) + b2\n",
    "    print(f\"{Z2=}\")\n",
    "    A2 = sigmoid(Z2)\n",
    "    print(f\"{A2=}\")\n",
    "\n",
    "    return A1, A2"
   ],
   "metadata": {
    "collapsed": false,
    "ExecuteTime": {
     "end_time": "2024-01-16T23:24:03.034548Z",
     "start_time": "2024-01-16T23:24:03.022604Z"
    }
   },
   "id": "3d2b0e336a596ef7"
  },
  {
   "cell_type": "code",
   "execution_count": 28,
   "outputs": [
    {
     "name": "stdout",
     "output_type": "stream",
     "text": [
      "X=array([[0, 0, 1, 1],\n",
      "       [0, 1, 0, 1]])\n",
      "W1=array([[0.08204067, 1.27191402],\n",
      "       [0.18302969, 0.29126595]])\n",
      "b1=array([[0.00330639],\n",
      "       [0.06475702]])\n",
      "W2=array([[-5.49039980e-16,  2.51708376e-15]])\n",
      "b2=array([[-5.27355937e-16]])\n",
      "Z1=array([[0.00330639, 1.27522041, 0.08534707, 1.35726108],\n",
      "       [0.06475702, 0.35602297, 0.24778671, 0.53905266]])\n",
      "A1=array([[0.00330639, 1.27522041, 0.08534707, 1.35726108],\n",
      "       [0.06475702, 0.35602297, 0.24778671, 0.53905266]])\n",
      "Z2=array([[-3.66172432e-16, -3.31363292e-16,  4.94850199e-17,\n",
      "         8.42941592e-17]])\n",
      "A2=array([[0.5, 0.5, 0.5, 0.5]])\n"
     ]
    },
    {
     "data": {
      "text/plain": "array([[0.5, 0.5, 0.5, 0.5]])"
     },
     "execution_count": 28,
     "metadata": {},
     "output_type": "execute_result"
    }
   ],
   "source": [
    "predicted_outputs = forward_propagation_for_debuging(inputs, parameters)[1]\n",
    "predicted_outputs"
   ],
   "metadata": {
    "collapsed": false,
    "ExecuteTime": {
     "end_time": "2024-01-16T23:24:04.290589Z",
     "start_time": "2024-01-16T23:24:04.269862Z"
    }
   },
   "id": "7aab2f454bd83608"
  },
  {
   "cell_type": "code",
   "execution_count": null,
   "outputs": [],
   "source": [],
   "metadata": {
    "collapsed": false
   },
   "id": "46389f0dae555bc7"
  }
 ],
 "metadata": {
  "kernelspec": {
   "display_name": "Python 3",
   "language": "python",
   "name": "python3"
  },
  "language_info": {
   "codemirror_mode": {
    "name": "ipython",
    "version": 2
   },
   "file_extension": ".py",
   "mimetype": "text/x-python",
   "name": "python",
   "nbconvert_exporter": "python",
   "pygments_lexer": "ipython2",
   "version": "2.7.6"
  }
 },
 "nbformat": 4,
 "nbformat_minor": 5
}
