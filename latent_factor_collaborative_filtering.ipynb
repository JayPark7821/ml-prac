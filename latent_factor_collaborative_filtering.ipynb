{
 "cells": [
  {
   "cell_type": "markdown",
   "source": [
    "경사하강을 이용한 행렬 분해\n",
    "\n",
    "**원본 행렬 R 및 R을 분해할 P와 Q를 임의의 정규분포를 가진 랜덤값으로 초기화**\n"
   ],
   "metadata": {
    "collapsed": false
   },
   "id": "7f716c2a4ef83894"
  },
  {
   "cell_type": "code",
   "execution_count": 10,
   "outputs": [
    {
     "name": "stdout",
     "output_type": "stream",
     "text": [
      "P: [[ 0.54144845 -0.2039188  -0.17605725]\n",
      " [-0.35765621  0.28846921 -0.76717957]\n",
      " [ 0.58160392 -0.25373563  0.10634637]\n",
      " [-0.08312346  0.48736931 -0.68671357]]\n",
      "Q: [[-0.1074724  -0.12801812  0.37792315]\n",
      " [-0.36663042 -0.05747607 -0.29261947]\n",
      " [ 0.01407125  0.19427174 -0.36687306]\n",
      " [ 0.38157457  0.30053024  0.16749811]\n",
      " [ 0.30028532 -0.22790929 -0.04096341]]\n"
     ]
    }
   ],
   "source": [
    "import numpy as np\n",
    "\n",
    "# 원본 행렬 R 생성, 분해 행렬 P와 Q 초기화, 잠재요인 차원 K는 3 설정. \n",
    "R = np.array([[4, np.NaN, np.NaN, 2, np.NaN ],\n",
    "              [np.NaN, 5, np.NaN, 3, 1 ],\n",
    "              [np.NaN, np.NaN, 3, 4, 4 ],\n",
    "              [5, 2, 1, 2, np.NaN ]])\n",
    "\n",
    "num_users, num_items = R.shape\n",
    "K=3\n",
    "\n",
    "# P와 Q 매트릭스의 크기를 지정하고 정규분포를 가진 random한 값으로 입력합니다. \n",
    "np.random.seed(1)\n",
    "P = np.random.normal(scale=1./K, size=(num_users, K))\n",
    "Q = np.random.normal(scale=1./K, size=(num_items, K))\n",
    "print(\"P:\",P)\n",
    "print(\"Q:\",Q)"
   ],
   "metadata": {
    "collapsed": false,
    "ExecuteTime": {
     "end_time": "2023-12-18T01:57:39.945823Z",
     "start_time": "2023-12-18T01:57:39.927677Z"
    }
   },
   "id": "5cf24e8eabc33e1c"
  },
  {
   "cell_type": "markdown",
   "source": [
    "비용계산 함수를 생성. 분해된 행렬 P와 Q.T를 내적하여 예측 행렬 생성하고\n",
    "\n",
    "실제 행렬에서 널이 아닌 값의 위치에 있는 값만 예측 행렬의 값과 비교하여 RMSE값을 계산하고 반환"
   ],
   "metadata": {
    "collapsed": false
   },
   "id": "cd7deb017ffcd14e"
  },
  {
   "cell_type": "code",
   "execution_count": 11,
   "outputs": [],
   "source": [
    "from sklearn.metrics import mean_squared_error\n",
    "\n",
    "def get_rmse(R, P, Q, non_zeros):\n",
    "    error = 0\n",
    "    # 두개의 분해된 행렬 P와 Q.T의 내적으로 예측 R 행렬 생성\n",
    "    full_pred_matrix = np.dot(P, Q.T)\n",
    "    \n",
    "    # 실제 R 행렬에서 널이 아닌 값의 위치 인덱스 추출하여 실제 R 행렬과 예측 행렬의 RMSE 추출\n",
    "    x_non_zero_ind = [non_zero[0] for non_zero in non_zeros]\n",
    "    y_non_zero_ind = [non_zero[1] for non_zero in non_zeros]\n",
    "    R_non_zeros = R[x_non_zero_ind, y_non_zero_ind]\n",
    "    full_pred_matrix_non_zeros = full_pred_matrix[x_non_zero_ind, y_non_zero_ind]\n",
    "      \n",
    "    mse = mean_squared_error(R_non_zeros, full_pred_matrix_non_zeros)\n",
    "    rmse = np.sqrt(mse)\n",
    "    \n",
    "    return rmse"
   ],
   "metadata": {
    "collapsed": false,
    "ExecuteTime": {
     "end_time": "2023-12-18T01:57:39.946047Z",
     "start_time": "2023-12-18T01:57:39.931988Z"
    }
   },
   "id": "1739b0aaef166a11"
  },
  {
   "cell_type": "markdown",
   "source": [
    "경사하강법에 기반하여 P와 Q의 원소들을 업데이트 수행"
   ],
   "metadata": {
    "collapsed": false
   },
   "id": "af9557832f039c77"
  },
  {
   "cell_type": "code",
   "execution_count": 12,
   "outputs": [
    {
     "name": "stdout",
     "output_type": "stream",
     "text": [
      "### iteration step :  0  rmse :  3.2388050277987723\n",
      "### iteration step :  50  rmse :  0.48767231013696477\n",
      "### iteration step :  100  rmse :  0.15643403848192472\n",
      "### iteration step :  150  rmse :  0.07455141311978056\n",
      "### iteration step :  200  rmse :  0.04325226798579326\n",
      "### iteration step :  250  rmse :  0.0292483287808792\n",
      "### iteration step :  300  rmse :  0.022621116143829462\n",
      "### iteration step :  350  rmse :  0.019493636196525253\n",
      "### iteration step :  400  rmse :  0.018022719092132912\n",
      "### iteration step :  450  rmse :  0.017319685953442663\n",
      "### iteration step :  500  rmse :  0.01697365788757087\n",
      "### iteration step :  550  rmse :  0.01679680459589556\n",
      "### iteration step :  600  rmse :  0.016701322901884613\n",
      "### iteration step :  650  rmse :  0.016644736912476723\n",
      "### iteration step :  700  rmse :  0.01660591006820994\n",
      "### iteration step :  750  rmse :  0.016574200475704952\n",
      "### iteration step :  800  rmse :  0.016544315829216106\n",
      "### iteration step :  850  rmse :  0.016513751774735172\n",
      "### iteration step :  900  rmse :  0.01648146573819512\n",
      "### iteration step :  950  rmse :  0.016447171683479145\n"
     ]
    }
   ],
   "source": [
    "# R > 0 인 행 위치, 열 위치, 값을 non_zeros 리스트에 저장. \n",
    "non_zeros = [ (i, j, R[i,j]) for i in range(num_users) for j in range(num_items) if R[i,j] > 0 ]\n",
    "\n",
    "steps=1000\n",
    "learning_rate=0.01\n",
    "r_lambda=0.01\n",
    "\n",
    "# SGD 기법으로 P와 Q 매트릭스를 계속 업데이트. \n",
    "for step in range(steps):\n",
    "    for i, j, r in non_zeros:\n",
    "        # 실제 값과 예측 값의 차이인 오류 값 구함\n",
    "        eij = r - np.dot(P[i, :], Q[j, :].T)\n",
    "        # Regularization을 반영한 SGD 업데이트 공식 적용\n",
    "        P[i,:] = P[i,:] + learning_rate*(eij * Q[j, :] - r_lambda*P[i,:])\n",
    "        Q[j,:] = Q[j,:] + learning_rate*(eij * P[i, :] - r_lambda*Q[j,:])\n",
    "\n",
    "    rmse = get_rmse(R, P, Q, non_zeros)\n",
    "    if (step % 50) == 0 :\n",
    "        print(\"### iteration step : \", step,\" rmse : \", rmse)\n"
   ],
   "metadata": {
    "collapsed": false,
    "ExecuteTime": {
     "end_time": "2023-12-18T01:57:40.103583Z",
     "start_time": "2023-12-18T01:57:39.937195Z"
    }
   },
   "id": "dd6e5f405e9463b7"
  },
  {
   "cell_type": "code",
   "execution_count": 13,
   "outputs": [
    {
     "name": "stdout",
     "output_type": "stream",
     "text": [
      "예측 행렬:\n",
      " [[3.991 0.897 1.306 2.002 1.663]\n",
      " [6.696 4.978 0.979 2.981 1.003]\n",
      " [6.677 0.391 2.987 3.977 3.986]\n",
      " [4.968 2.005 1.006 2.017 1.14 ]]\n"
     ]
    }
   ],
   "source": [
    "pred_matrix = np.dot(P, Q.T)\n",
    "print('예측 행렬:\\n', np.round(pred_matrix, 3))"
   ],
   "metadata": {
    "collapsed": false,
    "ExecuteTime": {
     "end_time": "2023-12-18T01:57:40.103870Z",
     "start_time": "2023-12-18T01:57:40.101363Z"
    }
   },
   "id": "902fd781a2cd74e"
  },
  {
   "cell_type": "markdown",
   "source": [
    "### 행렬 분해 기반의 잠재 요인 협업 필터링 실습\n",
    "\n",
    "**경사하강법 기반의 행렬 분해 함수 생성**"
   ],
   "metadata": {
    "collapsed": false
   },
   "id": "25b0fd1332d7b023"
  },
  {
   "cell_type": "code",
   "execution_count": 14,
   "outputs": [],
   "source": [
    "def matrix_factorization(R, K, steps=200, learning_rate=0.01, r_lambda = 0.01):\n",
    "    num_users, num_items = R.shape\n",
    "    # P와 Q 매트릭스의 크기를 지정하고 정규분포를 가진 랜덤한 값으로 입력합니다. \n",
    "    np.random.seed(1)\n",
    "    P = np.random.normal(scale=1./K, size=(num_users, K))\n",
    "    Q = np.random.normal(scale=1./K, size=(num_items, K))\n",
    "\n",
    "    break_count = 0\n",
    "       \n",
    "    # R > 0 인 행 위치, 열 위치, 값을 non_zeros 리스트 객체에 저장. \n",
    "    non_zeros = [ (i, j, R[i,j]) for i in range(num_users) for j in range(num_items) if R[i,j] > 0 ]\n",
    "   \n",
    "    # SGD기법으로 P와 Q 매트릭스를 계속 업데이트. \n",
    "    for step in range(steps):\n",
    "        for i, j, r in non_zeros:\n",
    "            # 실제 값과 예측 값의 차이인 오류 값 구함\n",
    "            eij = r - np.dot(P[i, :], Q[j, :].T)\n",
    "            # Regularization을 반영한 SGD 업데이트 공식 적용\n",
    "            P[i,:] = P[i,:] + learning_rate*(eij * Q[j, :] - r_lambda*P[i,:])\n",
    "            Q[j,:] = Q[j,:] + learning_rate*(eij * P[i, :] - r_lambda*Q[j,:])\n",
    "       \n",
    "        rmse = get_rmse(R, P, Q, non_zeros)\n",
    "        if (step % 10) == 0 :\n",
    "            print(\"### iteration step : \", step,\" rmse : \", rmse)\n",
    "            \n",
    "    return P, Q"
   ],
   "metadata": {
    "collapsed": false,
    "ExecuteTime": {
     "end_time": "2023-12-18T01:59:20.215424Z",
     "start_time": "2023-12-18T01:59:20.202809Z"
    }
   },
   "id": "2935dce842e6b7d6"
  },
  {
   "cell_type": "code",
   "execution_count": 15,
   "outputs": [],
   "source": [
    "import pandas as pd\n",
    "import numpy as np\n",
    "\n",
    "movies = pd.read_csv('./ml-latest-small/movies.csv')\n",
    "ratings = pd.read_csv('./ml-latest-small/ratings.csv')\n",
    "ratings = ratings[['userId', 'movieId', 'rating']]\n",
    "ratings_matrix = ratings.pivot_table('rating', index='userId', columns='movieId')\n",
    "\n",
    "# title 컬럼을 얻기 이해 movies 와 조인 수행\n",
    "rating_movies = pd.merge(ratings, movies, on='movieId')\n",
    "\n",
    "# columns='title' 로 title 컬럼으로 pivot 수행. \n",
    "ratings_matrix = rating_movies.pivot_table('rating', index='userId', columns='title')"
   ],
   "metadata": {
    "collapsed": false,
    "ExecuteTime": {
     "end_time": "2023-12-18T01:59:40.950781Z",
     "start_time": "2023-12-18T01:59:40.459988Z"
    }
   },
   "id": "7cd48d87f922bc8f"
  },
  {
   "cell_type": "code",
   "execution_count": 16,
   "outputs": [
    {
     "name": "stdout",
     "output_type": "stream",
     "text": [
      "### iteration step :  0  rmse :  2.9023619751336867\n",
      "### iteration step :  10  rmse :  0.7335768591017927\n",
      "### iteration step :  20  rmse :  0.5115539026853442\n",
      "### iteration step :  30  rmse :  0.37261628282537446\n",
      "### iteration step :  40  rmse :  0.2960818299181014\n",
      "### iteration step :  50  rmse :  0.2520353192341642\n",
      "### iteration step :  60  rmse :  0.22487503275269854\n",
      "### iteration step :  70  rmse :  0.2068545530233154\n",
      "### iteration step :  80  rmse :  0.19413418783028685\n",
      "### iteration step :  90  rmse :  0.18470082002720403\n",
      "### iteration step :  100  rmse :  0.177429275272091\n",
      "### iteration step :  110  rmse :  0.1716522696470749\n",
      "### iteration step :  120  rmse :  0.1669518194687172\n",
      "### iteration step :  130  rmse :  0.1630529219199754\n",
      "### iteration step :  140  rmse :  0.1597669192967964\n",
      "### iteration step :  150  rmse :  0.15695986999457318\n",
      "### iteration step :  160  rmse :  0.15453398186715428\n",
      "### iteration step :  170  rmse :  0.15241618551077643\n",
      "### iteration step :  180  rmse :  0.15055080739628304\n",
      "### iteration step :  190  rmse :  0.1488947091323209\n"
     ]
    }
   ],
   "source": [
    "P, Q = matrix_factorization(ratings_matrix.values, K=50, steps=200, learning_rate=0.01, r_lambda = 0.01)\n",
    "pred_matrix = np.dot(P, Q.T)"
   ],
   "metadata": {
    "collapsed": false,
    "ExecuteTime": {
     "end_time": "2023-12-18T02:03:09.520341Z",
     "start_time": "2023-12-18T02:00:53.361220Z"
    }
   },
   "id": "c28afa329776d332"
  },
  {
   "cell_type": "code",
   "execution_count": 17,
   "outputs": [
    {
     "data": {
      "text/plain": "title   '71 (2014)  'Hellboy': The Seeds of Creation (2004)  \\\nuserId                                                        \n1         3.055084                                 4.092018   \n2         3.170119                                 3.657992   \n3         2.307073                                 1.658853   \n\ntitle   'Round Midnight (1986)  'Salem's Lot (2004)  \\\nuserId                                                \n1                     3.564130             4.502167   \n2                     3.308707             4.166521   \n3                     1.443538             2.208859   \n\ntitle   'Til There Was You (1997)  'Tis the Season for Love (2015)  \\\nuserId                                                               \n1                        3.981215                         1.271694   \n2                        4.311890                         1.275469   \n3                        2.229486                         0.780760   \n\ntitle   'burbs, The (1989)  'night Mother (1986)  (500) Days of Summer (2009)  \\\nuserId                                                                          \n1                 3.603274              2.333266                     5.091749   \n2                 4.237972              1.900366                     3.392859   \n3                 1.997043              0.924908                     2.970700   \n\ntitle   *batteries not included (1987)  ...  Zulu (2013)  [REC] (2007)  \\\nuserId                                  ...                              \n1                             3.972454  ...     1.402608      4.208382   \n2                             3.647421  ...     0.973811      3.528264   \n3                             2.551446  ...     0.520354      1.709494   \n\ntitle   [REC]² (2009)  [REC]³ 3 Génesis (2012)  \\\nuserId                                           \n1            3.705957                 2.720514   \n2            3.361532                 2.672535   \n3            2.281596                 1.782833   \n\ntitle   anohana: The Flower We Saw That Day - The Movie (2013)  \\\nuserId                                                           \n1                                                2.787331        \n2                                                2.404456        \n3                                                1.635173        \n\ntitle   eXistenZ (1999)  xXx (2002)  xXx: State of the Union (2005)  \\\nuserId                                                                \n1              3.475076    3.253458                        2.161087   \n2              4.232789    2.911602                        1.634576   \n3              1.323276    2.887580                        1.042618   \n\ntitle   ¡Three Amigos! (1986)  À nous la liberté (Freedom for Us) (1931)  \nuserId                                                                    \n1                    4.010495                                   0.859474  \n2                    4.135735                                   0.725684  \n3                    2.293890                                   0.396941  \n\n[3 rows x 9719 columns]",
      "text/html": "<div>\n<style scoped>\n    .dataframe tbody tr th:only-of-type {\n        vertical-align: middle;\n    }\n\n    .dataframe tbody tr th {\n        vertical-align: top;\n    }\n\n    .dataframe thead th {\n        text-align: right;\n    }\n</style>\n<table border=\"1\" class=\"dataframe\">\n  <thead>\n    <tr style=\"text-align: right;\">\n      <th>title</th>\n      <th>'71 (2014)</th>\n      <th>'Hellboy': The Seeds of Creation (2004)</th>\n      <th>'Round Midnight (1986)</th>\n      <th>'Salem's Lot (2004)</th>\n      <th>'Til There Was You (1997)</th>\n      <th>'Tis the Season for Love (2015)</th>\n      <th>'burbs, The (1989)</th>\n      <th>'night Mother (1986)</th>\n      <th>(500) Days of Summer (2009)</th>\n      <th>*batteries not included (1987)</th>\n      <th>...</th>\n      <th>Zulu (2013)</th>\n      <th>[REC] (2007)</th>\n      <th>[REC]² (2009)</th>\n      <th>[REC]³ 3 Génesis (2012)</th>\n      <th>anohana: The Flower We Saw That Day - The Movie (2013)</th>\n      <th>eXistenZ (1999)</th>\n      <th>xXx (2002)</th>\n      <th>xXx: State of the Union (2005)</th>\n      <th>¡Three Amigos! (1986)</th>\n      <th>À nous la liberté (Freedom for Us) (1931)</th>\n    </tr>\n    <tr>\n      <th>userId</th>\n      <th></th>\n      <th></th>\n      <th></th>\n      <th></th>\n      <th></th>\n      <th></th>\n      <th></th>\n      <th></th>\n      <th></th>\n      <th></th>\n      <th></th>\n      <th></th>\n      <th></th>\n      <th></th>\n      <th></th>\n      <th></th>\n      <th></th>\n      <th></th>\n      <th></th>\n      <th></th>\n      <th></th>\n    </tr>\n  </thead>\n  <tbody>\n    <tr>\n      <th>1</th>\n      <td>3.055084</td>\n      <td>4.092018</td>\n      <td>3.564130</td>\n      <td>4.502167</td>\n      <td>3.981215</td>\n      <td>1.271694</td>\n      <td>3.603274</td>\n      <td>2.333266</td>\n      <td>5.091749</td>\n      <td>3.972454</td>\n      <td>...</td>\n      <td>1.402608</td>\n      <td>4.208382</td>\n      <td>3.705957</td>\n      <td>2.720514</td>\n      <td>2.787331</td>\n      <td>3.475076</td>\n      <td>3.253458</td>\n      <td>2.161087</td>\n      <td>4.010495</td>\n      <td>0.859474</td>\n    </tr>\n    <tr>\n      <th>2</th>\n      <td>3.170119</td>\n      <td>3.657992</td>\n      <td>3.308707</td>\n      <td>4.166521</td>\n      <td>4.311890</td>\n      <td>1.275469</td>\n      <td>4.237972</td>\n      <td>1.900366</td>\n      <td>3.392859</td>\n      <td>3.647421</td>\n      <td>...</td>\n      <td>0.973811</td>\n      <td>3.528264</td>\n      <td>3.361532</td>\n      <td>2.672535</td>\n      <td>2.404456</td>\n      <td>4.232789</td>\n      <td>2.911602</td>\n      <td>1.634576</td>\n      <td>4.135735</td>\n      <td>0.725684</td>\n    </tr>\n    <tr>\n      <th>3</th>\n      <td>2.307073</td>\n      <td>1.658853</td>\n      <td>1.443538</td>\n      <td>2.208859</td>\n      <td>2.229486</td>\n      <td>0.780760</td>\n      <td>1.997043</td>\n      <td>0.924908</td>\n      <td>2.970700</td>\n      <td>2.551446</td>\n      <td>...</td>\n      <td>0.520354</td>\n      <td>1.709494</td>\n      <td>2.281596</td>\n      <td>1.782833</td>\n      <td>1.635173</td>\n      <td>1.323276</td>\n      <td>2.887580</td>\n      <td>1.042618</td>\n      <td>2.293890</td>\n      <td>0.396941</td>\n    </tr>\n  </tbody>\n</table>\n<p>3 rows × 9719 columns</p>\n</div>"
     },
     "execution_count": 17,
     "metadata": {},
     "output_type": "execute_result"
    }
   ],
   "source": [
    "ratings_pred_matrix = pd.DataFrame(data=pred_matrix, index= ratings_matrix.index,\n",
    "                                   columns = ratings_matrix.columns)\n",
    "\n",
    "ratings_pred_matrix.head(3)"
   ],
   "metadata": {
    "collapsed": false,
    "ExecuteTime": {
     "end_time": "2023-12-18T02:03:20.108045Z",
     "start_time": "2023-12-18T02:03:20.089601Z"
    }
   },
   "id": "f6c0101349174e9b"
  },
  {
   "cell_type": "code",
   "execution_count": 19,
   "outputs": [],
   "source": [
    "def get_unseen_movies(ratings_matrix, userId):\n",
    "    # userId로 입력받은 사용자의 모든 영화정보 추출하여 Series로 반환함. \n",
    "    # 반환된 user_rating 은 영화명(title)을 index로 가지는 Series 객체임. \n",
    "    user_rating = ratings_matrix.loc[userId,:]\n",
    "    \n",
    "    # user_rating이 0보다 크면 기존에 관람한 영화임. 대상 index를 추출하여 list 객체로 만듬\n",
    "    already_seen = user_rating[ user_rating > 0].index.tolist()\n",
    "    \n",
    "    # 모든 영화명을 list 객체로 만듬. \n",
    "    movies_list = ratings_matrix.columns.tolist()\n",
    "    \n",
    "    # list comprehension으로 already_seen에 해당하는 movie는 movies_list에서 제외함. \n",
    "    unseen_list = [ movie for movie in movies_list if movie not in already_seen]\n",
    "    \n",
    "    return unseen_list"
   ],
   "metadata": {
    "collapsed": false,
    "ExecuteTime": {
     "end_time": "2023-12-18T02:05:52.030060Z",
     "start_time": "2023-12-18T02:05:52.024496Z"
    }
   },
   "id": "714644cb39f499d4"
  },
  {
   "cell_type": "code",
   "execution_count": 20,
   "outputs": [],
   "source": [
    "def recomm_movie_by_userid(pred_df, userId, unseen_list, top_n=10):\n",
    "    # 예측 평점 DataFrame에서 사용자id index와 unseen_list로 들어온 영화명 컬럼을 추출하여\n",
    "    # 가장 예측 평점이 높은 순으로 정렬함. \n",
    "    recomm_movies = pred_df.loc[userId, unseen_list].sort_values(ascending=False)[:top_n]\n",
    "    return recomm_movies"
   ],
   "metadata": {
    "collapsed": false,
    "ExecuteTime": {
     "end_time": "2023-12-18T02:05:53.263568Z",
     "start_time": "2023-12-18T02:05:53.241147Z"
    }
   },
   "id": "d992b97327c0e7fd"
  },
  {
   "cell_type": "code",
   "execution_count": 21,
   "outputs": [
    {
     "data": {
      "text/plain": "                                                    pred_score\ntitle                                                         \nRear Window (1954)                                    5.704612\nSouth Park: Bigger, Longer and Uncut (1999)           5.451100\nRounders (1998)                                       5.298393\nBlade Runner (1982)                                   5.244951\nRoger & Me (1989)                                     5.191962\nGattaca (1997)                                        5.183179\nBen-Hur (1959)                                        5.130463\nRosencrantz and Guildenstern Are Dead (1990)          5.087375\nBig Lebowski, The (1998)                              5.038690\nStar Wars: Episode V - The Empire Strikes Back ...    4.989601",
      "text/html": "<div>\n<style scoped>\n    .dataframe tbody tr th:only-of-type {\n        vertical-align: middle;\n    }\n\n    .dataframe tbody tr th {\n        vertical-align: top;\n    }\n\n    .dataframe thead th {\n        text-align: right;\n    }\n</style>\n<table border=\"1\" class=\"dataframe\">\n  <thead>\n    <tr style=\"text-align: right;\">\n      <th></th>\n      <th>pred_score</th>\n    </tr>\n    <tr>\n      <th>title</th>\n      <th></th>\n    </tr>\n  </thead>\n  <tbody>\n    <tr>\n      <th>Rear Window (1954)</th>\n      <td>5.704612</td>\n    </tr>\n    <tr>\n      <th>South Park: Bigger, Longer and Uncut (1999)</th>\n      <td>5.451100</td>\n    </tr>\n    <tr>\n      <th>Rounders (1998)</th>\n      <td>5.298393</td>\n    </tr>\n    <tr>\n      <th>Blade Runner (1982)</th>\n      <td>5.244951</td>\n    </tr>\n    <tr>\n      <th>Roger &amp; Me (1989)</th>\n      <td>5.191962</td>\n    </tr>\n    <tr>\n      <th>Gattaca (1997)</th>\n      <td>5.183179</td>\n    </tr>\n    <tr>\n      <th>Ben-Hur (1959)</th>\n      <td>5.130463</td>\n    </tr>\n    <tr>\n      <th>Rosencrantz and Guildenstern Are Dead (1990)</th>\n      <td>5.087375</td>\n    </tr>\n    <tr>\n      <th>Big Lebowski, The (1998)</th>\n      <td>5.038690</td>\n    </tr>\n    <tr>\n      <th>Star Wars: Episode V - The Empire Strikes Back (1980)</th>\n      <td>4.989601</td>\n    </tr>\n  </tbody>\n</table>\n</div>"
     },
     "execution_count": 21,
     "metadata": {},
     "output_type": "execute_result"
    }
   ],
   "source": [
    "# 사용자가 관람하지 않는 영화명 추출   \n",
    "unseen_list = get_unseen_movies(ratings_matrix, 9)\n",
    "\n",
    "# 잠재요인 기반 협업 필터링으로 영화 추천 \n",
    "recomm_movies = recomm_movie_by_userid(ratings_pred_matrix, 9, unseen_list, top_n=10)\n",
    "\n",
    "# 평점 데이타를 DataFrame으로 생성. \n",
    "recomm_movies = pd.DataFrame(data=recomm_movies.values,index=recomm_movies.index,columns=['pred_score'])\n",
    "recomm_movies"
   ],
   "metadata": {
    "collapsed": false,
    "ExecuteTime": {
     "end_time": "2023-12-18T02:05:54.367963Z",
     "start_time": "2023-12-18T02:05:54.343765Z"
    }
   },
   "id": "bfbfe3a9d7699028"
  },
  {
   "cell_type": "code",
   "execution_count": null,
   "outputs": [],
   "source": [],
   "metadata": {
    "collapsed": false
   },
   "id": "37a76b70e0681174"
  }
 ],
 "metadata": {
  "kernelspec": {
   "display_name": "Python 3",
   "language": "python",
   "name": "python3"
  },
  "language_info": {
   "codemirror_mode": {
    "name": "ipython",
    "version": 2
   },
   "file_extension": ".py",
   "mimetype": "text/x-python",
   "name": "python",
   "nbconvert_exporter": "python",
   "pygments_lexer": "ipython2",
   "version": "2.7.6"
  }
 },
 "nbformat": 4,
 "nbformat_minor": 5
}
