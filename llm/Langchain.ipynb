{
 "cells": [
  {
   "cell_type": "code",
   "execution_count": 10,
   "id": "initial_id",
   "metadata": {
    "collapsed": true,
    "ExecuteTime": {
     "end_time": "2024-04-15T03:09:21.020092Z",
     "start_time": "2024-04-15T03:09:21.017209Z"
    }
   },
   "outputs": [],
   "source": [
    "import os\n",
    "os.environ['OPENAI_API_KEY'] = ''\n",
    "os.environ['PINECONE_API_KEY'] = ''\n",
    "openai_api_key = os.environ['OPENAI_API_KEY']\n",
    "pinecone_api_key = os.environ['PINECONE_API_KEY']"
   ]
  },
  {
   "cell_type": "code",
   "outputs": [],
   "source": [
    "from datasets import load_dataset\n",
    "dataset = load_dataset(\"lcw99/wikipedia-korean-20221001\", split='train[:100]')"
   ],
   "metadata": {
    "collapsed": false,
    "ExecuteTime": {
     "end_time": "2024-04-15T03:09:25.340132Z",
     "start_time": "2024-04-15T03:09:21.022021Z"
    }
   },
   "id": "b8a41a4fb86a4f47",
   "execution_count": 11
  },
  {
   "cell_type": "code",
   "outputs": [],
   "source": [
    "from langchain.text_splitter import RecursiveCharacterTextSplitter\n",
    "\n",
    "text_splitter = RecursiveCharacterTextSplitter(\n",
    "    chunk_size=400,\n",
    "    chunk_overlap=20,\n",
    "    separators=[\"\\n\\n\", \"\\n\", \"\",\" \"]\n",
    "    \n",
    ")"
   ],
   "metadata": {
    "collapsed": false,
    "ExecuteTime": {
     "end_time": "2024-04-15T03:09:25.344631Z",
     "start_time": "2024-04-15T03:09:25.341648Z"
    }
   },
   "id": "b8bc4ce3dc82c385",
   "execution_count": 12
  },
  {
   "cell_type": "code",
   "outputs": [],
   "source": [
    "from pinecone import Pinecone, PodSpec\n",
    "\n",
    "api_key = os.getenv(\"PINECONE_API_KEY\")\n",
    "pc = Pinecone(api_key=api_key)"
   ],
   "metadata": {
    "collapsed": false,
    "ExecuteTime": {
     "end_time": "2024-04-15T03:09:25.349417Z",
     "start_time": "2024-04-15T03:09:25.345361Z"
    }
   },
   "id": "beadb9d67fd7d5a7",
   "execution_count": 13
  },
  {
   "cell_type": "code",
   "outputs": [
    {
     "name": "stdout",
     "output_type": "stream",
     "text": [
      "{'dimension': 1536,\n",
      " 'index_fullness': 0.0,\n",
      " 'namespaces': {},\n",
      " 'total_vector_count': 0}\n"
     ]
    }
   ],
   "source": [
    "from time import sleep\n",
    "\n",
    "index_name = 'vectordbprac'\n",
    "dimension = 1536\n",
    "metric = 'dotproduct'\n",
    "spec = PodSpec('gcp-starter')\n",
    "\n",
    "if index_name in [index_info[\"name\"] for index_info in pc.list_indexes()]:\n",
    "    pc.delete_index(index_name)\n",
    "\n",
    "pc.create_index(index_name, dimension=dimension, metric=metric, spec=spec)\n",
    "\n",
    "while not pc.describe_index(index_name).status['ready']:\n",
    "    sleep(1)\n",
    "    \n",
    "index = pc.Index(index_name)\n",
    "\n",
    "index_stats = index.describe_index_stats()\n",
    "print(index_stats)"
   ],
   "metadata": {
    "collapsed": false,
    "ExecuteTime": {
     "end_time": "2024-04-15T03:10:01.462670Z",
     "start_time": "2024-04-15T03:09:42.665656Z"
    }
   },
   "id": "34005215318febd1",
   "execution_count": 15
  },
  {
   "cell_type": "code",
   "outputs": [],
   "source": [
    "# 청크 단위 임베딩\n",
    "from langchain.embeddings.openai import OpenAIEmbeddings\n",
    "\n",
    "model_name = 'text-embedding-3-small'\n",
    "embed = OpenAIEmbeddings(\n",
    "    \n",
    "    model=model_name,\n",
    "    api_key=openai_api_key\n",
    ")"
   ],
   "metadata": {
    "collapsed": false,
    "ExecuteTime": {
     "end_time": "2024-04-15T03:11:46.318327Z",
     "start_time": "2024-04-15T03:11:46.278474Z"
    }
   },
   "id": "1b45feca34745c8",
   "execution_count": 18
  },
  {
   "cell_type": "code",
   "outputs": [
    {
     "data": {
      "text/plain": "  0%|          | 0/100 [00:00<?, ?it/s]",
      "application/vnd.jupyter.widget-view+json": {
       "version_major": 2,
       "version_minor": 0,
       "model_id": "e03303c63950461fb1d483a51f981dfb"
      }
     },
     "metadata": {},
     "output_type": "display_data"
    }
   ],
   "source": [
    "from tqdm.auto import tqdm\n",
    "from uuid import uuid4\n",
    "\n",
    "def process_and_upload_records(dataset, batch_limit=100):\n",
    "    texts = []\n",
    "    metadatas = []\n",
    "    \n",
    "    for i, record in enumerate(tqdm(dataset)):\n",
    "        metadata = {\n",
    "            'id': str(record['id']),\n",
    "            'source': record['url'],\n",
    "            'title': record['title'],\n",
    "        }\n",
    "        \n",
    "        record_texts = text_splitter.split_text(record['text'])\n",
    "        record_metadatas = [\n",
    "            {\"chunk\": j, \"text\": text, **metadata}\n",
    "            for j, text in enumerate(record_texts)\n",
    "        ]\n",
    "        \n",
    "        texts.extend(record_texts)\n",
    "        metadatas.extend(record_metadatas)\n",
    "        \n",
    "        if len(texts) >= batch_limit:\n",
    "            upload_data(texts, metadatas)\n",
    "            texts, metadatas = [], []\n",
    "        \n",
    "    if texts:\n",
    "        upload_data(texts, metadatas)\n",
    "  \n",
    "def upload_data(texts, metadatas):\n",
    "    ids = [str(uuid4()) for _ in range(len(texts))]\n",
    "    embeds = embed.embed_documents(texts)\n",
    "    index.upsert(vectors=zip(ids, embeds, metadatas))\n",
    "    \n",
    "process_and_upload_records(dataset)"
   ],
   "metadata": {
    "collapsed": false,
    "ExecuteTime": {
     "end_time": "2024-04-15T03:12:28.459429Z",
     "start_time": "2024-04-15T03:11:46.701784Z"
    }
   },
   "id": "6a59a482e93f28b8",
   "execution_count": 19
  },
  {
   "cell_type": "code",
   "outputs": [
    {
     "data": {
      "text/plain": "{'dimension': 1536,\n 'index_fullness': 0.01521,\n 'namespaces': {'': {'vector_count': 1521}},\n 'total_vector_count': 1521}"
     },
     "execution_count": 26,
     "metadata": {},
     "output_type": "execute_result"
    }
   ],
   "source": [
    "index.describe_index_stats()"
   ],
   "metadata": {
    "collapsed": false,
    "ExecuteTime": {
     "end_time": "2024-04-15T03:18:38.412504Z",
     "start_time": "2024-04-15T03:18:38.225763Z"
    }
   },
   "id": "436d5fdc897e9adb",
   "execution_count": 26
  },
  {
   "cell_type": "code",
   "outputs": [],
   "source": [
    "# pinecone api로 기반 문서들 업서트 이후에 랭체인에서 이를 활용하기 위해 백터스토어 오브젝트로 연결\n",
    "from langchain_community.vectorstores import Pinecone\n",
    "\n",
    "text_field = \"text\"\n",
    "\n",
    "vectorstore = Pinecone(\n",
    "    index, embed.embed_query, text_field\n",
    ")"
   ],
   "metadata": {
    "collapsed": false,
    "ExecuteTime": {
     "end_time": "2024-04-15T03:21:02.932205Z",
     "start_time": "2024-04-15T03:21:02.929653Z"
    }
   },
   "id": "2720323807deaf21",
   "execution_count": 28
  },
  {
   "cell_type": "code",
   "outputs": [
    {
     "data": {
      "text/plain": "[Document(page_content='제임스 얼 카터 주니어(, 1924년 10월 1일 ~ )는 민주당 출신 미국 39대 대통령 (1977년 ~ 1981년)이다.\\n\\n생애\\n\\n어린 시절 \\n지미 카터는 조지아주 섬터 카운티 플레인스 마을에서 태어났다.\\n\\n조지아 공과대학교를 졸업하였다. 그 후 해군에 들어가 전함·원자력·잠수함의 승무원으로 일하였다. 1953년 미국 해군 대위로 예편하였고 이후 땅콩·면화 등을 가꿔 많은 돈을 벌었다. 그의 별명이 \"땅콩 농부\" (Peanut Farmer)로 알려졌다.', metadata={'chunk': 0.0, 'id': '5', 'source': 'https://ko.wikipedia.org/wiki/%EC%A7%80%EB%AF%B8%20%EC%B9%B4%ED%84%B0', 'title': '지미 카터'}),\n Document(page_content='지미 카터는 대한민국과의 관계에서도 중요한 영향을 미쳤던 대통령 중 하나다. 인권 문제와 주한미군 철수 문제로 한때 한미 관계가 불편하기도 했다. [1978년 대한민국에 대한 북한의 위협에 대비해 한미연합사를 창설하면서, 1982년까지 3단계에 걸쳐 주한미군을 철수하기로 했다. 그러나 주한미군사령부와 정보기관·의회의 반대에 부딪혀 주한미군은 완전철수 대신 6,000명을 감축하는 데 그쳤다. 또한 박정희 정권의 인권 문제 등과의 논란으로 불협화음을 냈으나, 1979년 6월 하순, 대한민국을 방문하여 관계가 다소 회복되었다.', metadata={'chunk': 4.0, 'id': '5', 'source': 'https://ko.wikipedia.org/wiki/%EC%A7%80%EB%AF%B8%20%EC%B9%B4%ED%84%B0', 'title': '지미 카터'}),\n Document(page_content='퇴임 이후 \\n\\n퇴임 이후 민간 자원을 적극 활용한 비영리 기구인 카터 재단을 설립한 뒤 민주주의 실현을 위해 제 3세계의 선거 감시 활동 및 기니 벌레에 의한 드라쿤쿠르스 질병 방재를 위해 힘썼다. 미국의 빈곤층 지원 활동, 사랑의 집짓기 운동, 국제 분쟁 중재 등의 활동도 했다.\\n\\n카터는 카터 행정부 이후 미국이 북핵 위기, 코소보 전쟁, 이라크 전쟁과 같이 미국이 군사적 행동을 최후로 선택하는 전통적 사고를 버리고 군사적 행동을 선행하는 행위에 대해 깊은 유감을 표시 하며 미국의 군사적 활동에 강한 반대 입장을 보이고 있다.', metadata={'chunk': 6.0, 'id': '5', 'source': 'https://ko.wikipedia.org/wiki/%EC%A7%80%EB%AF%B8%20%EC%B9%B4%ED%84%B0', 'title': '지미 카터'})]"
     },
     "execution_count": 29,
     "metadata": {},
     "output_type": "execute_result"
    }
   ],
   "source": [
    "query = \"지미 카터가 누구야?\"\n",
    "\n",
    "vectorstore.similarity_search(\n",
    "    query, k=3\n",
    ")\n"
   ],
   "metadata": {
    "collapsed": false,
    "ExecuteTime": {
     "end_time": "2024-04-15T03:21:26.299885Z",
     "start_time": "2024-04-15T03:21:24.646982Z"
    }
   },
   "id": "a54ad3b803477173",
   "execution_count": 29
  },
  {
   "cell_type": "code",
   "outputs": [],
   "source": [],
   "metadata": {
    "collapsed": false
   },
   "id": "a3e307e4bbb2a40"
  }
 ],
 "metadata": {
  "kernelspec": {
   "display_name": "Python 3",
   "language": "python",
   "name": "python3"
  },
  "language_info": {
   "codemirror_mode": {
    "name": "ipython",
    "version": 2
   },
   "file_extension": ".py",
   "mimetype": "text/x-python",
   "name": "python",
   "nbconvert_exporter": "python",
   "pygments_lexer": "ipython2",
   "version": "2.7.6"
  }
 },
 "nbformat": 4,
 "nbformat_minor": 5
}
