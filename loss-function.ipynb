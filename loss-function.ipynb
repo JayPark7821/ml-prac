{
 "cells": [
  {
   "cell_type": "markdown",
   "source": [
    "# MNIST 데이터셋의 이해 \n",
    "* loss function"
   ],
   "metadata": {
    "collapsed": false
   },
   "id": "62d0c6eb14dff6a0"
  },
  {
   "cell_type": "code",
   "execution_count": 1,
   "outputs": [],
   "source": [
    "import torch\n",
    "import torch.nn as nn"
   ],
   "metadata": {
    "collapsed": false,
    "ExecuteTime": {
     "end_time": "2024-01-15T13:52:35.549596Z",
     "start_time": "2024-01-15T13:52:31.964402Z"
    }
   },
   "id": "59f02ec37b51f859"
  },
  {
   "cell_type": "code",
   "execution_count": 2,
   "outputs": [],
   "source": [
    "loss_function = nn.CrossEntropyLoss()"
   ],
   "metadata": {
    "collapsed": false,
    "ExecuteTime": {
     "end_time": "2024-01-15T13:52:40.073512Z",
     "start_time": "2024-01-15T13:52:40.056319Z"
    }
   },
   "id": "361dd0cacd1f62a8"
  },
  {
   "cell_type": "code",
   "execution_count": 3,
   "outputs": [
    {
     "data": {
      "text/plain": "2.0085251331329346"
     },
     "execution_count": 3,
     "metadata": {},
     "output_type": "execute_result"
    }
   ],
   "source": [
    "loss = loss_function(torch.tensor([[\n",
    "    0.8982,\n",
    "    0.805,\n",
    "    0.6393,\n",
    "    0.9983,\n",
    "    0.5731,\n",
    "    0.0469,\n",
    "    0.556,\n",
    "    0.1476,\n",
    "    1.2404,\n",
    "    0.5544\n",
    "]]), torch.LongTensor([3]))\n",
    "loss.item()"
   ],
   "metadata": {
    "collapsed": false,
    "ExecuteTime": {
     "end_time": "2024-01-15T13:54:58.970513Z",
     "start_time": "2024-01-15T13:54:58.948572Z"
    }
   },
   "id": "f4891f47d9e35a41"
  },
  {
   "cell_type": "code",
   "execution_count": 4,
   "outputs": [
    {
     "data": {
      "text/plain": "1.5401395559310913"
     },
     "execution_count": 4,
     "metadata": {},
     "output_type": "execute_result"
    }
   ],
   "source": [
    "loss = loss_function(torch.tensor([[\n",
    "    3e-5,\n",
    "    5e-3,\n",
    "    1e-6,\n",
    "    0.9204,\n",
    "    2e-3,\n",
    "    3e-4,\n",
    "    5e-4,\n",
    "    5e-5,\n",
    "    0.176,\n",
    "    5e-4\n",
    "]]), torch.LongTensor([3]))\n",
    "loss.item()"
   ],
   "metadata": {
    "collapsed": false,
    "ExecuteTime": {
     "end_time": "2024-01-15T13:56:07.546812Z",
     "start_time": "2024-01-15T13:56:07.533072Z"
    }
   },
   "id": "4268225cd803eb1d"
  },
  {
   "cell_type": "code",
   "execution_count": 5,
   "outputs": [
    {
     "data": {
      "text/plain": "0.5881900191307068"
     },
     "execution_count": 5,
     "metadata": {},
     "output_type": "execute_result"
    }
   ],
   "source": [
    "loss = loss_function(torch.tensor([[\n",
    "    3e-5,\n",
    "    5e-3,\n",
    "    1e-6,\n",
    "    2.4204,\n",
    "    2e-3,\n",
    "    3e-4,\n",
    "    5e-4,\n",
    "    5e-5,\n",
    "    6e-5,\n",
    "    5e-4\n",
    "]]), torch.LongTensor([3]))\n",
    "loss.item()"
   ],
   "metadata": {
    "collapsed": false,
    "ExecuteTime": {
     "end_time": "2024-01-15T13:56:29.366711Z",
     "start_time": "2024-01-15T13:56:29.360739Z"
    }
   },
   "id": "b1ef3c64d447f915"
  },
  {
   "cell_type": "code",
   "execution_count": null,
   "outputs": [],
   "source": [],
   "metadata": {
    "collapsed": false
   },
   "id": "944ed5c99f320a7e"
  }
 ],
 "metadata": {
  "kernelspec": {
   "display_name": "Python 3",
   "language": "python",
   "name": "python3"
  },
  "language_info": {
   "codemirror_mode": {
    "name": "ipython",
    "version": 2
   },
   "file_extension": ".py",
   "mimetype": "text/x-python",
   "name": "python",
   "nbconvert_exporter": "python",
   "pygments_lexer": "ipython2",
   "version": "2.7.6"
  }
 },
 "nbformat": 4,
 "nbformat_minor": 5
}
