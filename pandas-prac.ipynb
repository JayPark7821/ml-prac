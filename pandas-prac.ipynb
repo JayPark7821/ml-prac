{
 "cells": [
  {
   "cell_type": "markdown",
   "source": [
    "# Pandas 기초"
   ],
   "metadata": {
    "collapsed": false
   },
   "id": "c286e103319c7874"
  },
  {
   "cell_type": "code",
   "outputs": [],
   "source": [
    "import pandas as pd"
   ],
   "metadata": {
    "collapsed": false,
    "ExecuteTime": {
     "end_time": "2024-01-23T01:33:01.775693Z",
     "start_time": "2024-01-23T01:33:01.412866Z"
    }
   },
   "id": "75eb876756a89203",
   "execution_count": 2
  },
  {
   "cell_type": "code",
   "outputs": [],
   "source": [
    "data = {\n",
    "    \"Name\": [\"John\", \"Anna\", \"Peter\"],\n",
    "    \"Age\" : [20,30,10],\n",
    "    \"City\": [\"Seoul\", \"Busan\", \"Daegu\"]\n",
    "}\n",
    "\n",
    "df = pd.DataFrame(data)\n",
    "df.to_csv(\"sample_date.csv\", index=False)"
   ],
   "metadata": {
    "collapsed": false,
    "ExecuteTime": {
     "end_time": "2024-01-23T01:33:02.368701Z",
     "start_time": "2024-01-23T01:33:02.349073Z"
    }
   },
   "id": "ff074b46b7f6aea7",
   "execution_count": 3
  },
  {
   "cell_type": "code",
   "outputs": [
    {
     "data": {
      "text/plain": "    Name  Age   City\n0   John   20  Seoul\n1   Anna   30  Busan\n2  Peter   10  Daegu",
      "text/html": "<div>\n<style scoped>\n    .dataframe tbody tr th:only-of-type {\n        vertical-align: middle;\n    }\n\n    .dataframe tbody tr th {\n        vertical-align: top;\n    }\n\n    .dataframe thead th {\n        text-align: right;\n    }\n</style>\n<table border=\"1\" class=\"dataframe\">\n  <thead>\n    <tr style=\"text-align: right;\">\n      <th></th>\n      <th>Name</th>\n      <th>Age</th>\n      <th>City</th>\n    </tr>\n  </thead>\n  <tbody>\n    <tr>\n      <th>0</th>\n      <td>John</td>\n      <td>20</td>\n      <td>Seoul</td>\n    </tr>\n    <tr>\n      <th>1</th>\n      <td>Anna</td>\n      <td>30</td>\n      <td>Busan</td>\n    </tr>\n    <tr>\n      <th>2</th>\n      <td>Peter</td>\n      <td>10</td>\n      <td>Daegu</td>\n    </tr>\n  </tbody>\n</table>\n</div>"
     },
     "execution_count": 4,
     "metadata": {},
     "output_type": "execute_result"
    }
   ],
   "source": [
    "df = pd.read_csv(\"sample_date.csv\")\n",
    "df"
   ],
   "metadata": {
    "collapsed": false,
    "ExecuteTime": {
     "end_time": "2024-01-23T01:33:03.039984Z",
     "start_time": "2024-01-23T01:33:03.021563Z"
    }
   },
   "id": "ffd7612d8c88cb55",
   "execution_count": 4
  },
  {
   "cell_type": "code",
   "outputs": [
    {
     "name": "stdout",
     "output_type": "stream",
     "text": [
      "Original DataFrame\n",
      "    Name  Age   City\n",
      "0   John   20  Seoul\n",
      "1   Anna   30  Busan\n",
      "2  Peter   10  Daegu\n"
     ]
    }
   ],
   "source": [
    "print(\"Original DataFrame\")\n",
    "print(df)"
   ],
   "metadata": {
    "collapsed": false,
    "ExecuteTime": {
     "end_time": "2024-01-23T01:33:03.949697Z",
     "start_time": "2024-01-23T01:33:03.947549Z"
    }
   },
   "id": "868f8278e141d175",
   "execution_count": 5
  },
  {
   "cell_type": "code",
   "outputs": [
    {
     "name": "stdout",
     "output_type": "stream",
     "text": [
      "Age Column:\n",
      "0    20\n",
      "1    30\n",
      "2    10\n",
      "Name: Age, dtype: int64\n"
     ]
    }
   ],
   "source": [
    "# 열에 접근하여 출력\n",
    "print(\"Age Column:\")\n",
    "print(df[\"Age\"])"
   ],
   "metadata": {
    "collapsed": false,
    "ExecuteTime": {
     "end_time": "2024-01-23T01:33:05.870964Z",
     "start_time": "2024-01-23T01:33:05.867344Z"
    }
   },
   "id": "ed12905af04e2699",
   "execution_count": 6
  },
  {
   "cell_type": "code",
   "outputs": [
    {
     "name": "stdout",
     "output_type": "stream",
     "text": [
      "Filtered DataFrame\n",
      "   Name  Age   City\n",
      "1  Anna   30  Busan\n"
     ]
    }
   ],
   "source": [
    "# 데이터 필터링\n",
    "filtered_df = df[df[\"Age\"] > 20]\n",
    "print(\"Filtered DataFrame\")\n",
    "print(filtered_df)"
   ],
   "metadata": {
    "collapsed": false,
    "ExecuteTime": {
     "end_time": "2024-01-23T01:33:36.791192Z",
     "start_time": "2024-01-23T01:33:36.788480Z"
    }
   },
   "id": "f70625dcdd460d56",
   "execution_count": 7
  },
  {
   "cell_type": "code",
   "outputs": [
    {
     "name": "stdout",
     "output_type": "stream",
     "text": [
      "Add Salary Column\n",
      "    Name  Age   City  Salary\n",
      "0   John   20  Seoul     100\n",
      "1   Anna   30  Busan     200\n",
      "2  Peter   10  Daegu     300\n"
     ]
    }
   ],
   "source": [
    "# 새 열 추가.\n",
    "df[\"Salary\"] = [100, 200, 300]\n",
    "print(\"Add Salary Column\")\n",
    "print(df)"
   ],
   "metadata": {
    "collapsed": false,
    "ExecuteTime": {
     "end_time": "2024-01-23T01:33:59.050977Z",
     "start_time": "2024-01-23T01:33:59.047473Z"
    }
   },
   "id": "91b7932c23af95ed",
   "execution_count": 8
  },
  {
   "cell_type": "code",
   "outputs": [
    {
     "data": {
      "text/plain": "numpy.int64"
     },
     "execution_count": 9,
     "metadata": {},
     "output_type": "execute_result"
    }
   ],
   "source": [
    "# Series 컬럼의 타입\n",
    "type(df[\"Age\"][0])"
   ],
   "metadata": {
    "collapsed": false,
    "ExecuteTime": {
     "end_time": "2024-01-23T01:34:26.163309Z",
     "start_time": "2024-01-23T01:34:26.161331Z"
    }
   },
   "id": "619d04354be24747",
   "execution_count": 9
  },
  {
   "cell_type": "code",
   "outputs": [],
   "source": [
    "import numpy as np"
   ],
   "metadata": {
    "collapsed": false,
    "ExecuteTime": {
     "end_time": "2024-01-23T01:45:13.541956Z",
     "start_time": "2024-01-23T01:45:13.537546Z"
    }
   },
   "id": "a70cc59416d14220",
   "execution_count": 10
  },
  {
   "cell_type": "code",
   "outputs": [],
   "source": [
    "# 데이터 준비\n",
    "np.random.seed(0)\n",
    "data = {\n",
    "    \"Name\": np.random.choice([\"John\", \"Anna\", \"Peter\",\"Jay\",\"Eve\", None], size =1000),\n",
    "    \"Age\" : np.random.randint(20,60, size=1000),\n",
    "    \"City\" : np.random.choice(\n",
    "        [\"Seoul\", \"Busan\", \"Daegu\", \"Incheon\", \"Suwon\", \"London\"], size=1000\n",
    "    ),\n",
    "    \"Salary\" : np.random.randint(20000, 50000, size=1000)\n",
    "}\n",
    "\n",
    "df = pd.DataFrame(data)\n",
    "df.to_csv(\"sample_data_ver2.csv\", index=False)\n",
    "\n",
    "departments = [\"HR\", \"Marketing\", \"Sales\", \"IT\", \"Management\"]\n",
    "np.random.seed(0)\n",
    "df2 = pd.DataFrame({\n",
    "    \"Name\": df[\"Name\"].dropna().unique(),\n",
    "    \"Department\": np.random.choice(departments, size=len(df[\"Name\"].dropna().unique()))\n",
    "})\n",
    "\n",
    "df2.to_csv(\"sample_data_ver3.csv\", index=False)"
   ],
   "metadata": {
    "collapsed": false,
    "ExecuteTime": {
     "end_time": "2024-01-23T01:50:49.794559Z",
     "start_time": "2024-01-23T01:50:49.782866Z"
    }
   },
   "id": "d571264042e79c66",
   "execution_count": 13
  },
  {
   "cell_type": "code",
   "outputs": [
    {
     "data": {
      "text/plain": "     Name  Age    City  Salary\n0     Eve   35   Seoul   30940\n1     NaN   40   Suwon   20889\n2    John   29  London   47456\n3     Jay   24   Daegu   41581\n4     Jay   44   Daegu   29740\n..    ...  ...     ...     ...\n995   Eve   24   Busan   42496\n996   NaN   30  London   41712\n997   NaN   26  London   48546\n998   Jay   28   Seoul   48154\n999  John   28   Suwon   23495\n\n[1000 rows x 4 columns]",
      "text/html": "<div>\n<style scoped>\n    .dataframe tbody tr th:only-of-type {\n        vertical-align: middle;\n    }\n\n    .dataframe tbody tr th {\n        vertical-align: top;\n    }\n\n    .dataframe thead th {\n        text-align: right;\n    }\n</style>\n<table border=\"1\" class=\"dataframe\">\n  <thead>\n    <tr style=\"text-align: right;\">\n      <th></th>\n      <th>Name</th>\n      <th>Age</th>\n      <th>City</th>\n      <th>Salary</th>\n    </tr>\n  </thead>\n  <tbody>\n    <tr>\n      <th>0</th>\n      <td>Eve</td>\n      <td>35</td>\n      <td>Seoul</td>\n      <td>30940</td>\n    </tr>\n    <tr>\n      <th>1</th>\n      <td>NaN</td>\n      <td>40</td>\n      <td>Suwon</td>\n      <td>20889</td>\n    </tr>\n    <tr>\n      <th>2</th>\n      <td>John</td>\n      <td>29</td>\n      <td>London</td>\n      <td>47456</td>\n    </tr>\n    <tr>\n      <th>3</th>\n      <td>Jay</td>\n      <td>24</td>\n      <td>Daegu</td>\n      <td>41581</td>\n    </tr>\n    <tr>\n      <th>4</th>\n      <td>Jay</td>\n      <td>44</td>\n      <td>Daegu</td>\n      <td>29740</td>\n    </tr>\n    <tr>\n      <th>...</th>\n      <td>...</td>\n      <td>...</td>\n      <td>...</td>\n      <td>...</td>\n    </tr>\n    <tr>\n      <th>995</th>\n      <td>Eve</td>\n      <td>24</td>\n      <td>Busan</td>\n      <td>42496</td>\n    </tr>\n    <tr>\n      <th>996</th>\n      <td>NaN</td>\n      <td>30</td>\n      <td>London</td>\n      <td>41712</td>\n    </tr>\n    <tr>\n      <th>997</th>\n      <td>NaN</td>\n      <td>26</td>\n      <td>London</td>\n      <td>48546</td>\n    </tr>\n    <tr>\n      <th>998</th>\n      <td>Jay</td>\n      <td>28</td>\n      <td>Seoul</td>\n      <td>48154</td>\n    </tr>\n    <tr>\n      <th>999</th>\n      <td>John</td>\n      <td>28</td>\n      <td>Suwon</td>\n      <td>23495</td>\n    </tr>\n  </tbody>\n</table>\n<p>1000 rows × 4 columns</p>\n</div>"
     },
     "execution_count": 14,
     "metadata": {},
     "output_type": "execute_result"
    }
   ],
   "source": [
    "df = pd.read_csv(\"sample_data_ver2.csv\")\n",
    "df"
   ],
   "metadata": {
    "collapsed": false,
    "ExecuteTime": {
     "end_time": "2024-01-23T01:50:50.436694Z",
     "start_time": "2024-01-23T01:50:50.427428Z"
    }
   },
   "id": "82a467baaf8e81a",
   "execution_count": 14
  },
  {
   "cell_type": "code",
   "outputs": [
    {
     "data": {
      "text/plain": "     Name  Age    City  Salary\n0     Eve   35   Seoul   30940\n1     NaN   40   Suwon   20889\n2    John   29  London   47456\n3     Jay   24   Daegu   41581\n4     Jay   44   Daegu   29740\n..    ...  ...     ...     ...\n995   Eve   24   Busan   42496\n996   NaN   30  London   41712\n997   NaN   26  London   48546\n998   Jay   28   Seoul   48154\n999  John   28   Suwon   23495\n\n[1000 rows x 4 columns]",
      "text/html": "<div>\n<style scoped>\n    .dataframe tbody tr th:only-of-type {\n        vertical-align: middle;\n    }\n\n    .dataframe tbody tr th {\n        vertical-align: top;\n    }\n\n    .dataframe thead th {\n        text-align: right;\n    }\n</style>\n<table border=\"1\" class=\"dataframe\">\n  <thead>\n    <tr style=\"text-align: right;\">\n      <th></th>\n      <th>Name</th>\n      <th>Age</th>\n      <th>City</th>\n      <th>Salary</th>\n    </tr>\n  </thead>\n  <tbody>\n    <tr>\n      <th>0</th>\n      <td>Eve</td>\n      <td>35</td>\n      <td>Seoul</td>\n      <td>30940</td>\n    </tr>\n    <tr>\n      <th>1</th>\n      <td>NaN</td>\n      <td>40</td>\n      <td>Suwon</td>\n      <td>20889</td>\n    </tr>\n    <tr>\n      <th>2</th>\n      <td>John</td>\n      <td>29</td>\n      <td>London</td>\n      <td>47456</td>\n    </tr>\n    <tr>\n      <th>3</th>\n      <td>Jay</td>\n      <td>24</td>\n      <td>Daegu</td>\n      <td>41581</td>\n    </tr>\n    <tr>\n      <th>4</th>\n      <td>Jay</td>\n      <td>44</td>\n      <td>Daegu</td>\n      <td>29740</td>\n    </tr>\n    <tr>\n      <th>...</th>\n      <td>...</td>\n      <td>...</td>\n      <td>...</td>\n      <td>...</td>\n    </tr>\n    <tr>\n      <th>995</th>\n      <td>Eve</td>\n      <td>24</td>\n      <td>Busan</td>\n      <td>42496</td>\n    </tr>\n    <tr>\n      <th>996</th>\n      <td>NaN</td>\n      <td>30</td>\n      <td>London</td>\n      <td>41712</td>\n    </tr>\n    <tr>\n      <th>997</th>\n      <td>NaN</td>\n      <td>26</td>\n      <td>London</td>\n      <td>48546</td>\n    </tr>\n    <tr>\n      <th>998</th>\n      <td>Jay</td>\n      <td>28</td>\n      <td>Seoul</td>\n      <td>48154</td>\n    </tr>\n    <tr>\n      <th>999</th>\n      <td>John</td>\n      <td>28</td>\n      <td>Suwon</td>\n      <td>23495</td>\n    </tr>\n  </tbody>\n</table>\n<p>1000 rows × 4 columns</p>\n</div>"
     },
     "execution_count": 15,
     "metadata": {},
     "output_type": "execute_result"
    }
   ],
   "source": [
    "df.to_csv(\"new_sample_data_ver2.csv\", index=False)\n",
    "\n",
    "new_df = pd.read_csv(\"new_sample_data_ver2.csv\")\n",
    "new_df"
   ],
   "metadata": {
    "collapsed": false,
    "ExecuteTime": {
     "end_time": "2024-01-23T01:52:41.847202Z",
     "start_time": "2024-01-23T01:52:41.835434Z"
    }
   },
   "id": "d6a5cd271a2fef62",
   "execution_count": 15
  },
  {
   "cell_type": "code",
   "outputs": [
    {
     "data": {
      "text/plain": "     Name  Age    City  Salary\n0     Eve   35   Seoul   30940\n1     NaN   40   Suwon   20889\n2    John   29  London   47456\n3     Jay   24   Daegu   41581\n4     Jay   44   Daegu   29740\n..    ...  ...     ...     ...\n995   Eve   24   Busan   42496\n996   NaN   30  London   41712\n997   NaN   26  London   48546\n998   Jay   28   Seoul   48154\n999  John   28   Suwon   23495\n\n[1000 rows x 4 columns]",
      "text/html": "<div>\n<style scoped>\n    .dataframe tbody tr th:only-of-type {\n        vertical-align: middle;\n    }\n\n    .dataframe tbody tr th {\n        vertical-align: top;\n    }\n\n    .dataframe thead th {\n        text-align: right;\n    }\n</style>\n<table border=\"1\" class=\"dataframe\">\n  <thead>\n    <tr style=\"text-align: right;\">\n      <th></th>\n      <th>Name</th>\n      <th>Age</th>\n      <th>City</th>\n      <th>Salary</th>\n    </tr>\n  </thead>\n  <tbody>\n    <tr>\n      <th>0</th>\n      <td>Eve</td>\n      <td>35</td>\n      <td>Seoul</td>\n      <td>30940</td>\n    </tr>\n    <tr>\n      <th>1</th>\n      <td>NaN</td>\n      <td>40</td>\n      <td>Suwon</td>\n      <td>20889</td>\n    </tr>\n    <tr>\n      <th>2</th>\n      <td>John</td>\n      <td>29</td>\n      <td>London</td>\n      <td>47456</td>\n    </tr>\n    <tr>\n      <th>3</th>\n      <td>Jay</td>\n      <td>24</td>\n      <td>Daegu</td>\n      <td>41581</td>\n    </tr>\n    <tr>\n      <th>4</th>\n      <td>Jay</td>\n      <td>44</td>\n      <td>Daegu</td>\n      <td>29740</td>\n    </tr>\n    <tr>\n      <th>...</th>\n      <td>...</td>\n      <td>...</td>\n      <td>...</td>\n      <td>...</td>\n    </tr>\n    <tr>\n      <th>995</th>\n      <td>Eve</td>\n      <td>24</td>\n      <td>Busan</td>\n      <td>42496</td>\n    </tr>\n    <tr>\n      <th>996</th>\n      <td>NaN</td>\n      <td>30</td>\n      <td>London</td>\n      <td>41712</td>\n    </tr>\n    <tr>\n      <th>997</th>\n      <td>NaN</td>\n      <td>26</td>\n      <td>London</td>\n      <td>48546</td>\n    </tr>\n    <tr>\n      <th>998</th>\n      <td>Jay</td>\n      <td>28</td>\n      <td>Seoul</td>\n      <td>48154</td>\n    </tr>\n    <tr>\n      <th>999</th>\n      <td>John</td>\n      <td>28</td>\n      <td>Suwon</td>\n      <td>23495</td>\n    </tr>\n  </tbody>\n</table>\n<p>1000 rows × 4 columns</p>\n</div>"
     },
     "execution_count": 16,
     "metadata": {},
     "output_type": "execute_result"
    }
   ],
   "source": [
    "df.to_excel(\"new_sample_data_ver2.xlsx\", index=False)\n",
    "\n",
    "new_df = pd.read_excel(\"new_sample_data_ver2.xlsx\")\n",
    "new_df"
   ],
   "metadata": {
    "collapsed": false,
    "ExecuteTime": {
     "end_time": "2024-01-23T01:53:05.095962Z",
     "start_time": "2024-01-23T01:53:04.831740Z"
    }
   },
   "id": "3b4863ec5639ccc4",
   "execution_count": 16
  },
  {
   "cell_type": "code",
   "outputs": [
    {
     "data": {
      "text/plain": "     Name  Age    City  Salary\n0     Eve   35   Seoul   30940\n1    None   40   Suwon   20889\n2    John   29  London   47456\n3     Jay   24   Daegu   41581\n4     Jay   44   Daegu   29740\n..    ...  ...     ...     ...\n995   Eve   24   Busan   42496\n996  None   30  London   41712\n997  None   26  London   48546\n998   Jay   28   Seoul   48154\n999  John   28   Suwon   23495\n\n[1000 rows x 4 columns]",
      "text/html": "<div>\n<style scoped>\n    .dataframe tbody tr th:only-of-type {\n        vertical-align: middle;\n    }\n\n    .dataframe tbody tr th {\n        vertical-align: top;\n    }\n\n    .dataframe thead th {\n        text-align: right;\n    }\n</style>\n<table border=\"1\" class=\"dataframe\">\n  <thead>\n    <tr style=\"text-align: right;\">\n      <th></th>\n      <th>Name</th>\n      <th>Age</th>\n      <th>City</th>\n      <th>Salary</th>\n    </tr>\n  </thead>\n  <tbody>\n    <tr>\n      <th>0</th>\n      <td>Eve</td>\n      <td>35</td>\n      <td>Seoul</td>\n      <td>30940</td>\n    </tr>\n    <tr>\n      <th>1</th>\n      <td>None</td>\n      <td>40</td>\n      <td>Suwon</td>\n      <td>20889</td>\n    </tr>\n    <tr>\n      <th>2</th>\n      <td>John</td>\n      <td>29</td>\n      <td>London</td>\n      <td>47456</td>\n    </tr>\n    <tr>\n      <th>3</th>\n      <td>Jay</td>\n      <td>24</td>\n      <td>Daegu</td>\n      <td>41581</td>\n    </tr>\n    <tr>\n      <th>4</th>\n      <td>Jay</td>\n      <td>44</td>\n      <td>Daegu</td>\n      <td>29740</td>\n    </tr>\n    <tr>\n      <th>...</th>\n      <td>...</td>\n      <td>...</td>\n      <td>...</td>\n      <td>...</td>\n    </tr>\n    <tr>\n      <th>995</th>\n      <td>Eve</td>\n      <td>24</td>\n      <td>Busan</td>\n      <td>42496</td>\n    </tr>\n    <tr>\n      <th>996</th>\n      <td>None</td>\n      <td>30</td>\n      <td>London</td>\n      <td>41712</td>\n    </tr>\n    <tr>\n      <th>997</th>\n      <td>None</td>\n      <td>26</td>\n      <td>London</td>\n      <td>48546</td>\n    </tr>\n    <tr>\n      <th>998</th>\n      <td>Jay</td>\n      <td>28</td>\n      <td>Seoul</td>\n      <td>48154</td>\n    </tr>\n    <tr>\n      <th>999</th>\n      <td>John</td>\n      <td>28</td>\n      <td>Suwon</td>\n      <td>23495</td>\n    </tr>\n  </tbody>\n</table>\n<p>1000 rows × 4 columns</p>\n</div>"
     },
     "execution_count": 17,
     "metadata": {},
     "output_type": "execute_result"
    }
   ],
   "source": [
    "df.to_json(\"new_sample_data_ver2.json\")\n",
    "\n",
    "new_df = pd.read_json(\"new_sample_data_ver2.json\")\n",
    "new_df"
   ],
   "metadata": {
    "collapsed": false,
    "ExecuteTime": {
     "end_time": "2024-01-23T01:53:38.041079Z",
     "start_time": "2024-01-23T01:53:38.023632Z"
    }
   },
   "id": "b2b963d79c8395cf",
   "execution_count": 17
  },
  {
   "cell_type": "code",
   "outputs": [
    {
     "data": {
      "text/plain": "     Name  Age    City  Salary\n0     Eve   35   Seoul   30940\n1    None   40   Suwon   20889\n2    John   29  London   47456\n3     Jay   24   Daegu   41581\n4     Jay   44   Daegu   29740\n..    ...  ...     ...     ...\n995   Eve   24   Busan   42496\n996  None   30  London   41712\n997  None   26  London   48546\n998   Jay   28   Seoul   48154\n999  John   28   Suwon   23495\n\n[1000 rows x 4 columns]",
      "text/html": "<div>\n<style scoped>\n    .dataframe tbody tr th:only-of-type {\n        vertical-align: middle;\n    }\n\n    .dataframe tbody tr th {\n        vertical-align: top;\n    }\n\n    .dataframe thead th {\n        text-align: right;\n    }\n</style>\n<table border=\"1\" class=\"dataframe\">\n  <thead>\n    <tr style=\"text-align: right;\">\n      <th></th>\n      <th>Name</th>\n      <th>Age</th>\n      <th>City</th>\n      <th>Salary</th>\n    </tr>\n  </thead>\n  <tbody>\n    <tr>\n      <th>0</th>\n      <td>Eve</td>\n      <td>35</td>\n      <td>Seoul</td>\n      <td>30940</td>\n    </tr>\n    <tr>\n      <th>1</th>\n      <td>None</td>\n      <td>40</td>\n      <td>Suwon</td>\n      <td>20889</td>\n    </tr>\n    <tr>\n      <th>2</th>\n      <td>John</td>\n      <td>29</td>\n      <td>London</td>\n      <td>47456</td>\n    </tr>\n    <tr>\n      <th>3</th>\n      <td>Jay</td>\n      <td>24</td>\n      <td>Daegu</td>\n      <td>41581</td>\n    </tr>\n    <tr>\n      <th>4</th>\n      <td>Jay</td>\n      <td>44</td>\n      <td>Daegu</td>\n      <td>29740</td>\n    </tr>\n    <tr>\n      <th>...</th>\n      <td>...</td>\n      <td>...</td>\n      <td>...</td>\n      <td>...</td>\n    </tr>\n    <tr>\n      <th>995</th>\n      <td>Eve</td>\n      <td>24</td>\n      <td>Busan</td>\n      <td>42496</td>\n    </tr>\n    <tr>\n      <th>996</th>\n      <td>None</td>\n      <td>30</td>\n      <td>London</td>\n      <td>41712</td>\n    </tr>\n    <tr>\n      <th>997</th>\n      <td>None</td>\n      <td>26</td>\n      <td>London</td>\n      <td>48546</td>\n    </tr>\n    <tr>\n      <th>998</th>\n      <td>Jay</td>\n      <td>28</td>\n      <td>Seoul</td>\n      <td>48154</td>\n    </tr>\n    <tr>\n      <th>999</th>\n      <td>John</td>\n      <td>28</td>\n      <td>Suwon</td>\n      <td>23495</td>\n    </tr>\n  </tbody>\n</table>\n<p>1000 rows × 4 columns</p>\n</div>"
     },
     "execution_count": 18,
     "metadata": {},
     "output_type": "execute_result"
    }
   ],
   "source": [
    "df.to_json(\"new_sample_data_ver2.json\", orient=\"records\", lines=True)\n",
    "\n",
    "new_df = pd.read_json(\"new_sample_data_ver2.json\", lines=True)\n",
    "new_df"
   ],
   "metadata": {
    "collapsed": false,
    "ExecuteTime": {
     "end_time": "2024-01-23T01:55:54.708225Z",
     "start_time": "2024-01-23T01:55:54.692285Z"
    }
   },
   "id": "89ad44ba4c27717b",
   "execution_count": 18
  },
  {
   "cell_type": "markdown",
   "source": [
    "# 데이터 정제"
   ],
   "metadata": {
    "collapsed": false
   },
   "id": "38bf05ea614112ec"
  },
  {
   "cell_type": "code",
   "outputs": [
    {
     "data": {
      "text/plain": "      Name  Age     City  Salary\n0      Eve   35    Seoul   30940\n1      NaN   40    Suwon   20889\n4      Jay   44    Daegu   29740\n5      Jay   50   London   32998\n7      Jay   39    Busan   38993\n..     ...  ...      ...     ...\n989  Peter   37    Busan   33436\n990    NaN   42  Incheon   24932\n991    Eve   33    Busan   22624\n993    NaN   31   London   22116\n996    NaN   30   London   41712\n\n[769 rows x 4 columns]",
      "text/html": "<div>\n<style scoped>\n    .dataframe tbody tr th:only-of-type {\n        vertical-align: middle;\n    }\n\n    .dataframe tbody tr th {\n        vertical-align: top;\n    }\n\n    .dataframe thead th {\n        text-align: right;\n    }\n</style>\n<table border=\"1\" class=\"dataframe\">\n  <thead>\n    <tr style=\"text-align: right;\">\n      <th></th>\n      <th>Name</th>\n      <th>Age</th>\n      <th>City</th>\n      <th>Salary</th>\n    </tr>\n  </thead>\n  <tbody>\n    <tr>\n      <th>0</th>\n      <td>Eve</td>\n      <td>35</td>\n      <td>Seoul</td>\n      <td>30940</td>\n    </tr>\n    <tr>\n      <th>1</th>\n      <td>NaN</td>\n      <td>40</td>\n      <td>Suwon</td>\n      <td>20889</td>\n    </tr>\n    <tr>\n      <th>4</th>\n      <td>Jay</td>\n      <td>44</td>\n      <td>Daegu</td>\n      <td>29740</td>\n    </tr>\n    <tr>\n      <th>5</th>\n      <td>Jay</td>\n      <td>50</td>\n      <td>London</td>\n      <td>32998</td>\n    </tr>\n    <tr>\n      <th>7</th>\n      <td>Jay</td>\n      <td>39</td>\n      <td>Busan</td>\n      <td>38993</td>\n    </tr>\n    <tr>\n      <th>...</th>\n      <td>...</td>\n      <td>...</td>\n      <td>...</td>\n      <td>...</td>\n    </tr>\n    <tr>\n      <th>989</th>\n      <td>Peter</td>\n      <td>37</td>\n      <td>Busan</td>\n      <td>33436</td>\n    </tr>\n    <tr>\n      <th>990</th>\n      <td>NaN</td>\n      <td>42</td>\n      <td>Incheon</td>\n      <td>24932</td>\n    </tr>\n    <tr>\n      <th>991</th>\n      <td>Eve</td>\n      <td>33</td>\n      <td>Busan</td>\n      <td>22624</td>\n    </tr>\n    <tr>\n      <th>993</th>\n      <td>NaN</td>\n      <td>31</td>\n      <td>London</td>\n      <td>22116</td>\n    </tr>\n    <tr>\n      <th>996</th>\n      <td>NaN</td>\n      <td>30</td>\n      <td>London</td>\n      <td>41712</td>\n    </tr>\n  </tbody>\n</table>\n<p>769 rows × 4 columns</p>\n</div>"
     },
     "execution_count": 19,
     "metadata": {},
     "output_type": "execute_result"
    }
   ],
   "source": [
    "# 데이터 불러오기\n",
    "df = pd.read_csv(\"sample_data_ver2.csv\")\n",
    "\n",
    "# 나이가 30세 이상인 사람들만 필터링\n",
    "order_than_30 = df[df[\"Age\"] >= 30]\n",
    "order_than_30"
   ],
   "metadata": {
    "collapsed": false,
    "ExecuteTime": {
     "end_time": "2024-01-23T01:57:50.413800Z",
     "start_time": "2024-01-23T01:57:50.400694Z"
    }
   },
   "id": "90f945669375f954",
   "execution_count": 19
  },
  {
   "cell_type": "code",
   "outputs": [
    {
     "data": {
      "text/plain": "    Name  Age   City  Salary\n0    Eve   35  Seoul   30940\n17  Anna   41  Seoul   48119\n18   NaN   40  Seoul   26447\n20   NaN   57  Seoul   42950\n32  Anna   45  Seoul   21032",
      "text/html": "<div>\n<style scoped>\n    .dataframe tbody tr th:only-of-type {\n        vertical-align: middle;\n    }\n\n    .dataframe tbody tr th {\n        vertical-align: top;\n    }\n\n    .dataframe thead th {\n        text-align: right;\n    }\n</style>\n<table border=\"1\" class=\"dataframe\">\n  <thead>\n    <tr style=\"text-align: right;\">\n      <th></th>\n      <th>Name</th>\n      <th>Age</th>\n      <th>City</th>\n      <th>Salary</th>\n    </tr>\n  </thead>\n  <tbody>\n    <tr>\n      <th>0</th>\n      <td>Eve</td>\n      <td>35</td>\n      <td>Seoul</td>\n      <td>30940</td>\n    </tr>\n    <tr>\n      <th>17</th>\n      <td>Anna</td>\n      <td>41</td>\n      <td>Seoul</td>\n      <td>48119</td>\n    </tr>\n    <tr>\n      <th>18</th>\n      <td>NaN</td>\n      <td>40</td>\n      <td>Seoul</td>\n      <td>26447</td>\n    </tr>\n    <tr>\n      <th>20</th>\n      <td>NaN</td>\n      <td>57</td>\n      <td>Seoul</td>\n      <td>42950</td>\n    </tr>\n    <tr>\n      <th>32</th>\n      <td>Anna</td>\n      <td>45</td>\n      <td>Seoul</td>\n      <td>21032</td>\n    </tr>\n  </tbody>\n</table>\n</div>"
     },
     "execution_count": 20,
     "metadata": {},
     "output_type": "execute_result"
    }
   ],
   "source": [
    "# 데이터 불러오기\n",
    "df = pd.read_csv(\"sample_data_ver2.csv\")\n",
    "\n",
    "# 나이가 30세 이상이며, 서울에 사는 사람들만 필터링\n",
    "order_than_30_and_seoul = df[(df[\"Age\"] >= 30) & (df[\"City\"] == \"Seoul\")]\n",
    "order_than_30_and_seoul.head()"
   ],
   "metadata": {
    "collapsed": false,
    "ExecuteTime": {
     "end_time": "2024-01-23T02:00:11.435063Z",
     "start_time": "2024-01-23T02:00:11.418005Z"
    }
   },
   "id": "1b45874780e29826",
   "execution_count": 20
  },
  {
   "cell_type": "code",
   "outputs": [
    {
     "data": {
      "text/plain": "     Name  Age    City  Salary\n0     Eve   35   Seoul   30940\n2    John   29  London   47456\n3     Jay   24   Daegu   41581\n4     Jay   44   Daegu   29740\n5     Jay   50  London   32998\n..    ...  ...     ...     ...\n992  Anna   22   Daegu   40369\n994   Jay   29  London   47851\n995   Eve   24   Busan   42496\n998   Jay   28   Seoul   48154\n999  John   28   Suwon   23495\n\n[829 rows x 4 columns]",
      "text/html": "<div>\n<style scoped>\n    .dataframe tbody tr th:only-of-type {\n        vertical-align: middle;\n    }\n\n    .dataframe tbody tr th {\n        vertical-align: top;\n    }\n\n    .dataframe thead th {\n        text-align: right;\n    }\n</style>\n<table border=\"1\" class=\"dataframe\">\n  <thead>\n    <tr style=\"text-align: right;\">\n      <th></th>\n      <th>Name</th>\n      <th>Age</th>\n      <th>City</th>\n      <th>Salary</th>\n    </tr>\n  </thead>\n  <tbody>\n    <tr>\n      <th>0</th>\n      <td>Eve</td>\n      <td>35</td>\n      <td>Seoul</td>\n      <td>30940</td>\n    </tr>\n    <tr>\n      <th>2</th>\n      <td>John</td>\n      <td>29</td>\n      <td>London</td>\n      <td>47456</td>\n    </tr>\n    <tr>\n      <th>3</th>\n      <td>Jay</td>\n      <td>24</td>\n      <td>Daegu</td>\n      <td>41581</td>\n    </tr>\n    <tr>\n      <th>4</th>\n      <td>Jay</td>\n      <td>44</td>\n      <td>Daegu</td>\n      <td>29740</td>\n    </tr>\n    <tr>\n      <th>5</th>\n      <td>Jay</td>\n      <td>50</td>\n      <td>London</td>\n      <td>32998</td>\n    </tr>\n    <tr>\n      <th>...</th>\n      <td>...</td>\n      <td>...</td>\n      <td>...</td>\n      <td>...</td>\n    </tr>\n    <tr>\n      <th>992</th>\n      <td>Anna</td>\n      <td>22</td>\n      <td>Daegu</td>\n      <td>40369</td>\n    </tr>\n    <tr>\n      <th>994</th>\n      <td>Jay</td>\n      <td>29</td>\n      <td>London</td>\n      <td>47851</td>\n    </tr>\n    <tr>\n      <th>995</th>\n      <td>Eve</td>\n      <td>24</td>\n      <td>Busan</td>\n      <td>42496</td>\n    </tr>\n    <tr>\n      <th>998</th>\n      <td>Jay</td>\n      <td>28</td>\n      <td>Seoul</td>\n      <td>48154</td>\n    </tr>\n    <tr>\n      <th>999</th>\n      <td>John</td>\n      <td>28</td>\n      <td>Suwon</td>\n      <td>23495</td>\n    </tr>\n  </tbody>\n</table>\n<p>829 rows × 4 columns</p>\n</div>"
     },
     "execution_count": 21,
     "metadata": {},
     "output_type": "execute_result"
    }
   ],
   "source": [
    "# 데이터 불러오기\n",
    "df = pd.read_csv(\"sample_data_ver2.csv\")\n",
    "\n",
    "# 이름이 None인 행 제거\n",
    "df_not_null = df[df[\"Name\"].notna()]\n",
    "df_not_null"
   ],
   "metadata": {
    "collapsed": false,
    "ExecuteTime": {
     "end_time": "2024-01-23T02:01:29.933034Z",
     "start_time": "2024-01-23T02:01:29.925303Z"
    }
   },
   "id": "a5d3294628a7c9a0",
   "execution_count": 21
  },
  {
   "cell_type": "code",
   "outputs": [
    {
     "data": {
      "text/plain": "    Name  Age     City  Salary\n1    NaN   40    Suwon   20889\n8    NaN   23   London   28323\n18   NaN   40    Seoul   26447\n20   NaN   57    Seoul   42950\n27   NaN   54    Suwon   49465\n..   ...  ...      ...     ...\n986  NaN   21    Daegu   48758\n990  NaN   42  Incheon   24932\n993  NaN   31   London   22116\n996  NaN   30   London   41712\n997  NaN   26   London   48546\n\n[171 rows x 4 columns]",
      "text/html": "<div>\n<style scoped>\n    .dataframe tbody tr th:only-of-type {\n        vertical-align: middle;\n    }\n\n    .dataframe tbody tr th {\n        vertical-align: top;\n    }\n\n    .dataframe thead th {\n        text-align: right;\n    }\n</style>\n<table border=\"1\" class=\"dataframe\">\n  <thead>\n    <tr style=\"text-align: right;\">\n      <th></th>\n      <th>Name</th>\n      <th>Age</th>\n      <th>City</th>\n      <th>Salary</th>\n    </tr>\n  </thead>\n  <tbody>\n    <tr>\n      <th>1</th>\n      <td>NaN</td>\n      <td>40</td>\n      <td>Suwon</td>\n      <td>20889</td>\n    </tr>\n    <tr>\n      <th>8</th>\n      <td>NaN</td>\n      <td>23</td>\n      <td>London</td>\n      <td>28323</td>\n    </tr>\n    <tr>\n      <th>18</th>\n      <td>NaN</td>\n      <td>40</td>\n      <td>Seoul</td>\n      <td>26447</td>\n    </tr>\n    <tr>\n      <th>20</th>\n      <td>NaN</td>\n      <td>57</td>\n      <td>Seoul</td>\n      <td>42950</td>\n    </tr>\n    <tr>\n      <th>27</th>\n      <td>NaN</td>\n      <td>54</td>\n      <td>Suwon</td>\n      <td>49465</td>\n    </tr>\n    <tr>\n      <th>...</th>\n      <td>...</td>\n      <td>...</td>\n      <td>...</td>\n      <td>...</td>\n    </tr>\n    <tr>\n      <th>986</th>\n      <td>NaN</td>\n      <td>21</td>\n      <td>Daegu</td>\n      <td>48758</td>\n    </tr>\n    <tr>\n      <th>990</th>\n      <td>NaN</td>\n      <td>42</td>\n      <td>Incheon</td>\n      <td>24932</td>\n    </tr>\n    <tr>\n      <th>993</th>\n      <td>NaN</td>\n      <td>31</td>\n      <td>London</td>\n      <td>22116</td>\n    </tr>\n    <tr>\n      <th>996</th>\n      <td>NaN</td>\n      <td>30</td>\n      <td>London</td>\n      <td>41712</td>\n    </tr>\n    <tr>\n      <th>997</th>\n      <td>NaN</td>\n      <td>26</td>\n      <td>London</td>\n      <td>48546</td>\n    </tr>\n  </tbody>\n</table>\n<p>171 rows × 4 columns</p>\n</div>"
     },
     "execution_count": 22,
     "metadata": {},
     "output_type": "execute_result"
    }
   ],
   "source": [
    "# 데이터 불러오기\n",
    "df = pd.read_csv(\"sample_data_ver2.csv\")\n",
    "\n",
    "\n",
    "df_not_null = df[df[\"Name\"].isna()]\n",
    "df_not_null"
   ],
   "metadata": {
    "collapsed": false,
    "ExecuteTime": {
     "end_time": "2024-01-23T02:06:52.889893Z",
     "start_time": "2024-01-23T02:06:52.875942Z"
    }
   },
   "id": "d84fa87925e3f0ab",
   "execution_count": 22
  },
  {
   "cell_type": "code",
   "outputs": [
    {
     "data": {
      "text/plain": "     Name  Age     City  Salary\n3     Jay   24    Daegu   41581\n4     Jay   44    Daegu   29740\n5     Jay   50   London   32998\n6    Anna   22   London   21137\n7     Jay   39    Busan   38993\n..    ...  ...      ...     ...\n979   Jay   56    Daegu   22844\n980  Anna   41  Incheon   32670\n992  Anna   22    Daegu   40369\n994   Jay   29   London   47851\n998   Jay   28    Seoul   48154\n\n[340 rows x 4 columns]",
      "text/html": "<div>\n<style scoped>\n    .dataframe tbody tr th:only-of-type {\n        vertical-align: middle;\n    }\n\n    .dataframe tbody tr th {\n        vertical-align: top;\n    }\n\n    .dataframe thead th {\n        text-align: right;\n    }\n</style>\n<table border=\"1\" class=\"dataframe\">\n  <thead>\n    <tr style=\"text-align: right;\">\n      <th></th>\n      <th>Name</th>\n      <th>Age</th>\n      <th>City</th>\n      <th>Salary</th>\n    </tr>\n  </thead>\n  <tbody>\n    <tr>\n      <th>3</th>\n      <td>Jay</td>\n      <td>24</td>\n      <td>Daegu</td>\n      <td>41581</td>\n    </tr>\n    <tr>\n      <th>4</th>\n      <td>Jay</td>\n      <td>44</td>\n      <td>Daegu</td>\n      <td>29740</td>\n    </tr>\n    <tr>\n      <th>5</th>\n      <td>Jay</td>\n      <td>50</td>\n      <td>London</td>\n      <td>32998</td>\n    </tr>\n    <tr>\n      <th>6</th>\n      <td>Anna</td>\n      <td>22</td>\n      <td>London</td>\n      <td>21137</td>\n    </tr>\n    <tr>\n      <th>7</th>\n      <td>Jay</td>\n      <td>39</td>\n      <td>Busan</td>\n      <td>38993</td>\n    </tr>\n    <tr>\n      <th>...</th>\n      <td>...</td>\n      <td>...</td>\n      <td>...</td>\n      <td>...</td>\n    </tr>\n    <tr>\n      <th>979</th>\n      <td>Jay</td>\n      <td>56</td>\n      <td>Daegu</td>\n      <td>22844</td>\n    </tr>\n    <tr>\n      <th>980</th>\n      <td>Anna</td>\n      <td>41</td>\n      <td>Incheon</td>\n      <td>32670</td>\n    </tr>\n    <tr>\n      <th>992</th>\n      <td>Anna</td>\n      <td>22</td>\n      <td>Daegu</td>\n      <td>40369</td>\n    </tr>\n    <tr>\n      <th>994</th>\n      <td>Jay</td>\n      <td>29</td>\n      <td>London</td>\n      <td>47851</td>\n    </tr>\n    <tr>\n      <th>998</th>\n      <td>Jay</td>\n      <td>28</td>\n      <td>Seoul</td>\n      <td>48154</td>\n    </tr>\n  </tbody>\n</table>\n<p>340 rows × 4 columns</p>\n</div>"
     },
     "execution_count": 24,
     "metadata": {},
     "output_type": "execute_result"
    }
   ],
   "source": [
    "# 데이터 불러오기\n",
    "df = pd.read_csv(\"sample_data_ver2.csv\")\n",
    "\n",
    "# like\n",
    "df_with_a = df[df[\"Name\"].str.contains(\"a\", na=False)]\n",
    "df_with_a"
   ],
   "metadata": {
    "collapsed": false,
    "ExecuteTime": {
     "end_time": "2024-01-23T02:07:51.164458Z",
     "start_time": "2024-01-23T02:07:51.153207Z"
    }
   },
   "id": "97236567ded2e3e8",
   "execution_count": 24
  },
  {
   "cell_type": "markdown",
   "source": [
    "# 데이터 변환"
   ],
   "metadata": {
    "collapsed": false
   },
   "id": "c7e4b75f1fb70fcf"
  },
  {
   "cell_type": "code",
   "outputs": [
    {
     "data": {
      "text/plain": "     Name  Age    City  Salary\n0     EVE   35   Seoul   30940\n1     NaN   40   Suwon   20889\n2    JOHN   29  London   47456\n3     JAY   24   Daegu   41581\n4     JAY   44   Daegu   29740\n..    ...  ...     ...     ...\n995   EVE   24   Busan   42496\n996   NaN   30  London   41712\n997   NaN   26  London   48546\n998   JAY   28   Seoul   48154\n999  JOHN   28   Suwon   23495\n\n[1000 rows x 4 columns]",
      "text/html": "<div>\n<style scoped>\n    .dataframe tbody tr th:only-of-type {\n        vertical-align: middle;\n    }\n\n    .dataframe tbody tr th {\n        vertical-align: top;\n    }\n\n    .dataframe thead th {\n        text-align: right;\n    }\n</style>\n<table border=\"1\" class=\"dataframe\">\n  <thead>\n    <tr style=\"text-align: right;\">\n      <th></th>\n      <th>Name</th>\n      <th>Age</th>\n      <th>City</th>\n      <th>Salary</th>\n    </tr>\n  </thead>\n  <tbody>\n    <tr>\n      <th>0</th>\n      <td>EVE</td>\n      <td>35</td>\n      <td>Seoul</td>\n      <td>30940</td>\n    </tr>\n    <tr>\n      <th>1</th>\n      <td>NaN</td>\n      <td>40</td>\n      <td>Suwon</td>\n      <td>20889</td>\n    </tr>\n    <tr>\n      <th>2</th>\n      <td>JOHN</td>\n      <td>29</td>\n      <td>London</td>\n      <td>47456</td>\n    </tr>\n    <tr>\n      <th>3</th>\n      <td>JAY</td>\n      <td>24</td>\n      <td>Daegu</td>\n      <td>41581</td>\n    </tr>\n    <tr>\n      <th>4</th>\n      <td>JAY</td>\n      <td>44</td>\n      <td>Daegu</td>\n      <td>29740</td>\n    </tr>\n    <tr>\n      <th>...</th>\n      <td>...</td>\n      <td>...</td>\n      <td>...</td>\n      <td>...</td>\n    </tr>\n    <tr>\n      <th>995</th>\n      <td>EVE</td>\n      <td>24</td>\n      <td>Busan</td>\n      <td>42496</td>\n    </tr>\n    <tr>\n      <th>996</th>\n      <td>NaN</td>\n      <td>30</td>\n      <td>London</td>\n      <td>41712</td>\n    </tr>\n    <tr>\n      <th>997</th>\n      <td>NaN</td>\n      <td>26</td>\n      <td>London</td>\n      <td>48546</td>\n    </tr>\n    <tr>\n      <th>998</th>\n      <td>JAY</td>\n      <td>28</td>\n      <td>Seoul</td>\n      <td>48154</td>\n    </tr>\n    <tr>\n      <th>999</th>\n      <td>JOHN</td>\n      <td>28</td>\n      <td>Suwon</td>\n      <td>23495</td>\n    </tr>\n  </tbody>\n</table>\n<p>1000 rows × 4 columns</p>\n</div>"
     },
     "execution_count": 26,
     "metadata": {},
     "output_type": "execute_result"
    }
   ],
   "source": [
    "# 데이터 불러오기\n",
    "df = pd.read_csv(\"sample_data_ver2.csv\")\n",
    "\n",
    "# 이름 대문자로 변환\n",
    "df[\"Name\"] = df[\"Name\"].apply(lambda x: x.upper() if pd.notna(x) else x)\n",
    "df"
   ],
   "metadata": {
    "collapsed": false,
    "ExecuteTime": {
     "end_time": "2024-01-23T02:09:27.428321Z",
     "start_time": "2024-01-23T02:09:27.421402Z"
    }
   },
   "id": "ca76e67e78c36633",
   "execution_count": 26
  },
  {
   "cell_type": "code",
   "outputs": [
    {
     "data": {
      "text/plain": "     Name  Age    City  Salary            Name_City\n0     Eve   35   Seoul   30940           Eve(Seoul)\n1     NaN   40   Suwon   20889   Unknown from Suwon\n2    John   29  London   47456         John(London)\n3     Jay   24   Daegu   41581           Jay(Daegu)\n4     Jay   44   Daegu   29740           Jay(Daegu)\n..    ...  ...     ...     ...                  ...\n995   Eve   24   Busan   42496           Eve(Busan)\n996   NaN   30  London   41712  Unknown from London\n997   NaN   26  London   48546  Unknown from London\n998   Jay   28   Seoul   48154           Jay(Seoul)\n999  John   28   Suwon   23495          John(Suwon)\n\n[1000 rows x 5 columns]",
      "text/html": "<div>\n<style scoped>\n    .dataframe tbody tr th:only-of-type {\n        vertical-align: middle;\n    }\n\n    .dataframe tbody tr th {\n        vertical-align: top;\n    }\n\n    .dataframe thead th {\n        text-align: right;\n    }\n</style>\n<table border=\"1\" class=\"dataframe\">\n  <thead>\n    <tr style=\"text-align: right;\">\n      <th></th>\n      <th>Name</th>\n      <th>Age</th>\n      <th>City</th>\n      <th>Salary</th>\n      <th>Name_City</th>\n    </tr>\n  </thead>\n  <tbody>\n    <tr>\n      <th>0</th>\n      <td>Eve</td>\n      <td>35</td>\n      <td>Seoul</td>\n      <td>30940</td>\n      <td>Eve(Seoul)</td>\n    </tr>\n    <tr>\n      <th>1</th>\n      <td>NaN</td>\n      <td>40</td>\n      <td>Suwon</td>\n      <td>20889</td>\n      <td>Unknown from Suwon</td>\n    </tr>\n    <tr>\n      <th>2</th>\n      <td>John</td>\n      <td>29</td>\n      <td>London</td>\n      <td>47456</td>\n      <td>John(London)</td>\n    </tr>\n    <tr>\n      <th>3</th>\n      <td>Jay</td>\n      <td>24</td>\n      <td>Daegu</td>\n      <td>41581</td>\n      <td>Jay(Daegu)</td>\n    </tr>\n    <tr>\n      <th>4</th>\n      <td>Jay</td>\n      <td>44</td>\n      <td>Daegu</td>\n      <td>29740</td>\n      <td>Jay(Daegu)</td>\n    </tr>\n    <tr>\n      <th>...</th>\n      <td>...</td>\n      <td>...</td>\n      <td>...</td>\n      <td>...</td>\n      <td>...</td>\n    </tr>\n    <tr>\n      <th>995</th>\n      <td>Eve</td>\n      <td>24</td>\n      <td>Busan</td>\n      <td>42496</td>\n      <td>Eve(Busan)</td>\n    </tr>\n    <tr>\n      <th>996</th>\n      <td>NaN</td>\n      <td>30</td>\n      <td>London</td>\n      <td>41712</td>\n      <td>Unknown from London</td>\n    </tr>\n    <tr>\n      <th>997</th>\n      <td>NaN</td>\n      <td>26</td>\n      <td>London</td>\n      <td>48546</td>\n      <td>Unknown from London</td>\n    </tr>\n    <tr>\n      <th>998</th>\n      <td>Jay</td>\n      <td>28</td>\n      <td>Seoul</td>\n      <td>48154</td>\n      <td>Jay(Seoul)</td>\n    </tr>\n    <tr>\n      <th>999</th>\n      <td>John</td>\n      <td>28</td>\n      <td>Suwon</td>\n      <td>23495</td>\n      <td>John(Suwon)</td>\n    </tr>\n  </tbody>\n</table>\n<p>1000 rows × 5 columns</p>\n</div>"
     },
     "execution_count": 27,
     "metadata": {},
     "output_type": "execute_result"
    }
   ],
   "source": [
    "# 데이터 불러오기\n",
    "df = pd.read_csv(\"sample_data_ver2.csv\")\n",
    "\n",
    "# 이름과 도시를 결합한 새로운 컬럼 생성\n",
    "def process(row: pd.Series) -> str:\n",
    "    if pd.notna(row['Name']):\n",
    "        return f\"{row['Name']}({row['City']})\"\n",
    "    else:\n",
    "        return f\"Unknown from {row['City']}\"\n",
    "df[\"Name_City\"] = df.apply(process, axis=1)\n",
    "df"
   ],
   "metadata": {
    "collapsed": false,
    "ExecuteTime": {
     "end_time": "2024-01-23T02:12:12.213805Z",
     "start_time": "2024-01-23T02:12:12.198752Z"
    }
   },
   "id": "2526bfb9b301bd5e",
   "execution_count": 27
  },
  {
   "cell_type": "markdown",
   "source": [
    "# 데이터 집계/조인"
   ],
   "metadata": {
    "collapsed": false
   },
   "id": "83c8781228f4db29"
  },
  {
   "cell_type": "code",
   "outputs": [
    {
     "data": {
      "text/plain": "34854.766"
     },
     "execution_count": 28,
     "metadata": {},
     "output_type": "execute_result"
    }
   ],
   "source": [
    "# 데이터 불러오기\n",
    "df = pd.read_csv(\"sample_data_ver2.csv\")\n",
    "\n",
    "# 평균 연봉 계산\n",
    "average_salary = df[\"Salary\"].mean()\n",
    "average_salary"
   ],
   "metadata": {
    "collapsed": false,
    "ExecuteTime": {
     "end_time": "2024-01-23T02:13:44.326438Z",
     "start_time": "2024-01-23T02:13:44.318788Z"
    }
   },
   "id": "5fdc34ce31416b1c",
   "execution_count": 28
  },
  {
   "cell_type": "code",
   "outputs": [
    {
     "data": {
      "text/plain": "City\nBusan      39.987261\nDaegu      38.596491\nIncheon    39.914439\nLondon     38.686747\nSeoul      40.320261\nSuwon      40.493976\nName: Age, dtype: float64"
     },
     "execution_count": 29,
     "metadata": {},
     "output_type": "execute_result"
    }
   ],
   "source": [
    "# 데이터 불러오기\n",
    "df = pd.read_csv(\"sample_data_ver2.csv\")\n",
    "\n",
    "# 도시별 평균 나이 계싼\n",
    "average_age_by_city = df.groupby(\"City\")[\"Age\"].mean()\n",
    "average_age_by_city"
   ],
   "metadata": {
    "collapsed": false,
    "ExecuteTime": {
     "end_time": "2024-01-23T02:14:12.786210Z",
     "start_time": "2024-01-23T02:14:12.775331Z"
    }
   },
   "id": "72ade157036ac103",
   "execution_count": 29
  },
  {
   "cell_type": "code",
   "outputs": [
    {
     "data": {
      "text/plain": "         Age     Salary\nmin   20.000  20010.000\nmax   59.000  49936.000\nmean  39.655  34854.766",
      "text/html": "<div>\n<style scoped>\n    .dataframe tbody tr th:only-of-type {\n        vertical-align: middle;\n    }\n\n    .dataframe tbody tr th {\n        vertical-align: top;\n    }\n\n    .dataframe thead th {\n        text-align: right;\n    }\n</style>\n<table border=\"1\" class=\"dataframe\">\n  <thead>\n    <tr style=\"text-align: right;\">\n      <th></th>\n      <th>Age</th>\n      <th>Salary</th>\n    </tr>\n  </thead>\n  <tbody>\n    <tr>\n      <th>min</th>\n      <td>20.000</td>\n      <td>20010.000</td>\n    </tr>\n    <tr>\n      <th>max</th>\n      <td>59.000</td>\n      <td>49936.000</td>\n    </tr>\n    <tr>\n      <th>mean</th>\n      <td>39.655</td>\n      <td>34854.766</td>\n    </tr>\n  </tbody>\n</table>\n</div>"
     },
     "execution_count": 30,
     "metadata": {},
     "output_type": "execute_result"
    }
   ],
   "source": [
    "# 데이터 불러오기\n",
    "df = pd.read_csv(\"sample_data_ver2.csv\")\n",
    "\n",
    "# 이름 대문자로 변환\n",
    "aggregated_date = df.agg({\"Age\": [\"min\", \"max\", \"mean\"], \"Salary\": [\"min\", \"max\", \"mean\"]})\n",
    "aggregated_date"
   ],
   "metadata": {
    "collapsed": false,
    "ExecuteTime": {
     "end_time": "2024-01-23T02:15:27.150969Z",
     "start_time": "2024-01-23T02:15:27.139966Z"
    }
   },
   "id": "be0d73230ebc6365",
   "execution_count": 30
  },
  {
   "cell_type": "code",
   "outputs": [
    {
     "data": {
      "text/plain": "      Name  Age    City  Salary  Department\n0      Eve   35   Seoul   30940  Management\n1      Eve   31   Daegu   23187  Management\n2      Eve   37   Busan   47021  Management\n3      Eve   56   Daegu   37254  Management\n4      Eve   46  London   23843  Management\n..     ...  ...     ...     ...         ...\n824  Peter   34   Seoul   26182          IT\n825  Peter   50   Suwon   28374          IT\n826  Peter   35   Suwon   37823          IT\n827  Peter   35   Daegu   43026          IT\n828  Peter   37   Busan   33436          IT\n\n[829 rows x 5 columns]",
      "text/html": "<div>\n<style scoped>\n    .dataframe tbody tr th:only-of-type {\n        vertical-align: middle;\n    }\n\n    .dataframe tbody tr th {\n        vertical-align: top;\n    }\n\n    .dataframe thead th {\n        text-align: right;\n    }\n</style>\n<table border=\"1\" class=\"dataframe\">\n  <thead>\n    <tr style=\"text-align: right;\">\n      <th></th>\n      <th>Name</th>\n      <th>Age</th>\n      <th>City</th>\n      <th>Salary</th>\n      <th>Department</th>\n    </tr>\n  </thead>\n  <tbody>\n    <tr>\n      <th>0</th>\n      <td>Eve</td>\n      <td>35</td>\n      <td>Seoul</td>\n      <td>30940</td>\n      <td>Management</td>\n    </tr>\n    <tr>\n      <th>1</th>\n      <td>Eve</td>\n      <td>31</td>\n      <td>Daegu</td>\n      <td>23187</td>\n      <td>Management</td>\n    </tr>\n    <tr>\n      <th>2</th>\n      <td>Eve</td>\n      <td>37</td>\n      <td>Busan</td>\n      <td>47021</td>\n      <td>Management</td>\n    </tr>\n    <tr>\n      <th>3</th>\n      <td>Eve</td>\n      <td>56</td>\n      <td>Daegu</td>\n      <td>37254</td>\n      <td>Management</td>\n    </tr>\n    <tr>\n      <th>4</th>\n      <td>Eve</td>\n      <td>46</td>\n      <td>London</td>\n      <td>23843</td>\n      <td>Management</td>\n    </tr>\n    <tr>\n      <th>...</th>\n      <td>...</td>\n      <td>...</td>\n      <td>...</td>\n      <td>...</td>\n      <td>...</td>\n    </tr>\n    <tr>\n      <th>824</th>\n      <td>Peter</td>\n      <td>34</td>\n      <td>Seoul</td>\n      <td>26182</td>\n      <td>IT</td>\n    </tr>\n    <tr>\n      <th>825</th>\n      <td>Peter</td>\n      <td>50</td>\n      <td>Suwon</td>\n      <td>28374</td>\n      <td>IT</td>\n    </tr>\n    <tr>\n      <th>826</th>\n      <td>Peter</td>\n      <td>35</td>\n      <td>Suwon</td>\n      <td>37823</td>\n      <td>IT</td>\n    </tr>\n    <tr>\n      <th>827</th>\n      <td>Peter</td>\n      <td>35</td>\n      <td>Daegu</td>\n      <td>43026</td>\n      <td>IT</td>\n    </tr>\n    <tr>\n      <th>828</th>\n      <td>Peter</td>\n      <td>37</td>\n      <td>Busan</td>\n      <td>33436</td>\n      <td>IT</td>\n    </tr>\n  </tbody>\n</table>\n<p>829 rows × 5 columns</p>\n</div>"
     },
     "execution_count": 31,
     "metadata": {},
     "output_type": "execute_result"
    }
   ],
   "source": [
    "# 데이터 불러오기\n",
    "df1 = pd.read_csv(\"sample_data_ver2.csv\")\n",
    "df2 = pd.read_csv(\"sample_data_ver3.csv\")\n",
    "\n",
    "# 이름을 기준으로 inner join\n",
    "inner_joined = pd.merge(df1, df2, on=\"Name\", how=\"inner\")\n",
    "inner_joined"
   ],
   "metadata": {
    "collapsed": false,
    "ExecuteTime": {
     "end_time": "2024-01-23T02:16:41.845476Z",
     "start_time": "2024-01-23T02:16:41.832867Z"
    }
   },
   "id": "659d7775512fc749",
   "execution_count": 31
  },
  {
   "cell_type": "code",
   "outputs": [
    {
     "data": {
      "text/plain": "      Name  Age    City  Salary  Department\n0      Eve   35   Seoul   30940  Management\n1      Eve   31   Daegu   23187  Management\n2      Eve   37   Busan   47021  Management\n3      Eve   56   Daegu   37254  Management\n4      Eve   46  London   23843  Management\n..     ...  ...     ...     ...         ...\n995  Peter   34   Seoul   26182          IT\n996  Peter   50   Suwon   28374          IT\n997  Peter   35   Suwon   37823          IT\n998  Peter   35   Daegu   43026          IT\n999  Peter   37   Busan   33436          IT\n\n[1000 rows x 5 columns]",
      "text/html": "<div>\n<style scoped>\n    .dataframe tbody tr th:only-of-type {\n        vertical-align: middle;\n    }\n\n    .dataframe tbody tr th {\n        vertical-align: top;\n    }\n\n    .dataframe thead th {\n        text-align: right;\n    }\n</style>\n<table border=\"1\" class=\"dataframe\">\n  <thead>\n    <tr style=\"text-align: right;\">\n      <th></th>\n      <th>Name</th>\n      <th>Age</th>\n      <th>City</th>\n      <th>Salary</th>\n      <th>Department</th>\n    </tr>\n  </thead>\n  <tbody>\n    <tr>\n      <th>0</th>\n      <td>Eve</td>\n      <td>35</td>\n      <td>Seoul</td>\n      <td>30940</td>\n      <td>Management</td>\n    </tr>\n    <tr>\n      <th>1</th>\n      <td>Eve</td>\n      <td>31</td>\n      <td>Daegu</td>\n      <td>23187</td>\n      <td>Management</td>\n    </tr>\n    <tr>\n      <th>2</th>\n      <td>Eve</td>\n      <td>37</td>\n      <td>Busan</td>\n      <td>47021</td>\n      <td>Management</td>\n    </tr>\n    <tr>\n      <th>3</th>\n      <td>Eve</td>\n      <td>56</td>\n      <td>Daegu</td>\n      <td>37254</td>\n      <td>Management</td>\n    </tr>\n    <tr>\n      <th>4</th>\n      <td>Eve</td>\n      <td>46</td>\n      <td>London</td>\n      <td>23843</td>\n      <td>Management</td>\n    </tr>\n    <tr>\n      <th>...</th>\n      <td>...</td>\n      <td>...</td>\n      <td>...</td>\n      <td>...</td>\n      <td>...</td>\n    </tr>\n    <tr>\n      <th>995</th>\n      <td>Peter</td>\n      <td>34</td>\n      <td>Seoul</td>\n      <td>26182</td>\n      <td>IT</td>\n    </tr>\n    <tr>\n      <th>996</th>\n      <td>Peter</td>\n      <td>50</td>\n      <td>Suwon</td>\n      <td>28374</td>\n      <td>IT</td>\n    </tr>\n    <tr>\n      <th>997</th>\n      <td>Peter</td>\n      <td>35</td>\n      <td>Suwon</td>\n      <td>37823</td>\n      <td>IT</td>\n    </tr>\n    <tr>\n      <th>998</th>\n      <td>Peter</td>\n      <td>35</td>\n      <td>Daegu</td>\n      <td>43026</td>\n      <td>IT</td>\n    </tr>\n    <tr>\n      <th>999</th>\n      <td>Peter</td>\n      <td>37</td>\n      <td>Busan</td>\n      <td>33436</td>\n      <td>IT</td>\n    </tr>\n  </tbody>\n</table>\n<p>1000 rows × 5 columns</p>\n</div>"
     },
     "execution_count": 32,
     "metadata": {},
     "output_type": "execute_result"
    }
   ],
   "source": [
    "# 데이터 불러오기\n",
    "df1 = pd.read_csv(\"sample_data_ver2.csv\")\n",
    "df2 = pd.read_csv(\"sample_data_ver3.csv\")\n",
    "\n",
    "# 이름을 기준으로 outer join\n",
    "outer_joined = pd.merge(df1, df2, on=\"Name\", how=\"outer\")\n",
    "outer_joined"
   ],
   "metadata": {
    "collapsed": false,
    "ExecuteTime": {
     "end_time": "2024-01-23T02:19:15.002787Z",
     "start_time": "2024-01-23T02:19:14.984906Z"
    }
   },
   "id": "c87a61d8ad20641e",
   "execution_count": 32
  },
  {
   "cell_type": "code",
   "outputs": [
    {
     "data": {
      "text/plain": "    Name  Age     City  Salary Department\n161  NaN   40    Suwon   20889        NaN\n162  NaN   23   London   28323        NaN\n163  NaN   40    Seoul   26447        NaN\n164  NaN   57    Seoul   42950        NaN\n165  NaN   54    Suwon   49465        NaN\n..   ...  ...      ...     ...        ...\n327  NaN   21    Daegu   48758        NaN\n328  NaN   42  Incheon   24932        NaN\n329  NaN   31   London   22116        NaN\n330  NaN   30   London   41712        NaN\n331  NaN   26   London   48546        NaN\n\n[171 rows x 5 columns]",
      "text/html": "<div>\n<style scoped>\n    .dataframe tbody tr th:only-of-type {\n        vertical-align: middle;\n    }\n\n    .dataframe tbody tr th {\n        vertical-align: top;\n    }\n\n    .dataframe thead th {\n        text-align: right;\n    }\n</style>\n<table border=\"1\" class=\"dataframe\">\n  <thead>\n    <tr style=\"text-align: right;\">\n      <th></th>\n      <th>Name</th>\n      <th>Age</th>\n      <th>City</th>\n      <th>Salary</th>\n      <th>Department</th>\n    </tr>\n  </thead>\n  <tbody>\n    <tr>\n      <th>161</th>\n      <td>NaN</td>\n      <td>40</td>\n      <td>Suwon</td>\n      <td>20889</td>\n      <td>NaN</td>\n    </tr>\n    <tr>\n      <th>162</th>\n      <td>NaN</td>\n      <td>23</td>\n      <td>London</td>\n      <td>28323</td>\n      <td>NaN</td>\n    </tr>\n    <tr>\n      <th>163</th>\n      <td>NaN</td>\n      <td>40</td>\n      <td>Seoul</td>\n      <td>26447</td>\n      <td>NaN</td>\n    </tr>\n    <tr>\n      <th>164</th>\n      <td>NaN</td>\n      <td>57</td>\n      <td>Seoul</td>\n      <td>42950</td>\n      <td>NaN</td>\n    </tr>\n    <tr>\n      <th>165</th>\n      <td>NaN</td>\n      <td>54</td>\n      <td>Suwon</td>\n      <td>49465</td>\n      <td>NaN</td>\n    </tr>\n    <tr>\n      <th>...</th>\n      <td>...</td>\n      <td>...</td>\n      <td>...</td>\n      <td>...</td>\n      <td>...</td>\n    </tr>\n    <tr>\n      <th>327</th>\n      <td>NaN</td>\n      <td>21</td>\n      <td>Daegu</td>\n      <td>48758</td>\n      <td>NaN</td>\n    </tr>\n    <tr>\n      <th>328</th>\n      <td>NaN</td>\n      <td>42</td>\n      <td>Incheon</td>\n      <td>24932</td>\n      <td>NaN</td>\n    </tr>\n    <tr>\n      <th>329</th>\n      <td>NaN</td>\n      <td>31</td>\n      <td>London</td>\n      <td>22116</td>\n      <td>NaN</td>\n    </tr>\n    <tr>\n      <th>330</th>\n      <td>NaN</td>\n      <td>30</td>\n      <td>London</td>\n      <td>41712</td>\n      <td>NaN</td>\n    </tr>\n    <tr>\n      <th>331</th>\n      <td>NaN</td>\n      <td>26</td>\n      <td>London</td>\n      <td>48546</td>\n      <td>NaN</td>\n    </tr>\n  </tbody>\n</table>\n<p>171 rows × 5 columns</p>\n</div>"
     },
     "execution_count": 33,
     "metadata": {},
     "output_type": "execute_result"
    }
   ],
   "source": [
    "outer_joined[outer_joined[\"Name\"].isna()]"
   ],
   "metadata": {
    "collapsed": false,
    "ExecuteTime": {
     "end_time": "2024-01-23T02:19:37.461551Z",
     "start_time": "2024-01-23T02:19:37.453909Z"
    }
   },
   "id": "abbf7279d2e62b1d",
   "execution_count": 33
  },
  {
   "cell_type": "code",
   "outputs": [],
   "source": [],
   "metadata": {
    "collapsed": false
   },
   "id": "5dbd99fa39015fed"
  }
 ],
 "metadata": {
  "kernelspec": {
   "display_name": "Python 3",
   "language": "python",
   "name": "python3"
  },
  "language_info": {
   "codemirror_mode": {
    "name": "ipython",
    "version": 2
   },
   "file_extension": ".py",
   "mimetype": "text/x-python",
   "name": "python",
   "nbconvert_exporter": "python",
   "pygments_lexer": "ipython2",
   "version": "2.7.6"
  }
 },
 "nbformat": 4,
 "nbformat_minor": 5
}
