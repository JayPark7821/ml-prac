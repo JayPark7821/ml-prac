{
 "cells": [
  {
   "cell_type": "code",
   "execution_count": 1,
   "id": "initial_id",
   "metadata": {
    "collapsed": true,
    "ExecuteTime": {
     "end_time": "2023-12-13T04:10:08.404405Z",
     "start_time": "2023-12-13T04:10:08.029910Z"
    }
   },
   "outputs": [
    {
     "name": "stdout",
     "output_type": "stream",
     "text": [
      "(4803, 20)\n"
     ]
    },
    {
     "data": {
      "text/plain": "      budget                                             genres  \\\n0  237000000  [{\"id\": 28, \"name\": \"Action\"}, {\"id\": 12, \"nam...   \n\n                      homepage     id  \\\n0  http://www.avatarmovie.com/  19995   \n\n                                            keywords original_language  \\\n0  [{\"id\": 1463, \"name\": \"culture clash\"}, {\"id\":...                en   \n\n  original_title                                           overview  \\\n0         Avatar  In the 22nd century, a paraplegic Marine is di...   \n\n   popularity                               production_companies  \\\n0  150.437577  [{\"name\": \"Ingenious Film Partners\", \"id\": 289...   \n\n                                production_countries release_date     revenue  \\\n0  [{\"iso_3166_1\": \"US\", \"name\": \"United States o...   2009-12-10  2787965087   \n\n   runtime                                   spoken_languages    status  \\\n0    162.0  [{\"iso_639_1\": \"en\", \"name\": \"English\"}, {\"iso...  Released   \n\n                       tagline   title  vote_average  vote_count  \n0  Enter the World of Pandora.  Avatar           7.2       11800  ",
      "text/html": "<div>\n<style scoped>\n    .dataframe tbody tr th:only-of-type {\n        vertical-align: middle;\n    }\n\n    .dataframe tbody tr th {\n        vertical-align: top;\n    }\n\n    .dataframe thead th {\n        text-align: right;\n    }\n</style>\n<table border=\"1\" class=\"dataframe\">\n  <thead>\n    <tr style=\"text-align: right;\">\n      <th></th>\n      <th>budget</th>\n      <th>genres</th>\n      <th>homepage</th>\n      <th>id</th>\n      <th>keywords</th>\n      <th>original_language</th>\n      <th>original_title</th>\n      <th>overview</th>\n      <th>popularity</th>\n      <th>production_companies</th>\n      <th>production_countries</th>\n      <th>release_date</th>\n      <th>revenue</th>\n      <th>runtime</th>\n      <th>spoken_languages</th>\n      <th>status</th>\n      <th>tagline</th>\n      <th>title</th>\n      <th>vote_average</th>\n      <th>vote_count</th>\n    </tr>\n  </thead>\n  <tbody>\n    <tr>\n      <th>0</th>\n      <td>237000000</td>\n      <td>[{\"id\": 28, \"name\": \"Action\"}, {\"id\": 12, \"nam...</td>\n      <td>http://www.avatarmovie.com/</td>\n      <td>19995</td>\n      <td>[{\"id\": 1463, \"name\": \"culture clash\"}, {\"id\":...</td>\n      <td>en</td>\n      <td>Avatar</td>\n      <td>In the 22nd century, a paraplegic Marine is di...</td>\n      <td>150.437577</td>\n      <td>[{\"name\": \"Ingenious Film Partners\", \"id\": 289...</td>\n      <td>[{\"iso_3166_1\": \"US\", \"name\": \"United States o...</td>\n      <td>2009-12-10</td>\n      <td>2787965087</td>\n      <td>162.0</td>\n      <td>[{\"iso_639_1\": \"en\", \"name\": \"English\"}, {\"iso...</td>\n      <td>Released</td>\n      <td>Enter the World of Pandora.</td>\n      <td>Avatar</td>\n      <td>7.2</td>\n      <td>11800</td>\n    </tr>\n  </tbody>\n</table>\n</div>"
     },
     "execution_count": 1,
     "metadata": {},
     "output_type": "execute_result"
    }
   ],
   "source": [
    "import pandas as pd\n",
    "import numpy as np\n",
    "import warnings; warnings.filterwarnings('ignore')\n",
    "\n",
    "movies = pd.read_csv(\"./archive/tmdb_5000_movies.csv\")\n",
    "print(movies.shape)\n",
    "movies.head(1)"
   ]
  },
  {
   "cell_type": "code",
   "execution_count": 2,
   "outputs": [],
   "source": [
    "movies_df = movies[['id', 'title', 'genres','vote_average', 'vote_count', 'popularity','keywords','overview']]"
   ],
   "metadata": {
    "collapsed": false,
    "ExecuteTime": {
     "end_time": "2023-12-13T04:10:08.407957Z",
     "start_time": "2023-12-13T04:10:08.405890Z"
    }
   },
   "id": "2c38c347b88414f3"
  },
  {
   "cell_type": "code",
   "execution_count": 3,
   "outputs": [
    {
     "data": {
      "text/plain": "                                                                                                genres  \\\n0  [{\"id\": 28, \"name\": \"Action\"}, {\"id\": 12, \"name\": \"Adventure\"}, {\"id\": 14, \"name\": \"Fantasy\"}, {...   \n\n                                                                                              keywords  \n0  [{\"id\": 1463, \"name\": \"culture clash\"}, {\"id\": 2964, \"name\": \"future\"}, {\"id\": 3386, \"name\": \"sp...  ",
      "text/html": "<div>\n<style scoped>\n    .dataframe tbody tr th:only-of-type {\n        vertical-align: middle;\n    }\n\n    .dataframe tbody tr th {\n        vertical-align: top;\n    }\n\n    .dataframe thead th {\n        text-align: right;\n    }\n</style>\n<table border=\"1\" class=\"dataframe\">\n  <thead>\n    <tr style=\"text-align: right;\">\n      <th></th>\n      <th>genres</th>\n      <th>keywords</th>\n    </tr>\n  </thead>\n  <tbody>\n    <tr>\n      <th>0</th>\n      <td>[{\"id\": 28, \"name\": \"Action\"}, {\"id\": 12, \"name\": \"Adventure\"}, {\"id\": 14, \"name\": \"Fantasy\"}, {...</td>\n      <td>[{\"id\": 1463, \"name\": \"culture clash\"}, {\"id\": 2964, \"name\": \"future\"}, {\"id\": 3386, \"name\": \"sp...</td>\n    </tr>\n  </tbody>\n</table>\n</div>"
     },
     "execution_count": 3,
     "metadata": {},
     "output_type": "execute_result"
    }
   ],
   "source": [
    "pd.set_option('max_colwidth',100)\n",
    "movies_df[['genres', 'keywords']][:1]"
   ],
   "metadata": {
    "collapsed": false,
    "ExecuteTime": {
     "end_time": "2023-12-13T04:10:08.411677Z",
     "start_time": "2023-12-13T04:10:08.409166Z"
    }
   },
   "id": "804fcda73d62b34"
  },
  {
   "cell_type": "code",
   "execution_count": 4,
   "outputs": [
    {
     "name": "stdout",
     "output_type": "stream",
     "text": [
      "<class 'pandas.core.frame.DataFrame'>\n",
      "RangeIndex: 4803 entries, 0 to 4802\n",
      "Data columns (total 8 columns):\n",
      " #   Column        Non-Null Count  Dtype  \n",
      "---  ------        --------------  -----  \n",
      " 0   id            4803 non-null   int64  \n",
      " 1   title         4803 non-null   object \n",
      " 2   genres        4803 non-null   object \n",
      " 3   vote_average  4803 non-null   float64\n",
      " 4   vote_count    4803 non-null   int64  \n",
      " 5   popularity    4803 non-null   float64\n",
      " 6   keywords      4803 non-null   object \n",
      " 7   overview      4800 non-null   object \n",
      "dtypes: float64(2), int64(2), object(4)\n",
      "memory usage: 300.3+ KB\n"
     ]
    }
   ],
   "source": [
    "movies_df.info()"
   ],
   "metadata": {
    "collapsed": false,
    "ExecuteTime": {
     "end_time": "2023-12-13T04:10:08.418516Z",
     "start_time": "2023-12-13T04:10:08.411302Z"
    }
   },
   "id": "e644f567579ae730"
  },
  {
   "cell_type": "markdown",
   "source": [
    "텍스트 문자 1차 가공 ( 파이썬 딕셔너리 -> 리스트 변환 )"
   ],
   "metadata": {
    "collapsed": false
   },
   "id": "2ec1667013de654f"
  },
  {
   "cell_type": "code",
   "execution_count": 5,
   "outputs": [],
   "source": [
    "from ast import literal_eval\n",
    "\n",
    "movies_df['genres'] = movies_df['genres'].apply(literal_eval)\n",
    "movies_df['keywords'] = movies_df['keywords'].apply(literal_eval)"
   ],
   "metadata": {
    "collapsed": false,
    "ExecuteTime": {
     "end_time": "2023-12-13T04:10:08.697724Z",
     "start_time": "2023-12-13T04:10:08.418218Z"
    }
   },
   "id": "42a44a3c37ed9046"
  },
  {
   "cell_type": "code",
   "execution_count": 6,
   "outputs": [
    {
     "data": {
      "text/plain": "          id                                     title  \\\n0      19995                                    Avatar   \n1        285  Pirates of the Caribbean: At World's End   \n2     206647                                   Spectre   \n3      49026                     The Dark Knight Rises   \n4      49529                               John Carter   \n...      ...                                       ...   \n4798    9367                               El Mariachi   \n4799   72766                                 Newlyweds   \n4800  231617                 Signed, Sealed, Delivered   \n4801  126186                          Shanghai Calling   \n4802   25975                         My Date with Drew   \n\n                                                                                                   genres  \\\n0     [{'id': 28, 'name': 'Action'}, {'id': 12, 'name': 'Adventure'}, {'id': 14, 'name': 'Fantasy'}, {...   \n1          [{'id': 12, 'name': 'Adventure'}, {'id': 14, 'name': 'Fantasy'}, {'id': 28, 'name': 'Action'}]   \n2            [{'id': 28, 'name': 'Action'}, {'id': 12, 'name': 'Adventure'}, {'id': 80, 'name': 'Crime'}]   \n3     [{'id': 28, 'name': 'Action'}, {'id': 80, 'name': 'Crime'}, {'id': 18, 'name': 'Drama'}, {'id': ...   \n4     [{'id': 28, 'name': 'Action'}, {'id': 12, 'name': 'Adventure'}, {'id': 878, 'name': 'Science Fic...   \n...                                                                                                   ...   \n4798          [{'id': 28, 'name': 'Action'}, {'id': 80, 'name': 'Crime'}, {'id': 53, 'name': 'Thriller'}]   \n4799                                     [{'id': 35, 'name': 'Comedy'}, {'id': 10749, 'name': 'Romance'}]   \n4800  [{'id': 35, 'name': 'Comedy'}, {'id': 18, 'name': 'Drama'}, {'id': 10749, 'name': 'Romance'}, {'...   \n4801                                                                                                   []   \n4802                                                                  [{'id': 99, 'name': 'Documentary'}]   \n\n      vote_average  vote_count  popularity  \\\n0              7.2       11800  150.437577   \n1              6.9        4500  139.082615   \n2              6.3        4466  107.376788   \n3              7.6        9106  112.312950   \n4              6.1        2124   43.926995   \n...            ...         ...         ...   \n4798           6.6         238   14.269792   \n4799           5.9           5    0.642552   \n4800           7.0           6    1.444476   \n4801           5.7           7    0.857008   \n4802           6.3          16    1.929883   \n\n                                                                                                 keywords  \\\n0     [{'id': 1463, 'name': 'culture clash'}, {'id': 2964, 'name': 'future'}, {'id': 3386, 'name': 'sp...   \n1     [{'id': 270, 'name': 'ocean'}, {'id': 726, 'name': 'drug abuse'}, {'id': 911, 'name': 'exotic is...   \n2     [{'id': 470, 'name': 'spy'}, {'id': 818, 'name': 'based on novel'}, {'id': 4289, 'name': 'secret...   \n3     [{'id': 849, 'name': 'dc comics'}, {'id': 853, 'name': 'crime fighter'}, {'id': 949, 'name': 'te...   \n4     [{'id': 818, 'name': 'based on novel'}, {'id': 839, 'name': 'mars'}, {'id': 1456, 'name': 'medal...   \n...                                                                                                   ...   \n4798  [{'id': 5616, 'name': 'united states–mexico barrier'}, {'id': 33649, 'name': 'legs'}, {'id': 162...   \n4799                                                                                                   []   \n4800  [{'id': 248, 'name': 'date'}, {'id': 699, 'name': 'love at first sight'}, {'id': 2398, 'name': '...   \n4801                                                                                                   []   \n4802  [{'id': 1523, 'name': 'obsession'}, {'id': 2249, 'name': 'camcorder'}, {'id': 9986, 'name': 'cru...   \n\n                                                                                                 overview  \n0     In the 22nd century, a paraplegic Marine is dispatched to the moon Pandora on a unique mission, ...  \n1     Captain Barbossa, long believed to be dead, has come back to life and is headed to the edge of t...  \n2     A cryptic message from Bond’s past sends him on a trail to uncover a sinister organization. Whil...  \n3     Following the death of District Attorney Harvey Dent, Batman assumes responsibility for Dent's c...  \n4     John Carter is a war-weary, former military captain who's inexplicably transported to the myster...  \n...                                                                                                   ...  \n4798  El Mariachi just wants to play his guitar and carry on the family tradition. Unfortunately, the ...  \n4799                A newlywed couple's honeymoon is upended by the arrivals of their respective sisters.  \n4800  \"Signed, Sealed, Delivered\" introduces a dedicated quartet of civil servants in the Dead Letter ...  \n4801  When ambitious New York attorney Sam is sent to Shanghai on assignment, he immediately stumbles ...  \n4802  Ever since the second grade when he first saw her in E.T. The Extraterrestrial, Brian Herzlinger...  \n\n[4803 rows x 8 columns]",
      "text/html": "<div>\n<style scoped>\n    .dataframe tbody tr th:only-of-type {\n        vertical-align: middle;\n    }\n\n    .dataframe tbody tr th {\n        vertical-align: top;\n    }\n\n    .dataframe thead th {\n        text-align: right;\n    }\n</style>\n<table border=\"1\" class=\"dataframe\">\n  <thead>\n    <tr style=\"text-align: right;\">\n      <th></th>\n      <th>id</th>\n      <th>title</th>\n      <th>genres</th>\n      <th>vote_average</th>\n      <th>vote_count</th>\n      <th>popularity</th>\n      <th>keywords</th>\n      <th>overview</th>\n    </tr>\n  </thead>\n  <tbody>\n    <tr>\n      <th>0</th>\n      <td>19995</td>\n      <td>Avatar</td>\n      <td>[{'id': 28, 'name': 'Action'}, {'id': 12, 'name': 'Adventure'}, {'id': 14, 'name': 'Fantasy'}, {...</td>\n      <td>7.2</td>\n      <td>11800</td>\n      <td>150.437577</td>\n      <td>[{'id': 1463, 'name': 'culture clash'}, {'id': 2964, 'name': 'future'}, {'id': 3386, 'name': 'sp...</td>\n      <td>In the 22nd century, a paraplegic Marine is dispatched to the moon Pandora on a unique mission, ...</td>\n    </tr>\n    <tr>\n      <th>1</th>\n      <td>285</td>\n      <td>Pirates of the Caribbean: At World's End</td>\n      <td>[{'id': 12, 'name': 'Adventure'}, {'id': 14, 'name': 'Fantasy'}, {'id': 28, 'name': 'Action'}]</td>\n      <td>6.9</td>\n      <td>4500</td>\n      <td>139.082615</td>\n      <td>[{'id': 270, 'name': 'ocean'}, {'id': 726, 'name': 'drug abuse'}, {'id': 911, 'name': 'exotic is...</td>\n      <td>Captain Barbossa, long believed to be dead, has come back to life and is headed to the edge of t...</td>\n    </tr>\n    <tr>\n      <th>2</th>\n      <td>206647</td>\n      <td>Spectre</td>\n      <td>[{'id': 28, 'name': 'Action'}, {'id': 12, 'name': 'Adventure'}, {'id': 80, 'name': 'Crime'}]</td>\n      <td>6.3</td>\n      <td>4466</td>\n      <td>107.376788</td>\n      <td>[{'id': 470, 'name': 'spy'}, {'id': 818, 'name': 'based on novel'}, {'id': 4289, 'name': 'secret...</td>\n      <td>A cryptic message from Bond’s past sends him on a trail to uncover a sinister organization. Whil...</td>\n    </tr>\n    <tr>\n      <th>3</th>\n      <td>49026</td>\n      <td>The Dark Knight Rises</td>\n      <td>[{'id': 28, 'name': 'Action'}, {'id': 80, 'name': 'Crime'}, {'id': 18, 'name': 'Drama'}, {'id': ...</td>\n      <td>7.6</td>\n      <td>9106</td>\n      <td>112.312950</td>\n      <td>[{'id': 849, 'name': 'dc comics'}, {'id': 853, 'name': 'crime fighter'}, {'id': 949, 'name': 'te...</td>\n      <td>Following the death of District Attorney Harvey Dent, Batman assumes responsibility for Dent's c...</td>\n    </tr>\n    <tr>\n      <th>4</th>\n      <td>49529</td>\n      <td>John Carter</td>\n      <td>[{'id': 28, 'name': 'Action'}, {'id': 12, 'name': 'Adventure'}, {'id': 878, 'name': 'Science Fic...</td>\n      <td>6.1</td>\n      <td>2124</td>\n      <td>43.926995</td>\n      <td>[{'id': 818, 'name': 'based on novel'}, {'id': 839, 'name': 'mars'}, {'id': 1456, 'name': 'medal...</td>\n      <td>John Carter is a war-weary, former military captain who's inexplicably transported to the myster...</td>\n    </tr>\n    <tr>\n      <th>...</th>\n      <td>...</td>\n      <td>...</td>\n      <td>...</td>\n      <td>...</td>\n      <td>...</td>\n      <td>...</td>\n      <td>...</td>\n      <td>...</td>\n    </tr>\n    <tr>\n      <th>4798</th>\n      <td>9367</td>\n      <td>El Mariachi</td>\n      <td>[{'id': 28, 'name': 'Action'}, {'id': 80, 'name': 'Crime'}, {'id': 53, 'name': 'Thriller'}]</td>\n      <td>6.6</td>\n      <td>238</td>\n      <td>14.269792</td>\n      <td>[{'id': 5616, 'name': 'united states–mexico barrier'}, {'id': 33649, 'name': 'legs'}, {'id': 162...</td>\n      <td>El Mariachi just wants to play his guitar and carry on the family tradition. Unfortunately, the ...</td>\n    </tr>\n    <tr>\n      <th>4799</th>\n      <td>72766</td>\n      <td>Newlyweds</td>\n      <td>[{'id': 35, 'name': 'Comedy'}, {'id': 10749, 'name': 'Romance'}]</td>\n      <td>5.9</td>\n      <td>5</td>\n      <td>0.642552</td>\n      <td>[]</td>\n      <td>A newlywed couple's honeymoon is upended by the arrivals of their respective sisters.</td>\n    </tr>\n    <tr>\n      <th>4800</th>\n      <td>231617</td>\n      <td>Signed, Sealed, Delivered</td>\n      <td>[{'id': 35, 'name': 'Comedy'}, {'id': 18, 'name': 'Drama'}, {'id': 10749, 'name': 'Romance'}, {'...</td>\n      <td>7.0</td>\n      <td>6</td>\n      <td>1.444476</td>\n      <td>[{'id': 248, 'name': 'date'}, {'id': 699, 'name': 'love at first sight'}, {'id': 2398, 'name': '...</td>\n      <td>\"Signed, Sealed, Delivered\" introduces a dedicated quartet of civil servants in the Dead Letter ...</td>\n    </tr>\n    <tr>\n      <th>4801</th>\n      <td>126186</td>\n      <td>Shanghai Calling</td>\n      <td>[]</td>\n      <td>5.7</td>\n      <td>7</td>\n      <td>0.857008</td>\n      <td>[]</td>\n      <td>When ambitious New York attorney Sam is sent to Shanghai on assignment, he immediately stumbles ...</td>\n    </tr>\n    <tr>\n      <th>4802</th>\n      <td>25975</td>\n      <td>My Date with Drew</td>\n      <td>[{'id': 99, 'name': 'Documentary'}]</td>\n      <td>6.3</td>\n      <td>16</td>\n      <td>1.929883</td>\n      <td>[{'id': 1523, 'name': 'obsession'}, {'id': 2249, 'name': 'camcorder'}, {'id': 9986, 'name': 'cru...</td>\n      <td>Ever since the second grade when he first saw her in E.T. The Extraterrestrial, Brian Herzlinger...</td>\n    </tr>\n  </tbody>\n</table>\n<p>4803 rows × 8 columns</p>\n</div>"
     },
     "execution_count": 6,
     "metadata": {},
     "output_type": "execute_result"
    }
   ],
   "source": [
    "movies_df"
   ],
   "metadata": {
    "collapsed": false,
    "ExecuteTime": {
     "end_time": "2023-12-13T04:10:08.711521Z",
     "start_time": "2023-12-13T04:10:08.698294Z"
    }
   },
   "id": "64905aa962a0e44a"
  },
  {
   "cell_type": "code",
   "execution_count": 7,
   "outputs": [
    {
     "data": {
      "text/plain": "                                          genres  \\\n0  [Action, Adventure, Fantasy, Science Fiction]   \n\n                                                                                              keywords  \n0  [culture clash, future, space war, space colony, society, space travel, futuristic, romance, spa...  ",
      "text/html": "<div>\n<style scoped>\n    .dataframe tbody tr th:only-of-type {\n        vertical-align: middle;\n    }\n\n    .dataframe tbody tr th {\n        vertical-align: top;\n    }\n\n    .dataframe thead th {\n        text-align: right;\n    }\n</style>\n<table border=\"1\" class=\"dataframe\">\n  <thead>\n    <tr style=\"text-align: right;\">\n      <th></th>\n      <th>genres</th>\n      <th>keywords</th>\n    </tr>\n  </thead>\n  <tbody>\n    <tr>\n      <th>0</th>\n      <td>[Action, Adventure, Fantasy, Science Fiction]</td>\n      <td>[culture clash, future, space war, space colony, society, space travel, futuristic, romance, spa...</td>\n    </tr>\n  </tbody>\n</table>\n</div>"
     },
     "execution_count": 7,
     "metadata": {},
     "output_type": "execute_result"
    }
   ],
   "source": [
    "movies_df['genres'] = movies_df['genres'].apply(lambda x : [ y['name'] for y in x])\n",
    "movies_df['keywords'] = movies_df['keywords'].apply(lambda x : [ y['name'] for y in x])\n",
    "movies_df[['genres', 'keywords']][:1]"
   ],
   "metadata": {
    "collapsed": false,
    "ExecuteTime": {
     "end_time": "2023-12-13T04:10:08.722090Z",
     "start_time": "2023-12-13T04:10:08.719514Z"
    }
   },
   "id": "e9b82fd39076ffd1"
  },
  {
   "cell_type": "markdown",
   "source": [
    "장르 콘텐츠 필터링을 이용해 영화 추천. 장르 문자열 Count 벡터화 후에 코사인 유사도로 각 영화를 비교"
   ],
   "metadata": {
    "collapsed": false
   },
   "id": "fb6163c545368c77"
  },
  {
   "cell_type": "markdown",
   "source": [
    "장르 문자열의 Count 기반 피처 벡터화"
   ],
   "metadata": {
    "collapsed": false
   },
   "id": "c84a147a85986de5"
  },
  {
   "cell_type": "code",
   "execution_count": 8,
   "outputs": [
    {
     "name": "stdout",
     "output_type": "stream",
     "text": [
      "(4803, 276)\n"
     ]
    }
   ],
   "source": [
    "from sklearn.feature_extraction.text import CountVectorizer\n",
    "\n",
    "# CountVectorizer를 적용하기 위해 공백문자로 word 단위가 구분되는 문자열로 변환. \n",
    "movies_df['genres_literal'] = movies_df['genres'].apply(lambda x : (' ').join(x))\n",
    "count_vect = CountVectorizer(min_df=0.0, ngram_range=(1,2))\n",
    "genre_mat = count_vect.fit_transform(movies_df['genres_literal'])\n",
    "print(genre_mat.shape)"
   ],
   "metadata": {
    "collapsed": false,
    "ExecuteTime": {
     "end_time": "2023-12-13T04:10:09.153063Z",
     "start_time": "2023-12-13T04:10:08.721832Z"
    }
   },
   "id": "9c56b67381819dff"
  },
  {
   "cell_type": "code",
   "execution_count": 9,
   "outputs": [
    {
     "name": "stdout",
     "output_type": "stream",
     "text": [
      "  (0, 0)\t1\n",
      "  (0, 16)\t1\n",
      "  (0, 124)\t1\n",
      "  (0, 232)\t1\n",
      "  (0, 138)\t1\n",
      "  (0, 1)\t1\n",
      "  (0, 24)\t1\n",
      "  (0, 135)\t1\n",
      "  (0, 233)\t1\n",
      "  (1, 0)\t1\n",
      "  (1, 16)\t1\n",
      "  (1, 124)\t1\n",
      "  (1, 24)\t1\n",
      "  (1, 125)\t1\n",
      "  (2, 0)\t1\n",
      "  (2, 16)\t1\n",
      "  (2, 1)\t1\n",
      "  (2, 64)\t1\n",
      "  (2, 20)\t1\n",
      "  (3, 0)\t1\n",
      "  (3, 64)\t1\n",
      "  (3, 90)\t1\n",
      "  (3, 234)\t1\n",
      "  (3, 4)\t1\n",
      "  (3, 68)\t1\n",
      "  :\t:\n",
      "  (4796, 90)\t1\n",
      "  (4796, 234)\t1\n",
      "  (4796, 106)\t1\n",
      "  (4796, 144)\t1\n",
      "  (4797, 234)\t1\n",
      "  (4797, 153)\t1\n",
      "  (4797, 157)\t1\n",
      "  (4798, 0)\t1\n",
      "  (4798, 64)\t1\n",
      "  (4798, 234)\t1\n",
      "  (4798, 4)\t1\n",
      "  (4798, 78)\t1\n",
      "  (4799, 44)\t1\n",
      "  (4799, 214)\t1\n",
      "  (4799, 58)\t1\n",
      "  (4800, 90)\t1\n",
      "  (4800, 44)\t1\n",
      "  (4800, 214)\t1\n",
      "  (4800, 104)\t1\n",
      "  (4800, 50)\t1\n",
      "  (4800, 250)\t1\n",
      "  (4800, 182)\t1\n",
      "  (4800, 251)\t1\n",
      "  (4800, 229)\t1\n",
      "  (4802, 80)\t1\n"
     ]
    }
   ],
   "source": [
    "print(genre_mat)"
   ],
   "metadata": {
    "collapsed": false,
    "ExecuteTime": {
     "end_time": "2023-12-13T04:10:09.153263Z",
     "start_time": "2023-12-13T04:10:09.148926Z"
    }
   },
   "id": "41dbfcb5c9bc9dc2"
  },
  {
   "cell_type": "code",
   "execution_count": 10,
   "outputs": [
    {
     "name": "stdout",
     "output_type": "stream",
     "text": [
      "(4803, 4803)\n",
      "[[1.         0.59628479 0.4472136  ... 0.         0.         0.        ]\n",
      " [0.59628479 1.         0.4        ... 0.         0.         0.        ]]\n"
     ]
    }
   ],
   "source": [
    "from sklearn.metrics.pairwise import cosine_similarity\n",
    "\n",
    "genre_sim = cosine_similarity(genre_mat, genre_mat)\n",
    "print(genre_sim.shape)\n",
    "print(genre_sim[:2])"
   ],
   "metadata": {
    "collapsed": false,
    "ExecuteTime": {
     "end_time": "2023-12-13T04:10:09.303347Z",
     "start_time": "2023-12-13T04:10:09.152133Z"
    }
   },
   "id": "895126b659ae444b"
  },
  {
   "cell_type": "code",
   "execution_count": 11,
   "outputs": [
    {
     "name": "stdout",
     "output_type": "stream",
     "text": [
      "[[   0 3494  813 ... 3038 3037 2401]]\n"
     ]
    }
   ],
   "source": [
    "genre_sim_sorted_ind = genre_sim.argsort()[:, ::-1]\n",
    "print(genre_sim_sorted_ind[:1])"
   ],
   "metadata": {
    "collapsed": false,
    "ExecuteTime": {
     "end_time": "2023-12-13T04:10:09.802811Z",
     "start_time": "2023-12-13T04:10:09.300654Z"
    }
   },
   "id": "2035015828758075"
  },
  {
   "cell_type": "markdown",
   "source": [
    "특정 영화와 장르별 유사도가 높은 영화를 반환하는 함수 생성"
   ],
   "metadata": {
    "collapsed": false
   },
   "id": "3618b1101bccc4df"
  },
  {
   "cell_type": "code",
   "execution_count": 12,
   "outputs": [],
   "source": [
    "def find_sim_movie(df, sorted_ind, title_name, top_n=10):\n",
    "    \n",
    "    # 인자로 입력된 movies_df DataFrame에서 'title' 컬럼이 입력된 title_name 값인 DataFrame추출\n",
    "    title_movie = df[df['title'] == title_name]\n",
    "    \n",
    "    # title_named을 가진 DataFrame의 index 객체를 ndarray로 반환하고 \n",
    "    # sorted_ind 인자로 입력된 genre_sim_sorted_ind 객체에서 유사도 순으로 top_n 개의 index 추출\n",
    "    title_index = title_movie.index.values\n",
    "    similar_indexes = sorted_ind[title_index, :(top_n)]\n",
    "    \n",
    "    # 추출된 top_n index들 출력. top_n index는 2차원 데이터 임. \n",
    "    #dataframe에서 index로 사용하기 위해서 1차원 array로 변경\n",
    "    print(similar_indexes)\n",
    "    similar_indexes = similar_indexes.reshape(-1)\n",
    "    \n",
    "    return df.iloc[similar_indexes]\n"
   ],
   "metadata": {
    "collapsed": false,
    "ExecuteTime": {
     "end_time": "2023-12-13T04:10:09.802953Z",
     "start_time": "2023-12-13T04:10:09.794371Z"
    }
   },
   "id": "9f53ff865c99f6fc"
  },
  {
   "cell_type": "code",
   "execution_count": 13,
   "outputs": [
    {
     "name": "stdout",
     "output_type": "stream",
     "text": [
      "[[2731 1243 3636 1946 2640 4065 1847 4217  883 3866]]\n"
     ]
    },
    {
     "data": {
      "text/plain": "                                               title  vote_average\n2731                          The Godfather: Part II           8.3\n1243                                    Mean Streets           7.2\n3636                                   Light Sleeper           5.7\n1946  The Bad Lieutenant: Port of Call - New Orleans           6.0\n2640         Things to Do in Denver When You're Dead           6.7\n4065                                      Mi America           0.0\n1847                                      GoodFellas           8.2\n4217                                            Kids           6.8\n883                              Catch Me If You Can           7.7\n3866                                     City of God           8.1",
      "text/html": "<div>\n<style scoped>\n    .dataframe tbody tr th:only-of-type {\n        vertical-align: middle;\n    }\n\n    .dataframe tbody tr th {\n        vertical-align: top;\n    }\n\n    .dataframe thead th {\n        text-align: right;\n    }\n</style>\n<table border=\"1\" class=\"dataframe\">\n  <thead>\n    <tr style=\"text-align: right;\">\n      <th></th>\n      <th>title</th>\n      <th>vote_average</th>\n    </tr>\n  </thead>\n  <tbody>\n    <tr>\n      <th>2731</th>\n      <td>The Godfather: Part II</td>\n      <td>8.3</td>\n    </tr>\n    <tr>\n      <th>1243</th>\n      <td>Mean Streets</td>\n      <td>7.2</td>\n    </tr>\n    <tr>\n      <th>3636</th>\n      <td>Light Sleeper</td>\n      <td>5.7</td>\n    </tr>\n    <tr>\n      <th>1946</th>\n      <td>The Bad Lieutenant: Port of Call - New Orleans</td>\n      <td>6.0</td>\n    </tr>\n    <tr>\n      <th>2640</th>\n      <td>Things to Do in Denver When You're Dead</td>\n      <td>6.7</td>\n    </tr>\n    <tr>\n      <th>4065</th>\n      <td>Mi America</td>\n      <td>0.0</td>\n    </tr>\n    <tr>\n      <th>1847</th>\n      <td>GoodFellas</td>\n      <td>8.2</td>\n    </tr>\n    <tr>\n      <th>4217</th>\n      <td>Kids</td>\n      <td>6.8</td>\n    </tr>\n    <tr>\n      <th>883</th>\n      <td>Catch Me If You Can</td>\n      <td>7.7</td>\n    </tr>\n    <tr>\n      <th>3866</th>\n      <td>City of God</td>\n      <td>8.1</td>\n    </tr>\n  </tbody>\n</table>\n</div>"
     },
     "execution_count": 13,
     "metadata": {},
     "output_type": "execute_result"
    }
   ],
   "source": [
    "similar_movies = find_sim_movie(movies_df, genre_sim_sorted_ind, 'The Godfather',10)\n",
    "similar_movies[['title', 'vote_average']]"
   ],
   "metadata": {
    "collapsed": false,
    "ExecuteTime": {
     "end_time": "2023-12-13T04:10:09.803285Z",
     "start_time": "2023-12-13T04:10:09.798896Z"
    }
   },
   "id": "2b07134735469c57"
  },
  {
   "cell_type": "markdown",
   "source": [
    "평점이 높은 영화 정보 확인"
   ],
   "metadata": {
    "collapsed": false
   },
   "id": "4febfb398cba74a3"
  },
  {
   "cell_type": "code",
   "execution_count": 14,
   "outputs": [
    {
     "data": {
      "text/plain": "                         title  vote_average  vote_count\n3519          Stiff Upper Lips          10.0           1\n4247     Me You and Five Bucks          10.0           2\n4045     Dancer, Texas Pop. 81          10.0           1\n4662            Little Big Top          10.0           1\n3992                 Sardaarji           9.5           2\n2386            One Man's Hero           9.3           2\n2970        There Goes My Baby           8.5           2\n1881  The Shawshank Redemption           8.5        8205\n2796     The Prisoner of Zenda           8.4          11\n3337             The Godfather           8.4        5893",
      "text/html": "<div>\n<style scoped>\n    .dataframe tbody tr th:only-of-type {\n        vertical-align: middle;\n    }\n\n    .dataframe tbody tr th {\n        vertical-align: top;\n    }\n\n    .dataframe thead th {\n        text-align: right;\n    }\n</style>\n<table border=\"1\" class=\"dataframe\">\n  <thead>\n    <tr style=\"text-align: right;\">\n      <th></th>\n      <th>title</th>\n      <th>vote_average</th>\n      <th>vote_count</th>\n    </tr>\n  </thead>\n  <tbody>\n    <tr>\n      <th>3519</th>\n      <td>Stiff Upper Lips</td>\n      <td>10.0</td>\n      <td>1</td>\n    </tr>\n    <tr>\n      <th>4247</th>\n      <td>Me You and Five Bucks</td>\n      <td>10.0</td>\n      <td>2</td>\n    </tr>\n    <tr>\n      <th>4045</th>\n      <td>Dancer, Texas Pop. 81</td>\n      <td>10.0</td>\n      <td>1</td>\n    </tr>\n    <tr>\n      <th>4662</th>\n      <td>Little Big Top</td>\n      <td>10.0</td>\n      <td>1</td>\n    </tr>\n    <tr>\n      <th>3992</th>\n      <td>Sardaarji</td>\n      <td>9.5</td>\n      <td>2</td>\n    </tr>\n    <tr>\n      <th>2386</th>\n      <td>One Man's Hero</td>\n      <td>9.3</td>\n      <td>2</td>\n    </tr>\n    <tr>\n      <th>2970</th>\n      <td>There Goes My Baby</td>\n      <td>8.5</td>\n      <td>2</td>\n    </tr>\n    <tr>\n      <th>1881</th>\n      <td>The Shawshank Redemption</td>\n      <td>8.5</td>\n      <td>8205</td>\n    </tr>\n    <tr>\n      <th>2796</th>\n      <td>The Prisoner of Zenda</td>\n      <td>8.4</td>\n      <td>11</td>\n    </tr>\n    <tr>\n      <th>3337</th>\n      <td>The Godfather</td>\n      <td>8.4</td>\n      <td>5893</td>\n    </tr>\n  </tbody>\n</table>\n</div>"
     },
     "execution_count": 14,
     "metadata": {},
     "output_type": "execute_result"
    }
   ],
   "source": [
    "movies_df[['title','vote_average','vote_count']].sort_values('vote_average', ascending=False)[:10]"
   ],
   "metadata": {
    "collapsed": false,
    "ExecuteTime": {
     "end_time": "2023-12-13T04:10:09.808697Z",
     "start_time": "2023-12-13T04:10:09.803072Z"
    }
   },
   "id": "ee1d01a65aad5142"
  },
  {
   "cell_type": "markdown",
   "source": [
    "평가 횟수에 대한 가중치가 부여된 평점(Weighted Rating) 계산  \n",
    "         가중 평점(Weighted Rating) = (v/(v+m)) * R + (m/(v+m)) * C**\n",
    "         \n",
    "v: 개별 영화에 평점을 투표한 횟수\n",
    "m: 평점을 부여하기 위한 최소 투표 횟수\n",
    "R: 개별 영화에 대한 평균 평점.\n",
    "C: 전체 영화에 대한 평균 평점"
   ],
   "metadata": {
    "collapsed": false
   },
   "id": "6fd8b271ef90625f"
  },
  {
   "cell_type": "code",
   "execution_count": 15,
   "outputs": [
    {
     "name": "stdout",
     "output_type": "stream",
     "text": [
      "C: 6.092 m: 370.2\n"
     ]
    }
   ],
   "source": [
    "C = movies_df['vote_average'].mean()\n",
    "m = movies_df['vote_count'].quantile(0.6)\n",
    "print('C:',round(C,3), 'm:',round(m,3))"
   ],
   "metadata": {
    "collapsed": false,
    "ExecuteTime": {
     "end_time": "2023-12-13T04:10:09.809917Z",
     "start_time": "2023-12-13T04:10:09.807704Z"
    }
   },
   "id": "968f5477b31f379b"
  },
  {
   "cell_type": "code",
   "execution_count": 16,
   "outputs": [],
   "source": [
    "percentile = 0.6\n",
    "m = movies_df['vote_count'].quantile(percentile)\n",
    "C = movies_df['vote_average'].mean()\n",
    "\n",
    "def weighted_vote_average(record):\n",
    "    v = record['vote_count']\n",
    "    R = record['vote_average']\n",
    "    \n",
    "    return ( (v/(v+m)) * R ) + ( (m/(m+v)) * C )   \n",
    "\n",
    "movies_df['weighted_vote'] = movies_df.apply(weighted_vote_average, axis=1) "
   ],
   "metadata": {
    "collapsed": false,
    "ExecuteTime": {
     "end_time": "2023-12-13T04:10:09.840985Z",
     "start_time": "2023-12-13T04:10:09.811594Z"
    }
   },
   "id": "7c43dd1651b65c86"
  },
  {
   "cell_type": "code",
   "execution_count": 17,
   "outputs": [
    {
     "data": {
      "text/plain": "                         title  vote_average  weighted_vote  vote_count\n1881  The Shawshank Redemption           8.5       8.396052        8205\n3337             The Godfather           8.4       8.263591        5893\n662                 Fight Club           8.3       8.216455        9413\n3232              Pulp Fiction           8.3       8.207102        8428\n65             The Dark Knight           8.2       8.136930       12002\n1818          Schindler's List           8.3       8.126069        4329\n3865                  Whiplash           8.3       8.123248        4254\n809               Forrest Gump           8.2       8.105954        7927\n2294             Spirited Away           8.3       8.105867        3840\n2731    The Godfather: Part II           8.3       8.079586        3338",
      "text/html": "<div>\n<style scoped>\n    .dataframe tbody tr th:only-of-type {\n        vertical-align: middle;\n    }\n\n    .dataframe tbody tr th {\n        vertical-align: top;\n    }\n\n    .dataframe thead th {\n        text-align: right;\n    }\n</style>\n<table border=\"1\" class=\"dataframe\">\n  <thead>\n    <tr style=\"text-align: right;\">\n      <th></th>\n      <th>title</th>\n      <th>vote_average</th>\n      <th>weighted_vote</th>\n      <th>vote_count</th>\n    </tr>\n  </thead>\n  <tbody>\n    <tr>\n      <th>1881</th>\n      <td>The Shawshank Redemption</td>\n      <td>8.5</td>\n      <td>8.396052</td>\n      <td>8205</td>\n    </tr>\n    <tr>\n      <th>3337</th>\n      <td>The Godfather</td>\n      <td>8.4</td>\n      <td>8.263591</td>\n      <td>5893</td>\n    </tr>\n    <tr>\n      <th>662</th>\n      <td>Fight Club</td>\n      <td>8.3</td>\n      <td>8.216455</td>\n      <td>9413</td>\n    </tr>\n    <tr>\n      <th>3232</th>\n      <td>Pulp Fiction</td>\n      <td>8.3</td>\n      <td>8.207102</td>\n      <td>8428</td>\n    </tr>\n    <tr>\n      <th>65</th>\n      <td>The Dark Knight</td>\n      <td>8.2</td>\n      <td>8.136930</td>\n      <td>12002</td>\n    </tr>\n    <tr>\n      <th>1818</th>\n      <td>Schindler's List</td>\n      <td>8.3</td>\n      <td>8.126069</td>\n      <td>4329</td>\n    </tr>\n    <tr>\n      <th>3865</th>\n      <td>Whiplash</td>\n      <td>8.3</td>\n      <td>8.123248</td>\n      <td>4254</td>\n    </tr>\n    <tr>\n      <th>809</th>\n      <td>Forrest Gump</td>\n      <td>8.2</td>\n      <td>8.105954</td>\n      <td>7927</td>\n    </tr>\n    <tr>\n      <th>2294</th>\n      <td>Spirited Away</td>\n      <td>8.3</td>\n      <td>8.105867</td>\n      <td>3840</td>\n    </tr>\n    <tr>\n      <th>2731</th>\n      <td>The Godfather: Part II</td>\n      <td>8.3</td>\n      <td>8.079586</td>\n      <td>3338</td>\n    </tr>\n  </tbody>\n</table>\n</div>"
     },
     "execution_count": 17,
     "metadata": {},
     "output_type": "execute_result"
    }
   ],
   "source": [
    "movies_df[['title','vote_average','weighted_vote','vote_count']].sort_values('weighted_vote',\n",
    "                                                                          ascending=False)[:10]"
   ],
   "metadata": {
    "collapsed": false,
    "ExecuteTime": {
     "end_time": "2023-12-13T04:10:09.841574Z",
     "start_time": "2023-12-13T04:10:09.828058Z"
    }
   },
   "id": "440dada2c88114cb"
  },
  {
   "cell_type": "code",
   "execution_count": 18,
   "outputs": [
    {
     "data": {
      "text/plain": "                            title  vote_average  weighted_vote\n2731       The Godfather: Part II           8.3       8.079586\n1847                   GoodFellas           8.2       7.976937\n3866                  City of God           8.1       7.759693\n1663  Once Upon a Time in America           8.2       7.657811\n883           Catch Me If You Can           7.7       7.557097\n281             American Gangster           7.4       7.141396\n4041              This Is England           7.4       6.739664\n1149              American Hustle           6.8       6.717525\n1243                 Mean Streets           7.2       6.626569\n2839                     Rounders           6.9       6.530427",
      "text/html": "<div>\n<style scoped>\n    .dataframe tbody tr th:only-of-type {\n        vertical-align: middle;\n    }\n\n    .dataframe tbody tr th {\n        vertical-align: top;\n    }\n\n    .dataframe thead th {\n        text-align: right;\n    }\n</style>\n<table border=\"1\" class=\"dataframe\">\n  <thead>\n    <tr style=\"text-align: right;\">\n      <th></th>\n      <th>title</th>\n      <th>vote_average</th>\n      <th>weighted_vote</th>\n    </tr>\n  </thead>\n  <tbody>\n    <tr>\n      <th>2731</th>\n      <td>The Godfather: Part II</td>\n      <td>8.3</td>\n      <td>8.079586</td>\n    </tr>\n    <tr>\n      <th>1847</th>\n      <td>GoodFellas</td>\n      <td>8.2</td>\n      <td>7.976937</td>\n    </tr>\n    <tr>\n      <th>3866</th>\n      <td>City of God</td>\n      <td>8.1</td>\n      <td>7.759693</td>\n    </tr>\n    <tr>\n      <th>1663</th>\n      <td>Once Upon a Time in America</td>\n      <td>8.2</td>\n      <td>7.657811</td>\n    </tr>\n    <tr>\n      <th>883</th>\n      <td>Catch Me If You Can</td>\n      <td>7.7</td>\n      <td>7.557097</td>\n    </tr>\n    <tr>\n      <th>281</th>\n      <td>American Gangster</td>\n      <td>7.4</td>\n      <td>7.141396</td>\n    </tr>\n    <tr>\n      <th>4041</th>\n      <td>This Is England</td>\n      <td>7.4</td>\n      <td>6.739664</td>\n    </tr>\n    <tr>\n      <th>1149</th>\n      <td>American Hustle</td>\n      <td>6.8</td>\n      <td>6.717525</td>\n    </tr>\n    <tr>\n      <th>1243</th>\n      <td>Mean Streets</td>\n      <td>7.2</td>\n      <td>6.626569</td>\n    </tr>\n    <tr>\n      <th>2839</th>\n      <td>Rounders</td>\n      <td>6.9</td>\n      <td>6.530427</td>\n    </tr>\n  </tbody>\n</table>\n</div>"
     },
     "execution_count": 18,
     "metadata": {},
     "output_type": "execute_result"
    }
   ],
   "source": [
    "def find_sim_movie(df, sorted_ind, title_name, top_n=10):\n",
    "    title_movie = df[df['title'] == title_name]\n",
    "    title_index = title_movie.index.values\n",
    "    \n",
    "    # top_n의 2배에 해당하는 쟝르 유사성이 높은 index 추출 \n",
    "    similar_indexes = sorted_ind[title_index, :(top_n*2)]\n",
    "    similar_indexes = similar_indexes.reshape(-1)\n",
    "# 기준 영화 index는 제외\n",
    "    similar_indexes = similar_indexes[similar_indexes != title_index]\n",
    "    \n",
    "    # top_n의 2배에 해당하는 후보군에서 weighted_vote 높은 순으로 top_n 만큼 추출 \n",
    "    return df.iloc[similar_indexes].sort_values('weighted_vote', ascending=False)[:top_n]\n",
    "\n",
    "similar_movies = find_sim_movie(movies_df, genre_sim_sorted_ind, 'The Godfather',10)\n",
    "similar_movies[['title', 'vote_average', 'weighted_vote']]"
   ],
   "metadata": {
    "collapsed": false,
    "ExecuteTime": {
     "end_time": "2023-12-13T04:10:09.868304Z",
     "start_time": "2023-12-13T04:10:09.836078Z"
    }
   },
   "id": "120fcdeedf844c10"
  }
 ],
 "metadata": {
  "kernelspec": {
   "display_name": "Python 3",
   "language": "python",
   "name": "python3"
  },
  "language_info": {
   "codemirror_mode": {
    "name": "ipython",
    "version": 2
   },
   "file_extension": ".py",
   "mimetype": "text/x-python",
   "name": "python",
   "nbconvert_exporter": "python",
   "pygments_lexer": "ipython2",
   "version": "2.7.6"
  }
 },
 "nbformat": 4,
 "nbformat_minor": 5
}
