{
 "cells": [
  {
   "cell_type": "code",
   "execution_count": 19,
   "id": "initial_id",
   "metadata": {
    "collapsed": true,
    "ExecuteTime": {
     "end_time": "2023-12-22T02:04:45.204853Z",
     "start_time": "2023-12-22T02:04:45.174560Z"
    }
   },
   "outputs": [
    {
     "name": "stdout",
     "output_type": "stream",
     "text": [
      "1.1.3\n"
     ]
    }
   ],
   "source": [
    "import surprise\n",
    "print(surprise.__version__)"
   ]
  },
  {
   "cell_type": "markdown",
   "source": [
    "Surprise를 이용한 추천 시스템 구축"
   ],
   "metadata": {
    "collapsed": false
   },
   "id": "bba1d342fed93702"
  },
  {
   "cell_type": "code",
   "execution_count": 20,
   "outputs": [],
   "source": [
    "from surprise import SVD\n",
    "from surprise import Dataset\n",
    "from surprise import accuracy\n",
    "from surprise.model_selection import train_test_split"
   ],
   "metadata": {
    "collapsed": false,
    "ExecuteTime": {
     "end_time": "2023-12-22T02:04:45.206694Z",
     "start_time": "2023-12-22T02:04:45.177970Z"
    }
   },
   "id": "68848e4ce61a03ef"
  },
  {
   "cell_type": "markdown",
   "source": [
    "내장 데이터 로드하고 학습과 테스트 데이터 세트로 분리"
   ],
   "metadata": {
    "collapsed": false
   },
   "id": "70a152a7ca57f1d0"
  },
  {
   "cell_type": "code",
   "execution_count": 21,
   "outputs": [],
   "source": [
    "data = Dataset.load_builtin('ml-100k')\n",
    "trainset, testset = train_test_split(data, test_size=.25, random_state=0)"
   ],
   "metadata": {
    "collapsed": false,
    "ExecuteTime": {
     "end_time": "2023-12-22T02:04:45.311922Z",
     "start_time": "2023-12-22T02:04:45.180573Z"
    }
   },
   "id": "4ad638c031abfb52"
  },
  {
   "cell_type": "markdown",
   "source": [
    "추천 행렬 분해 알고리즘으로 svd객체를 생성하고 학습수행"
   ],
   "metadata": {
    "collapsed": false
   },
   "id": "cf70b7cf0197bf74"
  },
  {
   "cell_type": "code",
   "execution_count": 22,
   "outputs": [
    {
     "data": {
      "text/plain": "<surprise.prediction_algorithms.matrix_factorization.SVD at 0x14b4f2b90>"
     },
     "execution_count": 22,
     "metadata": {},
     "output_type": "execute_result"
    }
   ],
   "source": [
    "algo = SVD()\n",
    "algo.fit(trainset)"
   ],
   "metadata": {
    "collapsed": false,
    "ExecuteTime": {
     "end_time": "2023-12-22T02:04:45.713521Z",
     "start_time": "2023-12-22T02:04:45.313220Z"
    }
   },
   "id": "29b04550682a3e77"
  },
  {
   "cell_type": "markdown",
   "source": [
    "테스트 데이터 세트에 예상 평점 데이터 예측. test()메서드 호출시 Prediction 객체의 리스트로 평점 예측 데이터 반환"
   ],
   "metadata": {
    "collapsed": false
   },
   "id": "4b8148775a64a79a"
  },
  {
   "cell_type": "code",
   "execution_count": 23,
   "outputs": [
    {
     "name": "stdout",
     "output_type": "stream",
     "text": [
      "prediction type: <class 'list'> size: 25000\n",
      "prediction 결과의 최초 5개 추출\n"
     ]
    },
    {
     "data": {
      "text/plain": "[Prediction(uid='120', iid='282', r_ui=4.0, est=3.4883531569532917, details={'was_impossible': False}),\n Prediction(uid='882', iid='291', r_ui=4.0, est=3.7606354402110433, details={'was_impossible': False}),\n Prediction(uid='535', iid='507', r_ui=5.0, est=4.203652720457094, details={'was_impossible': False}),\n Prediction(uid='697', iid='244', r_ui=5.0, est=3.399393110194927, details={'was_impossible': False}),\n Prediction(uid='751', iid='385', r_ui=4.0, est=3.639684378287477, details={'was_impossible': False})]"
     },
     "execution_count": 23,
     "metadata": {},
     "output_type": "execute_result"
    }
   ],
   "source": [
    "predictions = algo.test(testset)\n",
    "print('prediction type:', type(predictions), 'size:', len(predictions))\n",
    "print('prediction 결과의 최초 5개 추출')\n",
    "predictions[:5]"
   ],
   "metadata": {
    "collapsed": false,
    "ExecuteTime": {
     "end_time": "2023-12-22T02:04:45.771236Z",
     "start_time": "2023-12-22T02:04:45.711349Z"
    }
   },
   "id": "d149a6b7835881fd"
  },
  {
   "cell_type": "code",
   "execution_count": 24,
   "outputs": [
    {
     "data": {
      "text/plain": "[('120', '282', 3.4883531569532917),\n ('882', '291', 3.7606354402110433),\n ('535', '507', 4.203652720457094)]"
     },
     "execution_count": 24,
     "metadata": {},
     "output_type": "execute_result"
    }
   ],
   "source": [
    "[(pred.uid, pred.iid, pred.est) for pred in predictions[:3] ]"
   ],
   "metadata": {
    "collapsed": false,
    "ExecuteTime": {
     "end_time": "2023-12-22T02:04:45.774860Z",
     "start_time": "2023-12-22T02:04:45.772298Z"
    }
   },
   "id": "84682778a18f55b4"
  },
  {
   "cell_type": "markdown",
   "source": [
    "predict()메서드는 개별 사용자, 아이템에 대한 예측 평점을 반환"
   ],
   "metadata": {
    "collapsed": false
   },
   "id": "7b9cfbab3c2f3a96"
  },
  {
   "cell_type": "code",
   "execution_count": 25,
   "outputs": [
    {
     "name": "stdout",
     "output_type": "stream",
     "text": [
      "user: 196        item: 302        r_ui = None   est = 3.99   {'was_impossible': False}\n"
     ]
    }
   ],
   "source": [
    "uid = str(196)\n",
    "iid = str(302)\n",
    "pred = algo.predict(uid, iid)\n",
    "print(pred)"
   ],
   "metadata": {
    "collapsed": false,
    "ExecuteTime": {
     "end_time": "2023-12-22T02:04:45.778430Z",
     "start_time": "2023-12-22T02:04:45.775388Z"
    }
   },
   "id": "fbd74645c4f0a0c"
  },
  {
   "cell_type": "markdown",
   "source": [
    "반환된 prediction의 리스트 객체를 기반으로 RMSE 평가"
   ],
   "metadata": {
    "collapsed": false
   },
   "id": "351e74d18a0a1263"
  },
  {
   "cell_type": "code",
   "execution_count": 26,
   "outputs": [
    {
     "name": "stdout",
     "output_type": "stream",
     "text": [
      "RMSE: 0.9474\n"
     ]
    },
    {
     "data": {
      "text/plain": "0.9473612817826993"
     },
     "execution_count": 26,
     "metadata": {},
     "output_type": "execute_result"
    }
   ],
   "source": [
    "accuracy.rmse(predictions)"
   ],
   "metadata": {
    "collapsed": false,
    "ExecuteTime": {
     "end_time": "2023-12-22T02:04:45.786274Z",
     "start_time": "2023-12-22T02:04:45.784479Z"
    }
   },
   "id": "44b7ec4f3139bb25"
  },
  {
   "cell_type": "markdown",
   "source": [
    "### Surprise 주요 모듈 소개\n",
    "**csv 파일로 사용자 평점 데이터 생성**"
   ],
   "metadata": {
    "collapsed": false
   },
   "id": "9e7be62738e6203c"
  },
  {
   "cell_type": "code",
   "execution_count": 27,
   "outputs": [],
   "source": [
    "import pandas as pd\n",
    "\n",
    "ratings = pd.read_csv('./ml-latest-small/ratings.csv')\n",
    "# ratings_noh.csv 파일로 unload 시 index 와 header를 모두 제거한 새로운 파일 생성.  \n",
    "ratings.to_csv('./ml-latest-small/ratings_noh.csv', index=False, header=False)"
   ],
   "metadata": {
    "collapsed": false,
    "ExecuteTime": {
     "end_time": "2023-12-22T02:04:45.913317Z",
     "start_time": "2023-12-22T02:04:45.787904Z"
    }
   },
   "id": "19a729bd6efa3e0e"
  },
  {
   "cell_type": "markdown",
   "source": [
    "**Reader클래스로 파일의 포맷팅 지정하고 Dataset의 load_from_file()을 이용하여 데이터셋 로딩**"
   ],
   "metadata": {
    "collapsed": false
   },
   "id": "6fd03c6061f40855"
  },
  {
   "cell_type": "code",
   "execution_count": 28,
   "outputs": [],
   "source": [
    "from surprise import Reader\n",
    "\n",
    "reader = Reader(line_format='user item rating timestamp', sep=',', rating_scale=(0.5, 5))\n",
    "data=Dataset.load_from_file('./ml-latest-small/ratings_noh.csv',reader=reader)"
   ],
   "metadata": {
    "collapsed": false,
    "ExecuteTime": {
     "end_time": "2023-12-22T02:04:45.979191Z",
     "start_time": "2023-12-22T02:04:45.914880Z"
    }
   },
   "id": "b381dfd428d6f237"
  },
  {
   "cell_type": "markdown",
   "source": [
    "**학습과 테스트 데이터 세트로 분할하고 SVD로 학습후 테스트데이터 평점 예측 후 RMSE평가**"
   ],
   "metadata": {
    "collapsed": false
   },
   "id": "12f2c50b945b2554"
  },
  {
   "cell_type": "code",
   "execution_count": 29,
   "outputs": [
    {
     "name": "stdout",
     "output_type": "stream",
     "text": [
      "RMSE: 0.8682\n"
     ]
    },
    {
     "data": {
      "text/plain": "0.8681952927143516"
     },
     "execution_count": 29,
     "metadata": {},
     "output_type": "execute_result"
    }
   ],
   "source": [
    "trainset, testset = train_test_split(data, test_size=.25, random_state=0)\n",
    "\n",
    "# 수행시마다 동일한 결과 도출을 위해 random_state 설정 \n",
    "algo = SVD(n_factors=50, random_state=0)\n",
    "\n",
    "# 학습 데이터 세트로 학습 후 테스트 데이터 세트로 평점 예측 후 RMSE 평가\n",
    "algo.fit(trainset) \n",
    "predictions = algo.test( testset )\n",
    "accuracy.rmse(predictions)\n"
   ],
   "metadata": {
    "collapsed": false,
    "ExecuteTime": {
     "end_time": "2023-12-22T02:04:46.384619Z",
     "start_time": "2023-12-22T02:04:45.980359Z"
    }
   },
   "id": "21326f61e5d2042f"
  },
  {
   "cell_type": "markdown",
   "source": [
    "**판다스 DataFrame기반에서 동일하게 재 수행**"
   ],
   "metadata": {
    "collapsed": false
   },
   "id": "d7c43d49ecc8a74"
  },
  {
   "cell_type": "code",
   "execution_count": 30,
   "outputs": [
    {
     "name": "stdout",
     "output_type": "stream",
     "text": [
      "RMSE: 0.8682\n"
     ]
    },
    {
     "data": {
      "text/plain": "0.8681952927143516"
     },
     "execution_count": 30,
     "metadata": {},
     "output_type": "execute_result"
    }
   ],
   "source": [
    "import pandas as pd\n",
    "from surprise import Reader, Dataset\n",
    "\n",
    "ratings = pd.read_csv('./ml-latest-small/ratings.csv') \n",
    "reader = Reader(rating_scale=(0.5, 5.0))\n",
    "\n",
    "# ratings DataFrame 에서 컬럼은 사용자 아이디, 아이템 아이디, 평점 순서를 지켜야 합니다. \n",
    "data = Dataset.load_from_df(ratings[['userId', 'movieId', 'rating']], reader)\n",
    "trainset, testset = train_test_split(data, test_size=.25, random_state=0)\n",
    "\n",
    "algo = SVD(n_factors=50, random_state=0)\n",
    "algo.fit(trainset) \n",
    "predictions = algo.test( testset )\n",
    "accuracy.rmse(predictions)\n"
   ],
   "metadata": {
    "collapsed": false,
    "ExecuteTime": {
     "end_time": "2023-12-22T02:04:46.851269Z",
     "start_time": "2023-12-22T02:04:46.385835Z"
    }
   },
   "id": "8122089b7039ac44"
  }
 ],
 "metadata": {
  "kernelspec": {
   "display_name": "Python 3",
   "language": "python",
   "name": "python3"
  },
  "language_info": {
   "codemirror_mode": {
    "name": "ipython",
    "version": 2
   },
   "file_extension": ".py",
   "mimetype": "text/x-python",
   "name": "python",
   "nbconvert_exporter": "python",
   "pygments_lexer": "ipython2",
   "version": "2.7.6"
  }
 },
 "nbformat": 4,
 "nbformat_minor": 5
}
