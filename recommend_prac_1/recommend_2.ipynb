{
 "cells": [
  {
   "cell_type": "code",
   "execution_count": 22,
   "id": "initial_id",
   "metadata": {
    "collapsed": true,
    "ExecuteTime": {
     "end_time": "2024-01-04T08:00:05.269087Z",
     "start_time": "2024-01-04T08:00:05.242691Z"
    }
   },
   "outputs": [],
   "source": [
    "import os\n",
    "import pandas as pd\n",
    "import numpy as np\n",
    "\n",
    "base_src = '../data/drive-download-20240102T142504Z-001'\n",
    "u_user_src = os.path.join(base_src, 'u.user')\n",
    "u_cols = ['user_id', 'age', 'sex', 'occupation', 'zip_code']\n",
    "users = pd.read_csv(\n",
    "    u_user_src,\n",
    "    sep='|',\n",
    "    names=u_cols,\n",
    "    encoding='latin-1'\n",
    ")\n",
    "\n",
    "u_item_src = os.path.join(base_src, 'u.item')\n",
    "i_cols = [\n",
    "    'movie_id', 'title', 'release date', 'video release date',\n",
    "    'IMDB URL', 'unknown', 'Action', 'Adventure', 'Animat ion',\n",
    "    'Children\\'s', 'Comedy', 'Crime', 'Documentary ', 'Drama',\n",
    "    'Fantasy', 'Film- Noir', 'Horror', 'Musical', 'Mystery',\n",
    "    'Romance ', 'Sci-Fi', 'Thriller', 'War', 'Western'\n",
    "]\n",
    "movies = pd.read_csv(\n",
    "    u_item_src,\n",
    "    sep='|',\n",
    "    names=i_cols,\n",
    "    encoding='latin-1'\n",
    ")\n",
    "\n",
    "u_data_src = os.path.join(base_src, 'u.data')\n",
    "r_cols = ['user_id', 'movie_id', 'rating', 'timestamp']\n",
    "ratings = pd.read_csv(\n",
    "    u_data_src,\n",
    "    sep='\\t',\n",
    "    names=r_cols,\n",
    "    encoding='latin-1'\n",
    ")\n",
    "\n",
    "ratings = ratings.drop('timestamp', axis=1)\n",
    "movies = movies[['movie_id', 'title']]"
   ]
  },
  {
   "cell_type": "code",
   "execution_count": 23,
   "outputs": [
    {
     "data": {
      "text/plain": "1.0311914113418845"
     },
     "execution_count": 23,
     "metadata": {},
     "output_type": "execute_result"
    }
   ],
   "source": [
    "# 데이터 train, test set으로 나누기\n",
    "from sklearn.model_selection import train_test_split\n",
    "\n",
    "x = ratings.copy()\n",
    "y = ratings['user_id']\n",
    "\n",
    "x_train, x_test, y_train, y_test = train_test_split(\n",
    "    x, y, test_size=0.25, stratify=y\n",
    ")\n",
    "\n",
    "# 정확도 (RMSE)를 계산하는 함수\n",
    "def RMSE(y_true, y_pred):\n",
    "    return np.sqrt(np.mean((np.array(y_true) - np.array(y_pred))**2))\n",
    "\n",
    "# 모델별 RMSE를 계산하는 함수\n",
    "def score(model):\n",
    "    id_pairs = zip(x_test['user_id'], x_test['movie_id'])\n",
    "    y_pred = np.array([model(user, movie) for (user, movie) in id_pairs])\n",
    "    y_true = np.array(x_test['rating'])\n",
    "    return RMSE(y_true, y_pred)\n",
    "\n",
    "# best_seller 함수를 이용한 정확도 계산\n",
    "train_mean = x_train.groupby(['movie_id'])['rating'].mean()\n",
    "def best_seller(user_id, movie_id):\n",
    "    try:\n",
    "        rating = train_mean[movie_id]\n",
    "    except:\n",
    "        rating = 3.0\n",
    "    return rating\n",
    "\n",
    "score(best_seller)"
   ],
   "metadata": {
    "collapsed": false,
    "ExecuteTime": {
     "end_time": "2024-01-04T08:00:05.326894Z",
     "start_time": "2024-01-04T08:00:05.270249Z"
    }
   },
   "id": "de2d58af3328af09"
  },
  {
   "cell_type": "code",
   "execution_count": 24,
   "outputs": [],
   "source": [
    "# 성별에 따른 예측값 계산\n",
    "merged_ratings = pd.merge(x_train, users) # x_train과 users를 병합하여 train데이터에 유저정보를 참조하기 위함\n",
    "users = users.set_index('user_id') \n",
    "g_mean = merged_ratings[['movie_id','sex','rating']].groupby(['movie_id', 'sex'])['rating'].mean()\n",
    "\n",
    "rating_matrix = x_train.pivot(index='user_id', columns='movie_id', values='rating')\n"
   ],
   "metadata": {
    "collapsed": false,
    "ExecuteTime": {
     "end_time": "2024-01-04T08:00:05.363577Z",
     "start_time": "2024-01-04T08:00:05.327291Z"
    }
   },
   "id": "de48e5b441e45c3a"
  },
  {
   "cell_type": "code",
   "execution_count": 26,
   "outputs": [
    {
     "data": {
      "text/plain": "1.0433954238022318"
     },
     "execution_count": 26,
     "metadata": {},
     "output_type": "execute_result"
    }
   ],
   "source": [
    "# 성별 기준 추천\n",
    "def cf_gender(user_id, movie_id):\n",
    "    if movie_id in rating_matrix.columns:\n",
    "        gender = users.loc[user_id]['sex']\n",
    "        if gender in g_mean[movie_id].index:\n",
    "            gender_rating = g_mean[movie_id][gender]\n",
    "        else:\n",
    "            gender_rating = 3.0\n",
    "    else:\n",
    "        gender_rating = 3.0\n",
    "    return gender_rating\n",
    "        \n",
    "score(cf_gender)"
   ],
   "metadata": {
    "collapsed": false,
    "ExecuteTime": {
     "end_time": "2024-01-04T08:00:25.143213Z",
     "start_time": "2024-01-04T08:00:22.196511Z"
    }
   },
   "id": "16db5f077e5d54b"
  },
  {
   "cell_type": "code",
   "execution_count": null,
   "outputs": [],
   "source": [],
   "metadata": {
    "collapsed": false,
    "ExecuteTime": {
     "start_time": "2024-01-04T08:00:05.360913Z"
    }
   },
   "id": "f52396e884941bc4"
  }
 ],
 "metadata": {
  "kernelspec": {
   "display_name": "Python 3",
   "language": "python",
   "name": "python3"
  },
  "language_info": {
   "codemirror_mode": {
    "name": "ipython",
    "version": 2
   },
   "file_extension": ".py",
   "mimetype": "text/x-python",
   "name": "python",
   "nbconvert_exporter": "python",
   "pygments_lexer": "ipython2",
   "version": "2.7.6"
  }
 },
 "nbformat": 4,
 "nbformat_minor": 5
}
