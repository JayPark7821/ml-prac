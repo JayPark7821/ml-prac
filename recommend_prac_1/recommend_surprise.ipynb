{
 "cells": [
  {
   "cell_type": "markdown",
   "source": [
    "# Surprise 기본 활용"
   ],
   "metadata": {
    "collapsed": false
   },
   "id": "79b8fa7cfbcd9879"
  },
  {
   "cell_type": "code",
   "execution_count": 2,
   "outputs": [
    {
     "name": "stdout",
     "output_type": "stream",
     "text": [
      "Computing the msd similarity matrix...\n",
      "Done computing similarity matrix.\n",
      "RMSE: 0.9571\n"
     ]
    },
    {
     "data": {
      "text/plain": "0.9571104973575206"
     },
     "execution_count": 2,
     "metadata": {},
     "output_type": "execute_result"
    }
   ],
   "source": [
    "import numpy as np\n",
    "from surprise import BaselineOnly, KNNWithMeans, SVD, SVDpp, Dataset, accuracy, Reader\n",
    "from surprise.model_selection import cross_validate, train_test_split\n",
    "import matplotlib.pyplot as plt\n",
    "\n",
    "data = Dataset.load_builtin(name=u'ml-100k')\n",
    "\n",
    "# train test 분리\n",
    "trainset, testset = train_test_split(data, test_size=0.25)\n",
    "\n",
    "algo = KNNWithMeans()\n",
    "algo.fit(trainset)\n",
    "predictions = algo.test(testset)\n",
    "\n",
    "accuracy.rmse(predictions)"
   ],
   "metadata": {
    "collapsed": false,
    "ExecuteTime": {
     "end_time": "2024-01-09T03:20:55.484534Z",
     "start_time": "2024-01-09T03:20:52.703631Z"
    }
   },
   "id": "9e39aa5095eca475"
  },
  {
   "cell_type": "code",
   "execution_count": 4,
   "outputs": [
    {
     "name": "stdout",
     "output_type": "stream",
     "text": [
      "Estimating biases using als...\n",
      "RMSE: 0.9486\n",
      "Computing the msd similarity matrix...\n",
      "Done computing similarity matrix.\n",
      "RMSE: 0.9571\n",
      "RMSE: 0.9431\n",
      "RMSE: 0.9245\n"
     ]
    },
    {
     "data": {
      "text/plain": "array([0.92445951, 0.94314228, 0.94857851, 0.9571105 ])"
     },
     "execution_count": 4,
     "metadata": {},
     "output_type": "execute_result"
    },
    {
     "data": {
      "text/plain": "<Figure size 640x480 with 1 Axes>",
      "image/png": "[encoded data removed]"
     },
     "metadata": {},
     "output_type": "display_data"
    }
   ],
   "source": [
    "algorithms = [BaselineOnly, KNNWithMeans, SVD, SVDpp]\n",
    "names = []\n",
    "results = []\n",
    "\n",
    "for option in algorithms:\n",
    "    algo = option()\n",
    "    names.append(option.__name__)\n",
    "    algo.fit(trainset)\n",
    "    predictions = algo.test(testset)\n",
    "    results.append(accuracy.rmse(predictions))\n",
    "    \n",
    "names = np.array(names)\n",
    "results = np.array(results)\n",
    "\n",
    "index = np.argsort(results)\n",
    "plt.ylim(0.8,1)\n",
    "plt.plot(names[index], results[index])\n",
    "results[index]"
   ],
   "metadata": {
    "collapsed": false,
    "ExecuteTime": {
     "end_time": "2024-01-09T03:22:16.349662Z",
     "start_time": "2024-01-09T03:22:08.325297Z"
    }
   },
   "id": "f97c29bf010bdcd3"
  },
  {
   "cell_type": "markdown",
   "source": [
    "# Surprise 알고리즘 옵션 지정"
   ],
   "metadata": {
    "collapsed": false
   },
   "id": "1c2c064095dcff"
  },
  {
   "cell_type": "code",
   "execution_count": 5,
   "outputs": [
    {
     "name": "stdout",
     "output_type": "stream",
     "text": [
      "Estimating biases using als...\n",
      "Computing the pearson_baseline similarity matrix...\n",
      "Done computing similarity matrix.\n",
      "RMSE: 0.9467\n"
     ]
    },
    {
     "data": {
      "text/plain": "0.9467272448437085"
     },
     "execution_count": 5,
     "metadata": {},
     "output_type": "execute_result"
    }
   ],
   "source": [
    "sim_options = {'name': 'pearson_baseline', 'user_based': True}\n",
    "algo = KNNWithMeans(k=30, sim_options=sim_options)\n",
    "algo.fit(trainset)\n",
    "predictions = algo.test(testset)\n",
    "accuracy.rmse(predictions)"
   ],
   "metadata": {
    "collapsed": false,
    "ExecuteTime": {
     "end_time": "2024-01-09T03:23:36.761774Z",
     "start_time": "2024-01-09T03:23:35.428755Z"
    }
   },
   "id": "f64113a2302f4a43"
  },
  {
   "cell_type": "code",
   "execution_count": null,
   "outputs": [],
   "source": [],
   "metadata": {
    "collapsed": false
   },
   "id": "59d82fc679827df1"
  }
 ],
 "metadata": {
  "kernelspec": {
   "display_name": "Python 3",
   "language": "python",
   "name": "python3"
  },
  "language_info": {
   "codemirror_mode": {
    "name": "ipython",
    "version": 2
   },
   "file_extension": ".py",
   "mimetype": "text/x-python",
   "name": "python",
   "nbconvert_exporter": "python",
   "pygments_lexer": "ipython2",
   "version": "2.7.6"
  }
 },
 "nbformat": 4,
 "nbformat_minor": 5
}
