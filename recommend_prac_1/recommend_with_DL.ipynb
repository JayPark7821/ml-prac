{
 "cells": [
  {
   "cell_type": "markdown",
   "source": [
    "# 딥러닝을 적용한 추천 시스템\n"
   ],
   "metadata": {
    "collapsed": false
   },
   "id": "1fbbb49db9357055"
  },
  {
   "cell_type": "code",
   "execution_count": 3,
   "outputs": [
    {
     "name": "stdout",
     "output_type": "stream",
     "text": [
      "Model: \"model\"\n",
      "__________________________________________________________________________________________________\n",
      "Layer (type)                    Output Shape         Param #     Connected to                     \n",
      "==================================================================================================\n",
      "input_5 (InputLayer)            [(None, 1)]          0                                            \n",
      "__________________________________________________________________________________________________\n",
      "input_6 (InputLayer)            [(None, 1)]          0                                            \n",
      "__________________________________________________________________________________________________\n",
      "embedding_8 (Embedding)         (None, 1, 200)       188800      input_5[0][0]                    \n",
      "__________________________________________________________________________________________________\n",
      "embedding_9 (Embedding)         (None, 1, 200)       336600      input_6[0][0]                    \n",
      "__________________________________________________________________________________________________\n",
      "embedding_10 (Embedding)        (None, 1, 1)         944         input_5[0][0]                    \n",
      "__________________________________________________________________________________________________\n",
      "embedding_11 (Embedding)        (None, 1, 1)         1683        input_6[0][0]                    \n",
      "__________________________________________________________________________________________________\n",
      "flatten_4 (Flatten)             (None, 200)          0           embedding_8[0][0]                \n",
      "__________________________________________________________________________________________________\n",
      "flatten_5 (Flatten)             (None, 200)          0           embedding_9[0][0]                \n",
      "__________________________________________________________________________________________________\n",
      "flatten_6 (Flatten)             (None, 1)            0           embedding_10[0][0]               \n",
      "__________________________________________________________________________________________________\n",
      "flatten_7 (Flatten)             (None, 1)            0           embedding_11[0][0]               \n",
      "__________________________________________________________________________________________________\n",
      "concatenate_1 (Concatenate)     (None, 402)          0           flatten_4[0][0]                  \n",
      "                                                                 flatten_5[0][0]                  \n",
      "                                                                 flatten_6[0][0]                  \n",
      "                                                                 flatten_7[0][0]                  \n",
      "__________________________________________________________________________________________________\n",
      "dense_1 (Dense)                 (None, 2048)         825344      concatenate_1[0][0]              \n",
      "__________________________________________________________________________________________________\n",
      "activation_1 (Activation)       (None, 2048)         0           dense_1[0][0]                    \n",
      "__________________________________________________________________________________________________\n",
      "dense_2 (Dense)                 (None, 256)          524544      activation_1[0][0]               \n",
      "__________________________________________________________________________________________________\n",
      "activation_2 (Activation)       (None, 256)          0           dense_2[0][0]                    \n",
      "__________________________________________________________________________________________________\n",
      "dense_3 (Dense)                 (None, 1)            257         activation_2[0][0]               \n",
      "==================================================================================================\n",
      "Total params: 1,878,172\n",
      "Trainable params: 1,878,172\n",
      "Non-trainable params: 0\n",
      "__________________________________________________________________________________________________\n"
     ]
    }
   ],
   "source": [
    "import pandas as pd\n",
    "\n",
    "from sklearn.model_selection import train_test_split\n",
    "\n",
    "import os\n",
    "import tensorflow as tf\n",
    "from tensorflow.python.keras import layers\n",
    "from tensorflow.python.keras.models import Model\n",
    "from tensorflow.python.keras.layers import Input, Embedding, Dot, Add, Flatten\n",
    "from tensorflow.python.keras.layers import Dense, Concatenate, Activation\n",
    "from tensorflow.python.keras.regularizers import l2\n",
    "from tensorflow.python.keras.optimizer_v1 import SGD, Adamax\n",
    "\n",
    "tf.compat.v1.disable_eager_execution()\n",
    "\n",
    "base_src = '../data/drive-download-20240102T142504Z-001'\n",
    "u_data_src = os.path.join(base_src, 'u.data')\n",
    "r_cols = ['user_id', 'movie_id', 'rating', 'timestamp']\n",
    "ratings = pd.read_csv(\n",
    "    u_data_src,\n",
    "    sep='\\t',\n",
    "    names=r_cols,\n",
    "    encoding='latin-1'\n",
    ")\n",
    "\n",
    "rating_train, rating_test = train_test_split(ratings, test_size=0.2, shuffle=True, random_state=2021)\n",
    "\n",
    "# y_true, y_pred는 신경망에서 실제값, 예측값을 나타내는 Tensorflow/keras 표준 변수\n",
    "def RMSE(y_true, y_pred):\n",
    "    return tf.sqrt(tf.reduce_mean(tf.square(y_true - y_pred)))\n",
    "\n",
    "# vartiable 초기화\n",
    "# 잠재요인의 수를 200으로 설정\n",
    "K = 200\n",
    "# 전체평균 계산\n",
    "mu = rating_train.rating.mean()\n",
    "# 사용자 아이디와 영화 아이디의 최대값을 구한다. movie lens데이터는 잘 정제되어 있어서 max 사용\n",
    "# +1를 해주는 이유는 나중에 bias trem의 크기 1를 추가로 고려\n",
    "M = rating_train.user_id.max() + 1 \n",
    "N = rating_train.movie_id.max() + 1\n",
    "\n",
    "################################################################################################\n",
    "# keras model\n",
    "# 아래 부분은 앞에서와 동일하게 사용자와 아이템 데이터를 embedding을 통해\n",
    "# 각각 K개의 노드를 갖는 layer로 변환하고 \n",
    "# 사용자 bias와 아이템 bias를 1개의 노드를 갖는 layer로 변환한다.\n",
    "user = Input(shape=(1,))\n",
    "item = Input(shape=(1,))\n",
    "P_embedding = Embedding(M, K, embeddings_regularizer=l2())(user)\n",
    "Q_embedding = Embedding(N, K, embeddings_regularizer=l2())(item)\n",
    "user_bias = Embedding(M, 1, embeddings_regularizer=l2())(user)\n",
    "item_bias = Embedding(N, 1, embeddings_regularizer=l2())(item)\n",
    "\n",
    "P_embedding = Flatten()(P_embedding)\n",
    "Q_embedding = Flatten()(Q_embedding)\n",
    "user_bias = Flatten()(user_bias)\n",
    "item_bias = Flatten()(item_bias)\n",
    "\n",
    "R = Concatenate()([P_embedding, Q_embedding, user_bias, item_bias])\n",
    "# node 2048개\n",
    "R = Dense(2048)(R)\n",
    "R = Activation('linear')(R)\n",
    "R = Dense(256)(R)\n",
    "R = Activation('linear')(R)\n",
    "\n",
    "R = Dense(1)(R)\n",
    "\n",
    "model = Model(inputs=[user, item], outputs=R)\n",
    "\n",
    "model.compile(\n",
    "    loss=RMSE,\n",
    "    optimizer=SGD(),\n",
    "    metrics=[RMSE]\n",
    ")\n",
    "\n",
    "model.summary()"
   ],
   "metadata": {
    "collapsed": false,
    "ExecuteTime": {
     "end_time": "2024-01-13T21:05:21.933375Z",
     "start_time": "2024-01-13T21:05:21.790085Z"
    }
   },
   "id": "b147de1928d819d3"
  },
  {
   "cell_type": "code",
   "execution_count": 4,
   "outputs": [
    {
     "name": "stdout",
     "output_type": "stream",
     "text": [
      "Train on 80000 samples, validate on 20000 samples\n",
      "Epoch 1/65\n"
     ]
    },
    {
     "name": "stderr",
     "output_type": "stream",
     "text": [
      "2024-01-14 06:08:42.912194: I tensorflow/compiler/mlir/mlir_graph_optimization_pass.cc:388] MLIR V1 optimization pass is not enabled\n",
      "2024-01-14 06:08:42.998902: W tensorflow/c/c_api.cc:305] Operation '{name:'SGD/lr/Assign' id:290 op device:{requested: '', assigned: ''} def:{{{node SGD/lr/Assign}} = AssignVariableOp[_has_manual_control_dependencies=true, dtype=DT_FLOAT, validate_shape=false](SGD/lr, SGD/lr/Initializer/initial_value)}}' was changed by setting attribute after it was run by a session. This mutation will have no effect, and will trigger an error in the future. Either don't modify nodes after running them or create a new session.\n"
     ]
    },
    {
     "name": "stdout",
     "output_type": "stream",
     "text": [
      "79872/80000 [============================>.] - ETA: 0s - loss: 5.3868 - RMSE: 1.1263"
     ]
    },
    {
     "name": "stderr",
     "output_type": "stream",
     "text": [
      "/Users/jaypark/anaconda3/lib/python3.11/site-packages/tensorflow/python/keras/engine/training.py:2455: UserWarning: `Model.state_updates` will be removed in a future version. This property should not be used in TensorFlow 2.0, as `updates` are applied automatically.\n",
      "  warnings.warn('`Model.state_updates` will be removed in a future version. '\n",
      "2024-01-14 06:08:47.032239: W tensorflow/c/c_api.cc:305] Operation '{name:'loss/AddN_1' id:404 op device:{requested: '', assigned: ''} def:{{{node loss/AddN_1}} = AddN[N=2, T=DT_FLOAT, _has_manual_control_dependencies=true](loss/mul, loss/AddN)}}' was changed by setting attribute after it was run by a session. This mutation will have no effect, and will trigger an error in the future. Either don't modify nodes after running them or create a new session.\n"
     ]
    },
    {
     "name": "stdout",
     "output_type": "stream",
     "text": [
      "80000/80000 [==============================] - 4s 54us/sample - loss: 5.3866 - RMSE: 1.1263 - val_loss: 5.2438 - val_RMSE: 1.1159\n",
      "Epoch 2/65\n",
      "80000/80000 [==============================] - 4s 55us/sample - loss: 5.1254 - RMSE: 1.1242 - val_loss: 4.9908 - val_RMSE: 1.1181\n",
      "Epoch 3/65\n",
      "80000/80000 [==============================] - 4s 54us/sample - loss: 4.8802 - RMSE: 1.1227 - val_loss: 4.7534 - val_RMSE: 1.1178\n",
      "Epoch 4/65\n",
      "80000/80000 [==============================] - 5s 58us/sample - loss: 4.6499 - RMSE: 1.1208 - val_loss: 4.5303 - val_RMSE: 1.1148\n",
      "Epoch 5/65\n",
      "80000/80000 [==============================] - 4s 55us/sample - loss: 4.4334 - RMSE: 1.1197 - val_loss: 4.3208 - val_RMSE: 1.1094\n",
      "Epoch 6/65\n",
      "80000/80000 [==============================] - 4s 55us/sample - loss: 4.2300 - RMSE: 1.1173 - val_loss: 4.1238 - val_RMSE: 1.1116\n",
      "Epoch 7/65\n",
      "80000/80000 [==============================] - 4s 54us/sample - loss: 4.0389 - RMSE: 1.1158 - val_loss: 3.9386 - val_RMSE: 1.1009\n",
      "Epoch 8/65\n",
      "80000/80000 [==============================] - 5s 57us/sample - loss: 3.8589 - RMSE: 1.1133 - val_loss: 3.7644 - val_RMSE: 1.1033\n",
      "Epoch 9/65\n",
      "80000/80000 [==============================] - 5s 59us/sample - loss: 3.6897 - RMSE: 1.1104 - val_loss: 3.6004 - val_RMSE: 1.1020\n",
      "Epoch 10/65\n",
      "80000/80000 [==============================] - 5s 58us/sample - loss: 3.5303 - RMSE: 1.1081 - val_loss: 3.4458 - val_RMSE: 1.0959\n",
      "Epoch 11/65\n",
      "80000/80000 [==============================] - 4s 54us/sample - loss: 3.3801 - RMSE: 1.1044 - val_loss: 3.3003 - val_RMSE: 1.0925\n",
      "Epoch 12/65\n",
      "80000/80000 [==============================] - 5s 57us/sample - loss: 3.2383 - RMSE: 1.1000 - val_loss: 3.1627 - val_RMSE: 1.0911\n",
      "Epoch 13/65\n",
      "80000/80000 [==============================] - 5s 56us/sample - loss: 3.1045 - RMSE: 1.0960 - val_loss: 3.0332 - val_RMSE: 1.0837\n",
      "Epoch 14/65\n",
      "80000/80000 [==============================] - 5s 56us/sample - loss: 2.9780 - RMSE: 1.0906 - val_loss: 2.9100 - val_RMSE: 1.0800\n",
      "Epoch 15/65\n",
      "80000/80000 [==============================] - 4s 54us/sample - loss: 2.8582 - RMSE: 1.0847 - val_loss: 2.7939 - val_RMSE: 1.0755\n",
      "Epoch 16/65\n",
      "80000/80000 [==============================] - 4s 52us/sample - loss: 2.7443 - RMSE: 1.0779 - val_loss: 2.6833 - val_RMSE: 1.0670\n",
      "Epoch 17/65\n",
      "80000/80000 [==============================] - 4s 52us/sample - loss: 2.6363 - RMSE: 1.0699 - val_loss: 2.5783 - val_RMSE: 1.0552\n",
      "Epoch 18/65\n",
      "80000/80000 [==============================] - 4s 54us/sample - loss: 2.5337 - RMSE: 1.0609 - val_loss: 2.4788 - val_RMSE: 1.0519\n",
      "Epoch 19/65\n",
      "80000/80000 [==============================] - 5s 59us/sample - loss: 2.4362 - RMSE: 1.0519 - val_loss: 2.3842 - val_RMSE: 1.0436\n",
      "Epoch 20/65\n",
      "80000/80000 [==============================] - 4s 55us/sample - loss: 2.3435 - RMSE: 1.0411 - val_loss: 2.2943 - val_RMSE: 1.0330\n",
      "Epoch 21/65\n",
      "80000/80000 [==============================] - 4s 53us/sample - loss: 2.2556 - RMSE: 1.0306 - val_loss: 2.2093 - val_RMSE: 1.0189\n",
      "Epoch 22/65\n",
      "80000/80000 [==============================] - 4s 52us/sample - loss: 2.1727 - RMSE: 1.0208 - val_loss: 2.1298 - val_RMSE: 1.0112\n",
      "Epoch 23/65\n",
      "80000/80000 [==============================] - 4s 52us/sample - loss: 2.0943 - RMSE: 1.0103 - val_loss: 2.0537 - val_RMSE: 1.0041\n",
      "Epoch 24/65\n",
      "80000/80000 [==============================] - 4s 53us/sample - loss: 2.0208 - RMSE: 1.0011 - val_loss: 1.9832 - val_RMSE: 0.9946\n",
      "Epoch 25/65\n",
      "80000/80000 [==============================] - 4s 52us/sample - loss: 1.9520 - RMSE: 0.9924 - val_loss: 1.9175 - val_RMSE: 0.9875\n",
      "Epoch 26/65\n",
      "80000/80000 [==============================] - 4s 55us/sample - loss: 1.8876 - RMSE: 0.9850 - val_loss: 1.8569 - val_RMSE: 0.9854\n",
      "Epoch 27/65\n",
      "80000/80000 [==============================] - 4s 54us/sample - loss: 1.8273 - RMSE: 0.9776 - val_loss: 1.7971 - val_RMSE: 0.9730\n",
      "Epoch 28/65\n",
      "80000/80000 [==============================] - 4s 51us/sample - loss: 1.7709 - RMSE: 0.9712 - val_loss: 1.7434 - val_RMSE: 0.9640\n",
      "Epoch 29/65\n",
      "80000/80000 [==============================] - 4s 52us/sample - loss: 1.7183 - RMSE: 0.9654 - val_loss: 1.6930 - val_RMSE: 0.9611\n",
      "Epoch 30/65\n",
      "80000/80000 [==============================] - 4s 52us/sample - loss: 1.6690 - RMSE: 0.9611 - val_loss: 1.6461 - val_RMSE: 0.9581\n",
      "Epoch 31/65\n",
      "80000/80000 [==============================] - 4s 55us/sample - loss: 1.6233 - RMSE: 0.9569 - val_loss: 1.6018 - val_RMSE: 0.9551\n",
      "Epoch 32/65\n",
      "80000/80000 [==============================] - 4s 52us/sample - loss: 1.5799 - RMSE: 0.9527 - val_loss: 1.5626 - val_RMSE: 0.9542\n",
      "Epoch 33/65\n",
      "80000/80000 [==============================] - 4s 51us/sample - loss: 1.5397 - RMSE: 0.9495 - val_loss: 1.5229 - val_RMSE: 0.9569\n",
      "Epoch 34/65\n",
      "80000/80000 [==============================] - 4s 51us/sample - loss: 1.5020 - RMSE: 0.9460 - val_loss: 1.4863 - val_RMSE: 0.9461\n",
      "Epoch 35/65\n",
      "80000/80000 [==============================] - 4s 53us/sample - loss: 1.4667 - RMSE: 0.9436 - val_loss: 1.4525 - val_RMSE: 0.9418\n",
      "Epoch 36/65\n",
      "80000/80000 [==============================] - 4s 54us/sample - loss: 1.4336 - RMSE: 0.9406 - val_loss: 1.4233 - val_RMSE: 0.9472\n",
      "Epoch 37/65\n",
      "80000/80000 [==============================] - 5s 57us/sample - loss: 1.4026 - RMSE: 0.9396 - val_loss: 1.3918 - val_RMSE: 0.9406\n",
      "Epoch 38/65\n",
      "80000/80000 [==============================] - 4s 55us/sample - loss: 1.3736 - RMSE: 0.9367 - val_loss: 1.3650 - val_RMSE: 0.9451\n",
      "Epoch 39/65\n",
      "80000/80000 [==============================] - 4s 53us/sample - loss: 1.3465 - RMSE: 0.9356 - val_loss: 1.3408 - val_RMSE: 0.9446\n",
      "Epoch 40/65\n",
      "80000/80000 [==============================] - 4s 54us/sample - loss: 1.3209 - RMSE: 0.9336 - val_loss: 1.3152 - val_RMSE: 0.9373\n",
      "Epoch 41/65\n",
      "80000/80000 [==============================] - 5s 57us/sample - loss: 1.2972 - RMSE: 0.9329 - val_loss: 1.2920 - val_RMSE: 0.9397\n",
      "Epoch 42/65\n",
      "80000/80000 [==============================] - 4s 53us/sample - loss: 1.2748 - RMSE: 0.9320 - val_loss: 1.2694 - val_RMSE: 0.9331\n",
      "Epoch 43/65\n",
      "80000/80000 [==============================] - 4s 51us/sample - loss: 1.2540 - RMSE: 0.9308 - val_loss: 1.2489 - val_RMSE: 0.9398\n",
      "Epoch 44/65\n",
      "80000/80000 [==============================] - 4s 52us/sample - loss: 1.2343 - RMSE: 0.9293 - val_loss: 1.2302 - val_RMSE: 0.9308\n",
      "Epoch 45/65\n",
      "80000/80000 [==============================] - 5s 57us/sample - loss: 1.2157 - RMSE: 0.9285 - val_loss: 1.2127 - val_RMSE: 0.9369\n",
      "Epoch 46/65\n",
      "80000/80000 [==============================] - 4s 53us/sample - loss: 1.1987 - RMSE: 0.9273 - val_loss: 1.1959 - val_RMSE: 0.9355\n",
      "Epoch 47/65\n",
      "80000/80000 [==============================] - 4s 54us/sample - loss: 1.1824 - RMSE: 0.9265 - val_loss: 1.1823 - val_RMSE: 0.9329\n",
      "Epoch 48/65\n",
      "80000/80000 [==============================] - 4s 52us/sample - loss: 1.1673 - RMSE: 0.9262 - val_loss: 1.1681 - val_RMSE: 0.9333\n",
      "Epoch 49/65\n",
      "80000/80000 [==============================] - 4s 53us/sample - loss: 1.1531 - RMSE: 0.9264 - val_loss: 1.1563 - val_RMSE: 0.9363\n",
      "Epoch 50/65\n",
      "80000/80000 [==============================] - 4s 51us/sample - loss: 1.1396 - RMSE: 0.9260 - val_loss: 1.1408 - val_RMSE: 0.9305\n",
      "Epoch 51/65\n",
      "80000/80000 [==============================] - 4s 52us/sample - loss: 1.1271 - RMSE: 0.9254 - val_loss: 1.1269 - val_RMSE: 0.9317\n",
      "Epoch 52/65\n",
      "80000/80000 [==============================] - 4s 53us/sample - loss: 1.1154 - RMSE: 0.9247 - val_loss: 1.1204 - val_RMSE: 0.9325\n",
      "Epoch 53/65\n",
      "80000/80000 [==============================] - 4s 52us/sample - loss: 1.1043 - RMSE: 0.9241 - val_loss: 1.1089 - val_RMSE: 0.9364\n",
      "Epoch 54/65\n",
      "80000/80000 [==============================] - 4s 52us/sample - loss: 1.0941 - RMSE: 0.9240 - val_loss: 1.1070 - val_RMSE: 0.9453\n",
      "Epoch 55/65\n",
      "80000/80000 [==============================] - 4s 53us/sample - loss: 1.0843 - RMSE: 0.9237 - val_loss: 1.0910 - val_RMSE: 0.9274\n",
      "Epoch 56/65\n",
      "80000/80000 [==============================] - 4s 51us/sample - loss: 1.0751 - RMSE: 0.9234 - val_loss: 1.0808 - val_RMSE: 0.9318\n",
      "Epoch 57/65\n",
      "80000/80000 [==============================] - 4s 51us/sample - loss: 1.0668 - RMSE: 0.9235 - val_loss: 1.0688 - val_RMSE: 0.9329\n",
      "Epoch 58/65\n",
      "80000/80000 [==============================] - 4s 53us/sample - loss: 1.0585 - RMSE: 0.9233 - val_loss: 1.0661 - val_RMSE: 0.9377\n",
      "Epoch 59/65\n",
      "80000/80000 [==============================] - 4s 51us/sample - loss: 1.0511 - RMSE: 0.9232 - val_loss: 1.0557 - val_RMSE: 0.9348\n",
      "Epoch 60/65\n",
      "80000/80000 [==============================] - 4s 52us/sample - loss: 1.0438 - RMSE: 0.9230 - val_loss: 1.0486 - val_RMSE: 0.9327\n",
      "Epoch 61/65\n",
      "80000/80000 [==============================] - 4s 50us/sample - loss: 1.0372 - RMSE: 0.9231 - val_loss: 1.0414 - val_RMSE: 0.9266\n",
      "Epoch 62/65\n",
      "80000/80000 [==============================] - 4s 52us/sample - loss: 1.0308 - RMSE: 0.9232 - val_loss: 1.0548 - val_RMSE: 0.9524\n",
      "Epoch 63/65\n",
      "80000/80000 [==============================] - 4s 52us/sample - loss: 1.0252 - RMSE: 0.9232 - val_loss: 1.0318 - val_RMSE: 0.9281\n",
      "Epoch 64/65\n",
      "80000/80000 [==============================] - 4s 52us/sample - loss: 1.0196 - RMSE: 0.9233 - val_loss: 1.0335 - val_RMSE: 0.9403\n",
      "Epoch 65/65\n",
      "80000/80000 [==============================] - 4s 54us/sample - loss: 1.0143 - RMSE: 0.9231 - val_loss: 1.0179 - val_RMSE: 0.9252\n"
     ]
    }
   ],
   "source": [
    "# model fitting\n",
    "train_user_ids = rating_train.user_id.values\n",
    "train_movie_ids = rating_train.movie_id.values\n",
    "train_ratings = rating_train.rating.values\n",
    "\n",
    "test_user_ids = rating_test.user_id.values\n",
    "test_movie_ids = rating_test.movie_id.values\n",
    "test_ratings = rating_test.rating.values\n",
    "\n",
    "result = model.fit(\n",
    "    x=[train_user_ids, train_movie_ids],\n",
    "    y=train_ratings - mu,\n",
    "    epochs=65,\n",
    "    batch_size=512,\n",
    "    validation_data=(\n",
    "        [test_user_ids, test_movie_ids],\n",
    "        test_ratings - mu\n",
    "    )\n",
    ")\n"
   ],
   "metadata": {
    "collapsed": false,
    "ExecuteTime": {
     "end_time": "2024-01-13T21:13:21.697930Z",
     "start_time": "2024-01-13T21:08:42.786471Z"
    }
   },
   "id": "ac30f4e6310daf82"
  },
  {
   "cell_type": "code",
   "execution_count": 5,
   "outputs": [
    {
     "data": {
      "text/plain": "<Figure size 1000x1000 with 1 Axes>",
      "image/png": "[encoded data removed]"
     },
     "metadata": {},
     "output_type": "display_data"
    }
   ],
   "source": [
    "import matplotlib.pyplot as plt\n",
    "plt.figure(figsize=(10, 10))\n",
    "plt.plot(result.history['RMSE'], label='train RMSE')\n",
    "plt.plot(result.history['val_RMSE'], label='test RMSE')\n",
    "plt.legend()\n",
    "plt.show()"
   ],
   "metadata": {
    "collapsed": false,
    "ExecuteTime": {
     "end_time": "2024-01-13T21:14:01.124Z",
     "start_time": "2024-01-13T21:13:59.849068Z"
    }
   },
   "id": "1afd22b6cf0c9b75"
  },
  {
   "cell_type": "code",
   "execution_count": 6,
   "outputs": [
    {
     "name": "stderr",
     "output_type": "stream",
     "text": [
      "/Users/jaypark/anaconda3/lib/python3.11/site-packages/tensorflow/python/keras/engine/training.py:2455: UserWarning: `Model.state_updates` will be removed in a future version. This property should not be used in TensorFlow 2.0, as `updates` are applied automatically.\n",
      "  warnings.warn('`Model.state_updates` will be removed in a future version. '\n",
      "2024-01-14 06:14:09.016432: W tensorflow/c/c_api.cc:305] Operation '{name:'dense_3/BiasAdd' id:281 op device:{requested: '', assigned: ''} def:{{{node dense_3/BiasAdd}} = BiasAdd[T=DT_FLOAT, _has_manual_control_dependencies=true, data_format=\"NHWC\"](dense_3/MatMul, dense_3/BiasAdd/ReadVariableOp)}}' was changed by setting attribute after it was run by a session. This mutation will have no effect, and will trigger an error in the future. Either don't modify nodes after running them or create a new session.\n"
     ]
    }
   ],
   "source": [
    "user_ids = rating_train.user_id.values[0:6]\n",
    "movie_ids = rating_train.movie_id.values[0:6]\n",
    "\n",
    "predictions = model.predict([user_ids, movie_ids]) + mu"
   ],
   "metadata": {
    "collapsed": false,
    "ExecuteTime": {
     "end_time": "2024-01-13T21:14:09.103699Z",
     "start_time": "2024-01-13T21:14:09.015270Z"
    }
   },
   "id": "f6c5522110e5e524"
  },
  {
   "cell_type": "code",
   "execution_count": 71,
   "outputs": [
    {
     "name": "stdout",
     "output_type": "stream",
     "text": [
      "       user_id  movie_id  rating  timestamp\n",
      "23307      468        51       3  875293386\n",
      "36679       92       780       3  875660494\n",
      "36626      555       489       5  879975455\n",
      "83753      940        69       2  885921265\n",
      "52604      181      1350       1  878962120\n",
      "49877      320       195       5  884749255\n"
     ]
    }
   ],
   "source": [
    "print(rating_test[0:6])"
   ],
   "metadata": {
    "collapsed": false,
    "ExecuteTime": {
     "end_time": "2024-01-12T17:01:31.257317Z",
     "start_time": "2024-01-12T17:01:31.220280Z"
    }
   },
   "id": "57bd3ea6c19fef6e"
  },
  {
   "cell_type": "code",
   "execution_count": 7,
   "outputs": [
    {
     "name": "stdout",
     "output_type": "stream",
     "text": [
      "[[2.3469887]\n",
      " [4.345223 ]\n",
      " [3.4850776]\n",
      " [2.8870733]\n",
      " [3.8688402]\n",
      " [3.4659133]]\n"
     ]
    }
   ],
   "source": [
    "print(predictions)"
   ],
   "metadata": {
    "collapsed": false,
    "ExecuteTime": {
     "end_time": "2024-01-13T21:14:12.865881Z",
     "start_time": "2024-01-13T21:14:12.861401Z"
    }
   },
   "id": "77b74263a2efd724"
  },
  {
   "cell_type": "code",
   "execution_count": 8,
   "outputs": [],
   "source": [
    "import numpy as np\n",
    "\n",
    "def RMSE2(y_true, y_pred):\n",
    "    return np.sqrt(np.mean((np.array(y_true) - np.array(y_pred)) ** 2))"
   ],
   "metadata": {
    "collapsed": false,
    "ExecuteTime": {
     "end_time": "2024-01-13T21:14:16.435384Z",
     "start_time": "2024-01-13T21:14:16.429786Z"
    }
   },
   "id": "fdcdc9ae46e4b9e7"
  },
  {
   "cell_type": "code",
   "execution_count": 9,
   "outputs": [
    {
     "data": {
      "text/plain": "0.9293318340450807"
     },
     "execution_count": 9,
     "metadata": {},
     "output_type": "execute_result"
    }
   ],
   "source": [
    "user_ids = rating_test.user_id.values\n",
    "movie_ids = rating_test.movie_id.values\n",
    "\n",
    "y_pred = model.predict([user_ids, movie_ids]) + mu\n",
    "y_pred = np.ravel(y_pred,order='C')\n",
    "y_true = np.array(rating_test.rating)\n",
    "\n",
    "RMSE2(y_true, y_pred)"
   ],
   "metadata": {
    "collapsed": false,
    "ExecuteTime": {
     "end_time": "2024-01-13T21:14:18.364054Z",
     "start_time": "2024-01-13T21:14:17.443054Z"
    }
   },
   "id": "119a86f95ccd45b8"
  },
  {
   "cell_type": "code",
   "execution_count": null,
   "outputs": [],
   "source": [],
   "metadata": {
    "collapsed": false
   },
   "id": "9e621f956e3dfccf"
  }
 ],
 "metadata": {
  "kernelspec": {
   "display_name": "Python 3",
   "language": "python",
   "name": "python3"
  },
  "language_info": {
   "codemirror_mode": {
    "name": "ipython",
    "version": 2
   },
   "file_extension": ".py",
   "mimetype": "text/x-python",
   "name": "python",
   "nbconvert_exporter": "python",
   "pygments_lexer": "ipython2",
   "version": "2.7.6"
  }
 },
 "nbformat": 4,
 "nbformat_minor": 5
}
