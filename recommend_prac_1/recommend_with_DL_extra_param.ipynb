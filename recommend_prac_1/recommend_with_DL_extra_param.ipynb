{
 "cells": [
  {
   "cell_type": "markdown",
   "source": [
    "# 딥러닝을 적용한 추천 시스템 변수 추가\n"
   ],
   "metadata": {
    "collapsed": false
   },
   "id": "1fbbb49db9357055"
  },
  {
   "cell_type": "code",
   "execution_count": 1,
   "outputs": [
    {
     "name": "stdout",
     "output_type": "stream",
     "text": [
      "Model: \"model\"\n",
      "__________________________________________________________________________________________________\n",
      "Layer (type)                    Output Shape         Param #     Connected to                     \n",
      "==================================================================================================\n",
      "input_1 (InputLayer)            [(None, 1)]          0                                            \n",
      "__________________________________________________________________________________________________\n",
      "input_2 (InputLayer)            [(None, 1)]          0                                            \n",
      "__________________________________________________________________________________________________\n",
      "input_3 (InputLayer)            [(None, 1)]          0                                            \n",
      "__________________________________________________________________________________________________\n",
      "embedding (Embedding)           (None, 1, 200)       188800      input_1[0][0]                    \n",
      "__________________________________________________________________________________________________\n",
      "embedding_1 (Embedding)         (None, 1, 200)       336600      input_2[0][0]                    \n",
      "__________________________________________________________________________________________________\n",
      "embedding_2 (Embedding)         (None, 1, 1)         944         input_1[0][0]                    \n",
      "__________________________________________________________________________________________________\n",
      "embedding_3 (Embedding)         (None, 1, 1)         1683        input_2[0][0]                    \n",
      "__________________________________________________________________________________________________\n",
      "embedding_4 (Embedding)         (None, 1, 3)         63          input_3[0][0]                    \n",
      "__________________________________________________________________________________________________\n",
      "flatten (Flatten)               (None, 200)          0           embedding[0][0]                  \n",
      "__________________________________________________________________________________________________\n",
      "flatten_1 (Flatten)             (None, 200)          0           embedding_1[0][0]                \n",
      "__________________________________________________________________________________________________\n",
      "flatten_2 (Flatten)             (None, 1)            0           embedding_2[0][0]                \n",
      "__________________________________________________________________________________________________\n",
      "flatten_3 (Flatten)             (None, 1)            0           embedding_3[0][0]                \n",
      "__________________________________________________________________________________________________\n",
      "flatten_4 (Flatten)             (None, 3)            0           embedding_4[0][0]                \n",
      "__________________________________________________________________________________________________\n",
      "concatenate (Concatenate)       (None, 405)          0           flatten[0][0]                    \n",
      "                                                                 flatten_1[0][0]                  \n",
      "                                                                 flatten_2[0][0]                  \n",
      "                                                                 flatten_3[0][0]                  \n",
      "                                                                 flatten_4[0][0]                  \n",
      "__________________________________________________________________________________________________\n",
      "dense (Dense)                   (None, 2048)         831488      concatenate[0][0]                \n",
      "__________________________________________________________________________________________________\n",
      "activation (Activation)         (None, 2048)         0           dense[0][0]                      \n",
      "__________________________________________________________________________________________________\n",
      "dense_1 (Dense)                 (None, 256)          524544      activation[0][0]                 \n",
      "__________________________________________________________________________________________________\n",
      "activation_1 (Activation)       (None, 256)          0           dense_1[0][0]                    \n",
      "__________________________________________________________________________________________________\n",
      "dense_2 (Dense)                 (None, 1)            257         activation_1[0][0]               \n",
      "==================================================================================================\n",
      "Total params: 1,884,379\n",
      "Trainable params: 1,884,379\n",
      "Non-trainable params: 0\n",
      "__________________________________________________________________________________________________\n"
     ]
    }
   ],
   "source": [
    "import pandas as pd\n",
    "\n",
    "from sklearn.model_selection import train_test_split\n",
    "\n",
    "import os\n",
    "import tensorflow as tf\n",
    "from tensorflow.python.keras import layers\n",
    "from tensorflow.python.keras.models import Model\n",
    "from tensorflow.python.keras.layers import Input, Embedding, Dot, Add, Flatten\n",
    "from tensorflow.python.keras.layers import Dense, Concatenate, Activation\n",
    "from tensorflow.python.keras.regularizers import l2\n",
    "from tensorflow.python.keras.optimizer_v1 import SGD, Adamax\n",
    "\n",
    "tf.compat.v1.disable_eager_execution()\n",
    "\n",
    "# y_true, y_pred는 신경망에서 실제값, 예측값을 나타내는 Tensorflow/keras 표준 변수\n",
    "def RMSE(y_true, y_pred):\n",
    "    return tf.sqrt(tf.reduce_mean(tf.square(y_true - y_pred)))\n",
    "\n",
    "base_src = '../data/drive-download-20240102T142504Z-001'\n",
    "u_data_src = os.path.join(base_src, 'u.data')\n",
    "r_cols = ['user_id', 'movie_id', 'rating', 'timestamp']\n",
    "ratings = pd.read_csv(\n",
    "    u_data_src,\n",
    "    sep='\\t',\n",
    "    names=r_cols,\n",
    "    encoding='latin-1'\n",
    ")\n",
    "\n",
    "rating_train, rating_test = train_test_split(ratings, test_size=0.2, shuffle=True, random_state=2021)\n",
    "\n",
    "u_cols = ['user_id', 'age', 'sex', 'occupation', 'zip_code']\n",
    "users = pd.read_csv(\n",
    "    os.path.join(base_src, 'u.user'),\n",
    "    sep='|',\n",
    "    names=u_cols,\n",
    "    encoding='latin-1'\n",
    ")\n",
    "users = users[['user_id', 'occupation']]\n",
    "\n",
    "occupation = {}\n",
    "def occupation_to_int(x):\n",
    "    if x not in occupation:\n",
    "        occupation[x] = len(occupation)\n",
    "    return occupation[x]\n",
    "\n",
    "users['occupation'] = users['occupation'].apply(occupation_to_int)\n",
    "L = len(occupation)\n",
    "\n",
    "train_occ = pd.merge(rating_train, users, on='user_id')['occupation']\n",
    "test_occ = pd.merge(rating_test, users, on='user_id')['occupation']\n",
    "\n",
    "# vartiable 초기화\n",
    "# 잠재요인의 수를 200으로 설정\n",
    "K = 200\n",
    "# 전체평균 계산\n",
    "mu = rating_train.rating.mean()\n",
    "# 사용자 아이디와 영화 아이디의 최대값을 구한다. movie lens데이터는 잘 정제되어 있어서 max 사용\n",
    "# +1를 해주는 이유는 나중에 bias trem의 크기 1를 추가로 고려\n",
    "M = rating_train.user_id.max() + 1 \n",
    "N = rating_train.movie_id.max() + 1\n",
    "\n",
    "################################################################################################\n",
    "# keras model\n",
    "# 아래 부분은 앞에서와 동일하게 사용자와 아이템 데이터를 embedding을 통해\n",
    "# 각각 K개의 노드를 갖는 layer로 변환하고 \n",
    "# 사용자 bias와 아이템 bias를 1개의 노드를 갖는 layer로 변환한다.\n",
    "user = Input(shape=(1,))\n",
    "item = Input(shape=(1,))\n",
    "P_embedding = Embedding(M, K, embeddings_regularizer=l2())(user)\n",
    "Q_embedding = Embedding(N, K, embeddings_regularizer=l2())(item)\n",
    "user_bias = Embedding(M, 1, embeddings_regularizer=l2())(user)\n",
    "item_bias = Embedding(N, 1, embeddings_regularizer=l2())(item)\n",
    "\n",
    "P_embedding = Flatten()(P_embedding)\n",
    "Q_embedding = Flatten()(Q_embedding)\n",
    "user_bias = Flatten()(user_bias)\n",
    "item_bias = Flatten()(item_bias)\n",
    "\n",
    "occ = Input(shape=(1,))\n",
    "occ_embedding = Embedding(L, 3, embeddings_regularizer=l2())(occ)\n",
    "occ_layer = Flatten()(occ_embedding)\n",
    "\n",
    "R = Concatenate()([P_embedding, Q_embedding, user_bias, item_bias, occ_layer])\n",
    "\n",
    "# node 2048개\n",
    "R = Dense(2048)(R)\n",
    "R = Activation('linear')(R)\n",
    "R = Dense(256)(R)\n",
    "R = Activation('linear')(R)\n",
    "\n",
    "R = Dense(1)(R)\n",
    "\n",
    "model = Model(inputs=[user, item, occ], outputs=R)\n",
    "\n",
    "model.compile(\n",
    "    loss=RMSE,\n",
    "    optimizer=SGD(),\n",
    "    metrics=[RMSE]\n",
    ")\n",
    "\n",
    "model.summary()"
   ],
   "metadata": {
    "collapsed": false,
    "ExecuteTime": {
     "end_time": "2024-01-13T21:25:28.946909Z",
     "start_time": "2024-01-13T21:25:23.855207Z"
    }
   },
   "id": "b147de1928d819d3"
  },
  {
   "cell_type": "code",
   "execution_count": 2,
   "outputs": [
    {
     "name": "stdout",
     "output_type": "stream",
     "text": [
      "Train on 80000 samples, validate on 20000 samples\n",
      "Epoch 1/65\n",
      "  512/80000 [..............................] - ETA: 14s - loss: 5.5181 - RMSE: 1.1140"
     ]
    },
    {
     "name": "stderr",
     "output_type": "stream",
     "text": [
      "2024-01-14 06:27:22.611865: I tensorflow/compiler/mlir/mlir_graph_optimization_pass.cc:388] MLIR V1 optimization pass is not enabled\n",
      "2024-01-14 06:27:22.637135: W tensorflow/c/c_api.cc:305] Operation '{name:'training/Variable_9/Assign' id:565 op device:{requested: '', assigned: ''} def:{{{node training/Variable_9/Assign}} = AssignVariableOp[_has_manual_control_dependencies=true, dtype=DT_FLOAT, validate_shape=false](training/Variable_9, training/zeros_9)}}' was changed by setting attribute after it was run by a session. This mutation will have no effect, and will trigger an error in the future. Either don't modify nodes after running them or create a new session.\n"
     ]
    },
    {
     "name": "stdout",
     "output_type": "stream",
     "text": [
      "79872/80000 [============================>.] - ETA: 0s - loss: 5.3961 - RMSE: 1.1257"
     ]
    },
    {
     "name": "stderr",
     "output_type": "stream",
     "text": [
      "/Users/jaypark/anaconda3/lib/python3.11/site-packages/tensorflow/python/keras/engine/training.py:2455: UserWarning: `Model.state_updates` will be removed in a future version. This property should not be used in TensorFlow 2.0, as `updates` are applied automatically.\n",
      "  warnings.warn('`Model.state_updates` will be removed in a future version. '\n",
      "2024-01-14 06:27:26.484425: W tensorflow/c/c_api.cc:305] Operation '{name:'loss/AddN_1' id:285 op device:{requested: '', assigned: ''} def:{{{node loss/AddN_1}} = AddN[N=2, T=DT_FLOAT, _has_manual_control_dependencies=true](loss/mul, loss/AddN)}}' was changed by setting attribute after it was run by a session. This mutation will have no effect, and will trigger an error in the future. Either don't modify nodes after running them or create a new session.\n"
     ]
    },
    {
     "name": "stdout",
     "output_type": "stream",
     "text": [
      "80000/80000 [==============================] - 4s 52us/sample - loss: 5.3959 - RMSE: 1.1257 - val_loss: 5.2520 - val_RMSE: 1.1142\n",
      "Epoch 2/65\n",
      "80000/80000 [==============================] - 5s 57us/sample - loss: 5.1340 - RMSE: 1.1236 - val_loss: 4.9990 - val_RMSE: 1.1129\n",
      "Epoch 3/65\n",
      "80000/80000 [==============================] - 5s 57us/sample - loss: 4.8882 - RMSE: 1.1221 - val_loss: 4.7604 - val_RMSE: 1.1072\n",
      "Epoch 4/65\n",
      "80000/80000 [==============================] - 4s 51us/sample - loss: 4.6573 - RMSE: 1.1201 - val_loss: 4.5370 - val_RMSE: 1.1119\n",
      "Epoch 5/65\n",
      "80000/80000 [==============================] - 4s 53us/sample - loss: 4.4402 - RMSE: 1.1185 - val_loss: 4.3267 - val_RMSE: 1.1065\n",
      "Epoch 6/65\n",
      "80000/80000 [==============================] - 5s 64us/sample - loss: 4.2365 - RMSE: 1.1161 - val_loss: 4.1289 - val_RMSE: 1.1113\n",
      "Epoch 7/65\n",
      "80000/80000 [==============================] - 4s 53us/sample - loss: 4.0447 - RMSE: 1.1145 - val_loss: 3.9432 - val_RMSE: 1.1071\n",
      "Epoch 8/65\n",
      "80000/80000 [==============================] - 4s 52us/sample - loss: 3.8642 - RMSE: 1.1119 - val_loss: 3.7687 - val_RMSE: 1.1074\n",
      "Epoch 9/65\n",
      "80000/80000 [==============================] - 4s 53us/sample - loss: 3.6946 - RMSE: 1.1091 - val_loss: 3.6040 - val_RMSE: 1.0992\n",
      "Epoch 10/65\n",
      "80000/80000 [==============================] - 4s 50us/sample - loss: 3.5348 - RMSE: 1.1064 - val_loss: 3.4491 - val_RMSE: 1.0965\n",
      "Epoch 11/65\n",
      "80000/80000 [==============================] - 4s 52us/sample - loss: 3.3841 - RMSE: 1.1028 - val_loss: 3.3029 - val_RMSE: 1.0902\n",
      "Epoch 12/65\n",
      "80000/80000 [==============================] - 4s 51us/sample - loss: 3.2420 - RMSE: 1.0988 - val_loss: 3.1649 - val_RMSE: 1.0906\n",
      "Epoch 13/65\n",
      "80000/80000 [==============================] - 4s 54us/sample - loss: 3.1077 - RMSE: 1.0943 - val_loss: 3.0347 - val_RMSE: 1.0849\n",
      "Epoch 14/65\n",
      "80000/80000 [==============================] - 4s 53us/sample - loss: 2.9809 - RMSE: 1.0890 - val_loss: 2.9113 - val_RMSE: 1.0796\n",
      "Epoch 15/65\n",
      "80000/80000 [==============================] - 4s 54us/sample - loss: 2.8607 - RMSE: 1.0835 - val_loss: 2.7946 - val_RMSE: 1.0708\n",
      "Epoch 16/65\n",
      "80000/80000 [==============================] - 4s 51us/sample - loss: 2.7467 - RMSE: 1.0755 - val_loss: 2.6837 - val_RMSE: 1.0604\n",
      "Epoch 17/65\n",
      "80000/80000 [==============================] - 4s 51us/sample - loss: 2.6385 - RMSE: 1.0681 - val_loss: 2.5788 - val_RMSE: 1.0564\n",
      "Epoch 18/65\n",
      "80000/80000 [==============================] - 4s 54us/sample - loss: 2.5358 - RMSE: 1.0595 - val_loss: 2.4790 - val_RMSE: 1.0459\n",
      "Epoch 19/65\n",
      "80000/80000 [==============================] - 4s 52us/sample - loss: 2.4383 - RMSE: 1.0503 - val_loss: 2.3845 - val_RMSE: 1.0366\n",
      "Epoch 20/65\n",
      "80000/80000 [==============================] - 4s 55us/sample - loss: 2.3458 - RMSE: 1.0401 - val_loss: 2.2950 - val_RMSE: 1.0327\n",
      "Epoch 21/65\n",
      "80000/80000 [==============================] - 4s 52us/sample - loss: 2.2583 - RMSE: 1.0309 - val_loss: 2.2104 - val_RMSE: 1.0178\n",
      "Epoch 22/65\n",
      "80000/80000 [==============================] - 4s 50us/sample - loss: 2.1754 - RMSE: 1.0207 - val_loss: 2.1300 - val_RMSE: 1.0129\n",
      "Epoch 23/65\n",
      "80000/80000 [==============================] - 4s 54us/sample - loss: 2.0973 - RMSE: 1.0108 - val_loss: 2.0549 - val_RMSE: 1.0012\n",
      "Epoch 24/65\n",
      "80000/80000 [==============================] - 4s 55us/sample - loss: 2.0239 - RMSE: 1.0021 - val_loss: 1.9844 - val_RMSE: 0.9911\n",
      "Epoch 25/65\n",
      "80000/80000 [==============================] - 4s 53us/sample - loss: 1.9551 - RMSE: 0.9934 - val_loss: 1.9185 - val_RMSE: 0.9860\n",
      "Epoch 26/65\n",
      "80000/80000 [==============================] - 5s 58us/sample - loss: 1.8905 - RMSE: 0.9864 - val_loss: 1.8565 - val_RMSE: 0.9788\n",
      "Epoch 27/65\n",
      "80000/80000 [==============================] - 4s 51us/sample - loss: 1.8303 - RMSE: 0.9789 - val_loss: 1.7985 - val_RMSE: 0.9737\n",
      "Epoch 28/65\n",
      "80000/80000 [==============================] - 4s 52us/sample - loss: 1.7738 - RMSE: 0.9727 - val_loss: 1.7444 - val_RMSE: 0.9644\n",
      "Epoch 29/65\n",
      "80000/80000 [==============================] - 4s 55us/sample - loss: 1.7212 - RMSE: 0.9668 - val_loss: 1.6944 - val_RMSE: 0.9637\n",
      "Epoch 30/65\n",
      "80000/80000 [==============================] - 4s 51us/sample - loss: 1.6717 - RMSE: 0.9619 - val_loss: 1.6470 - val_RMSE: 0.9594\n",
      "Epoch 31/65\n",
      "80000/80000 [==============================] - 4s 51us/sample - loss: 1.6255 - RMSE: 0.9578 - val_loss: 1.6029 - val_RMSE: 0.9522\n",
      "Epoch 32/65\n",
      "80000/80000 [==============================] - 4s 55us/sample - loss: 1.5824 - RMSE: 0.9539 - val_loss: 1.5617 - val_RMSE: 0.9533\n",
      "Epoch 33/65\n",
      "80000/80000 [==============================] - 4s 53us/sample - loss: 1.5420 - RMSE: 0.9506 - val_loss: 1.5234 - val_RMSE: 0.9485\n",
      "Epoch 34/65\n",
      "80000/80000 [==============================] - 4s 52us/sample - loss: 1.5041 - RMSE: 0.9473 - val_loss: 1.4891 - val_RMSE: 0.9420\n",
      "Epoch 35/65\n",
      "80000/80000 [==============================] - 4s 52us/sample - loss: 1.4686 - RMSE: 0.9446 - val_loss: 1.4539 - val_RMSE: 0.9475\n",
      "Epoch 36/65\n",
      "80000/80000 [==============================] - 4s 52us/sample - loss: 1.4352 - RMSE: 0.9417 - val_loss: 1.4222 - val_RMSE: 0.9394\n",
      "Epoch 37/65\n",
      "80000/80000 [==============================] - 4s 56us/sample - loss: 1.4043 - RMSE: 0.9398 - val_loss: 1.3918 - val_RMSE: 0.9429\n",
      "Epoch 38/65\n",
      "80000/80000 [==============================] - 4s 54us/sample - loss: 1.3750 - RMSE: 0.9377 - val_loss: 1.3643 - val_RMSE: 0.9422\n",
      "Epoch 39/65\n",
      "80000/80000 [==============================] - 4s 51us/sample - loss: 1.3479 - RMSE: 0.9356 - val_loss: 1.3400 - val_RMSE: 0.9404\n",
      "Epoch 40/65\n",
      "80000/80000 [==============================] - 4s 55us/sample - loss: 1.3220 - RMSE: 0.9340 - val_loss: 1.3142 - val_RMSE: 0.9414\n",
      "Epoch 41/65\n",
      "80000/80000 [==============================] - 4s 52us/sample - loss: 1.2983 - RMSE: 0.9328 - val_loss: 1.2912 - val_RMSE: 0.9333\n",
      "Epoch 42/65\n",
      "80000/80000 [==============================] - 4s 55us/sample - loss: 1.2758 - RMSE: 0.9315 - val_loss: 1.2722 - val_RMSE: 0.9329\n",
      "Epoch 43/65\n",
      "80000/80000 [==============================] - 4s 53us/sample - loss: 1.2548 - RMSE: 0.9310 - val_loss: 1.2535 - val_RMSE: 0.9394\n",
      "Epoch 44/65\n",
      "80000/80000 [==============================] - 4s 53us/sample - loss: 1.2352 - RMSE: 0.9293 - val_loss: 1.2305 - val_RMSE: 0.9330\n",
      "Epoch 45/65\n",
      "80000/80000 [==============================] - 4s 56us/sample - loss: 1.2166 - RMSE: 0.9281 - val_loss: 1.2136 - val_RMSE: 0.9323\n",
      "Epoch 46/65\n",
      "80000/80000 [==============================] - 4s 55us/sample - loss: 1.1992 - RMSE: 0.9277 - val_loss: 1.1968 - val_RMSE: 0.9298\n",
      "Epoch 47/65\n",
      "80000/80000 [==============================] - 4s 56us/sample - loss: 1.1832 - RMSE: 0.9271 - val_loss: 1.1809 - val_RMSE: 0.9315\n",
      "Epoch 48/65\n",
      "80000/80000 [==============================] - 4s 51us/sample - loss: 1.1677 - RMSE: 0.9262 - val_loss: 1.1665 - val_RMSE: 0.9306\n",
      "Epoch 49/65\n",
      "80000/80000 [==============================] - 4s 52us/sample - loss: 1.1535 - RMSE: 0.9261 - val_loss: 1.1528 - val_RMSE: 0.9355\n",
      "Epoch 50/65\n",
      "80000/80000 [==============================] - 4s 52us/sample - loss: 1.1400 - RMSE: 0.9257 - val_loss: 1.1411 - val_RMSE: 0.9364\n",
      "Epoch 51/65\n",
      "80000/80000 [==============================] - 4s 52us/sample - loss: 1.1275 - RMSE: 0.9246 - val_loss: 1.1275 - val_RMSE: 0.9290\n",
      "Epoch 52/65\n",
      "80000/80000 [==============================] - 4s 52us/sample - loss: 1.1157 - RMSE: 0.9251 - val_loss: 1.1165 - val_RMSE: 0.9278\n",
      "Epoch 53/65\n",
      "80000/80000 [==============================] - 4s 56us/sample - loss: 1.1046 - RMSE: 0.9243 - val_loss: 1.1057 - val_RMSE: 0.9291\n",
      "Epoch 54/65\n",
      "80000/80000 [==============================] - 4s 52us/sample - loss: 1.0943 - RMSE: 0.9240 - val_loss: 1.0957 - val_RMSE: 0.9288\n",
      "Epoch 55/65\n",
      "80000/80000 [==============================] - 4s 52us/sample - loss: 1.0846 - RMSE: 0.9238 - val_loss: 1.0863 - val_RMSE: 0.9281\n",
      "Epoch 56/65\n",
      "80000/80000 [==============================] - 4s 52us/sample - loss: 1.0753 - RMSE: 0.9234 - val_loss: 1.0816 - val_RMSE: 0.9350\n",
      "Epoch 57/65\n",
      "80000/80000 [==============================] - 4s 51us/sample - loss: 1.0670 - RMSE: 0.9238 - val_loss: 1.0820 - val_RMSE: 0.9427\n",
      "Epoch 58/65\n",
      "80000/80000 [==============================] - 4s 51us/sample - loss: 1.0589 - RMSE: 0.9233 - val_loss: 1.0617 - val_RMSE: 0.9320\n",
      "Epoch 59/65\n",
      "80000/80000 [==============================] - 4s 52us/sample - loss: 1.0511 - RMSE: 0.9231 - val_loss: 1.0544 - val_RMSE: 0.9295\n",
      "Epoch 60/65\n",
      "80000/80000 [==============================] - 4s 52us/sample - loss: 1.0441 - RMSE: 0.9236 - val_loss: 1.0475 - val_RMSE: 0.9292\n",
      "Epoch 61/65\n",
      "80000/80000 [==============================] - 5s 59us/sample - loss: 1.0373 - RMSE: 0.9227 - val_loss: 1.0421 - val_RMSE: 0.9324\n",
      "Epoch 62/65\n",
      "80000/80000 [==============================] - 4s 53us/sample - loss: 1.0311 - RMSE: 0.9224 - val_loss: 1.0392 - val_RMSE: 0.9339\n",
      "Epoch 63/65\n",
      "80000/80000 [==============================] - 4s 54us/sample - loss: 1.0253 - RMSE: 0.9223 - val_loss: 1.0290 - val_RMSE: 0.9306\n",
      "Epoch 64/65\n",
      "80000/80000 [==============================] - 4s 54us/sample - loss: 1.0199 - RMSE: 0.9234 - val_loss: 1.0246 - val_RMSE: 0.9293\n",
      "Epoch 65/65\n",
      "80000/80000 [==============================] - 4s 52us/sample - loss: 1.0146 - RMSE: 0.9227 - val_loss: 1.0228 - val_RMSE: 0.9329\n"
     ]
    }
   ],
   "source": [
    "# model fitting\n",
    "train_user_ids = rating_train.user_id.values\n",
    "train_movie_ids = rating_train.movie_id.values\n",
    "train_ratings = rating_train.rating.values\n",
    "train_occ = train_occ.values\n",
    "\n",
    "test_user_ids = rating_test.user_id.values\n",
    "test_movie_ids = rating_test.movie_id.values\n",
    "test_ratings = rating_test.rating.values\n",
    "test_occ = test_occ.values\n",
    "\n",
    "result = model.fit(\n",
    "    x=[train_user_ids, train_movie_ids, train_occ],\n",
    "    y=train_ratings - mu,\n",
    "    epochs=65,\n",
    "    batch_size=512,\n",
    "    validation_data=(\n",
    "        [test_user_ids, test_movie_ids, test_occ],\n",
    "        test_ratings - mu\n",
    "    )\n",
    ")\n"
   ],
   "metadata": {
    "collapsed": false,
    "ExecuteTime": {
     "end_time": "2024-01-13T21:31:59.410315Z",
     "start_time": "2024-01-13T21:27:22.500354Z"
    }
   },
   "id": "ac30f4e6310daf82"
  },
  {
   "cell_type": "code",
   "execution_count": 3,
   "outputs": [
    {
     "data": {
      "text/plain": "<Figure size 1000x1000 with 1 Axes>",
      "image/png": "[encoded data removed]"
     },
     "metadata": {},
     "output_type": "display_data"
    }
   ],
   "source": [
    "import matplotlib.pyplot as plt\n",
    "plt.figure(figsize=(10, 10))\n",
    "plt.plot(result.history['RMSE'], label='train RMSE')\n",
    "plt.plot(result.history['val_RMSE'], label='test RMSE')\n",
    "plt.legend()\n",
    "plt.show()"
   ],
   "metadata": {
    "collapsed": false,
    "ExecuteTime": {
     "end_time": "2024-01-13T21:32:02.297926Z",
     "start_time": "2024-01-13T21:32:01.381669Z"
    }
   },
   "id": "1afd22b6cf0c9b75"
  },
  {
   "cell_type": "code",
   "execution_count": 8,
   "outputs": [
    {
     "name": "stderr",
     "output_type": "stream",
     "text": [
      "/Users/jaypark/anaconda3/lib/python3.11/site-packages/tensorflow/python/keras/engine/training.py:2455: UserWarning: `Model.state_updates` will be removed in a future version. This property should not be used in TensorFlow 2.0, as `updates` are applied automatically.\n",
      "  warnings.warn('`Model.state_updates` will be removed in a future version. '\n",
      "2024-01-14 06:33:11.003773: W tensorflow/c/c_api.cc:305] Operation '{name:'dense_2/BiasAdd' id:150 op device:{requested: '', assigned: ''} def:{{{node dense_2/BiasAdd}} = BiasAdd[T=DT_FLOAT, _has_manual_control_dependencies=true, data_format=\"NHWC\"](dense_2/MatMul, dense_2/BiasAdd/ReadVariableOp)}}' was changed by setting attribute after it was run by a session. This mutation will have no effect, and will trigger an error in the future. Either don't modify nodes after running them or create a new session.\n"
     ]
    }
   ],
   "source": [
    "user_ids = rating_train.user_id.values[0:6]\n",
    "movie_ids = rating_train.movie_id.values[0:6]\n",
    "occ = train_occ[0:6]\n",
    "\n",
    "predictions = model.predict([user_ids, movie_ids, occ]) + mu"
   ],
   "metadata": {
    "collapsed": false,
    "ExecuteTime": {
     "end_time": "2024-01-13T21:33:11.070694Z",
     "start_time": "2024-01-13T21:33:10.999196Z"
    }
   },
   "id": "f6c5522110e5e524"
  },
  {
   "cell_type": "code",
   "execution_count": 9,
   "outputs": [
    {
     "name": "stdout",
     "output_type": "stream",
     "text": [
      "       user_id  movie_id  rating  timestamp\n",
      "23307      468        51       3  875293386\n",
      "36679       92       780       3  875660494\n",
      "36626      555       489       5  879975455\n",
      "83753      940        69       2  885921265\n",
      "52604      181      1350       1  878962120\n",
      "49877      320       195       5  884749255\n"
     ]
    }
   ],
   "source": [
    "print(rating_test[0:6])"
   ],
   "metadata": {
    "collapsed": false,
    "ExecuteTime": {
     "end_time": "2024-01-13T21:33:14.270469Z",
     "start_time": "2024-01-13T21:33:14.267451Z"
    }
   },
   "id": "57bd3ea6c19fef6e"
  },
  {
   "cell_type": "code",
   "execution_count": 10,
   "outputs": [
    {
     "name": "stdout",
     "output_type": "stream",
     "text": [
      "[[2.232841 ]\n",
      " [4.2534323]\n",
      " [3.395655 ]\n",
      " [2.8179374]\n",
      " [3.705909 ]\n",
      " [3.4040017]]\n"
     ]
    }
   ],
   "source": [
    "print(predictions)"
   ],
   "metadata": {
    "collapsed": false,
    "ExecuteTime": {
     "end_time": "2024-01-13T21:33:23.113406Z",
     "start_time": "2024-01-13T21:33:23.107403Z"
    }
   },
   "id": "77b74263a2efd724"
  },
  {
   "cell_type": "code",
   "execution_count": 11,
   "outputs": [],
   "source": [
    "import numpy as np\n",
    "\n",
    "def RMSE2(y_true, y_pred):\n",
    "    return np.sqrt(np.mean((np.array(y_true) - np.array(y_pred)) ** 2))"
   ],
   "metadata": {
    "collapsed": false,
    "ExecuteTime": {
     "end_time": "2024-01-13T21:33:26.100127Z",
     "start_time": "2024-01-13T21:33:26.095401Z"
    }
   },
   "id": "fdcdc9ae46e4b9e7"
  },
  {
   "cell_type": "code",
   "execution_count": 13,
   "outputs": [
    {
     "data": {
      "text/plain": "0.9338644804966005"
     },
     "execution_count": 13,
     "metadata": {},
     "output_type": "execute_result"
    }
   ],
   "source": [
    "user_ids = rating_test.user_id.values\n",
    "movie_ids = rating_test.movie_id.values\n",
    "occ = test_occ\n",
    "\n",
    "y_pred = model.predict([user_ids, movie_ids, occ]) + mu\n",
    "y_pred = np.ravel(y_pred,order='C')\n",
    "y_true = np.array(rating_test.rating)\n",
    "\n",
    "RMSE2(y_true, y_pred)"
   ],
   "metadata": {
    "collapsed": false,
    "ExecuteTime": {
     "end_time": "2024-01-13T21:33:48.944318Z",
     "start_time": "2024-01-13T21:33:47.900936Z"
    }
   },
   "id": "119a86f95ccd45b8"
  },
  {
   "cell_type": "code",
   "execution_count": null,
   "outputs": [],
   "source": [],
   "metadata": {
    "collapsed": false
   },
   "id": "9e621f956e3dfccf"
  }
 ],
 "metadata": {
  "kernelspec": {
   "display_name": "Python 3",
   "language": "python",
   "name": "python3"
  },
  "language_info": {
   "codemirror_mode": {
    "name": "ipython",
    "version": 2
   },
   "file_extension": ".py",
   "mimetype": "text/x-python",
   "name": "python",
   "nbconvert_exporter": "python",
   "pygments_lexer": "ipython2",
   "version": "2.7.6"
  }
 },
 "nbformat": 4,
 "nbformat_minor": 5
}
