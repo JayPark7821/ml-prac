{
 "cells": [
  {
   "cell_type": "markdown",
   "source": [
    "# SGD를 사용한 MF 기본 알고리즘"
   ],
   "metadata": {
    "collapsed": false
   },
   "id": "b8eeaa89730538ca"
  },
  {
   "cell_type": "code",
   "execution_count": 3,
   "outputs": [],
   "source": [
    "import os\n",
    "import pandas as pd\n",
    "import numpy as np \n",
    "\n",
    "base_src = '../data/drive-download-20240102T142504Z-001'\n",
    "u_data_src = os.path.join(base_src, 'u.data')\n",
    "r_cols = ['user_id', 'movie_id', 'rating', 'timestamp']\n",
    "ratings = pd.read_csv(\n",
    "    u_data_src,\n",
    "    sep='\\t',\n",
    "    names=r_cols,\n",
    "    encoding='latin-1'\n",
    ")\n",
    "ratings = ratings[['user_id', 'movie_id', 'rating']].astype(int)"
   ],
   "metadata": {
    "collapsed": false,
    "ExecuteTime": {
     "end_time": "2024-01-08T08:53:18.349698Z",
     "start_time": "2024-01-08T08:53:18.327368Z"
    }
   },
   "id": "e082f317f79b1cb3"
  },
  {
   "cell_type": "code",
   "execution_count": 4,
   "outputs": [],
   "source": [
    "class MF():\n",
    "    def __init__(self, ratings, hyper_params):\n",
    "        self.R = np.array(ratings)\n",
    "        self.num_users, self.num_items = np.shape(self.R)\n",
    "        self.K = hyper_params['K'] # 잠재요인의 count\n",
    "        self.alpha = hyper_params['alpha'] # 학습률\n",
    "        self.beta = hyper_params['beta'] # 정규화 계수\n",
    "        self.iterations = hyper_params['iterations'] # SGD 반복 횟수\n",
    "        self.verbose = hyper_params['verbose'] \n",
    "        \n",
    "    def rmse(self):\n",
    "        xs, ys = self.R.nonzero()\n",
    "        self.predictions = []\n",
    "        self.errors = []\n",
    "        for x, y in zip(xs, ys):\n",
    "            prediction = self.get_prediction(x, y)\n",
    "            self.predictions.append(prediction)\n",
    "            self.errors.append(self.R[x, y] - prediction) # 실제값 - 예측값\n",
    "        self.predictions = np.array(self.predictions)\n",
    "        self.errors = np.array(self.errors)\n",
    "        \n",
    "        return np.sqrt(np.mean(self.errors**2))\n",
    "        \n",
    "    def train(self):\n",
    "        self.P = np.random.normal(scale= 1./self.K,\n",
    "                                  size=(self.num_users, self.K))\n",
    "        self.Q = np.random.normal(scale= 1./self.K,\n",
    "                                  size=(self.num_items, self.K))\n",
    "        self.b_u = np.zeros(self.num_users)\n",
    "        self.b_d = np.zeros(self.num_items) \n",
    "        self.b = np.mean(self.R[self.R.nonzero()]) # 전체 평균\n",
    "        \n",
    "        rows, columns = self.R.nonzero()\n",
    "        self.samples = [(i, j, self.R[i,j]) for i, j in zip(rows, columns)]\n",
    "        \n",
    "        training_process = []\n",
    "        for i in range(self.iterations):\n",
    "            np.random.shuffle(self.samples)\n",
    "            self.sgd()\n",
    "            rmse = self.rmse()\n",
    "            training_process.append((i+1, rmse))\n",
    "            if self.verbose:\n",
    "                if (i+1) % 10 == 0:\n",
    "                    print('Iteration: %d ; Train RMSE = %.4f' % (i+1, rmse))\n",
    "        return training_process\n",
    "    \n",
    "    def get_prediction(self, i, j):\n",
    "        return self.b + self.b_u[i] + self.b_d[j] + self.P[i, :].dot(self.Q[j,].T)\n",
    "\n",
    "    def sgd(self):\n",
    "        for i, j, r in self.samples:\n",
    "            prediction = self.get_prediction(i, j)\n",
    "            e = (r - prediction) # 실제값 - 예측값\n",
    "            \n",
    "            self.b_u[i] += self.alpha * (e - (self.beta * self.b_u[i]))\n",
    "            self.b_d[j] += self.alpha * (e - (self.beta * self.b_d[j]))\n",
    "            \n",
    "            self.P[i, :] += self.alpha * ((e * self.Q[j, :]) - (self.beta * self.P[i, :]))\n",
    "            self.Q[j, :] += self.alpha * ((e * self.P[i, :]) - (self.beta * self.Q[j, :]))\n",
    "\n",
    "R_temp = ratings.pivot(index='user_id', columns='movie_id', values='rating').fillna(0)\n",
    "hyper_params = {\n",
    "    'K': 30,\n",
    "    'alpha': 0.001,\n",
    "    'beta': 0.02,\n",
    "    'iterations': 100,\n",
    "    'verbose': True\n",
    "}"
   ],
   "metadata": {
    "collapsed": false,
    "ExecuteTime": {
     "end_time": "2024-01-08T08:53:18.375707Z",
     "start_time": "2024-01-08T08:53:18.353332Z"
    }
   },
   "id": "6f254b0896849284"
  },
  {
   "cell_type": "code",
   "execution_count": 5,
   "outputs": [
    {
     "name": "stdout",
     "output_type": "stream",
     "text": [
      "Iteration: 10 ; Train RMSE = 0.9585\n",
      "Iteration: 20 ; Train RMSE = 0.9374\n",
      "Iteration: 30 ; Train RMSE = 0.9281\n",
      "Iteration: 40 ; Train RMSE = 0.9226\n",
      "Iteration: 50 ; Train RMSE = 0.9185\n",
      "Iteration: 60 ; Train RMSE = 0.9148\n",
      "Iteration: 70 ; Train RMSE = 0.9104\n",
      "Iteration: 80 ; Train RMSE = 0.9046\n",
      "Iteration: 90 ; Train RMSE = 0.8962\n",
      "Iteration: 100 ; Train RMSE = 0.8849\n"
     ]
    }
   ],
   "source": [
    "mf = MF(R_temp, hyper_params)\n",
    "training_process = mf.train()"
   ],
   "metadata": {
    "collapsed": false,
    "ExecuteTime": {
     "end_time": "2024-01-08T08:54:34.990583Z",
     "start_time": "2024-01-08T08:53:18.376036Z"
    }
   },
   "id": "15815f84b8b5b297"
  }
 ],
 "metadata": {
  "kernelspec": {
   "display_name": "Python 3",
   "language": "python",
   "name": "python3"
  },
  "language_info": {
   "codemirror_mode": {
    "name": "ipython",
    "version": 2
   },
   "file_extension": ".py",
   "mimetype": "text/x-python",
   "name": "python",
   "nbconvert_exporter": "python",
   "pygments_lexer": "ipython2",
   "version": "2.7.6"
  }
 },
 "nbformat": 4,
 "nbformat_minor": 5
}
