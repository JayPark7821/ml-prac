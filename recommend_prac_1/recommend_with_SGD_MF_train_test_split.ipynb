{
 "cells": [
  {
   "cell_type": "markdown",
   "source": [
    "# SGD를 사용한 MF 기본 알고리즘 train test split"
   ],
   "metadata": {
    "collapsed": false
   },
   "id": "b8eeaa89730538ca"
  },
  {
   "cell_type": "code",
   "execution_count": 6,
   "outputs": [],
   "source": [
    "import os\n",
    "import pandas as pd\n",
    "import numpy as np \n",
    "\n",
    "base_src = '../data/drive-download-20240102T142504Z-001'\n",
    "u_data_src = os.path.join(base_src, 'u.data')\n",
    "r_cols = ['user_id', 'movie_id', 'rating', 'timestamp']\n",
    "ratings = pd.read_csv(\n",
    "    u_data_src,\n",
    "    sep='\\t',\n",
    "    names=r_cols,\n",
    "    encoding='latin-1'\n",
    ")\n",
    "ratings = ratings[['user_id', 'movie_id', 'rating']].astype(int)\n",
    "\n",
    "# train test split\n",
    "from sklearn.utils import shuffle\n",
    "TRAIN_SIZE = 0.75\n",
    "ratings = shuffle(ratings, random_state=2021)\n",
    "cutoff = int(TRAIN_SIZE * len(ratings))\n",
    "ratings_train = ratings.iloc[:cutoff]\n",
    "ratings_test = ratings.iloc[cutoff:]"
   ],
   "metadata": {
    "collapsed": false,
    "ExecuteTime": {
     "end_time": "2024-01-08T09:18:49.918279Z",
     "start_time": "2024-01-08T09:18:49.896855Z"
    }
   },
   "id": "e082f317f79b1cb3"
  },
  {
   "cell_type": "code",
   "execution_count": 7,
   "outputs": [],
   "source": [
    "class NEW_MF():\n",
    "    def __init__(self, ratings, hyper_params):\n",
    "        self.R = np.array(ratings)\n",
    "        # 사용자 수 (num_users)와 아이템 수 (num_items)를 받아온다\n",
    "        self.num_users, self.num_items = np.shape(self.R)\n",
    "        # 아래는 MF weight 조절을 위한 하이퍼파라미터\n",
    "        self.K = hyper_params['K'] # 잠재요인의 수 (latent factor)\n",
    "        self.alpha = hyper_params['alpha'] # 학습률\n",
    "        self.beta = hyper_params['beta'] # 정규화 계수\n",
    "        self.iterations = hyper_params['iterations'] # SGD 반복 횟수\n",
    "        self.verbose = hyper_params['verbose'] \n",
    "        \n",
    "        item_id_index = []\n",
    "        index_item_id = []\n",
    "        for i, one_id in enumerate(ratings):\n",
    "            item_id_index.append([one_id, i])\n",
    "            index_item_id.append([i, one_id])\n",
    "        self.item_id_index = dict(item_id_index)\n",
    "        self.index_item_id = dict(index_item_id)\n",
    "        \n",
    "        user_id_index = []\n",
    "        index_user_id = []\n",
    "        for i, one_id in enumerate(ratings.T):\n",
    "            user_id_index.append([one_id, i])\n",
    "            index_user_id.append([i, one_id]) \n",
    "        self.user_id_index = dict(user_id_index)\n",
    "        self.index_user_id = dict(index_user_id)\n",
    "        \n",
    "    def rmse(self):\n",
    "        # self.R에서 평점이; 있는(0이 아닌) 요소의 인덱스를 가져옴\n",
    "        xs, ys = self.R.nonzero()\n",
    "        # prediction과 error를 담을 리스트 변수 초기화\n",
    "        self.predictions = []\n",
    "        self.errors = []\n",
    "        # 평점이 있는 요소 (사용자 x, 아이템 y) 각각에 대해서 아래의 코드를 실행한다.\n",
    "        for x, y in zip(xs, ys):\n",
    "            # 사용자 x 아이템 y에 대해서 평점 예측치를 get_prediction()으로 구한다.\n",
    "            prediction = self.get_prediction(x, y)\n",
    "            # 예측치를 prediction에 담고, 실제값과의 오차를 구해서 errors에 담는다.\n",
    "            self.predictions.append(prediction)\n",
    "            self.errors.append(self.R[x, y] - prediction) # 실제값 - 예측값\n",
    "        # errors를 numpy array로 변환한다.\n",
    "        self.predictions = np.array(self.predictions)\n",
    "        self.errors = np.array(self.errors)\n",
    "        \n",
    "        return np.sqrt(np.mean(self.errors**2))\n",
    "   \n",
    "    def sgd(self):\n",
    "        for i, j, r in self.samples:\n",
    "            # 사용자 i, 아이템 j에 대한 평점 예측치 계산\n",
    "            prediction = self.get_prediction(i, j)\n",
    "            e = (r - prediction) # (실제값 - 예측값) 오차 계산\n",
    "            \n",
    "            # 사용자 평가 경향 계산 및 업데이트\n",
    "            self.b_u[i] += self.alpha * (e - (self.beta * self.b_u[i]))\n",
    "            # 아이템 평가 경향 계산 및 업데이트\n",
    "            self.b_d[j] += self.alpha * (e - (self.beta * self.b_d[j]))\n",
    "            \n",
    "            # P 행렬 계산 및 업데이트\n",
    "            self.P[i, :] += self.alpha * ((e * self.Q[j, :]) - (self.beta * self.P[i, :]))\n",
    "            # Q 행렬 계산 및 업데이트\n",
    "            self.Q[j, :] += self.alpha * ((e * self.P[i, :]) - (self.beta * self.Q[j, :]))\n",
    "\n",
    "    def get_prediction(self, i, j):\n",
    "        # 사용자 i, 아이템 j에 대한 평점 예측치를 계산한다.\n",
    "        return self.b + self.b_u[i] + self.b_d[j] + self.P[i, :].dot(self.Q[j,].T)\n",
    "\n",
    "    # test set\n",
    "    def set_test(self, ratings_test):\n",
    "        test_set = []\n",
    "        for i in range(len(ratings_test)):\n",
    "            x = self.user_id_index[ratings_test.iloc[i, 0]]\n",
    "            y = self.item_id_index[ratings_test.iloc[i, 1]]\n",
    "            z = ratings_test.iloc[i, 2]\n",
    "            test_set.append([x, y, z])\n",
    "            # 테스트 셋에으로 추출한 데이터는 원본 행렬에서 평점을 지운다.\n",
    "            self.R[x, y] = 0\n",
    "        self.test_set = test_set\n",
    "        return test_set\n",
    "    \n",
    "    # test set에 대한 RMSE 계산\n",
    "    def test_rmse(self):\n",
    "        error = 0\n",
    "        for one_set in self.test_set:\n",
    "            predicted = self.get_prediction(one_set[0], one_set[1])\n",
    "            #  pow e => e^2\n",
    "            error += pow(one_set[2] - predicted, 2)\n",
    "        return np.sqrt(error/len(self.test_set))\n",
    "    \n",
    "    def test(self):\n",
    "        self.P = np.random.normal(scale= 1./self.K,\n",
    "                                  size=(self.num_users, self.K))\n",
    "        self.Q = np.random.normal(scale= 1./self.K,\n",
    "                                  size=(self.num_items, self.K))\n",
    "        self.b_u = np.zeros(self.num_users)\n",
    "        self.b_d = np.zeros(self.num_items) \n",
    "        self.b = np.mean(self.R[self.R.nonzero()]) # 전체 평균\n",
    "        \n",
    "        rows, columns = self.R.nonzero()\n",
    "        self.samples = [(i, j, self.R[i,j]) for i, j in zip(rows, columns)]\n",
    "        \n",
    "        training_process = []\n",
    "        for i in range(self.iterations):\n",
    "            np.random.shuffle(self.samples)\n",
    "            self.sgd()\n",
    "            rmse1 = self.rmse()\n",
    "            rmse2 = self.test_rmse()\n",
    "            training_process.append((i+1, rmse1, rmse2))\n",
    "            if self.verbose:\n",
    "                if (i+1) % 10 == 0:\n",
    "                    print('Iteration: %d ; Train RMSE = %.4f ; Test RMSE = %.4f' % (i+1, rmse1, rmse2))\n",
    "        return training_process\n",
    "    \n",
    "    def get_one_prediction(self, user_id, item_id):\n",
    "        return self.get_prediction(self.user_id_index[user_id],\n",
    "                                   self.item_id_index[item_id])\n",
    "    \n",
    "    def full_prediction(self):\n",
    "        return self.b + self.b_u[:,np.newaxis] + self.b_d[np.newaxis:,] + self.P.dot(self.Q.T)\n",
    "                                   \n",
    "R_temp = ratings.pivot(index='user_id', columns='movie_id', values='rating').fillna(0)\n",
    "hyper_params = {\n",
    "    'K': 30,\n",
    "    'alpha': 0.001,\n",
    "    'beta': 0.02,\n",
    "    'iterations': 100,\n",
    "    'verbose': True\n",
    "}"
   ],
   "metadata": {
    "collapsed": false,
    "ExecuteTime": {
     "end_time": "2024-01-08T09:18:49.950407Z",
     "start_time": "2024-01-08T09:18:49.923109Z"
    }
   },
   "id": "6f254b0896849284"
  },
  {
   "cell_type": "code",
   "execution_count": 8,
   "outputs": [
    {
     "name": "stdout",
     "output_type": "stream",
     "text": [
      "Iteration: 10 ; Train RMSE = 0.9667 ; Test RMSE = 0.9807\n",
      "Iteration: 20 ; Train RMSE = 0.9413 ; Test RMSE = 0.9622\n",
      "Iteration: 30 ; Train RMSE = 0.9298 ; Test RMSE = 0.9551\n",
      "Iteration: 40 ; Train RMSE = 0.9229 ; Test RMSE = 0.9515\n",
      "Iteration: 50 ; Train RMSE = 0.9180 ; Test RMSE = 0.9493\n",
      "Iteration: 60 ; Train RMSE = 0.9140 ; Test RMSE = 0.9478\n",
      "Iteration: 70 ; Train RMSE = 0.9102 ; Test RMSE = 0.9467\n",
      "Iteration: 80 ; Train RMSE = 0.9061 ; Test RMSE = 0.9457\n",
      "Iteration: 90 ; Train RMSE = 0.9011 ; Test RMSE = 0.9445\n",
      "Iteration: 100 ; Train RMSE = 0.8947 ; Test RMSE = 0.9430\n"
     ]
    }
   ],
   "source": [
    "mf = NEW_MF(R_temp, hyper_params)\n",
    "test_set = mf.set_test(ratings_test)\n",
    "result = mf.test()"
   ],
   "metadata": {
    "collapsed": false,
    "ExecuteTime": {
     "end_time": "2024-01-08T09:19:50.793042Z",
     "start_time": "2024-01-08T09:18:49.951195Z"
    }
   },
   "id": "15815f84b8b5b297"
  },
  {
   "cell_type": "code",
   "execution_count": 9,
   "outputs": [
    {
     "name": "stdout",
     "output_type": "stream",
     "text": [
      "3.4157216905933954\n"
     ]
    }
   ],
   "source": [
    "print(mf.get_one_prediction(1,2))"
   ],
   "metadata": {
    "collapsed": false,
    "ExecuteTime": {
     "end_time": "2024-01-08T09:20:12.194004Z",
     "start_time": "2024-01-08T09:20:12.171342Z"
    }
   },
   "id": "c95aabfcbf27da5b"
  },
  {
   "cell_type": "code",
   "execution_count": null,
   "outputs": [],
   "source": [],
   "metadata": {
    "collapsed": false
   },
   "id": "ee438230f71fff"
  }
 ],
 "metadata": {
  "kernelspec": {
   "display_name": "Python 3",
   "language": "python",
   "name": "python3"
  },
  "language_info": {
   "codemirror_mode": {
    "name": "ipython",
    "version": 2
   },
   "file_extension": ".py",
   "mimetype": "text/x-python",
   "name": "python",
   "nbconvert_exporter": "python",
   "pygments_lexer": "ipython2",
   "version": "2.7.6"
  }
 },
 "nbformat": 4,
 "nbformat_minor": 5
}
