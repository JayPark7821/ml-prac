{
 "cells": [
  {
   "cell_type": "markdown",
   "source": [
    "# 아이템 기반 CF"
   ],
   "metadata": {
    "collapsed": false
   },
   "id": "26e24336faf489eb"
  },
  {
   "cell_type": "code",
   "execution_count": 2,
   "outputs": [],
   "source": [
    "import os\n",
    "import pandas as pd\n",
    "import numpy as np\n",
    "from sklearn.model_selection import train_test_split\n",
    "from sklearn.metrics.pairwise import cosine_similarity\n",
    "\n",
    "base_src = '../data/drive-download-20240102T142504Z-001'\n",
    "u_user_src = os.path.join(base_src, 'u.user')\n",
    "u_cols = ['user_id', 'age', 'sex', 'occupation', 'zip_code']\n",
    "users = pd.read_csv(\n",
    "    u_user_src,\n",
    "    sep='|',\n",
    "    names=u_cols,\n",
    "    encoding='latin-1'\n",
    ")\n",
    "users = users.set_index('user_id')\n",
    "\n",
    "u_item_src = os.path.join(base_src, 'u.item')\n",
    "i_cols = [\n",
    "    'movie_id', 'title', 'release date', 'video release date',\n",
    "    'IMDB URL', 'unknown', 'Action', 'Adventure', 'Animat ion',\n",
    "    'Children\\'s', 'Comedy', 'Crime', 'Documentary ', 'Drama',\n",
    "    'Fantasy', 'Film- Noir', 'Horror', 'Musical', 'Mystery',\n",
    "    'Romance ', 'Sci-Fi', 'Thriller', 'War', 'Western'\n",
    "]\n",
    "movies = pd.read_csv(\n",
    "    u_item_src,\n",
    "    sep='|',\n",
    "    names=i_cols,\n",
    "    encoding='latin-1'\n",
    ")\n",
    "movies = movies.set_index('movie_id')\n",
    "\n",
    "u_data_src = os.path.join(base_src, 'u.data')\n",
    "r_cols = ['user_id', 'movie_id', 'rating', 'timestamp']\n",
    "ratings = pd.read_csv(\n",
    "    u_data_src,\n",
    "    sep='\\t',\n",
    "    names=r_cols,\n",
    "    encoding='latin-1'\n",
    ")\n",
    "\n",
    "\n",
    "# 정확도 (RMSE)를 계산하는 함수\n",
    "def RMSE(y_true, y_pred):\n",
    "    return np.sqrt(np.mean((np.array(y_true) - np.array(y_pred)) ** 2))\n",
    "\n",
    "\n",
    "# 모델별 RMSE를 계산하는 함수\n",
    "def score(model):\n",
    "    # 테스트 데이터의 user_id와 movie)id 간 pair를 맞춰 튜플형 원소 리스트 데이터 생성\n",
    "    id_pairs = zip(x_test['user_id'], x_test['movie_id'])\n",
    "    # 모든 사용자 - 영화 pair에 대해서 주어진 예측 모델에 의해 예측값 계산 및 리스트형 데이터 생성\n",
    "    y_pred = np.array([model(user, movie) for (user, movie) in id_pairs])\n",
    "    # 실제 평점값\n",
    "    y_true = np.array(x_test['rating'])\n",
    "    return RMSE(y_true, y_pred)\n",
    "\n",
    "# 데이터셋 생성\n",
    "x = ratings.copy()\n",
    "y = ratings['user_id']\n",
    "\n",
    "x_train, x_test, y_train, y_test = train_test_split(\n",
    "    x, y, test_size=0.25, stratify=y\n",
    ")\n",
    "rating_matrix = x_train.pivot(index='user_id', columns='movie_id', values='rating')\n",
    " "
   ],
   "metadata": {
    "collapsed": false,
    "ExecuteTime": {
     "end_time": "2024-01-05T11:45:55.284659Z",
     "start_time": "2024-01-05T11:45:52.901165Z"
    }
   },
   "id": "965fdfe1eb0e74fd"
  },
  {
   "cell_type": "code",
   "execution_count": 3,
   "outputs": [],
   "source": [
    "rating_matrix_t = np.transpose(rating_matrix)\n",
    "\n",
    "matrix_dummy = rating_matrix_t.copy().fillna(0)\n",
    "item_similarity = cosine_similarity(matrix_dummy, matrix_dummy)\n",
    "\n",
    "item_similarity = pd.DataFrame(item_similarity,\n",
    "                               index=rating_matrix_t.index,\n",
    "                               columns=rating_matrix_t.index)"
   ],
   "metadata": {
    "collapsed": false,
    "ExecuteTime": {
     "end_time": "2024-01-05T11:45:55.469645Z",
     "start_time": "2024-01-05T11:45:55.284877Z"
    }
   },
   "id": "6f569f4f1cb559af"
  },
  {
   "cell_type": "code",
   "execution_count": 4,
   "outputs": [],
   "source": [
    "def CF_IBCF(user_id, movie_id):\n",
    "    if movie_id in item_similarity.columns:\n",
    "        sim_scores = item_similarity[movie_id]\n",
    "        user_rating = rating_matrix_t[user_id]\n",
    "        \n",
    "        non_rating_idx = user_rating[user_rating.isnull()].index\n",
    "        user_rating = user_rating.dropna()\n",
    "        sim_scores = sim_scores.drop(non_rating_idx)\n",
    "        mean_rating = np.dot(sim_scores, user_rating) / sim_scores.sum()\n",
    "    else:\n",
    "        mean_rating = 3.0\n",
    "    return mean_rating\n"
   ],
   "metadata": {
    "collapsed": false,
    "ExecuteTime": {
     "end_time": "2024-01-05T11:45:55.490081Z",
     "start_time": "2024-01-05T11:45:55.470357Z"
    }
   },
   "id": "df842e4ceb7eb476"
  },
  {
   "cell_type": "code",
   "execution_count": 5,
   "outputs": [
    {
     "data": {
      "text/plain": "1.0091608086502504"
     },
     "execution_count": 5,
     "metadata": {},
     "output_type": "execute_result"
    }
   ],
   "source": [
    "score(CF_IBCF)"
   ],
   "metadata": {
    "collapsed": false,
    "ExecuteTime": {
     "end_time": "2024-01-05T11:46:06.625094Z",
     "start_time": "2024-01-05T11:46:02.668214Z"
    }
   },
   "id": "22f7b58f6bc23072"
  },
  {
   "cell_type": "code",
   "execution_count": null,
   "outputs": [],
   "source": [],
   "metadata": {
    "collapsed": false
   },
   "id": "69ad2b22958ef451"
  }
 ],
 "metadata": {
  "kernelspec": {
   "display_name": "Python 3",
   "language": "python",
   "name": "python3"
  },
  "language_info": {
   "codemirror_mode": {
    "name": "ipython",
    "version": 2
   },
   "file_extension": ".py",
   "mimetype": "text/x-python",
   "name": "python",
   "nbconvert_exporter": "python",
   "pygments_lexer": "ipython2",
   "version": "2.7.6"
  }
 },
 "nbformat": 4,
 "nbformat_minor": 5
}
