{
 "cells": [
  {
   "cell_type": "code",
   "execution_count": 1,
   "id": "initial_id",
   "metadata": {
    "collapsed": true,
    "ExecuteTime": {
     "end_time": "2024-01-05T03:49:21.993664Z",
     "start_time": "2024-01-05T03:49:21.106958Z"
    }
   },
   "outputs": [],
   "source": [
    "import os\n",
    "import pandas as pd\n",
    "import numpy as np\n",
    "from sklearn.model_selection import train_test_split\n",
    "\n",
    "base_src = '../data/drive-download-20240102T142504Z-001'\n",
    "u_user_src = os.path.join(base_src, 'u.user')\n",
    "u_cols = ['user_id', 'age', 'sex', 'occupation', 'zip_code']\n",
    "users = pd.read_csv(\n",
    "    u_user_src,\n",
    "    sep='|',\n",
    "    names=u_cols,\n",
    "    encoding='latin-1'\n",
    ")\n",
    "users = users.set_index('user_id')\n",
    "\n",
    "u_item_src = os.path.join(base_src, 'u.item')\n",
    "i_cols = [\n",
    "    'movie_id', 'title', 'release date', 'video release date',\n",
    "    'IMDB URL', 'unknown', 'Action', 'Adventure', 'Animat ion',\n",
    "    'Children\\'s', 'Comedy', 'Crime', 'Documentary ', 'Drama',\n",
    "    'Fantasy', 'Film- Noir', 'Horror', 'Musical', 'Mystery',\n",
    "    'Romance ', 'Sci-Fi', 'Thriller', 'War', 'Western'\n",
    "]\n",
    "movies = pd.read_csv(\n",
    "    u_item_src,\n",
    "    sep='|',\n",
    "    names=i_cols,\n",
    "    encoding='latin-1'\n",
    ")\n",
    "movies = movies.set_index('movie_id')\n",
    "\n",
    "u_data_src = os.path.join(base_src, 'u.data')\n",
    "r_cols = ['user_id', 'movie_id', 'rating', 'timestamp']\n",
    "ratings = pd.read_csv(\n",
    "    u_data_src,\n",
    "    sep='\\t',\n",
    "    names=r_cols,\n",
    "    encoding='latin-1'\n",
    ")\n",
    "\n",
    "\n",
    "# 정확도 (RMSE)를 계산하는 함수\n",
    "def RMSE(y_true, y_pred):\n",
    "    return np.sqrt(np.mean((np.array(y_true) - np.array(y_pred)) ** 2))\n",
    "\n",
    "\n",
    "# 모델별 RMSE를 계산하는 함수\n",
    "def score(model, neighbor_size=0):\n",
    "    # 테스트 데이터의 user_id와 movie)id 간 pair를 맞춰 튜플형 원소 리스트 데이터 생성\n",
    "    id_pairs = zip(x_test['user_id'], x_test['movie_id'])\n",
    "    # 모든 사용자 - 영화 pair에 대해서 주어진 예측 모델에 의해 예측값 계산 및 리스트형 데이터 생성\n",
    "    y_pred = np.array([model(user, movie, neighbor_size) for (user, movie) in id_pairs])\n",
    "    # 실제 평점값\n",
    "    y_true = np.array(x_test['rating'])\n",
    "    return RMSE(y_true, y_pred)\n",
    "\n",
    "\n",
    "# 데이터셋 생성\n",
    "x = ratings.copy()\n",
    "y = ratings['user_id']\n",
    "\n",
    "x_train, x_test, y_train, y_test = train_test_split(\n",
    "    x, y, test_size=0.25, stratify=y\n",
    ")\n",
    "\n",
    "rating_matrix = x_train.pivot(index='user_id', columns='movie_id', values='rating')\n",
    "\n",
    "# train set의 모든 가능한 사용자 pair의 Cosine similarities 계산\n",
    "from sklearn.metrics.pairwise import cosine_similarity\n",
    "\n",
    "# 코사인 유사도를 구하기 위해 rating값을 복사하고, 계산 시 NaN값 에러 대비 0으로 변환\n",
    "matrix_dummy = rating_matrix.copy().fillna(0)\n",
    "# 모든 사용자간 코사인 유사고 계산\n",
    "user_similarity = cosine_similarity(matrix_dummy, matrix_dummy)\n",
    "# 필요한 값 조회를 위해 인덱스 및 컬럼명 지정\n",
    "user_similarity = pd.DataFrame(user_similarity, index=rating_matrix.index, columns=rating_matrix.index)"
   ]
  },
  {
   "cell_type": "code",
   "execution_count": 2,
   "outputs": [],
   "source": [
    "# Neighbor size를 정해서 예측치를 계산하는 함수\n",
    "def CF_knn(user_id, movie_id, neighbor_size=0):\n",
    "    # train/test set의 분할에 따라 생성한 rating_matrix에 movie_id가 있는지 확인\n",
    "    if movie_id in rating_matrix.columns:\n",
    "        # 주어진 사용자 (user_id)와 다른 사용자 간의 유사도 추출\n",
    "        sim_scores = user_similarity[user_id].copy()\n",
    "        # 주어진 영화 (movie_id)를 평가한 모든 사용자의 평점 정보를 추출\n",
    "        movie_ratings = rating_matrix[movie_id].copy()\n",
    "        # 주어진 영화를 평가하지 않은 사용자의 인덱스를 추출하고, 해당 인덱스의 유사도 및 평점 정보에서 제외\n",
    "        none_rating_idx = movie_ratings[movie_ratings.isnull()].index\n",
    "        \n",
    "        # 주어진 영화를 평가하지 않은 사용자 제외\n",
    "        movie_ratings = movie_ratings.dropna()\n",
    "        # 주어진 영화를 평가하지 않은 사용자의 유사도 제외\n",
    "        sim_scores = sim_scores.drop(none_rating_idx)\n",
    "\n",
    "        if neighbor_size == 0:  # simple 협업 필터링\n",
    "            mean_rating = np.dot(sim_scores, movie_ratings) / sim_scores.sum()\n",
    "\n",
    "        else:\n",
    "            if len(sim_scores) > 1:\n",
    "                neighbor_size = min(neighbor_size, len(sim_scores))\n",
    "                sim_scores = np.array(sim_scores)\n",
    "                movie_ratings = np.array(movie_ratings)\n",
    "                \n",
    "                # 유사도(sim_scores)를 순서대로 오름차순 정렬한 후 인덱스(user_id)를 추출\n",
    "                user_idx = np.argsort(sim_scores)\n",
    "                sim_scores = sim_scores[user_idx][-neighbor_size:]\n",
    "                movie_ratings = movie_ratings[user_idx][-neighbor_size:]\n",
    "                \n",
    "                mean_rating = np.dot(sim_scores, movie_ratings) / sim_scores.sum()\n",
    "            else:\n",
    "                mean_rating = 3.0\n",
    "    else:\n",
    "        mean_rating = 3.0\n",
    "    return mean_rating\n",
    "\n",
    "        \n",
    "        "
   ],
   "metadata": {
    "collapsed": false,
    "ExecuteTime": {
     "end_time": "2024-01-05T03:49:22.016083Z",
     "start_time": "2024-01-05T03:49:22.009588Z"
    }
   },
   "id": "591311e966ade2ee"
  },
  {
   "cell_type": "code",
   "execution_count": 3,
   "outputs": [
    {
     "name": "stdout",
     "output_type": "stream",
     "text": [
      "Neighbor size = 10 : RMSE = 1.0269\n",
      "Neighbor size = 20 : RMSE = 1.0145\n",
      "Neighbor size = 30 : RMSE = 1.0127\n",
      "Neighbor size = 40 : RMSE = 1.0126\n",
      "Neighbor size = 50 : RMSE = 1.0131\n",
      "Neighbor size = 60 : RMSE = 1.0136\n"
     ]
    }
   ],
   "source": [
    "# neighbor sizer가 10,20,30,40,50,60 인 경우에 대해서 RMSE를 계산하고 이를 출력 \n",
    "for neighbor_size in [10, 20, 30, 40, 50, 60]:\n",
    "    print('Neighbor size = %d : RMSE = %.4f' % (neighbor_size, score(CF_knn, neighbor_size)))"
   ],
   "metadata": {
    "collapsed": false,
    "ExecuteTime": {
     "end_time": "2024-01-05T03:49:46.100487Z",
     "start_time": "2024-01-05T03:49:22.037368Z"
    }
   },
   "id": "2b58749d51ebc30"
  }
 ],
 "metadata": {
  "kernelspec": {
   "display_name": "Python 3",
   "language": "python",
   "name": "python3"
  },
  "language_info": {
   "codemirror_mode": {
    "name": "ipython",
    "version": 2
   },
   "file_extension": ".py",
   "mimetype": "text/x-python",
   "name": "python",
   "nbconvert_exporter": "python",
   "pygments_lexer": "ipython2",
   "version": "2.7.6"
  }
 },
 "nbformat": 4,
 "nbformat_minor": 5
}
