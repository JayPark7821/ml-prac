{
 "cells": [
  {
   "cell_type": "markdown",
   "source": [
    "# 공통 평가 아이템의 수가 일정값 이상인 사용자만 집단 사용자로 고려"
   ],
   "metadata": {
    "collapsed": false
   },
   "id": "b8eeaa89730538ca"
  },
  {
   "cell_type": "code",
   "execution_count": 13,
   "outputs": [],
   "source": [
    "import os\n",
    "import pandas as pd\n",
    "import numpy as np\n",
    "from sklearn.model_selection import train_test_split\n",
    "from sklearn.metrics.pairwise import cosine_similarity\n",
    "\n",
    "base_src = '../data/drive-download-20240102T142504Z-001'\n",
    "u_user_src = os.path.join(base_src, 'u.user')\n",
    "u_cols = ['user_id', 'age', 'sex', 'occupation', 'zip_code']\n",
    "users = pd.read_csv(\n",
    "    u_user_src,\n",
    "    sep='|',\n",
    "    names=u_cols,\n",
    "    encoding='latin-1'\n",
    ")\n",
    "users = users.set_index('user_id')\n",
    "\n",
    "u_item_src = os.path.join(base_src, 'u.item')\n",
    "i_cols = [\n",
    "    'movie_id', 'title', 'release date', 'video release date',\n",
    "    'IMDB URL', 'unknown', 'Action', 'Adventure', 'Animat ion',\n",
    "    'Children\\'s', 'Comedy', 'Crime', 'Documentary ', 'Drama',\n",
    "    'Fantasy', 'Film- Noir', 'Horror', 'Musical', 'Mystery',\n",
    "    'Romance ', 'Sci-Fi', 'Thriller', 'War', 'Western'\n",
    "]\n",
    "movies = pd.read_csv(\n",
    "    u_item_src,\n",
    "    sep='|',\n",
    "    names=i_cols,\n",
    "    encoding='latin-1'\n",
    ")\n",
    "movies = movies.set_index('movie_id')\n",
    "\n",
    "u_data_src = os.path.join(base_src, 'u.data')\n",
    "r_cols = ['user_id', 'movie_id', 'rating', 'timestamp']\n",
    "ratings = pd.read_csv(\n",
    "    u_data_src,\n",
    "    sep='\\t',\n",
    "    names=r_cols,\n",
    "    encoding='latin-1'\n",
    ")\n",
    "\n",
    "\n",
    "# 정확도 (RMSE)를 계산하는 함수\n",
    "def RMSE(y_true, y_pred):\n",
    "    return np.sqrt(np.mean((np.array(y_true) - np.array(y_pred)) ** 2))\n",
    "\n",
    "\n",
    "# 모델별 RMSE를 계산하는 함수\n",
    "def score(model, neighbor_size=0):\n",
    "    # 테스트 데이터의 user_id와 movie)id 간 pair를 맞춰 튜플형 원소 리스트 데이터 생성\n",
    "    id_pairs = zip(x_test['user_id'], x_test['movie_id'])\n",
    "    # 모든 사용자 - 영화 pair에 대해서 주어진 예측 모델에 의해 예측값 계산 및 리스트형 데이터 생성\n",
    "    y_pred = np.array([model(user, movie, neighbor_size) for (user, movie) in id_pairs])\n",
    "    # 실제 평점값\n",
    "    y_true = np.array(x_test['rating'])\n",
    "    return RMSE(y_true, y_pred)\n",
    "\n",
    "\n",
    "# 데이터셋 생성\n",
    "x = ratings.copy()\n",
    "y = ratings['user_id']\n",
    "\n",
    "x_train, x_test, y_train, y_test = train_test_split(\n",
    "    x, y, test_size=0.25, stratify=y\n",
    ")\n",
    "\n",
    "rating_matrix = x_train.pivot(index='user_id', columns='movie_id', values='rating')\n",
    "\n",
    "# 코사인 유사도를 구하기 위해 rating값을 복사하고, 계산 시 NaN값 에러 대비 0으로 변환\n",
    "matrix_dummy = rating_matrix.copy().fillna(0)\n",
    "# 모든 사용자간 코사인 유사고 계산\n",
    "user_similarity = cosine_similarity(matrix_dummy, matrix_dummy)\n",
    "# 필요한 값 조회를 위해 인덱스 및 컬럼명 지정\n",
    "user_similarity = pd.DataFrame(user_similarity, index=rating_matrix.index, columns=rating_matrix.index)\n",
    "\n",
    "# 사용자 펴악 경향을 고려한 함수\n",
    "# full matrix에서 각 사용자의 평점평균을 구한다.\n",
    "rating_mean = rating_matrix.mean(axis=1)\n",
    "# 사용자 평점 평균의 편차 구하기\n",
    "rating_bias = (rating_matrix.T - rating_mean).T"
   ],
   "metadata": {
    "collapsed": false,
    "ExecuteTime": {
     "end_time": "2024-01-05T09:05:01.335201Z",
     "start_time": "2024-01-05T09:05:01.187788Z"
    }
   },
   "id": "e082f317f79b1cb3"
  },
  {
   "cell_type": "code",
   "execution_count": 14,
   "outputs": [
    {
     "data": {
      "text/plain": "user_id    1     2     3     4      5     6     7     8    9     10   ...  \\\nuser_id                                                               ...   \n1        204.0  12.0   5.0   3.0   50.0  58.0  76.0  16.0  1.0  43.0  ...   \n2         12.0  47.0   7.0   5.0    4.0  24.0  14.0   5.0  4.0  10.0  ...   \n3          5.0   7.0  41.0   8.0    1.0   4.0  10.0   7.0  2.0   5.0  ...   \n4          3.0   5.0   8.0  18.0    2.0   4.0   6.0   5.0  2.0   3.0  ...   \n5         50.0   4.0   1.0   2.0  131.0  27.0  53.0  13.0  3.0  18.0  ...   \n...        ...   ...   ...   ...    ...   ...   ...   ...  ...   ...  ...   \n939        9.0   7.0   1.0   0.0    5.0   9.0   9.0   3.0  1.0   1.0  ...   \n940       28.0   9.0  10.0   6.0   13.0  29.0  35.0   9.0  2.0  28.0  ...   \n941        7.0   5.0   3.0   2.0    4.0   6.0   5.0   5.0  1.0   3.0  ...   \n942       14.0   6.0   4.0   7.0    8.0  22.0  25.0   8.0  4.0  14.0  ...   \n943       43.0   4.0   1.0   2.0   34.0  23.0  61.0  14.0  1.0  17.0  ...   \n\nuser_id   934   935   936   937   938   939   940   941   942    943  \nuser_id                                                               \n1        44.0   8.0  25.0  10.0  18.0   9.0  28.0   7.0  14.0   43.0  \n2         6.0   9.0  20.0  14.0  18.0   7.0   9.0   5.0   6.0    4.0  \n3         1.0   1.0  10.0   5.0   6.0   1.0  10.0   3.0   4.0    1.0  \n4         2.0   1.0   6.0   4.0   4.0   0.0   6.0   2.0   7.0    2.0  \n5        34.0   3.0  10.0   4.0  11.0   5.0  13.0   4.0   8.0   34.0  \n...       ...   ...   ...   ...   ...   ...   ...   ...   ...    ...  \n939       6.0  12.0  16.0   4.0  17.0  37.0   2.0   3.0   3.0    8.0  \n940      23.0   4.0  13.0   7.0   9.0   2.0  80.0   5.0  12.0   17.0  \n941       2.0   3.0   9.0   4.0   6.0   3.0   5.0  17.0   3.0    2.0  \n942      13.0   4.0   6.0   5.0   7.0   3.0  12.0   3.0  59.0    9.0  \n943      22.0  11.0  12.0   3.0  17.0   8.0  17.0   2.0   9.0  126.0  \n\n[943 rows x 943 columns]",
      "text/html": "<div>\n<style scoped>\n    .dataframe tbody tr th:only-of-type {\n        vertical-align: middle;\n    }\n\n    .dataframe tbody tr th {\n        vertical-align: top;\n    }\n\n    .dataframe thead th {\n        text-align: right;\n    }\n</style>\n<table border=\"1\" class=\"dataframe\">\n  <thead>\n    <tr style=\"text-align: right;\">\n      <th>user_id</th>\n      <th>1</th>\n      <th>2</th>\n      <th>3</th>\n      <th>4</th>\n      <th>5</th>\n      <th>6</th>\n      <th>7</th>\n      <th>8</th>\n      <th>9</th>\n      <th>10</th>\n      <th>...</th>\n      <th>934</th>\n      <th>935</th>\n      <th>936</th>\n      <th>937</th>\n      <th>938</th>\n      <th>939</th>\n      <th>940</th>\n      <th>941</th>\n      <th>942</th>\n      <th>943</th>\n    </tr>\n    <tr>\n      <th>user_id</th>\n      <th></th>\n      <th></th>\n      <th></th>\n      <th></th>\n      <th></th>\n      <th></th>\n      <th></th>\n      <th></th>\n      <th></th>\n      <th></th>\n      <th></th>\n      <th></th>\n      <th></th>\n      <th></th>\n      <th></th>\n      <th></th>\n      <th></th>\n      <th></th>\n      <th></th>\n      <th></th>\n      <th></th>\n    </tr>\n  </thead>\n  <tbody>\n    <tr>\n      <th>1</th>\n      <td>204.0</td>\n      <td>12.0</td>\n      <td>5.0</td>\n      <td>3.0</td>\n      <td>50.0</td>\n      <td>58.0</td>\n      <td>76.0</td>\n      <td>16.0</td>\n      <td>1.0</td>\n      <td>43.0</td>\n      <td>...</td>\n      <td>44.0</td>\n      <td>8.0</td>\n      <td>25.0</td>\n      <td>10.0</td>\n      <td>18.0</td>\n      <td>9.0</td>\n      <td>28.0</td>\n      <td>7.0</td>\n      <td>14.0</td>\n      <td>43.0</td>\n    </tr>\n    <tr>\n      <th>2</th>\n      <td>12.0</td>\n      <td>47.0</td>\n      <td>7.0</td>\n      <td>5.0</td>\n      <td>4.0</td>\n      <td>24.0</td>\n      <td>14.0</td>\n      <td>5.0</td>\n      <td>4.0</td>\n      <td>10.0</td>\n      <td>...</td>\n      <td>6.0</td>\n      <td>9.0</td>\n      <td>20.0</td>\n      <td>14.0</td>\n      <td>18.0</td>\n      <td>7.0</td>\n      <td>9.0</td>\n      <td>5.0</td>\n      <td>6.0</td>\n      <td>4.0</td>\n    </tr>\n    <tr>\n      <th>3</th>\n      <td>5.0</td>\n      <td>7.0</td>\n      <td>41.0</td>\n      <td>8.0</td>\n      <td>1.0</td>\n      <td>4.0</td>\n      <td>10.0</td>\n      <td>7.0</td>\n      <td>2.0</td>\n      <td>5.0</td>\n      <td>...</td>\n      <td>1.0</td>\n      <td>1.0</td>\n      <td>10.0</td>\n      <td>5.0</td>\n      <td>6.0</td>\n      <td>1.0</td>\n      <td>10.0</td>\n      <td>3.0</td>\n      <td>4.0</td>\n      <td>1.0</td>\n    </tr>\n    <tr>\n      <th>4</th>\n      <td>3.0</td>\n      <td>5.0</td>\n      <td>8.0</td>\n      <td>18.0</td>\n      <td>2.0</td>\n      <td>4.0</td>\n      <td>6.0</td>\n      <td>5.0</td>\n      <td>2.0</td>\n      <td>3.0</td>\n      <td>...</td>\n      <td>2.0</td>\n      <td>1.0</td>\n      <td>6.0</td>\n      <td>4.0</td>\n      <td>4.0</td>\n      <td>0.0</td>\n      <td>6.0</td>\n      <td>2.0</td>\n      <td>7.0</td>\n      <td>2.0</td>\n    </tr>\n    <tr>\n      <th>5</th>\n      <td>50.0</td>\n      <td>4.0</td>\n      <td>1.0</td>\n      <td>2.0</td>\n      <td>131.0</td>\n      <td>27.0</td>\n      <td>53.0</td>\n      <td>13.0</td>\n      <td>3.0</td>\n      <td>18.0</td>\n      <td>...</td>\n      <td>34.0</td>\n      <td>3.0</td>\n      <td>10.0</td>\n      <td>4.0</td>\n      <td>11.0</td>\n      <td>5.0</td>\n      <td>13.0</td>\n      <td>4.0</td>\n      <td>8.0</td>\n      <td>34.0</td>\n    </tr>\n    <tr>\n      <th>...</th>\n      <td>...</td>\n      <td>...</td>\n      <td>...</td>\n      <td>...</td>\n      <td>...</td>\n      <td>...</td>\n      <td>...</td>\n      <td>...</td>\n      <td>...</td>\n      <td>...</td>\n      <td>...</td>\n      <td>...</td>\n      <td>...</td>\n      <td>...</td>\n      <td>...</td>\n      <td>...</td>\n      <td>...</td>\n      <td>...</td>\n      <td>...</td>\n      <td>...</td>\n      <td>...</td>\n    </tr>\n    <tr>\n      <th>939</th>\n      <td>9.0</td>\n      <td>7.0</td>\n      <td>1.0</td>\n      <td>0.0</td>\n      <td>5.0</td>\n      <td>9.0</td>\n      <td>9.0</td>\n      <td>3.0</td>\n      <td>1.0</td>\n      <td>1.0</td>\n      <td>...</td>\n      <td>6.0</td>\n      <td>12.0</td>\n      <td>16.0</td>\n      <td>4.0</td>\n      <td>17.0</td>\n      <td>37.0</td>\n      <td>2.0</td>\n      <td>3.0</td>\n      <td>3.0</td>\n      <td>8.0</td>\n    </tr>\n    <tr>\n      <th>940</th>\n      <td>28.0</td>\n      <td>9.0</td>\n      <td>10.0</td>\n      <td>6.0</td>\n      <td>13.0</td>\n      <td>29.0</td>\n      <td>35.0</td>\n      <td>9.0</td>\n      <td>2.0</td>\n      <td>28.0</td>\n      <td>...</td>\n      <td>23.0</td>\n      <td>4.0</td>\n      <td>13.0</td>\n      <td>7.0</td>\n      <td>9.0</td>\n      <td>2.0</td>\n      <td>80.0</td>\n      <td>5.0</td>\n      <td>12.0</td>\n      <td>17.0</td>\n    </tr>\n    <tr>\n      <th>941</th>\n      <td>7.0</td>\n      <td>5.0</td>\n      <td>3.0</td>\n      <td>2.0</td>\n      <td>4.0</td>\n      <td>6.0</td>\n      <td>5.0</td>\n      <td>5.0</td>\n      <td>1.0</td>\n      <td>3.0</td>\n      <td>...</td>\n      <td>2.0</td>\n      <td>3.0</td>\n      <td>9.0</td>\n      <td>4.0</td>\n      <td>6.0</td>\n      <td>3.0</td>\n      <td>5.0</td>\n      <td>17.0</td>\n      <td>3.0</td>\n      <td>2.0</td>\n    </tr>\n    <tr>\n      <th>942</th>\n      <td>14.0</td>\n      <td>6.0</td>\n      <td>4.0</td>\n      <td>7.0</td>\n      <td>8.0</td>\n      <td>22.0</td>\n      <td>25.0</td>\n      <td>8.0</td>\n      <td>4.0</td>\n      <td>14.0</td>\n      <td>...</td>\n      <td>13.0</td>\n      <td>4.0</td>\n      <td>6.0</td>\n      <td>5.0</td>\n      <td>7.0</td>\n      <td>3.0</td>\n      <td>12.0</td>\n      <td>3.0</td>\n      <td>59.0</td>\n      <td>9.0</td>\n    </tr>\n    <tr>\n      <th>943</th>\n      <td>43.0</td>\n      <td>4.0</td>\n      <td>1.0</td>\n      <td>2.0</td>\n      <td>34.0</td>\n      <td>23.0</td>\n      <td>61.0</td>\n      <td>14.0</td>\n      <td>1.0</td>\n      <td>17.0</td>\n      <td>...</td>\n      <td>22.0</td>\n      <td>11.0</td>\n      <td>12.0</td>\n      <td>3.0</td>\n      <td>17.0</td>\n      <td>8.0</td>\n      <td>17.0</td>\n      <td>2.0</td>\n      <td>9.0</td>\n      <td>126.0</td>\n    </tr>\n  </tbody>\n</table>\n<p>943 rows × 943 columns</p>\n</div>"
     },
     "execution_count": 14,
     "metadata": {},
     "output_type": "execute_result"
    }
   ],
   "source": [
    "rating_binary_1 = np.array(rating_matrix > 0).astype(float)\n",
    "rating_binary_2 = rating_binary_1.T\n",
    "\n",
    "# 사용자 간 공통 평가 아이템 수 계산\n",
    "counts = np.dot(rating_binary_1, rating_binary_2)\n",
    "counts = pd.DataFrame(counts, index=rating_matrix.index, columns=rating_matrix.index).fillna(0)\n",
    "counts"
   ],
   "metadata": {
    "collapsed": false,
    "ExecuteTime": {
     "end_time": "2024-01-05T09:05:01.376568Z",
     "start_time": "2024-01-05T09:05:01.341442Z"
    }
   },
   "id": "ceb0d2df38ae2eab"
  },
  {
   "cell_type": "code",
   "execution_count": 15,
   "outputs": [],
   "source": [
    "def CF_knn_bias_sig(user_id, movie_id, neighbor_size=0):\n",
    "    if movie_id in  rating_bias:\n",
    "        sim_scores = user_similarity[user_id].copy()\n",
    "        movie_ratings = rating_bias[movie_id].copy()\n",
    "        \n",
    "        no_rating = movie_ratings.isnull()\n",
    "        common_counts = counts[user_id]\n",
    "        low_significance = common_counts < SIG_LEVEL\n",
    "        none_rating_idx = movie_ratings[no_rating | low_significance].index\n",
    "        \n",
    "        movie_ratings = movie_ratings.drop(none_rating_idx)\n",
    "        sim_scores = sim_scores.drop(none_rating_idx)\n",
    "        \n",
    "        if neighbor_size == 0:\n",
    "            prediction = np.dot(sim_scores, movie_ratings) / sim_scores.sum()\n",
    "            prediction = prediction + rating_mean[user_id]\n",
    "            \n",
    "        else:\n",
    "            if len(sim_scores) > MIN_RATINGS:\n",
    "                neighbor_size = min(neighbor_size, len(sim_scores))\n",
    "                sim_scores = np.array(sim_scores)\n",
    "                movie_ratings = np.array(movie_ratings)\n",
    "                user_idx = np.argsort(sim_scores)\n",
    "                sim_scores = sim_scores[user_idx][-neighbor_size:]\n",
    "                movie_ratings = movie_ratings[user_idx][-neighbor_size:]\n",
    "                prediction = np.dot(sim_scores, movie_ratings) / sim_scores.sum()\n",
    "                prediction = prediction + rating_mean[user_id]\n",
    "            else:\n",
    "                prediction = rating_mean[user_id]\n",
    "    else:\n",
    "        prediction = rating_mean[user_id]\n",
    "    \n",
    "    if prediction <= 1:\n",
    "        prediction = 1\n",
    "    elif prediction > 5:\n",
    "        prediction = 5\n",
    "    return prediction"
   ],
   "metadata": {
    "collapsed": false,
    "ExecuteTime": {
     "end_time": "2024-01-05T09:05:01.382687Z",
     "start_time": "2024-01-05T09:05:01.379674Z"
    }
   },
   "id": "d5ec8d3eef4f14bb"
  },
  {
   "cell_type": "code",
   "execution_count": 16,
   "outputs": [
    {
     "data": {
      "text/plain": "0.9468712478482603"
     },
     "execution_count": 16,
     "metadata": {},
     "output_type": "execute_result"
    }
   ],
   "source": [
    "SIG_LEVEL = 3\n",
    "MIN_RATINGS = 3\n",
    "score(CF_knn_bias_sig, 30)"
   ],
   "metadata": {
    "collapsed": false,
    "ExecuteTime": {
     "end_time": "2024-01-05T09:05:07.745410Z",
     "start_time": "2024-01-05T09:05:01.384043Z"
    }
   },
   "id": "94a4e08baaa06b4f"
  },
  {
   "cell_type": "code",
   "execution_count": 16,
   "outputs": [],
   "source": [],
   "metadata": {
    "collapsed": false,
    "ExecuteTime": {
     "end_time": "2024-01-05T09:05:07.745569Z",
     "start_time": "2024-01-05T09:05:07.739581Z"
    }
   },
   "id": "833afb12568fab64"
  }
 ],
 "metadata": {
  "kernelspec": {
   "display_name": "Python 3",
   "language": "python",
   "name": "python3"
  },
  "language_info": {
   "codemirror_mode": {
    "name": "ipython",
    "version": 2
   },
   "file_extension": ".py",
   "mimetype": "text/x-python",
   "name": "python",
   "nbconvert_exporter": "python",
   "pygments_lexer": "ipython2",
   "version": "2.7.6"
  }
 },
 "nbformat": 4,
 "nbformat_minor": 5
}
