{
 "cells": [
  {
   "cell_type": "markdown",
   "source": [
    "# 사용자의 평가경향을 고려한 CF"
   ],
   "metadata": {
    "collapsed": false
   },
   "id": "26e24336faf489eb"
  },
  {
   "cell_type": "code",
   "execution_count": 6,
   "outputs": [],
   "source": [
    "import os\n",
    "import pandas as pd\n",
    "import numpy as np\n",
    "from sklearn.model_selection import train_test_split\n",
    "from sklearn.metrics.pairwise import cosine_similarity\n",
    "\n",
    "base_src = '../data/drive-download-20240102T142504Z-001'\n",
    "u_user_src = os.path.join(base_src, 'u.user')\n",
    "u_cols = ['user_id', 'age', 'sex', 'occupation', 'zip_code']\n",
    "users = pd.read_csv(\n",
    "    u_user_src,\n",
    "    sep='|',\n",
    "    names=u_cols,\n",
    "    encoding='latin-1'\n",
    ")\n",
    "users = users.set_index('user_id')\n",
    "\n",
    "u_item_src = os.path.join(base_src, 'u.item')\n",
    "i_cols = [\n",
    "    'movie_id', 'title', 'release date', 'video release date',\n",
    "    'IMDB URL', 'unknown', 'Action', 'Adventure', 'Animat ion',\n",
    "    'Children\\'s', 'Comedy', 'Crime', 'Documentary ', 'Drama',\n",
    "    'Fantasy', 'Film- Noir', 'Horror', 'Musical', 'Mystery',\n",
    "    'Romance ', 'Sci-Fi', 'Thriller', 'War', 'Western'\n",
    "]\n",
    "movies = pd.read_csv(\n",
    "    u_item_src,\n",
    "    sep='|',\n",
    "    names=i_cols,\n",
    "    encoding='latin-1'\n",
    ")\n",
    "movies = movies.set_index('movie_id')\n",
    "\n",
    "u_data_src = os.path.join(base_src, 'u.data')\n",
    "r_cols = ['user_id', 'movie_id', 'rating', 'timestamp']\n",
    "ratings = pd.read_csv(\n",
    "    u_data_src,\n",
    "    sep='\\t',\n",
    "    names=r_cols,\n",
    "    encoding='latin-1'\n",
    ")\n",
    "\n",
    "\n",
    "# 정확도 (RMSE)를 계산하는 함수\n",
    "def RMSE(y_true, y_pred):\n",
    "    return np.sqrt(np.mean((np.array(y_true) - np.array(y_pred)) ** 2))\n",
    "\n",
    "\n",
    "# 모델별 RMSE를 계산하는 함수\n",
    "def score(model, neighbor_size=0):\n",
    "    # 테스트 데이터의 user_id와 movie)id 간 pair를 맞춰 튜플형 원소 리스트 데이터 생성\n",
    "    id_pairs = zip(x_test['user_id'], x_test['movie_id'])\n",
    "    # 모든 사용자 - 영화 pair에 대해서 주어진 예측 모델에 의해 예측값 계산 및 리스트형 데이터 생성\n",
    "    y_pred = np.array([model(user, movie, neighbor_size) for (user, movie) in id_pairs])\n",
    "    # 실제 평점값\n",
    "    y_true = np.array(x_test['rating'])\n",
    "    return RMSE(y_true, y_pred)\n",
    "\n",
    "# 데이터셋 생성\n",
    "x = ratings.copy()\n",
    "y = ratings['user_id']\n",
    "\n",
    "x_train, x_test, y_train, y_test = train_test_split(\n",
    "    x, y, test_size=0.25, stratify=y\n",
    ")\n",
    "\n",
    "rating_matrix = x_train.pivot(index='user_id', columns='movie_id', values='rating')\n",
    "\n",
    "# 코사인 유사도를 구하기 위해 rating값을 복사하고, 계산 시 NaN값 에러 대비 0으로 변환\n",
    "matrix_dummy = rating_matrix.copy().fillna(0)\n",
    "# 모든 사용자간 코사인 유사고 계산\n",
    "user_similarity = cosine_similarity(matrix_dummy, matrix_dummy)\n",
    "# 필요한 값 조회를 위해 인덱스 및 컬럼명 지정\n",
    "user_similarity = pd.DataFrame(user_similarity, index=rating_matrix.index, columns=rating_matrix.index)\n"
   ],
   "metadata": {
    "collapsed": false,
    "ExecuteTime": {
     "end_time": "2024-01-05T08:35:16.222599Z",
     "start_time": "2024-01-05T08:35:16.120925Z"
    }
   },
   "id": "ae80f036b814b3d6"
  },
  {
   "cell_type": "code",
   "execution_count": 7,
   "outputs": [],
   "source": [
    "# 사용자 펴악 경향을 고려한 함수\n",
    "# full matrix에서 각 사용자의 평점평균을 구한다.\n",
    "rating_mean = rating_matrix.mean(axis=1)\n",
    "# 사용자 평점 평균의 편차 구하기\n",
    "rating_bias = (rating_matrix.T - rating_mean).T\n",
    "\n",
    "# 사용자 평가 경향을 고려한 함수\n",
    "def CF_knn_bias(user_id, movie_id, neighbor_size=0):\n",
    "    if movie_id in rating_bias:\n",
    "        # 현재 영화에 대한 모든 사용자의 평점편차를 구한다.\n",
    "        sim_scores = user_similarity[user_id].copy()\n",
    "        movie_ratings = rating_bias[movie_id].copy() \n",
    "        none_rating_idx = movie_ratings[movie_ratings.isnull()].index\n",
    "        movie_ratings = movie_ratings.drop(none_rating_idx)\n",
    "        sim_scores = sim_scores.drop(none_rating_idx)\n",
    "        \n",
    "        # Neighbor size가 지정되지 않은 경우\n",
    "        if neighbor_size == 0:\n",
    "            # 현재 영화에 대한 모든 사용자의 평점편차를 이용해 예측값을 계산\n",
    "            prediction = np.dot(sim_scores, movie_ratings) / sim_scores.sum()\n",
    "            # 평점편차에 사용자의 평균을 더한다.\n",
    "            prediction = prediction + rating_mean[user_id]\n",
    "        # Neighbor size가 지정된 경우\n",
    "        else:\n",
    "            # 해당 영화를 평가한 사용자가 최소 2명이 되는 경우에만 계산\n",
    "            if len(sim_scores) > 1:\n",
    "                neighbor_size = min(neighbor_size, len(sim_scores))\n",
    "                sim_scores = np.array(sim_scores)\n",
    "                movie_ratings = np.array(movie_ratings)\n",
    "                user_idx = np.argsort(sim_scores)\n",
    "                sim_scores = sim_scores[user_idx][-neighbor_size:] \n",
    "                movie_ratings = movie_ratings[user_idx][-neighbor_size:]\n",
    "                \n",
    "                prediction = np.dot(sim_scores, movie_ratings) / sim_scores.sum()\n",
    "                # 평점편차에 사용자의 평균을 더한다.\n",
    "                prediction = prediction + rating_mean[user_id]\n",
    "            else:\n",
    "                prediction = rating_mean[user_id]\n",
    "    else:\n",
    "        prediction = rating_mean[user_id]\n",
    "    return prediction"
   ],
   "metadata": {
    "collapsed": false,
    "ExecuteTime": {
     "end_time": "2024-01-05T08:35:16.286993Z",
     "start_time": "2024-01-05T08:35:16.230891Z"
    }
   },
   "id": "e86c63f94b7583ca"
  },
  {
   "cell_type": "code",
   "execution_count": 8,
   "outputs": [
    {
     "name": "stdout",
     "output_type": "stream",
     "text": [
      "Neighbor size = 10 : RMSE = 0.9594\n",
      "Neighbor size = 20 : RMSE = 0.9500\n",
      "Neighbor size = 30 : RMSE = 0.9489\n",
      "Neighbor size = 40 : RMSE = 0.9492\n",
      "Neighbor size = 50 : RMSE = 0.9499\n",
      "Neighbor size = 60 : RMSE = 0.9507\n"
     ]
    }
   ],
   "source": [
    "# neighbor sizer가 10,20,30,40,50,60 인 경우에 대해서 RMSE를 계산하고 이를 출력 \n",
    "for neighbor_size in [10, 20, 30, 40, 50, 60]:\n",
    "    print('Neighbor size = %d : RMSE = %.4f' % (neighbor_size, score(CF_knn_bias, neighbor_size)))\n",
    " "
   ],
   "metadata": {
    "collapsed": false,
    "ExecuteTime": {
     "end_time": "2024-01-05T08:35:44.891299Z",
     "start_time": "2024-01-05T08:35:16.279395Z"
    }
   },
   "id": "41744976b94eb8b3"
  },
  {
   "cell_type": "code",
   "execution_count": 8,
   "outputs": [],
   "source": [],
   "metadata": {
    "collapsed": false,
    "ExecuteTime": {
     "end_time": "2024-01-05T08:35:44.891442Z",
     "start_time": "2024-01-05T08:35:44.890047Z"
    }
   },
   "id": "da9dfa4374db29b0"
  }
 ],
 "metadata": {
  "kernelspec": {
   "display_name": "Python 3",
   "language": "python",
   "name": "python3"
  },
  "language_info": {
   "codemirror_mode": {
    "name": "ipython",
    "version": 2
   },
   "file_extension": ".py",
   "mimetype": "text/x-python",
   "name": "python",
   "nbconvert_exporter": "python",
   "pygments_lexer": "ipython2",
   "version": "2.7.6"
  }
 },
 "nbformat": 4,
 "nbformat_minor": 5
}
