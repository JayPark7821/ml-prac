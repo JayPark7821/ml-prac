{
 "cells": [
  {
   "cell_type": "markdown",
   "source": [
    "# Keras 로 MF 구현\n"
   ],
   "metadata": {
    "collapsed": false
   },
   "id": "1fbbb49db9357055"
  },
  {
   "cell_type": "code",
   "execution_count": 64,
   "outputs": [],
   "source": [
    "import pandas as pd\n",
    "\n",
    "from sklearn.model_selection import train_test_split\n",
    "\n",
    "import os\n",
    "import tensorflow as tf\n",
    "from tensorflow.python.keras import layers\n",
    "from tensorflow.python.keras.models import Model\n",
    "from tensorflow.python.keras.layers import Input, Embedding, Dot, Add, Flatten\n",
    "from tensorflow.python.keras.regularizers import l2\n",
    "from tensorflow.python.keras.optimizer_v1 import SGD, Adamax\n",
    "\n",
    "\n",
    "\n",
    "base_src = '../data/drive-download-20240102T142504Z-001'\n",
    "u_data_src = os.path.join(base_src, 'u.data')\n",
    "r_cols = ['user_id', 'movie_id', 'rating', 'timestamp']\n",
    "ratings = pd.read_csv(\n",
    "    u_data_src,\n",
    "    sep='\\t',\n",
    "    names=r_cols,\n",
    "    encoding='latin-1'\n",
    ")\n",
    "\n",
    "rating_train, rating_test = train_test_split(ratings, test_size=0.2, shuffle=True, random_state=2021)"
   ],
   "metadata": {
    "collapsed": false,
    "ExecuteTime": {
     "end_time": "2024-01-12T17:00:48.475850Z",
     "start_time": "2024-01-12T17:00:48.438482Z"
    }
   },
   "id": "b147de1928d819d3"
  },
  {
   "cell_type": "code",
   "execution_count": 65,
   "outputs": [],
   "source": [
    "tf.compat.v1.disable_eager_execution()\n",
    "\n",
    "K = 200\n",
    "\n",
    "mu = rating_train.rating.mean()\n",
    "\n",
    "M = rating_train.user_id.max() + 1\n",
    "N = rating_train.movie_id.max() + 1\n",
    "\n",
    "\n",
    "def RMSE(y_true, y_pred):\n",
    "    return tf.sqrt(tf.reduce_mean(tf.square(y_true - y_pred)))"
   ],
   "metadata": {
    "collapsed": false,
    "ExecuteTime": {
     "end_time": "2024-01-12T17:00:48.481889Z",
     "start_time": "2024-01-12T17:00:48.475457Z"
    }
   },
   "id": "ac30f4e6310daf82"
  },
  {
   "cell_type": "code",
   "execution_count": 66,
   "outputs": [],
   "source": [
    "user = Input(shape=(1,))\n",
    "item = Input(shape=(1,))\n",
    "\n",
    "P_embedding = Embedding(M, K, embeddings_regularizer=l2())(user)\n",
    "Q_embedding = Embedding(N, K, embeddings_regularizer=l2())(item)\n",
    "\n",
    "user_bias = Embedding(M, 1, embeddings_regularizer=l2())(user)\n",
    "item_bias = Embedding(N, 1, embeddings_regularizer=l2())(item)"
   ],
   "metadata": {
    "collapsed": false,
    "ExecuteTime": {
     "end_time": "2024-01-12T17:00:48.500468Z",
     "start_time": "2024-01-12T17:00:48.483192Z"
    }
   },
   "id": "89f3fd0c38b8221b"
  },
  {
   "cell_type": "code",
   "execution_count": 67,
   "outputs": [
    {
     "name": "stdout",
     "output_type": "stream",
     "text": [
      "Model: \"model_14\"\n",
      "__________________________________________________________________________________________________\n",
      "Layer (type)                    Output Shape         Param #     Connected to                     \n",
      "==================================================================================================\n",
      "input_3 (InputLayer)            [(None, 1)]          0                                            \n",
      "__________________________________________________________________________________________________\n",
      "input_4 (InputLayer)            [(None, 1)]          0                                            \n",
      "__________________________________________________________________________________________________\n",
      "embedding_56 (Embedding)        (None, 1, 200)       188800      input_3[0][0]                    \n",
      "__________________________________________________________________________________________________\n",
      "embedding_57 (Embedding)        (None, 1, 200)       336600      input_4[0][0]                    \n",
      "__________________________________________________________________________________________________\n",
      "dot_14 (Dot)                    (None, 1, 1)         0           embedding_56[0][0]               \n",
      "                                                                 embedding_57[0][0]               \n",
      "__________________________________________________________________________________________________\n",
      "embedding_58 (Embedding)        (None, 1, 1)         944         input_3[0][0]                    \n",
      "__________________________________________________________________________________________________\n",
      "embedding_59 (Embedding)        (None, 1, 1)         1683        input_4[0][0]                    \n",
      "__________________________________________________________________________________________________\n",
      "add_14 (Add)                    (None, 1, 1)         0           dot_14[0][0]                     \n",
      "                                                                 embedding_58[0][0]               \n",
      "                                                                 embedding_59[0][0]               \n",
      "__________________________________________________________________________________________________\n",
      "flatten_14 (Flatten)            (None, 1)            0           add_14[0][0]                     \n",
      "==================================================================================================\n",
      "Total params: 528,027\n",
      "Trainable params: 528,027\n",
      "Non-trainable params: 0\n",
      "__________________________________________________________________________________________________\n"
     ]
    }
   ],
   "source": [
    "R = layers.dot([P_embedding, Q_embedding], axes=(2, 2))\n",
    "R = layers.add([R, user_bias, item_bias])\n",
    "R = Flatten()(R)\n",
    "model = Model(inputs=[user, item], outputs=R)\n",
    "model.compile(\n",
    "    loss=RMSE,\n",
    "    optimizer=SGD(),\n",
    "    metrics=[RMSE]\n",
    ")\n",
    "\n",
    "model.summary()"
   ],
   "metadata": {
    "collapsed": false,
    "ExecuteTime": {
     "end_time": "2024-01-12T17:00:48.531109Z",
     "start_time": "2024-01-12T17:00:48.504022Z"
    }
   },
   "id": "51dd3c72632dc22e"
  },
  {
   "cell_type": "code",
   "execution_count": 68,
   "outputs": [
    {
     "name": "stdout",
     "output_type": "stream",
     "text": [
      "Train on 80000 samples, validate on 20000 samples\n",
      "Epoch 1/60\n",
      "16640/80000 [=====>........................] - ETA: 0s - loss: 5.4633 - RMSE: 1.1221"
     ]
    },
    {
     "name": "stderr",
     "output_type": "stream",
     "text": [
      "2024-01-13 02:00:48.592061: W tensorflow/c/c_api.cc:305] Operation '{name:'embedding_56/embeddings/Assign' id:497 op device:{requested: '', assigned: ''} def:{{{node embedding_56/embeddings/Assign}} = AssignVariableOp[_has_manual_control_dependencies=true, dtype=DT_FLOAT, validate_shape=false](embedding_56/embeddings, embedding_56/embeddings/Initializer/random_uniform)}}' was changed by setting attribute after it was run by a session. This mutation will have no effect, and will trigger an error in the future. Either don't modify nodes after running them or create a new session.\n"
     ]
    },
    {
     "name": "stdout",
     "output_type": "stream",
     "text": [
      "80000/80000 [==============================] - 1s 8us/sample - loss: 5.2603 - RMSE: 1.1262 - val_loss: 4.9966 - val_RMSE: 1.1199\n",
      "Epoch 2/60\n",
      "11776/80000 [===>..........................] - ETA: 0s - loss: 4.9655 - RMSE: 1.1207"
     ]
    },
    {
     "name": "stderr",
     "output_type": "stream",
     "text": [
      "/Users/jaypark/anaconda3/lib/python3.11/site-packages/tensorflow/python/keras/engine/training.py:2455: UserWarning: `Model.state_updates` will be removed in a future version. This property should not be used in TensorFlow 2.0, as `updates` are applied automatically.\n",
      "  warnings.warn('`Model.state_updates` will be removed in a future version. '\n",
      "2024-01-13 02:00:49.234510: W tensorflow/c/c_api.cc:305] Operation '{name:'loss_1/AddN_1' id:674 op device:{requested: '', assigned: ''} def:{{{node loss_1/AddN_1}} = AddN[N=2, T=DT_FLOAT, _has_manual_control_dependencies=true](loss_1/mul, loss_1/AddN)}}' was changed by setting attribute after it was run by a session. This mutation will have no effect, and will trigger an error in the future. Either don't modify nodes after running them or create a new session.\n"
     ]
    },
    {
     "name": "stdout",
     "output_type": "stream",
     "text": [
      "80000/80000 [==============================] - 1s 9us/sample - loss: 4.7716 - RMSE: 1.1241 - val_loss: 4.5385 - val_RMSE: 1.1148\n",
      "Epoch 3/60\n",
      "80000/80000 [==============================] - 1s 9us/sample - loss: 4.3406 - RMSE: 1.1222 - val_loss: 4.1337 - val_RMSE: 1.1113\n",
      "Epoch 4/60\n",
      "80000/80000 [==============================] - 1s 8us/sample - loss: 3.9602 - RMSE: 1.1202 - val_loss: 3.7770 - val_RMSE: 1.1138\n",
      "Epoch 5/60\n",
      "80000/80000 [==============================] - 1s 8us/sample - loss: 3.6246 - RMSE: 1.1186 - val_loss: 3.4622 - val_RMSE: 1.1101\n",
      "Epoch 6/60\n",
      "80000/80000 [==============================] - 1s 8us/sample - loss: 3.3287 - RMSE: 1.1171 - val_loss: 3.1844 - val_RMSE: 1.1105\n",
      "Epoch 7/60\n",
      "80000/80000 [==============================] - 1s 8us/sample - loss: 3.0675 - RMSE: 1.1158 - val_loss: 2.9391 - val_RMSE: 1.1087\n",
      "Epoch 8/60\n",
      "80000/80000 [==============================] - 1s 9us/sample - loss: 2.8370 - RMSE: 1.1142 - val_loss: 2.7230 - val_RMSE: 1.1042\n",
      "Epoch 9/60\n",
      "80000/80000 [==============================] - 1s 8us/sample - loss: 2.6338 - RMSE: 1.1129 - val_loss: 2.5323 - val_RMSE: 1.1057\n",
      "Epoch 10/60\n",
      "80000/80000 [==============================] - 1s 8us/sample - loss: 2.4547 - RMSE: 1.1121 - val_loss: 2.3645 - val_RMSE: 1.1031\n",
      "Epoch 11/60\n",
      "80000/80000 [==============================] - 1s 9us/sample - loss: 2.2964 - RMSE: 1.1110 - val_loss: 2.2159 - val_RMSE: 1.1035\n",
      "Epoch 12/60\n",
      "80000/80000 [==============================] - 1s 8us/sample - loss: 2.1568 - RMSE: 1.1100 - val_loss: 2.0848 - val_RMSE: 1.1012\n",
      "Epoch 13/60\n",
      "80000/80000 [==============================] - 1s 9us/sample - loss: 2.0335 - RMSE: 1.1089 - val_loss: 1.9694 - val_RMSE: 1.1016\n",
      "Epoch 14/60\n",
      "80000/80000 [==============================] - 1s 8us/sample - loss: 1.9250 - RMSE: 1.1080 - val_loss: 1.8677 - val_RMSE: 1.1029\n",
      "Epoch 15/60\n",
      "80000/80000 [==============================] - 1s 8us/sample - loss: 1.8291 - RMSE: 1.1073 - val_loss: 1.7776 - val_RMSE: 1.1007\n",
      "Epoch 16/60\n",
      "80000/80000 [==============================] - 1s 8us/sample - loss: 1.7444 - RMSE: 1.1065 - val_loss: 1.6980 - val_RMSE: 1.0980\n",
      "Epoch 17/60\n",
      "80000/80000 [==============================] - 1s 8us/sample - loss: 1.6699 - RMSE: 1.1060 - val_loss: 1.6284 - val_RMSE: 1.0974\n",
      "Epoch 18/60\n",
      "80000/80000 [==============================] - 1s 9us/sample - loss: 1.6041 - RMSE: 1.1054 - val_loss: 1.5667 - val_RMSE: 1.0977\n",
      "Epoch 19/60\n",
      "80000/80000 [==============================] - 1s 8us/sample - loss: 1.5461 - RMSE: 1.1048 - val_loss: 1.5121 - val_RMSE: 1.0955\n",
      "Epoch 20/60\n",
      "80000/80000 [==============================] - 1s 8us/sample - loss: 1.4948 - RMSE: 1.1044 - val_loss: 1.4637 - val_RMSE: 1.0962\n",
      "Epoch 21/60\n",
      "80000/80000 [==============================] - 1s 8us/sample - loss: 1.4497 - RMSE: 1.1040 - val_loss: 1.4214 - val_RMSE: 1.0992\n",
      "Epoch 22/60\n",
      "80000/80000 [==============================] - 1s 9us/sample - loss: 1.4096 - RMSE: 1.1032 - val_loss: 1.3841 - val_RMSE: 1.0958\n",
      "Epoch 23/60\n",
      "80000/80000 [==============================] - 1s 8us/sample - loss: 1.3747 - RMSE: 1.1032 - val_loss: 1.3511 - val_RMSE: 1.0960\n",
      "Epoch 24/60\n",
      "80000/80000 [==============================] - 1s 10us/sample - loss: 1.3436 - RMSE: 1.1028 - val_loss: 1.3219 - val_RMSE: 1.0968\n",
      "Epoch 25/60\n",
      "80000/80000 [==============================] - 1s 9us/sample - loss: 1.3162 - RMSE: 1.1022 - val_loss: 1.2965 - val_RMSE: 1.0941\n",
      "Epoch 26/60\n",
      "80000/80000 [==============================] - 1s 9us/sample - loss: 1.2919 - RMSE: 1.1018 - val_loss: 1.2736 - val_RMSE: 1.0938\n",
      "Epoch 27/60\n",
      "80000/80000 [==============================] - 1s 8us/sample - loss: 1.2706 - RMSE: 1.1013 - val_loss: 1.2538 - val_RMSE: 1.0940\n",
      "Epoch 28/60\n",
      "80000/80000 [==============================] - 1s 9us/sample - loss: 1.2519 - RMSE: 1.1012 - val_loss: 1.2359 - val_RMSE: 1.0915\n",
      "Epoch 29/60\n",
      "80000/80000 [==============================] - 1s 9us/sample - loss: 1.2354 - RMSE: 1.1010 - val_loss: 1.2205 - val_RMSE: 1.0949\n",
      "Epoch 30/60\n",
      "80000/80000 [==============================] - 1s 9us/sample - loss: 1.2206 - RMSE: 1.1007 - val_loss: 1.2068 - val_RMSE: 1.0942\n",
      "Epoch 31/60\n",
      "80000/80000 [==============================] - 1s 9us/sample - loss: 1.2076 - RMSE: 1.1006 - val_loss: 1.1947 - val_RMSE: 1.0945\n",
      "Epoch 32/60\n",
      "80000/80000 [==============================] - 1s 8us/sample - loss: 1.1964 - RMSE: 1.1001 - val_loss: 1.1838 - val_RMSE: 1.0923\n",
      "Epoch 33/60\n",
      "80000/80000 [==============================] - 1s 8us/sample - loss: 1.1862 - RMSE: 1.0999 - val_loss: 1.1746 - val_RMSE: 1.0919\n",
      "Epoch 34/60\n",
      "80000/80000 [==============================] - 1s 9us/sample - loss: 1.1776 - RMSE: 1.1000 - val_loss: 1.1663 - val_RMSE: 1.0939\n",
      "Epoch 35/60\n",
      "80000/80000 [==============================] - 1s 8us/sample - loss: 1.1696 - RMSE: 1.0996 - val_loss: 1.1588 - val_RMSE: 1.0936\n",
      "Epoch 36/60\n",
      "80000/80000 [==============================] - 1s 9us/sample - loss: 1.1626 - RMSE: 1.0994 - val_loss: 1.1522 - val_RMSE: 1.0929\n",
      "Epoch 37/60\n",
      "80000/80000 [==============================] - 1s 11us/sample - loss: 1.1566 - RMSE: 1.0991 - val_loss: 1.1468 - val_RMSE: 1.0917\n",
      "Epoch 38/60\n",
      "80000/80000 [==============================] - 1s 9us/sample - loss: 1.1512 - RMSE: 1.0992 - val_loss: 1.1414 - val_RMSE: 1.0935\n",
      "Epoch 39/60\n",
      "80000/80000 [==============================] - 1s 11us/sample - loss: 1.1465 - RMSE: 1.0991 - val_loss: 1.1373 - val_RMSE: 1.0893\n",
      "Epoch 40/60\n",
      "80000/80000 [==============================] - 1s 9us/sample - loss: 1.1424 - RMSE: 1.0986 - val_loss: 1.1334 - val_RMSE: 1.0911\n",
      "Epoch 41/60\n",
      "80000/80000 [==============================] - 1s 9us/sample - loss: 1.1387 - RMSE: 1.0989 - val_loss: 1.1300 - val_RMSE: 1.0923\n",
      "Epoch 42/60\n",
      "80000/80000 [==============================] - 1s 9us/sample - loss: 1.1353 - RMSE: 1.0986 - val_loss: 1.1269 - val_RMSE: 1.0932\n",
      "Epoch 43/60\n",
      "80000/80000 [==============================] - 1s 9us/sample - loss: 1.1324 - RMSE: 1.0986 - val_loss: 1.1241 - val_RMSE: 1.0903\n",
      "Epoch 44/60\n",
      "80000/80000 [==============================] - 1s 9us/sample - loss: 1.1300 - RMSE: 1.0986 - val_loss: 1.1216 - val_RMSE: 1.0888\n",
      "Epoch 45/60\n",
      "80000/80000 [==============================] - 1s 9us/sample - loss: 1.1278 - RMSE: 1.0984 - val_loss: 1.1197 - val_RMSE: 1.0935\n",
      "Epoch 46/60\n",
      "80000/80000 [==============================] - 1s 9us/sample - loss: 1.1258 - RMSE: 1.0982 - val_loss: 1.1178 - val_RMSE: 1.0925\n",
      "Epoch 47/60\n",
      "80000/80000 [==============================] - 1s 9us/sample - loss: 1.1239 - RMSE: 1.0980 - val_loss: 1.1162 - val_RMSE: 1.0909\n",
      "Epoch 48/60\n",
      "80000/80000 [==============================] - 1s 8us/sample - loss: 1.1225 - RMSE: 1.0981 - val_loss: 1.1145 - val_RMSE: 1.0916\n",
      "Epoch 49/60\n",
      "80000/80000 [==============================] - 1s 9us/sample - loss: 1.1212 - RMSE: 1.0983 - val_loss: 1.1134 - val_RMSE: 1.0924\n",
      "Epoch 50/60\n",
      "80000/80000 [==============================] - 1s 8us/sample - loss: 1.1199 - RMSE: 1.0981 - val_loss: 1.1122 - val_RMSE: 1.0904\n",
      "Epoch 51/60\n",
      "80000/80000 [==============================] - 1s 9us/sample - loss: 1.1189 - RMSE: 1.0979 - val_loss: 1.1114 - val_RMSE: 1.0906\n",
      "Epoch 52/60\n",
      "80000/80000 [==============================] - 1s 10us/sample - loss: 1.1179 - RMSE: 1.0981 - val_loss: 1.1106 - val_RMSE: 1.0888\n",
      "Epoch 53/60\n",
      "80000/80000 [==============================] - 1s 8us/sample - loss: 1.1171 - RMSE: 1.0979 - val_loss: 1.1098 - val_RMSE: 1.0906\n",
      "Epoch 54/60\n",
      "80000/80000 [==============================] - 1s 8us/sample - loss: 1.1164 - RMSE: 1.0979 - val_loss: 1.1091 - val_RMSE: 1.0900\n",
      "Epoch 55/60\n",
      "80000/80000 [==============================] - 1s 8us/sample - loss: 1.1158 - RMSE: 1.0979 - val_loss: 1.1085 - val_RMSE: 1.0906\n",
      "Epoch 56/60\n",
      "80000/80000 [==============================] - 1s 8us/sample - loss: 1.1152 - RMSE: 1.0976 - val_loss: 1.1079 - val_RMSE: 1.0913\n",
      "Epoch 57/60\n",
      "80000/80000 [==============================] - 1s 9us/sample - loss: 1.1147 - RMSE: 1.0978 - val_loss: 1.1075 - val_RMSE: 1.0902\n",
      "Epoch 58/60\n",
      "80000/80000 [==============================] - 1s 9us/sample - loss: 1.1142 - RMSE: 1.0976 - val_loss: 1.1071 - val_RMSE: 1.0908\n",
      "Epoch 59/60\n",
      "80000/80000 [==============================] - 1s 9us/sample - loss: 1.1138 - RMSE: 1.0976 - val_loss: 1.1064 - val_RMSE: 1.0904\n",
      "Epoch 60/60\n",
      "80000/80000 [==============================] - 1s 8us/sample - loss: 1.1135 - RMSE: 1.0976 - val_loss: 1.1064 - val_RMSE: 1.0891\n"
     ]
    }
   ],
   "source": [
    "result = model.fit(\n",
    "    x=[rating_train.user_id.values,\n",
    "       rating_train.movie_id.values],\n",
    "    y=rating_train.rating.values - mu,\n",
    "    epochs=60,\n",
    "    batch_size=256,\n",
    "    validation_data=(\n",
    "        [rating_test.user_id.values,\n",
    "         rating_test.movie_id.values],\n",
    "        rating_test.rating.values - mu\n",
    "    )\n",
    ")"
   ],
   "metadata": {
    "collapsed": false,
    "ExecuteTime": {
     "end_time": "2024-01-12T17:01:30.579101Z",
     "start_time": "2024-01-12T17:00:48.530992Z"
    }
   },
   "id": "b36700ffb84e4760"
  },
  {
   "cell_type": "code",
   "execution_count": 69,
   "outputs": [
    {
     "data": {
      "text/plain": "<Figure size 640x480 with 1 Axes>",
      "image/png": "[encoded data removed]"
     },
     "metadata": {},
     "output_type": "display_data"
    }
   ],
   "source": [
    "import matplotlib.pyplot as plt\n",
    "\n",
    "plt.plot(result.history['RMSE'], label='train RMSE')\n",
    "plt.plot(result.history['val_RMSE'], label='test RMSE')\n",
    "plt.legend()\n",
    "plt.show()"
   ],
   "metadata": {
    "collapsed": false,
    "ExecuteTime": {
     "end_time": "2024-01-12T17:01:31.179733Z",
     "start_time": "2024-01-12T17:01:30.571432Z"
    }
   },
   "id": "1afd22b6cf0c9b75"
  },
  {
   "cell_type": "code",
   "execution_count": 70,
   "outputs": [
    {
     "name": "stderr",
     "output_type": "stream",
     "text": [
      "/Users/jaypark/anaconda3/lib/python3.11/site-packages/tensorflow/python/keras/engine/training.py:2455: UserWarning: `Model.state_updates` will be removed in a future version. This property should not be used in TensorFlow 2.0, as `updates` are applied automatically.\n",
      "  warnings.warn('`Model.state_updates` will be removed in a future version. '\n",
      "2024-01-13 02:01:31.169420: W tensorflow/c/c_api.cc:305] Operation '{name:'flatten_14/Reshape' id:551 op device:{requested: '', assigned: ''} def:{{{node flatten_14/Reshape}} = Reshape[T=DT_FLOAT, Tshape=DT_INT32, _has_manual_control_dependencies=true](add_14/add_1, flatten_14/Const)}}' was changed by setting attribute after it was run by a session. This mutation will have no effect, and will trigger an error in the future. Either don't modify nodes after running them or create a new session.\n"
     ]
    }
   ],
   "source": [
    "user_ids = rating_train.user_id.values[0:6]\n",
    "movie_ids = rating_train.movie_id.values[0:6]\n",
    "\n",
    "predictions = model.predict([user_ids, movie_ids]) + mu"
   ],
   "metadata": {
    "collapsed": false,
    "ExecuteTime": {
     "end_time": "2024-01-12T17:01:31.256939Z",
     "start_time": "2024-01-12T17:01:31.175336Z"
    }
   },
   "id": "f6c5522110e5e524"
  },
  {
   "cell_type": "code",
   "execution_count": 71,
   "outputs": [
    {
     "name": "stdout",
     "output_type": "stream",
     "text": [
      "       user_id  movie_id  rating  timestamp\n",
      "23307      468        51       3  875293386\n",
      "36679       92       780       3  875660494\n",
      "36626      555       489       5  879975455\n",
      "83753      940        69       2  885921265\n",
      "52604      181      1350       1  878962120\n",
      "49877      320       195       5  884749255\n"
     ]
    }
   ],
   "source": [
    "print(rating_test[0:6])"
   ],
   "metadata": {
    "collapsed": false,
    "ExecuteTime": {
     "end_time": "2024-01-12T17:01:31.257317Z",
     "start_time": "2024-01-12T17:01:31.220280Z"
    }
   },
   "id": "57bd3ea6c19fef6e"
  },
  {
   "cell_type": "code",
   "execution_count": 72,
   "outputs": [
    {
     "name": "stdout",
     "output_type": "stream",
     "text": [
      "[[3.446763 ]\n",
      " [3.6278915]\n",
      " [3.5256078]\n",
      " [3.5814226]\n",
      " [3.5384753]\n",
      " [3.5379558]]\n"
     ]
    }
   ],
   "source": [
    "print(predictions)"
   ],
   "metadata": {
    "collapsed": false,
    "ExecuteTime": {
     "end_time": "2024-01-12T17:01:31.257440Z",
     "start_time": "2024-01-12T17:01:31.225460Z"
    }
   },
   "id": "77b74263a2efd724"
  },
  {
   "cell_type": "code",
   "execution_count": 73,
   "outputs": [],
   "source": [
    "import numpy as np\n",
    "\n",
    "def RMSE2(y_true, y_pred):\n",
    "    return np.sqrt(np.mean((np.array(y_true) - np.array(y_pred)) ** 2))"
   ],
   "metadata": {
    "collapsed": false,
    "ExecuteTime": {
     "end_time": "2024-01-12T17:01:31.257506Z",
     "start_time": "2024-01-12T17:01:31.228951Z"
    }
   },
   "id": "fdcdc9ae46e4b9e7"
  },
  {
   "cell_type": "code",
   "execution_count": 74,
   "outputs": [
    {
     "data": {
      "text/plain": "1.0913900720861789"
     },
     "execution_count": 74,
     "metadata": {},
     "output_type": "execute_result"
    }
   ],
   "source": [
    "user_ids = rating_test.user_id.values\n",
    "movie_ids = rating_test.movie_id.values\n",
    "\n",
    "y_pred = model.predict([user_ids, movie_ids]) + mu\n",
    "y_pred = np.ravel(y_pred,order='C')\n",
    "y_true = np.array(rating_test.rating)\n",
    "\n",
    "RMSE2(y_true, y_pred)"
   ],
   "metadata": {
    "collapsed": false,
    "ExecuteTime": {
     "end_time": "2024-01-12T17:01:31.339714Z",
     "start_time": "2024-01-12T17:01:31.233624Z"
    }
   },
   "id": "119a86f95ccd45b8"
  }
 ],
 "metadata": {
  "kernelspec": {
   "display_name": "Python 3",
   "language": "python",
   "name": "python3"
  },
  "language_info": {
   "codemirror_mode": {
    "name": "ipython",
    "version": 2
   },
   "file_extension": ".py",
   "mimetype": "text/x-python",
   "name": "python",
   "nbconvert_exporter": "python",
   "pygments_lexer": "ipython2",
   "version": "2.7.6"
  }
 },
 "nbformat": 4,
 "nbformat_minor": 5
}
