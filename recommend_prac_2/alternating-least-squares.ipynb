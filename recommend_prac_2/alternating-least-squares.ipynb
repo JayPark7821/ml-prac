{
 "cells": [
  {
   "cell_type": "markdown",
   "source": [
    "## Alternating Laest Squares (ALS) for Matrix Factorization\n",
    "* Implicit feedback 데이터를 바탕으로 추천하는 방식 탐색\n",
    "\n",
    "`Implicit feedback은 사용자의 선호도를 나타내는 데이터로서, 구매, 클릭, 검색 기록 등을 포함한다.  \n",
    "사용자가 직접 좋아요, 싫어요등 평가를 내린 데이터가 아님`"
   ],
   "metadata": {
    "collapsed": false
   },
   "id": "f1b08eb92bdc3524"
  },
  {
   "cell_type": "code",
   "outputs": [],
   "source": [
    "import pandas as pd\n",
    "import numpy as np\n",
    "from collections import defaultdict\n",
    "from tqdm import tqdm\n",
    "from datasets import load_dataset\n",
    "from sklearn.model_selection import train_test_split\n",
    "from scipy.sparse.linalg import svds\n",
    "from scipy.sparse import csr_matrix\n",
    "import matplotlib.pyplot as plt\n",
    "import implicit"
   ],
   "metadata": {
    "collapsed": false,
    "ExecuteTime": {
     "end_time": "2024-03-15T02:57:06.282904Z",
     "start_time": "2024-03-15T02:57:04.997004Z"
    }
   },
   "id": "e86defe72c416924",
   "execution_count": 1
  },
  {
   "cell_type": "code",
   "outputs": [
    {
     "name": "stderr",
     "output_type": "stream",
     "text": [
      "Found cached dataset parquet (/Users/jaypark/.cache/huggingface/datasets/nbtpj___parquet/nbtpj--movielens-1m-ratings-b1aa424c884e38a3/0.0.0/2a3b91fbd88a2c90d1dbbb32b460cf621d31bd5b05b934492fdef7d8d6f236ec)\n"
     ]
    },
    {
     "data": {
      "text/plain": "  0%|          | 0/1 [00:00<?, ?it/s]",
      "application/vnd.jupyter.widget-view+json": {
       "version_major": 2,
       "version_minor": 0,
       "model_id": "8929969daac048468569a6aa5de9184f"
      }
     },
     "metadata": {},
     "output_type": "display_data"
    },
    {
     "name": "stderr",
     "output_type": "stream",
     "text": [
      "Loading cached shuffled indices for dataset at /Users/jaypark/.cache/huggingface/datasets/nbtpj___parquet/nbtpj--movielens-1m-ratings-b1aa424c884e38a3/0.0.0/2a3b91fbd88a2c90d1dbbb32b460cf621d31bd5b05b934492fdef7d8d6f236ec/cache-15aa091e090a52af.arrow\n"
     ]
    }
   ],
   "source": [
    "data = load_dataset(\"nbtpj/movielens-1m-ratings\")[\"train\"].shuffle(seed=10).select(range(200000))\n",
    "movielens_df = pd.DataFrame(data)\n",
    "movielens_df = movielens_df[[\"user_id\", \"movie_id\", \"user_rating\"]]\n",
    "\n",
    "user_ids = movielens_df[\"user_id\"].unique()\n",
    "user_id_map = {id: index for index, id in enumerate(user_ids)}\n",
    "movie_ids = movielens_df[\"movie_id\"].unique()\n",
    "movie_id_map = {id: index for index, id in enumerate(movie_ids)}\n",
    "\n",
    "movielens_df[\"user_id\"] = movielens_df[\"user_id\"].map(user_id_map)\n",
    "movielens_df[\"movie_id\"] = movielens_df[\"movie_id\"].map(movie_id_map)"
   ],
   "metadata": {
    "collapsed": false,
    "ExecuteTime": {
     "end_time": "2024-03-15T02:57:19.133802Z",
     "start_time": "2024-03-15T02:57:06.283783Z"
    }
   },
   "id": "bd626cca2b3df3b4",
   "execution_count": 2
  },
  {
   "cell_type": "code",
   "outputs": [],
   "source": [
    "train_data, test_data = train_test_split(movielens_df, test_size=0.2, random_state=10)\n",
    "\n",
    "ratings_matrix = csr_matrix(\n",
    "    (train_data[\"user_rating\"].astype(float), (train_data[\"user_id\"], train_data[\"movie_id\"])),\n",
    "    shape=(len(user_ids), len(movie_ids))\n",
    ")"
   ],
   "metadata": {
    "collapsed": false,
    "ExecuteTime": {
     "end_time": "2024-03-15T02:57:19.149920Z",
     "start_time": "2024-03-15T02:57:19.134563Z"
    }
   },
   "id": "a9a32d6205d348d2",
   "execution_count": 3
  },
  {
   "cell_type": "code",
   "outputs": [
    {
     "data": {
      "text/plain": "  0%|          | 0/20 [00:00<?, ?it/s]",
      "application/vnd.jupyter.widget-view+json": {
       "version_major": 2,
       "version_minor": 0,
       "model_id": "fb276c3fef674bcfbe81209fbc22d9a7"
      }
     },
     "metadata": {},
     "output_type": "display_data"
    }
   ],
   "source": [
    "model_als = implicit.als.AlternatingLeastSquares(factors=30, regularization=0.05, iterations=20)\n",
    "model_als.fit(ratings_matrix)"
   ],
   "metadata": {
    "collapsed": false,
    "ExecuteTime": {
     "end_time": "2024-03-15T03:03:43.152279Z",
     "start_time": "2024-03-15T03:03:41.371802Z"
    }
   },
   "id": "a0ca033c9510de95",
   "execution_count": 5
  },
  {
   "cell_type": "code",
   "outputs": [
    {
     "data": {
      "text/plain": "   item_id     score\n0      195  1.219226\n1     1300  1.166343\n2      467  1.122641\n3      367  1.114000\n4      569  1.062542\n5      116  1.035805\n6     1124  0.977558\n7      529  0.974799\n8      106  0.950120\n9     1191  0.933956",
      "text/html": "<div>\n<style scoped>\n    .dataframe tbody tr th:only-of-type {\n        vertical-align: middle;\n    }\n\n    .dataframe tbody tr th {\n        vertical-align: top;\n    }\n\n    .dataframe thead th {\n        text-align: right;\n    }\n</style>\n<table border=\"1\" class=\"dataframe\">\n  <thead>\n    <tr style=\"text-align: right;\">\n      <th></th>\n      <th>item_id</th>\n      <th>score</th>\n    </tr>\n  </thead>\n  <tbody>\n    <tr>\n      <th>0</th>\n      <td>195</td>\n      <td>1.219226</td>\n    </tr>\n    <tr>\n      <th>1</th>\n      <td>1300</td>\n      <td>1.166343</td>\n    </tr>\n    <tr>\n      <th>2</th>\n      <td>467</td>\n      <td>1.122641</td>\n    </tr>\n    <tr>\n      <th>3</th>\n      <td>367</td>\n      <td>1.114000</td>\n    </tr>\n    <tr>\n      <th>4</th>\n      <td>569</td>\n      <td>1.062542</td>\n    </tr>\n    <tr>\n      <th>5</th>\n      <td>116</td>\n      <td>1.035805</td>\n    </tr>\n    <tr>\n      <th>6</th>\n      <td>1124</td>\n      <td>0.977558</td>\n    </tr>\n    <tr>\n      <th>7</th>\n      <td>529</td>\n      <td>0.974799</td>\n    </tr>\n    <tr>\n      <th>8</th>\n      <td>106</td>\n      <td>0.950120</td>\n    </tr>\n    <tr>\n      <th>9</th>\n      <td>1191</td>\n      <td>0.933956</td>\n    </tr>\n  </tbody>\n</table>\n</div>"
     },
     "execution_count": 6,
     "metadata": {},
     "output_type": "execute_result"
    }
   ],
   "source": [
    "user_id = 0\n",
    "k = 10\n",
    "\n",
    "recommended = model_als.recommend(user_id, ratings_matrix[user_id], N=k)\n",
    "df_recommeded = pd.DataFrame(zip(*recommended), columns=[\"item_id\", \"score\"])\n",
    "\n",
    "df_recommeded\n"
   ],
   "metadata": {
    "collapsed": false,
    "ExecuteTime": {
     "end_time": "2024-03-15T03:11:25.931791Z",
     "start_time": "2024-03-15T03:11:25.869638Z"
    }
   },
   "id": "becdebe25cf90582",
   "execution_count": 6
  },
  {
   "cell_type": "code",
   "outputs": [],
   "source": [],
   "metadata": {
    "collapsed": false
   },
   "id": "7647356e5f80e504"
  }
 ],
 "metadata": {
  "kernelspec": {
   "display_name": "Python 3",
   "language": "python",
   "name": "python3"
  },
  "language_info": {
   "codemirror_mode": {
    "name": "ipython",
    "version": 2
   },
   "file_extension": ".py",
   "mimetype": "text/x-python",
   "name": "python",
   "nbconvert_exporter": "python",
   "pygments_lexer": "ipython2",
   "version": "2.7.6"
  }
 },
 "nbformat": 4,
 "nbformat_minor": 5
}
