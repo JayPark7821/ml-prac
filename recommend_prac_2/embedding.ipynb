{
 "cells": [
  {
   "cell_type": "code",
   "execution_count": 2,
   "id": "initial_id",
   "metadata": {
    "collapsed": true,
    "ExecuteTime": {
     "end_time": "2024-03-18T12:58:24.037878Z",
     "start_time": "2024-03-18T12:58:22.240288Z"
    }
   },
   "outputs": [],
   "source": [
    "import pandas as pd\n",
    "import numpy as np\n",
    "import plotly.express as px\n",
    "from openai import OpenAI\n",
    "from sklearn.manifold import TSNE\n",
    "from sklearn.metrics.pairwise import cosine_similarity\n",
    "import matplotlib\n",
    "import matplotlib.pyplot as plt\n",
    "import pickle"
   ]
  },
  {
   "cell_type": "code",
   "outputs": [],
   "source": [
    "openai_api_key = ''"
   ],
   "metadata": {
    "collapsed": false,
    "ExecuteTime": {
     "end_time": "2024-03-18T12:58:24.040561Z",
     "start_time": "2024-03-18T12:58:24.038838Z"
    }
   },
   "id": "1d97e3076b4b257a",
   "execution_count": 3
  },
  {
   "cell_type": "code",
   "outputs": [
    {
     "data": {
      "text/plain": "                                       title  \\\n0   한국에서 돈을 가장 빨리 불리는 비법 (feat.13월의 월급 두둑해짐)   \n1       대출상품의 맹점을 활용해 저금리로 대출받아 서울에 내집 마련하기!   \n2                                 애들건강 음식\\nㅕ   \n3                                       운동\\n   \n4       [웹소설 전망] 앞으로 웹소설을 혼자 써서 성공하기는 힘들 겁니다   \n5                 웹소설로 돈 벌려면 이 3가지를 익히셔야 합니다   \n6                웹소설, 같이 쓰면 얼마나 더 나아지는지 보여드림   \n7                              웹소설을 같이 쓴다는 것   \n8                          카카오페이지 웹소설 1위 찍다!   \n9                                       발로란트   \n10                                 마들렌 만드는 법   \n11   [1탄] 점만 100번 이상 본 무당 매니아가 말하는 ‘점집 찾는 법’   \n12  [커리어 1탄] 대 이직의 시대, 프로 이직러라면 알아야할 '연차' 꿀팁   \n13            단기간에(1달이내) 10키로 이상 빼기(정말급한분들만)   \n14            조직 밖에서 스스로 돈벌기, 절반의 성공과 절반의 실패   \n15             마플샵 크리에이터 심사 한번에 합격하는 비법 공개 !   \n16                           스타벅스 꿀팁이 궁금하세요?   \n\n                                            tags  \n0             재테크,etf,연금저축,투자,주식,미국주식,비법,꿀팁,돈불리기  \n1                                     재테크,투자,부동산  \n2                            삶은고기,채소,반나나,요플레,애호박  \n3                                             테그  \n4                 성공비결,웹소설,성공공식,집단창작,공동창작,콘텐츠,전망  \n5                 성공공식,세컨드잡,N잡,N잡러,웹소설,인기작품,성공비결  \n6                   부업,웹소설,성공공식,N잡러,인기작품,N잡,성공비결  \n7                                  1등,웹소설,카카오페이지  \n8                             웹소설,인기작품,카카오페이지,1등  \n9                                세이지,로터스,게임,발로란트  \n10                             마들렌,베이킹레시피간식초코마들렌  \n11                점집,점사,점린이,무당,미스테리,사주,사주팔자,신점,신  \n12                            꿀팁,커리어,비법,비법거래소,연차  \n13                                  다이어트,단기간다이어트  \n14     커리어,디자이너,N잡,프리랜서,자기계발,자기개발,일러스트레이터,부업,수익화  \n15  마플샵,마플샵크리에이터심사승인비법,부업,클라이밍,클라이밍굿즈,굿즈제작,비법거래소  \n16                                      별적립,스타벅스  ",
      "text/html": "<div>\n<style scoped>\n    .dataframe tbody tr th:only-of-type {\n        vertical-align: middle;\n    }\n\n    .dataframe tbody tr th {\n        vertical-align: top;\n    }\n\n    .dataframe thead th {\n        text-align: right;\n    }\n</style>\n<table border=\"1\" class=\"dataframe\">\n  <thead>\n    <tr style=\"text-align: right;\">\n      <th></th>\n      <th>title</th>\n      <th>tags</th>\n    </tr>\n  </thead>\n  <tbody>\n    <tr>\n      <th>0</th>\n      <td>한국에서 돈을 가장 빨리 불리는 비법 (feat.13월의 월급 두둑해짐)</td>\n      <td>재테크,etf,연금저축,투자,주식,미국주식,비법,꿀팁,돈불리기</td>\n    </tr>\n    <tr>\n      <th>1</th>\n      <td>대출상품의 맹점을 활용해 저금리로 대출받아 서울에 내집 마련하기!</td>\n      <td>재테크,투자,부동산</td>\n    </tr>\n    <tr>\n      <th>2</th>\n      <td>애들건강 음식\\nㅕ</td>\n      <td>삶은고기,채소,반나나,요플레,애호박</td>\n    </tr>\n    <tr>\n      <th>3</th>\n      <td>운동\\n</td>\n      <td>테그</td>\n    </tr>\n    <tr>\n      <th>4</th>\n      <td>[웹소설 전망] 앞으로 웹소설을 혼자 써서 성공하기는 힘들 겁니다</td>\n      <td>성공비결,웹소설,성공공식,집단창작,공동창작,콘텐츠,전망</td>\n    </tr>\n    <tr>\n      <th>5</th>\n      <td>웹소설로 돈 벌려면 이 3가지를 익히셔야 합니다</td>\n      <td>성공공식,세컨드잡,N잡,N잡러,웹소설,인기작품,성공비결</td>\n    </tr>\n    <tr>\n      <th>6</th>\n      <td>웹소설, 같이 쓰면 얼마나 더 나아지는지 보여드림</td>\n      <td>부업,웹소설,성공공식,N잡러,인기작품,N잡,성공비결</td>\n    </tr>\n    <tr>\n      <th>7</th>\n      <td>웹소설을 같이 쓴다는 것</td>\n      <td>1등,웹소설,카카오페이지</td>\n    </tr>\n    <tr>\n      <th>8</th>\n      <td>카카오페이지 웹소설 1위 찍다!</td>\n      <td>웹소설,인기작품,카카오페이지,1등</td>\n    </tr>\n    <tr>\n      <th>9</th>\n      <td>발로란트</td>\n      <td>세이지,로터스,게임,발로란트</td>\n    </tr>\n    <tr>\n      <th>10</th>\n      <td>마들렌 만드는 법</td>\n      <td>마들렌,베이킹레시피간식초코마들렌</td>\n    </tr>\n    <tr>\n      <th>11</th>\n      <td>[1탄] 점만 100번 이상 본 무당 매니아가 말하는 ‘점집 찾는 법’</td>\n      <td>점집,점사,점린이,무당,미스테리,사주,사주팔자,신점,신</td>\n    </tr>\n    <tr>\n      <th>12</th>\n      <td>[커리어 1탄] 대 이직의 시대, 프로 이직러라면 알아야할 '연차' 꿀팁</td>\n      <td>꿀팁,커리어,비법,비법거래소,연차</td>\n    </tr>\n    <tr>\n      <th>13</th>\n      <td>단기간에(1달이내) 10키로 이상 빼기(정말급한분들만)</td>\n      <td>다이어트,단기간다이어트</td>\n    </tr>\n    <tr>\n      <th>14</th>\n      <td>조직 밖에서 스스로 돈벌기, 절반의 성공과 절반의 실패</td>\n      <td>커리어,디자이너,N잡,프리랜서,자기계발,자기개발,일러스트레이터,부업,수익화</td>\n    </tr>\n    <tr>\n      <th>15</th>\n      <td>마플샵 크리에이터 심사 한번에 합격하는 비법 공개 !</td>\n      <td>마플샵,마플샵크리에이터심사승인비법,부업,클라이밍,클라이밍굿즈,굿즈제작,비법거래소</td>\n    </tr>\n    <tr>\n      <th>16</th>\n      <td>스타벅스 꿀팁이 궁금하세요?</td>\n      <td>별적립,스타벅스</td>\n    </tr>\n  </tbody>\n</table>\n</div>"
     },
     "execution_count": 4,
     "metadata": {},
     "output_type": "execute_result"
    }
   ],
   "source": [
    "client = OpenAI(api_key= openai_api_key)\n",
    "articles_df = pd.DataFrame(pd.read_csv('../data/Result_9.csv')) \n",
    "articles_df"
   ],
   "metadata": {
    "collapsed": false,
    "ExecuteTime": {
     "end_time": "2024-03-18T12:58:24.069581Z",
     "start_time": "2024-03-18T12:58:24.041103Z"
    }
   },
   "id": "19340c6347f41a52",
   "execution_count": 4
  },
  {
   "cell_type": "code",
   "outputs": [
    {
     "data": {
      "text/plain": "                                       title  \\\n0   한국에서 돈을 가장 빨리 불리는 비법 (feat.13월의 월급 두둑해짐)   \n1       대출상품의 맹점을 활용해 저금리로 대출받아 서울에 내집 마련하기!   \n2                                 애들건강 음식\\nㅕ   \n3                                       운동\\n   \n4       [웹소설 전망] 앞으로 웹소설을 혼자 써서 성공하기는 힘들 겁니다   \n5                 웹소설로 돈 벌려면 이 3가지를 익히셔야 합니다   \n6                웹소설, 같이 쓰면 얼마나 더 나아지는지 보여드림   \n7                              웹소설을 같이 쓴다는 것   \n8                          카카오페이지 웹소설 1위 찍다!   \n9                                       발로란트   \n10                                 마들렌 만드는 법   \n11   [1탄] 점만 100번 이상 본 무당 매니아가 말하는 ‘점집 찾는 법’   \n12  [커리어 1탄] 대 이직의 시대, 프로 이직러라면 알아야할 '연차' 꿀팁   \n13            단기간에(1달이내) 10키로 이상 빼기(정말급한분들만)   \n14            조직 밖에서 스스로 돈벌기, 절반의 성공과 절반의 실패   \n15             마플샵 크리에이터 심사 한번에 합격하는 비법 공개 !   \n16                           스타벅스 꿀팁이 궁금하세요?   \n\n                                            tags  \\\n0             재테크,etf,연금저축,투자,주식,미국주식,비법,꿀팁,돈불리기   \n1                                     재테크,투자,부동산   \n2                            삶은고기,채소,반나나,요플레,애호박   \n3                                             테그   \n4                 성공비결,웹소설,성공공식,집단창작,공동창작,콘텐츠,전망   \n5                 성공공식,세컨드잡,N잡,N잡러,웹소설,인기작품,성공비결   \n6                   부업,웹소설,성공공식,N잡러,인기작품,N잡,성공비결   \n7                                  1등,웹소설,카카오페이지   \n8                             웹소설,인기작품,카카오페이지,1등   \n9                                세이지,로터스,게임,발로란트   \n10                             마들렌,베이킹레시피간식초코마들렌   \n11                점집,점사,점린이,무당,미스테리,사주,사주팔자,신점,신   \n12                            꿀팁,커리어,비법,비법거래소,연차   \n13                                  다이어트,단기간다이어트   \n14     커리어,디자이너,N잡,프리랜서,자기계발,자기개발,일러스트레이터,부업,수익화   \n15  마플샵,마플샵크리에이터심사승인비법,부업,클라이밍,클라이밍굿즈,굿즈제작,비법거래소   \n16                                      별적립,스타벅스   \n\n                                            embedding  \n0   [0.018516482785344124, 0.022310104221105576, -...  \n1   [0.008505742996931076, -0.0037927422672510147,...  \n2   [0.035317935049533844, -0.02704542875289917, -...  \n3   [-0.031634896993637085, 0.02379104495048523, -...  \n4   [0.06743671000003815, 0.009778322651982307, 0....  \n5   [0.027522113174200058, 0.008336253464221954, -...  \n6   [0.030167724937200546, 0.007432451471686363, -...  \n7   [0.012308107689023018, 0.004747177939862013, 0...  \n8   [0.0616585947573185, -0.0006531630642712116, 0...  \n9   [0.005846256855875254, 0.012760835699737072, -...  \n10  [0.0624096617102623, -0.01223963126540184, -0....  \n11  [-0.010581288486719131, 0.004173281602561474, ...  \n12  [-0.00012338698434177786, 0.009159768931567669...  \n13  [0.034357115626335144, 0.04135983809828758, 0....  \n14  [0.037023257464170456, 0.008344396948814392, 0...  \n15  [0.0015219524502754211, 0.008240656927227974, ...  \n16  [0.0018299773801118135, -0.021682409569621086,...  ",
      "text/html": "<div>\n<style scoped>\n    .dataframe tbody tr th:only-of-type {\n        vertical-align: middle;\n    }\n\n    .dataframe tbody tr th {\n        vertical-align: top;\n    }\n\n    .dataframe thead th {\n        text-align: right;\n    }\n</style>\n<table border=\"1\" class=\"dataframe\">\n  <thead>\n    <tr style=\"text-align: right;\">\n      <th></th>\n      <th>title</th>\n      <th>tags</th>\n      <th>embedding</th>\n    </tr>\n  </thead>\n  <tbody>\n    <tr>\n      <th>0</th>\n      <td>한국에서 돈을 가장 빨리 불리는 비법 (feat.13월의 월급 두둑해짐)</td>\n      <td>재테크,etf,연금저축,투자,주식,미국주식,비법,꿀팁,돈불리기</td>\n      <td>[0.018516482785344124, 0.022310104221105576, -...</td>\n    </tr>\n    <tr>\n      <th>1</th>\n      <td>대출상품의 맹점을 활용해 저금리로 대출받아 서울에 내집 마련하기!</td>\n      <td>재테크,투자,부동산</td>\n      <td>[0.008505742996931076, -0.0037927422672510147,...</td>\n    </tr>\n    <tr>\n      <th>2</th>\n      <td>애들건강 음식\\nㅕ</td>\n      <td>삶은고기,채소,반나나,요플레,애호박</td>\n      <td>[0.035317935049533844, -0.02704542875289917, -...</td>\n    </tr>\n    <tr>\n      <th>3</th>\n      <td>운동\\n</td>\n      <td>테그</td>\n      <td>[-0.031634896993637085, 0.02379104495048523, -...</td>\n    </tr>\n    <tr>\n      <th>4</th>\n      <td>[웹소설 전망] 앞으로 웹소설을 혼자 써서 성공하기는 힘들 겁니다</td>\n      <td>성공비결,웹소설,성공공식,집단창작,공동창작,콘텐츠,전망</td>\n      <td>[0.06743671000003815, 0.009778322651982307, 0....</td>\n    </tr>\n    <tr>\n      <th>5</th>\n      <td>웹소설로 돈 벌려면 이 3가지를 익히셔야 합니다</td>\n      <td>성공공식,세컨드잡,N잡,N잡러,웹소설,인기작품,성공비결</td>\n      <td>[0.027522113174200058, 0.008336253464221954, -...</td>\n    </tr>\n    <tr>\n      <th>6</th>\n      <td>웹소설, 같이 쓰면 얼마나 더 나아지는지 보여드림</td>\n      <td>부업,웹소설,성공공식,N잡러,인기작품,N잡,성공비결</td>\n      <td>[0.030167724937200546, 0.007432451471686363, -...</td>\n    </tr>\n    <tr>\n      <th>7</th>\n      <td>웹소설을 같이 쓴다는 것</td>\n      <td>1등,웹소설,카카오페이지</td>\n      <td>[0.012308107689023018, 0.004747177939862013, 0...</td>\n    </tr>\n    <tr>\n      <th>8</th>\n      <td>카카오페이지 웹소설 1위 찍다!</td>\n      <td>웹소설,인기작품,카카오페이지,1등</td>\n      <td>[0.0616585947573185, -0.0006531630642712116, 0...</td>\n    </tr>\n    <tr>\n      <th>9</th>\n      <td>발로란트</td>\n      <td>세이지,로터스,게임,발로란트</td>\n      <td>[0.005846256855875254, 0.012760835699737072, -...</td>\n    </tr>\n    <tr>\n      <th>10</th>\n      <td>마들렌 만드는 법</td>\n      <td>마들렌,베이킹레시피간식초코마들렌</td>\n      <td>[0.0624096617102623, -0.01223963126540184, -0....</td>\n    </tr>\n    <tr>\n      <th>11</th>\n      <td>[1탄] 점만 100번 이상 본 무당 매니아가 말하는 ‘점집 찾는 법’</td>\n      <td>점집,점사,점린이,무당,미스테리,사주,사주팔자,신점,신</td>\n      <td>[-0.010581288486719131, 0.004173281602561474, ...</td>\n    </tr>\n    <tr>\n      <th>12</th>\n      <td>[커리어 1탄] 대 이직의 시대, 프로 이직러라면 알아야할 '연차' 꿀팁</td>\n      <td>꿀팁,커리어,비법,비법거래소,연차</td>\n      <td>[-0.00012338698434177786, 0.009159768931567669...</td>\n    </tr>\n    <tr>\n      <th>13</th>\n      <td>단기간에(1달이내) 10키로 이상 빼기(정말급한분들만)</td>\n      <td>다이어트,단기간다이어트</td>\n      <td>[0.034357115626335144, 0.04135983809828758, 0....</td>\n    </tr>\n    <tr>\n      <th>14</th>\n      <td>조직 밖에서 스스로 돈벌기, 절반의 성공과 절반의 실패</td>\n      <td>커리어,디자이너,N잡,프리랜서,자기계발,자기개발,일러스트레이터,부업,수익화</td>\n      <td>[0.037023257464170456, 0.008344396948814392, 0...</td>\n    </tr>\n    <tr>\n      <th>15</th>\n      <td>마플샵 크리에이터 심사 한번에 합격하는 비법 공개 !</td>\n      <td>마플샵,마플샵크리에이터심사승인비법,부업,클라이밍,클라이밍굿즈,굿즈제작,비법거래소</td>\n      <td>[0.0015219524502754211, 0.008240656927227974, ...</td>\n    </tr>\n    <tr>\n      <th>16</th>\n      <td>스타벅스 꿀팁이 궁금하세요?</td>\n      <td>별적립,스타벅스</td>\n      <td>[0.0018299773801118135, -0.021682409569621086,...</td>\n    </tr>\n  </tbody>\n</table>\n</div>"
     },
     "execution_count": 5,
     "metadata": {},
     "output_type": "execute_result"
    }
   ],
   "source": [
    "def get_embedding(text: str, model=\"text-embedding-3-small\"):\n",
    "    text = text.replace('\\n', ' ')\n",
    "    return client.embeddings.create(input=[text], model=model).data[0].embedding\n",
    "\n",
    "articles_df['embedding'] = articles_df.apply(lambda x: get_embedding(f\"{x['title']} - {' '.join(x['tags'].split(','))}\" ), axis=1)\n",
    "\n",
    "with open( \"embedded-article\", \"wb\" ) as file:\n",
    "    pickle.dump( articles_df, file)\n",
    "\n",
    "articles_df\n",
    "    "
   ],
   "metadata": {
    "collapsed": false,
    "ExecuteTime": {
     "end_time": "2024-03-18T12:58:28.604550Z",
     "start_time": "2024-03-18T12:58:24.070688Z"
    }
   },
   "id": "5ad79a11c8ea4335",
   "execution_count": 5
  },
  {
   "cell_type": "code",
   "outputs": [
    {
     "data": {
      "text/plain": "                                  title                            tags  \\\n4  [웹소설 전망] 앞으로 웹소설을 혼자 써서 성공하기는 힘들 겁니다  성공비결,웹소설,성공공식,집단창작,공동창작,콘텐츠,전망   \n7                         웹소설을 같이 쓴다는 것                   1등,웹소설,카카오페이지   \n6           웹소설, 같이 쓰면 얼마나 더 나아지는지 보여드림    부업,웹소설,성공공식,N잡러,인기작품,N잡,성공비결   \n5            웹소설로 돈 벌려면 이 3가지를 익히셔야 합니다  성공공식,세컨드잡,N잡,N잡러,웹소설,인기작품,성공비결   \n\n                                           embedding  similarity  \n4  [0.06743671000003815, 0.009778322651982307, 0....    0.348265  \n7  [0.012308107689023018, 0.004747177939862013, 0...    0.316342  \n6  [0.030167724937200546, 0.007432451471686363, -...    0.312039  \n5  [0.027522113174200058, 0.008336253464221954, -...    0.312034  ",
      "text/html": "<div>\n<style scoped>\n    .dataframe tbody tr th:only-of-type {\n        vertical-align: middle;\n    }\n\n    .dataframe tbody tr th {\n        vertical-align: top;\n    }\n\n    .dataframe thead th {\n        text-align: right;\n    }\n</style>\n<table border=\"1\" class=\"dataframe\">\n  <thead>\n    <tr style=\"text-align: right;\">\n      <th></th>\n      <th>title</th>\n      <th>tags</th>\n      <th>embedding</th>\n      <th>similarity</th>\n    </tr>\n  </thead>\n  <tbody>\n    <tr>\n      <th>4</th>\n      <td>[웹소설 전망] 앞으로 웹소설을 혼자 써서 성공하기는 힘들 겁니다</td>\n      <td>성공비결,웹소설,성공공식,집단창작,공동창작,콘텐츠,전망</td>\n      <td>[0.06743671000003815, 0.009778322651982307, 0....</td>\n      <td>0.348265</td>\n    </tr>\n    <tr>\n      <th>7</th>\n      <td>웹소설을 같이 쓴다는 것</td>\n      <td>1등,웹소설,카카오페이지</td>\n      <td>[0.012308107689023018, 0.004747177939862013, 0...</td>\n      <td>0.316342</td>\n    </tr>\n    <tr>\n      <th>6</th>\n      <td>웹소설, 같이 쓰면 얼마나 더 나아지는지 보여드림</td>\n      <td>부업,웹소설,성공공식,N잡러,인기작품,N잡,성공비결</td>\n      <td>[0.030167724937200546, 0.007432451471686363, -...</td>\n      <td>0.312039</td>\n    </tr>\n    <tr>\n      <th>5</th>\n      <td>웹소설로 돈 벌려면 이 3가지를 익히셔야 합니다</td>\n      <td>성공공식,세컨드잡,N잡,N잡러,웹소설,인기작품,성공비결</td>\n      <td>[0.027522113174200058, 0.008336253464221954, -...</td>\n      <td>0.312034</td>\n    </tr>\n  </tbody>\n</table>\n</div>"
     },
     "execution_count": 21,
     "metadata": {},
     "output_type": "execute_result"
    }
   ],
   "source": [
    "query_test_description = (\"소설 써보고 싶은데 꿀팁 있을까?\")\n",
    "query_embedding = get_embedding(query_test_description)\n",
    "\n",
    "articles_df['similarity'] = articles_df['embedding'].apply(lambda x: cosine_similarity(np.array(x).reshape(1, -1), np.array(query_embedding).reshape(1, -1))[0][0])\n",
    "selected_df = articles_df.sort_values(by='similarity', ascending=False)\n",
    "selected_df = selected_df[selected_df['similarity'] > 0.3]\n",
    "selected_df"
   ],
   "metadata": {
    "collapsed": false,
    "ExecuteTime": {
     "end_time": "2024-03-18T13:05:25.828010Z",
     "start_time": "2024-03-18T13:05:25.496098Z"
    }
   },
   "id": "fd857b50d7f3a3b5",
   "execution_count": 21
  },
  {
   "cell_type": "code",
   "outputs": [],
   "source": [],
   "metadata": {
    "collapsed": false,
    "ExecuteTime": {
     "end_time": "2024-03-18T12:58:28.894280Z",
     "start_time": "2024-03-18T12:58:28.892758Z"
    }
   },
   "id": "859f520753b0259d",
   "execution_count": 6
  }
 ],
 "metadata": {
  "kernelspec": {
   "display_name": "Python 3",
   "language": "python",
   "name": "python3"
  },
  "language_info": {
   "codemirror_mode": {
    "name": "ipython",
    "version": 2
   },
   "file_extension": ".py",
   "mimetype": "text/x-python",
   "name": "python",
   "nbconvert_exporter": "python",
   "pygments_lexer": "ipython2",
   "version": "2.7.6"
  }
 },
 "nbformat": 4,
 "nbformat_minor": 5
}
