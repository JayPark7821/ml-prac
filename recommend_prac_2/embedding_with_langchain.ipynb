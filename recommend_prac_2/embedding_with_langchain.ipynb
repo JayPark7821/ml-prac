{
 "cells": [
  {
   "cell_type": "code",
   "execution_count": 4,
   "id": "initial_id",
   "metadata": {
    "collapsed": true,
    "ExecuteTime": {
     "end_time": "2024-04-17T02:19:53.293799Z",
     "start_time": "2024-04-17T02:19:53.286649Z"
    }
   },
   "outputs": [],
   "source": [
    "import os\n",
    "\n",
    "os.environ['OPENAI_API_KEY'] = ''\n",
    "os.environ['PINECONE_API_KEY'] = ''\n",
    "openai_api_key = os.environ['OPENAI_API_KEY']\n",
    "pinecone_api_key = os.environ['PINECONE_API_KEY']"
   ]
  },
  {
   "cell_type": "code",
   "outputs": [],
   "source": [
    "import pandas as pd\n",
    "from openai import OpenAI\n",
    "from pinecone import Pinecone, PodSpec\n",
    "\n",
    "pc = Pinecone(api_key=pinecone_api_key)\n",
    "client = OpenAI(api_key=openai_api_key)"
   ],
   "metadata": {
    "collapsed": false,
    "ExecuteTime": {
     "end_time": "2024-04-17T02:19:54.353060Z",
     "start_time": "2024-04-17T02:19:54.204858Z"
    }
   },
   "id": "47ae3f69be4c34ad",
   "execution_count": 5
  },
  {
   "cell_type": "code",
   "outputs": [
    {
     "name": "stdout",
     "output_type": "stream",
     "text": [
      "{'dimension': 3072,\n",
      " 'index_fullness': 0.0,\n",
      " 'namespaces': {},\n",
      " 'total_vector_count': 0}\n"
     ]
    }
   ],
   "source": [
    "from time import sleep\n",
    "\n",
    "index_name = 'vectordbprac'\n",
    "dimension = 3072\n",
    "metric = 'euclidean'\n",
    "spec = PodSpec('gcp-starter')\n",
    "\n",
    "if index_name in [index_info[\"name\"] for index_info in pc.list_indexes()]:\n",
    "    pc.delete_index(index_name)\n",
    "\n",
    "pc.create_index(index_name, dimension=dimension, metric=metric, spec=spec)\n",
    "\n",
    "while not pc.describe_index(index_name).status['ready']:\n",
    "    sleep(1)\n",
    "\n",
    "index = pc.Index(index_name)\n",
    "\n",
    "index_stats = index.describe_index_stats()\n",
    "print(index_stats)"
   ],
   "metadata": {
    "collapsed": false,
    "ExecuteTime": {
     "end_time": "2024-04-17T02:21:18.298112Z",
     "start_time": "2024-04-17T02:20:59.919512Z"
    }
   },
   "id": "20da66965110af4a",
   "execution_count": 9
  },
  {
   "cell_type": "code",
   "outputs": [
    {
     "data": {
      "text/plain": "                                       title  \\\n0   한국에서 돈을 가장 빨리 불리는 비법 (feat.13월의 월급 두둑해짐)   \n1       대출상품의 맹점을 활용해 저금리로 대출받아 서울에 내집 마련하기!   \n2                                 애들건강 음식\\nㅕ   \n3                                       운동\\n   \n4       [웹소설 전망] 앞으로 웹소설을 혼자 써서 성공하기는 힘들 겁니다   \n5                 웹소설로 돈 벌려면 이 3가지를 익히셔야 합니다   \n6                웹소설, 같이 쓰면 얼마나 더 나아지는지 보여드림   \n7                              웹소설을 같이 쓴다는 것   \n8                          카카오페이지 웹소설 1위 찍다!   \n9                                       발로란트   \n10                                 마들렌 만드는 법   \n11   [1탄] 점만 100번 이상 본 무당 매니아가 말하는 ‘점집 찾는 법’   \n12  [커리어 1탄] 대 이직의 시대, 프로 이직러라면 알아야할 '연차' 꿀팁   \n13            단기간에(1달이내) 10키로 이상 빼기(정말급한분들만)   \n14            조직 밖에서 스스로 돈벌기, 절반의 성공과 절반의 실패   \n15             마플샵 크리에이터 심사 한번에 합격하는 비법 공개 !   \n16                           스타벅스 꿀팁이 궁금하세요?   \n17                                 맥을 똑똑하게쓰기   \n18                     마인크래프트 엔더드래곤 원트에 잡는방법   \n19            판타지 웹소설 쓸 때 참조할만한 스킬 & 아이템 설정집   \n20                 조회수 떡상하는 웹소설 표지 만드는 법 (1)   \n\n                                            tags      category  \\\n0             돈불리기,etf,비법,꿀팁,주식,재테크,연금저축,투자,미국주식    INVESTMENT   \n1                                     투자,부동산,재테크    INVESTMENT   \n2                            반나나,채소,삶은고기,애호박,요플레  RELATIONSHIP   \n3                                             테그         HOBBY   \n4                 집단창작,전망,웹소설,성공비결,공동창작,콘텐츠,성공공식      SIDE_JOB   \n5                 성공비결,웹소설,세컨드잡,N잡러,N잡,성공공식,인기작품      SIDE_JOB   \n6                   성공공식,N잡러,N잡,인기작품,성공비결,부업,웹소설      SIDE_JOB   \n7                                  카카오페이지,웹소설,1등      SIDE_JOB   \n8                             인기작품,카카오페이지,웹소설,1등      SIDE_JOB   \n9                                발로란트,세이지,게임,로터스          GAME   \n10                             베이킹레시피간식초코마들렌,마들렌         HOBBY   \n11                점린이,사주팔자,미스테리,점집,사주,신점,점사,무당,신       MYSTERY   \n12                            커리어,연차,비법거래소,비법,꿀팁        CAREER   \n13                                  단기간다이어트,다이어트        SPORTS   \n14     일러스트레이터,부업,자기계발,N잡,커리어,디자이너,자기개발,프리랜서,수익화        CAREER   \n15  부업,클라이밍굿즈,클라이밍,마플샵크리에이터심사승인비법,굿즈제작,비법거래소,마플샵      SIDE_JOB   \n16                                      별적립,스타벅스           ETC   \n17                                 맥북비싸,맥북,돈값해야지         HOBBY   \n18                                  마인크래프트,게임,마크          GAME   \n19                                           웹소설      SIDE_JOB   \n20                                           웹소설      SIDE_JOB   \n\n                                              content  \n0   안녕하세요! 오늘은 30살에 2억 5천만원을 모은 제 동생에게 전수받고 다양한 유튜...  \n1   안녕하세요.제가 작년에 만 31세일 때 집 마련을 했는데 집 매매를 하면서 터득한 ...  \n2   애들이 먹으면 좋은음식을 알려드릴게요 1번째 요플레 애들에 변비를 도와줌니다 요거트...  \n3   저는 운동을 해야할 것같아서 배드민턴을 시작으로운동을 했습니다.그러다 재미가 붙어서...  \n4   ﻿퀴즈 1. 국내 아이돌 지망생은 몇 명일까요?100만명입니다.(2018년 업계 추...  \n5   이 글은 아래 해당하는 사람만 보세요.1. 나 글쓰는 데 재주가 좀 있다 2. 글쓰...  \n6   안녕하세요!이전 글에서 함께 쓰는 웹소설 ‘웹소설 스튜디오’ 시스템에 대해서 얘기했...  \n7   앞글에 이어 리나모 작가님과 함께 1년 넘게 웹소설을 써온 과정을 이야기 해드릴려고...  \n8   많은 분들이 애정해주신 덕분에 <귀신 잡느라 연차 씁니다>가 작년 10월 론칭하자마...  \n9   세이지를 쓸 때 로터스 c에 메인으로 스파를 설치하고 C메인과 로비 사이에 벽을 치...  \n10  초코 마들렌을 만드려면버터 100g  박력분 85g 코코아파우더 15g 베이킹파우더...  \n11  여러분은 신을 믿으시나요? 저는 신을 믿는다고는 말할 수 없지만 궁금증은 많아서 점...  \n12  대 이직의 시대에 살고계신 여러분들이 꼭 알아야할 연차 꿀팁을 알려드립니다.예전에 ...  \n13  제가 정말정말 급할때 썼던 다이어트 비법입니다.1.식단관리가 매우매우 중요하다. 많...  \n14  저는 조직에 속하지 않고서도 스스로 의미와 수익을 창출할 수 있는 일을 꿈꾸고 있습...  \n15  먼저 마플샵이란?내가 디자인한 굿즈를 판매하여 수익을 얻을 수 있는 커머스 플랫폼이...  \n16  스타벅스 별적립의 모든 것스타벅스 카드• 스타벅스 충전 카드는 결제 카드 겸 적립카...  \n17  맥을 조금더 똑똑하게 쓰는방법 몇가지를 알려드릴께요App Cleaner(무료!!!)...  \n18  엔더드래곤 원트에 잡고 글 올립니다.준비물다이아 풀셋활&화살물양동이엔더진주 5개만 ...  \n19  ﻿판타지 웹소설을 쓸 때 골아픈 게 뭘까요?뭐 여러가지 많겠지만서도 세계관 짜는 거...  \n20  지난번 웹소설 제목 짓는 법에 이어서이번에는 웹소설 표지 만드는 법에 대해서 얘기해...  ",
      "text/html": "<div>\n<style scoped>\n    .dataframe tbody tr th:only-of-type {\n        vertical-align: middle;\n    }\n\n    .dataframe tbody tr th {\n        vertical-align: top;\n    }\n\n    .dataframe thead th {\n        text-align: right;\n    }\n</style>\n<table border=\"1\" class=\"dataframe\">\n  <thead>\n    <tr style=\"text-align: right;\">\n      <th></th>\n      <th>title</th>\n      <th>tags</th>\n      <th>category</th>\n      <th>content</th>\n    </tr>\n  </thead>\n  <tbody>\n    <tr>\n      <th>0</th>\n      <td>한국에서 돈을 가장 빨리 불리는 비법 (feat.13월의 월급 두둑해짐)</td>\n      <td>돈불리기,etf,비법,꿀팁,주식,재테크,연금저축,투자,미국주식</td>\n      <td>INVESTMENT</td>\n      <td>안녕하세요! 오늘은 30살에 2억 5천만원을 모은 제 동생에게 전수받고 다양한 유튜...</td>\n    </tr>\n    <tr>\n      <th>1</th>\n      <td>대출상품의 맹점을 활용해 저금리로 대출받아 서울에 내집 마련하기!</td>\n      <td>투자,부동산,재테크</td>\n      <td>INVESTMENT</td>\n      <td>안녕하세요.제가 작년에 만 31세일 때 집 마련을 했는데 집 매매를 하면서 터득한 ...</td>\n    </tr>\n    <tr>\n      <th>2</th>\n      <td>애들건강 음식\\nㅕ</td>\n      <td>반나나,채소,삶은고기,애호박,요플레</td>\n      <td>RELATIONSHIP</td>\n      <td>애들이 먹으면 좋은음식을 알려드릴게요 1번째 요플레 애들에 변비를 도와줌니다 요거트...</td>\n    </tr>\n    <tr>\n      <th>3</th>\n      <td>운동\\n</td>\n      <td>테그</td>\n      <td>HOBBY</td>\n      <td>저는 운동을 해야할 것같아서 배드민턴을 시작으로운동을 했습니다.그러다 재미가 붙어서...</td>\n    </tr>\n    <tr>\n      <th>4</th>\n      <td>[웹소설 전망] 앞으로 웹소설을 혼자 써서 성공하기는 힘들 겁니다</td>\n      <td>집단창작,전망,웹소설,성공비결,공동창작,콘텐츠,성공공식</td>\n      <td>SIDE_JOB</td>\n      <td>﻿퀴즈 1. 국내 아이돌 지망생은 몇 명일까요?100만명입니다.(2018년 업계 추...</td>\n    </tr>\n    <tr>\n      <th>5</th>\n      <td>웹소설로 돈 벌려면 이 3가지를 익히셔야 합니다</td>\n      <td>성공비결,웹소설,세컨드잡,N잡러,N잡,성공공식,인기작품</td>\n      <td>SIDE_JOB</td>\n      <td>이 글은 아래 해당하는 사람만 보세요.1. 나 글쓰는 데 재주가 좀 있다 2. 글쓰...</td>\n    </tr>\n    <tr>\n      <th>6</th>\n      <td>웹소설, 같이 쓰면 얼마나 더 나아지는지 보여드림</td>\n      <td>성공공식,N잡러,N잡,인기작품,성공비결,부업,웹소설</td>\n      <td>SIDE_JOB</td>\n      <td>안녕하세요!이전 글에서 함께 쓰는 웹소설 ‘웹소설 스튜디오’ 시스템에 대해서 얘기했...</td>\n    </tr>\n    <tr>\n      <th>7</th>\n      <td>웹소설을 같이 쓴다는 것</td>\n      <td>카카오페이지,웹소설,1등</td>\n      <td>SIDE_JOB</td>\n      <td>앞글에 이어 리나모 작가님과 함께 1년 넘게 웹소설을 써온 과정을 이야기 해드릴려고...</td>\n    </tr>\n    <tr>\n      <th>8</th>\n      <td>카카오페이지 웹소설 1위 찍다!</td>\n      <td>인기작품,카카오페이지,웹소설,1등</td>\n      <td>SIDE_JOB</td>\n      <td>많은 분들이 애정해주신 덕분에 &lt;귀신 잡느라 연차 씁니다&gt;가 작년 10월 론칭하자마...</td>\n    </tr>\n    <tr>\n      <th>9</th>\n      <td>발로란트</td>\n      <td>발로란트,세이지,게임,로터스</td>\n      <td>GAME</td>\n      <td>세이지를 쓸 때 로터스 c에 메인으로 스파를 설치하고 C메인과 로비 사이에 벽을 치...</td>\n    </tr>\n    <tr>\n      <th>10</th>\n      <td>마들렌 만드는 법</td>\n      <td>베이킹레시피간식초코마들렌,마들렌</td>\n      <td>HOBBY</td>\n      <td>초코 마들렌을 만드려면버터 100g  박력분 85g 코코아파우더 15g 베이킹파우더...</td>\n    </tr>\n    <tr>\n      <th>11</th>\n      <td>[1탄] 점만 100번 이상 본 무당 매니아가 말하는 ‘점집 찾는 법’</td>\n      <td>점린이,사주팔자,미스테리,점집,사주,신점,점사,무당,신</td>\n      <td>MYSTERY</td>\n      <td>여러분은 신을 믿으시나요? 저는 신을 믿는다고는 말할 수 없지만 궁금증은 많아서 점...</td>\n    </tr>\n    <tr>\n      <th>12</th>\n      <td>[커리어 1탄] 대 이직의 시대, 프로 이직러라면 알아야할 '연차' 꿀팁</td>\n      <td>커리어,연차,비법거래소,비법,꿀팁</td>\n      <td>CAREER</td>\n      <td>대 이직의 시대에 살고계신 여러분들이 꼭 알아야할 연차 꿀팁을 알려드립니다.예전에 ...</td>\n    </tr>\n    <tr>\n      <th>13</th>\n      <td>단기간에(1달이내) 10키로 이상 빼기(정말급한분들만)</td>\n      <td>단기간다이어트,다이어트</td>\n      <td>SPORTS</td>\n      <td>제가 정말정말 급할때 썼던 다이어트 비법입니다.1.식단관리가 매우매우 중요하다. 많...</td>\n    </tr>\n    <tr>\n      <th>14</th>\n      <td>조직 밖에서 스스로 돈벌기, 절반의 성공과 절반의 실패</td>\n      <td>일러스트레이터,부업,자기계발,N잡,커리어,디자이너,자기개발,프리랜서,수익화</td>\n      <td>CAREER</td>\n      <td>저는 조직에 속하지 않고서도 스스로 의미와 수익을 창출할 수 있는 일을 꿈꾸고 있습...</td>\n    </tr>\n    <tr>\n      <th>15</th>\n      <td>마플샵 크리에이터 심사 한번에 합격하는 비법 공개 !</td>\n      <td>부업,클라이밍굿즈,클라이밍,마플샵크리에이터심사승인비법,굿즈제작,비법거래소,마플샵</td>\n      <td>SIDE_JOB</td>\n      <td>먼저 마플샵이란?내가 디자인한 굿즈를 판매하여 수익을 얻을 수 있는 커머스 플랫폼이...</td>\n    </tr>\n    <tr>\n      <th>16</th>\n      <td>스타벅스 꿀팁이 궁금하세요?</td>\n      <td>별적립,스타벅스</td>\n      <td>ETC</td>\n      <td>스타벅스 별적립의 모든 것스타벅스 카드• 스타벅스 충전 카드는 결제 카드 겸 적립카...</td>\n    </tr>\n    <tr>\n      <th>17</th>\n      <td>맥을 똑똑하게쓰기</td>\n      <td>맥북비싸,맥북,돈값해야지</td>\n      <td>HOBBY</td>\n      <td>맥을 조금더 똑똑하게 쓰는방법 몇가지를 알려드릴께요App Cleaner(무료!!!)...</td>\n    </tr>\n    <tr>\n      <th>18</th>\n      <td>마인크래프트 엔더드래곤 원트에 잡는방법</td>\n      <td>마인크래프트,게임,마크</td>\n      <td>GAME</td>\n      <td>엔더드래곤 원트에 잡고 글 올립니다.준비물다이아 풀셋활&amp;화살물양동이엔더진주 5개만 ...</td>\n    </tr>\n    <tr>\n      <th>19</th>\n      <td>판타지 웹소설 쓸 때 참조할만한 스킬 &amp; 아이템 설정집</td>\n      <td>웹소설</td>\n      <td>SIDE_JOB</td>\n      <td>﻿판타지 웹소설을 쓸 때 골아픈 게 뭘까요?뭐 여러가지 많겠지만서도 세계관 짜는 거...</td>\n    </tr>\n    <tr>\n      <th>20</th>\n      <td>조회수 떡상하는 웹소설 표지 만드는 법 (1)</td>\n      <td>웹소설</td>\n      <td>SIDE_JOB</td>\n      <td>지난번 웹소설 제목 짓는 법에 이어서이번에는 웹소설 표지 만드는 법에 대해서 얘기해...</td>\n    </tr>\n  </tbody>\n</table>\n</div>"
     },
     "execution_count": 10,
     "metadata": {},
     "output_type": "execute_result"
    }
   ],
   "source": [
    "articles_df = pd.DataFrame(pd.read_csv('../data/Result_14.csv'))\n",
    "articles_df"
   ],
   "metadata": {
    "collapsed": false,
    "ExecuteTime": {
     "end_time": "2024-04-17T02:21:20.375906Z",
     "start_time": "2024-04-17T02:21:20.355890Z"
    }
   },
   "id": "7a304a4c95245e75",
   "execution_count": 10
  },
  {
   "cell_type": "code",
   "outputs": [
    {
     "data": {
      "text/plain": "                                       title  \\\n0   한국에서 돈을 가장 빨리 불리는 비법 (feat.13월의 월급 두둑해짐)   \n1       대출상품의 맹점을 활용해 저금리로 대출받아 서울에 내집 마련하기!   \n2                                 애들건강 음식\\nㅕ   \n3                                       운동\\n   \n4       [웹소설 전망] 앞으로 웹소설을 혼자 써서 성공하기는 힘들 겁니다   \n5                 웹소설로 돈 벌려면 이 3가지를 익히셔야 합니다   \n6                웹소설, 같이 쓰면 얼마나 더 나아지는지 보여드림   \n7                              웹소설을 같이 쓴다는 것   \n8                          카카오페이지 웹소설 1위 찍다!   \n9                                       발로란트   \n10                                 마들렌 만드는 법   \n11   [1탄] 점만 100번 이상 본 무당 매니아가 말하는 ‘점집 찾는 법’   \n12  [커리어 1탄] 대 이직의 시대, 프로 이직러라면 알아야할 '연차' 꿀팁   \n13            단기간에(1달이내) 10키로 이상 빼기(정말급한분들만)   \n14            조직 밖에서 스스로 돈벌기, 절반의 성공과 절반의 실패   \n15             마플샵 크리에이터 심사 한번에 합격하는 비법 공개 !   \n16                           스타벅스 꿀팁이 궁금하세요?   \n17                                 맥을 똑똑하게쓰기   \n18                     마인크래프트 엔더드래곤 원트에 잡는방법   \n19            판타지 웹소설 쓸 때 참조할만한 스킬 & 아이템 설정집   \n20                 조회수 떡상하는 웹소설 표지 만드는 법 (1)   \n\n                                            tags      category  \\\n0             돈불리기,etf,비법,꿀팁,주식,재테크,연금저축,투자,미국주식    INVESTMENT   \n1                                     투자,부동산,재테크    INVESTMENT   \n2                            반나나,채소,삶은고기,애호박,요플레  RELATIONSHIP   \n3                                             테그         HOBBY   \n4                 집단창작,전망,웹소설,성공비결,공동창작,콘텐츠,성공공식      SIDE_JOB   \n5                 성공비결,웹소설,세컨드잡,N잡러,N잡,성공공식,인기작품      SIDE_JOB   \n6                   성공공식,N잡러,N잡,인기작품,성공비결,부업,웹소설      SIDE_JOB   \n7                                  카카오페이지,웹소설,1등      SIDE_JOB   \n8                             인기작품,카카오페이지,웹소설,1등      SIDE_JOB   \n9                                발로란트,세이지,게임,로터스          GAME   \n10                             베이킹레시피간식초코마들렌,마들렌         HOBBY   \n11                점린이,사주팔자,미스테리,점집,사주,신점,점사,무당,신       MYSTERY   \n12                            커리어,연차,비법거래소,비법,꿀팁        CAREER   \n13                                  단기간다이어트,다이어트        SPORTS   \n14     일러스트레이터,부업,자기계발,N잡,커리어,디자이너,자기개발,프리랜서,수익화        CAREER   \n15  부업,클라이밍굿즈,클라이밍,마플샵크리에이터심사승인비법,굿즈제작,비법거래소,마플샵      SIDE_JOB   \n16                                      별적립,스타벅스           ETC   \n17                                 맥북비싸,맥북,돈값해야지         HOBBY   \n18                                  마인크래프트,게임,마크          GAME   \n19                                           웹소설      SIDE_JOB   \n20                                           웹소설      SIDE_JOB   \n\n                                              content  \\\n0   안녕하세요! 오늘은 30살에 2억 5천만원을 모은 제 동생에게 전수받고 다양한 유튜...   \n1   안녕하세요.제가 작년에 만 31세일 때 집 마련을 했는데 집 매매를 하면서 터득한 ...   \n2   애들이 먹으면 좋은음식을 알려드릴게요 1번째 요플레 애들에 변비를 도와줌니다 요거트...   \n3   저는 운동을 해야할 것같아서 배드민턴을 시작으로운동을 했습니다.그러다 재미가 붙어서...   \n4   ﻿퀴즈 1. 국내 아이돌 지망생은 몇 명일까요?100만명입니다.(2018년 업계 추...   \n5   이 글은 아래 해당하는 사람만 보세요.1. 나 글쓰는 데 재주가 좀 있다 2. 글쓰...   \n6   안녕하세요!이전 글에서 함께 쓰는 웹소설 ‘웹소설 스튜디오’ 시스템에 대해서 얘기했...   \n7   앞글에 이어 리나모 작가님과 함께 1년 넘게 웹소설을 써온 과정을 이야기 해드릴려고...   \n8   많은 분들이 애정해주신 덕분에 <귀신 잡느라 연차 씁니다>가 작년 10월 론칭하자마...   \n9   세이지를 쓸 때 로터스 c에 메인으로 스파를 설치하고 C메인과 로비 사이에 벽을 치...   \n10  초코 마들렌을 만드려면버터 100g  박력분 85g 코코아파우더 15g 베이킹파우더...   \n11  여러분은 신을 믿으시나요? 저는 신을 믿는다고는 말할 수 없지만 궁금증은 많아서 점...   \n12  대 이직의 시대에 살고계신 여러분들이 꼭 알아야할 연차 꿀팁을 알려드립니다.예전에 ...   \n13  제가 정말정말 급할때 썼던 다이어트 비법입니다.1.식단관리가 매우매우 중요하다. 많...   \n14  저는 조직에 속하지 않고서도 스스로 의미와 수익을 창출할 수 있는 일을 꿈꾸고 있습...   \n15  먼저 마플샵이란?내가 디자인한 굿즈를 판매하여 수익을 얻을 수 있는 커머스 플랫폼이...   \n16  스타벅스 별적립의 모든 것스타벅스 카드• 스타벅스 충전 카드는 결제 카드 겸 적립카...   \n17  맥을 조금더 똑똑하게 쓰는방법 몇가지를 알려드릴께요App Cleaner(무료!!!)...   \n18  엔더드래곤 원트에 잡고 글 올립니다.준비물다이아 풀셋활&화살물양동이엔더진주 5개만 ...   \n19  ﻿판타지 웹소설을 쓸 때 골아픈 게 뭘까요?뭐 여러가지 많겠지만서도 세계관 짜는 거...   \n20  지난번 웹소설 제목 짓는 법에 이어서이번에는 웹소설 표지 만드는 법에 대해서 얘기해...   \n\n                                       processed_text  \n0   한국에서 돈을 가장 빨리 불리는 비법 feat13월의 월급 두둑해짐 안녕하세요 오늘...  \n1   대출상품의 맹점을 활용해 저금리로 대출받아 서울에 내집 마련하기 안녕하세요제가 작년...  \n2   애들건강 음식\\n 애들이 먹으면 좋은음식을 알려드릴게요 1번째 요플레 애들에 변비를...  \n3   운동\\n 저는 운동을 해야할 것같아서 배드민턴을 시작으로운동을 했습니다그러다 재미가...  \n4   웹소설 전망 앞으로 웹소설을 혼자 써서 성공하기는 힘들 겁니다 퀴즈 1 국내 아이돌...  \n5   웹소설로 돈 벌려면 이 3가지를 익히셔야 합니다 이 글은 아래 해당하는 사람만 보세...  \n6   웹소설 같이 쓰면 얼마나 더 나아지는지 보여드림 안녕하세요이전 글에서 함께 쓰는 웹...  \n7   웹소설을 같이 쓴다는 것 앞글에 이어 리나모 작가님과 함께 1년 넘게 웹소설을 써온...  \n8   카카오페이지 웹소설 1위 찍다 많은 분들이 애정해주신 덕분에 귀신 잡느라 연차 씁니...  \n9   발로란트 세이지를 쓸 때 로터스 c에 메인으로 스파를 설치하고 C메인과 로비 사이에...  \n10  마들렌 만드는 법 초코 마들렌을 만드려면버터 100g  박력분 85g 코코아파우더 ...  \n11  1탄 점만 100번 이상 본 무당 매니아가 말하는 점집 찾는 법 여러분은 신을 믿으...  \n12  커리어 1탄 대 이직의 시대 프로 이직러라면 알아야할 연차 꿀팁 대 이직의 시대에 ...  \n13  단기간에1달이내 10키로 이상 빼기정말급한분들만 제가 정말정말 급할때 썼던 다이어트...  \n14  조직 밖에서 스스로 돈벌기 절반의 성공과 절반의 실패 저는 조직에 속하지 않고서도 ...  \n15  마플샵 크리에이터 심사 한번에 합격하는 비법 공개  먼저 마플샵이란내가 디자인한 굿...  \n16  스타벅스 꿀팁이 궁금하세요 스타벅스 별적립의 모든 것스타벅스 카드 스타벅스 충전 카...  \n17  맥을 똑똑하게쓰기 맥을 조금더 똑똑하게 쓰는방법 몇가지를 알려드릴께요App Clea...  \n18  마인크래프트 엔더드래곤 원트에 잡는방법 엔더드래곤 원트에 잡고 글 올립니다준비물다이...  \n19  판타지 웹소설 쓸 때 참조할만한 스킬  아이템 설정집 판타지 웹소설을 쓸 때 골아픈...  \n20  조회수 떡상하는 웹소설 표지 만드는 법 1 지난번 웹소설 제목 짓는 법에 이어서이번...  ",
      "text/html": "<div>\n<style scoped>\n    .dataframe tbody tr th:only-of-type {\n        vertical-align: middle;\n    }\n\n    .dataframe tbody tr th {\n        vertical-align: top;\n    }\n\n    .dataframe thead th {\n        text-align: right;\n    }\n</style>\n<table border=\"1\" class=\"dataframe\">\n  <thead>\n    <tr style=\"text-align: right;\">\n      <th></th>\n      <th>title</th>\n      <th>tags</th>\n      <th>category</th>\n      <th>content</th>\n      <th>processed_text</th>\n    </tr>\n  </thead>\n  <tbody>\n    <tr>\n      <th>0</th>\n      <td>한국에서 돈을 가장 빨리 불리는 비법 (feat.13월의 월급 두둑해짐)</td>\n      <td>돈불리기,etf,비법,꿀팁,주식,재테크,연금저축,투자,미국주식</td>\n      <td>INVESTMENT</td>\n      <td>안녕하세요! 오늘은 30살에 2억 5천만원을 모은 제 동생에게 전수받고 다양한 유튜...</td>\n      <td>한국에서 돈을 가장 빨리 불리는 비법 feat13월의 월급 두둑해짐 안녕하세요 오늘...</td>\n    </tr>\n    <tr>\n      <th>1</th>\n      <td>대출상품의 맹점을 활용해 저금리로 대출받아 서울에 내집 마련하기!</td>\n      <td>투자,부동산,재테크</td>\n      <td>INVESTMENT</td>\n      <td>안녕하세요.제가 작년에 만 31세일 때 집 마련을 했는데 집 매매를 하면서 터득한 ...</td>\n      <td>대출상품의 맹점을 활용해 저금리로 대출받아 서울에 내집 마련하기 안녕하세요제가 작년...</td>\n    </tr>\n    <tr>\n      <th>2</th>\n      <td>애들건강 음식\\nㅕ</td>\n      <td>반나나,채소,삶은고기,애호박,요플레</td>\n      <td>RELATIONSHIP</td>\n      <td>애들이 먹으면 좋은음식을 알려드릴게요 1번째 요플레 애들에 변비를 도와줌니다 요거트...</td>\n      <td>애들건강 음식\\n 애들이 먹으면 좋은음식을 알려드릴게요 1번째 요플레 애들에 변비를...</td>\n    </tr>\n    <tr>\n      <th>3</th>\n      <td>운동\\n</td>\n      <td>테그</td>\n      <td>HOBBY</td>\n      <td>저는 운동을 해야할 것같아서 배드민턴을 시작으로운동을 했습니다.그러다 재미가 붙어서...</td>\n      <td>운동\\n 저는 운동을 해야할 것같아서 배드민턴을 시작으로운동을 했습니다그러다 재미가...</td>\n    </tr>\n    <tr>\n      <th>4</th>\n      <td>[웹소설 전망] 앞으로 웹소설을 혼자 써서 성공하기는 힘들 겁니다</td>\n      <td>집단창작,전망,웹소설,성공비결,공동창작,콘텐츠,성공공식</td>\n      <td>SIDE_JOB</td>\n      <td>﻿퀴즈 1. 국내 아이돌 지망생은 몇 명일까요?100만명입니다.(2018년 업계 추...</td>\n      <td>웹소설 전망 앞으로 웹소설을 혼자 써서 성공하기는 힘들 겁니다 퀴즈 1 국내 아이돌...</td>\n    </tr>\n    <tr>\n      <th>5</th>\n      <td>웹소설로 돈 벌려면 이 3가지를 익히셔야 합니다</td>\n      <td>성공비결,웹소설,세컨드잡,N잡러,N잡,성공공식,인기작품</td>\n      <td>SIDE_JOB</td>\n      <td>이 글은 아래 해당하는 사람만 보세요.1. 나 글쓰는 데 재주가 좀 있다 2. 글쓰...</td>\n      <td>웹소설로 돈 벌려면 이 3가지를 익히셔야 합니다 이 글은 아래 해당하는 사람만 보세...</td>\n    </tr>\n    <tr>\n      <th>6</th>\n      <td>웹소설, 같이 쓰면 얼마나 더 나아지는지 보여드림</td>\n      <td>성공공식,N잡러,N잡,인기작품,성공비결,부업,웹소설</td>\n      <td>SIDE_JOB</td>\n      <td>안녕하세요!이전 글에서 함께 쓰는 웹소설 ‘웹소설 스튜디오’ 시스템에 대해서 얘기했...</td>\n      <td>웹소설 같이 쓰면 얼마나 더 나아지는지 보여드림 안녕하세요이전 글에서 함께 쓰는 웹...</td>\n    </tr>\n    <tr>\n      <th>7</th>\n      <td>웹소설을 같이 쓴다는 것</td>\n      <td>카카오페이지,웹소설,1등</td>\n      <td>SIDE_JOB</td>\n      <td>앞글에 이어 리나모 작가님과 함께 1년 넘게 웹소설을 써온 과정을 이야기 해드릴려고...</td>\n      <td>웹소설을 같이 쓴다는 것 앞글에 이어 리나모 작가님과 함께 1년 넘게 웹소설을 써온...</td>\n    </tr>\n    <tr>\n      <th>8</th>\n      <td>카카오페이지 웹소설 1위 찍다!</td>\n      <td>인기작품,카카오페이지,웹소설,1등</td>\n      <td>SIDE_JOB</td>\n      <td>많은 분들이 애정해주신 덕분에 &lt;귀신 잡느라 연차 씁니다&gt;가 작년 10월 론칭하자마...</td>\n      <td>카카오페이지 웹소설 1위 찍다 많은 분들이 애정해주신 덕분에 귀신 잡느라 연차 씁니...</td>\n    </tr>\n    <tr>\n      <th>9</th>\n      <td>발로란트</td>\n      <td>발로란트,세이지,게임,로터스</td>\n      <td>GAME</td>\n      <td>세이지를 쓸 때 로터스 c에 메인으로 스파를 설치하고 C메인과 로비 사이에 벽을 치...</td>\n      <td>발로란트 세이지를 쓸 때 로터스 c에 메인으로 스파를 설치하고 C메인과 로비 사이에...</td>\n    </tr>\n    <tr>\n      <th>10</th>\n      <td>마들렌 만드는 법</td>\n      <td>베이킹레시피간식초코마들렌,마들렌</td>\n      <td>HOBBY</td>\n      <td>초코 마들렌을 만드려면버터 100g  박력분 85g 코코아파우더 15g 베이킹파우더...</td>\n      <td>마들렌 만드는 법 초코 마들렌을 만드려면버터 100g  박력분 85g 코코아파우더 ...</td>\n    </tr>\n    <tr>\n      <th>11</th>\n      <td>[1탄] 점만 100번 이상 본 무당 매니아가 말하는 ‘점집 찾는 법’</td>\n      <td>점린이,사주팔자,미스테리,점집,사주,신점,점사,무당,신</td>\n      <td>MYSTERY</td>\n      <td>여러분은 신을 믿으시나요? 저는 신을 믿는다고는 말할 수 없지만 궁금증은 많아서 점...</td>\n      <td>1탄 점만 100번 이상 본 무당 매니아가 말하는 점집 찾는 법 여러분은 신을 믿으...</td>\n    </tr>\n    <tr>\n      <th>12</th>\n      <td>[커리어 1탄] 대 이직의 시대, 프로 이직러라면 알아야할 '연차' 꿀팁</td>\n      <td>커리어,연차,비법거래소,비법,꿀팁</td>\n      <td>CAREER</td>\n      <td>대 이직의 시대에 살고계신 여러분들이 꼭 알아야할 연차 꿀팁을 알려드립니다.예전에 ...</td>\n      <td>커리어 1탄 대 이직의 시대 프로 이직러라면 알아야할 연차 꿀팁 대 이직의 시대에 ...</td>\n    </tr>\n    <tr>\n      <th>13</th>\n      <td>단기간에(1달이내) 10키로 이상 빼기(정말급한분들만)</td>\n      <td>단기간다이어트,다이어트</td>\n      <td>SPORTS</td>\n      <td>제가 정말정말 급할때 썼던 다이어트 비법입니다.1.식단관리가 매우매우 중요하다. 많...</td>\n      <td>단기간에1달이내 10키로 이상 빼기정말급한분들만 제가 정말정말 급할때 썼던 다이어트...</td>\n    </tr>\n    <tr>\n      <th>14</th>\n      <td>조직 밖에서 스스로 돈벌기, 절반의 성공과 절반의 실패</td>\n      <td>일러스트레이터,부업,자기계발,N잡,커리어,디자이너,자기개발,프리랜서,수익화</td>\n      <td>CAREER</td>\n      <td>저는 조직에 속하지 않고서도 스스로 의미와 수익을 창출할 수 있는 일을 꿈꾸고 있습...</td>\n      <td>조직 밖에서 스스로 돈벌기 절반의 성공과 절반의 실패 저는 조직에 속하지 않고서도 ...</td>\n    </tr>\n    <tr>\n      <th>15</th>\n      <td>마플샵 크리에이터 심사 한번에 합격하는 비법 공개 !</td>\n      <td>부업,클라이밍굿즈,클라이밍,마플샵크리에이터심사승인비법,굿즈제작,비법거래소,마플샵</td>\n      <td>SIDE_JOB</td>\n      <td>먼저 마플샵이란?내가 디자인한 굿즈를 판매하여 수익을 얻을 수 있는 커머스 플랫폼이...</td>\n      <td>마플샵 크리에이터 심사 한번에 합격하는 비법 공개  먼저 마플샵이란내가 디자인한 굿...</td>\n    </tr>\n    <tr>\n      <th>16</th>\n      <td>스타벅스 꿀팁이 궁금하세요?</td>\n      <td>별적립,스타벅스</td>\n      <td>ETC</td>\n      <td>스타벅스 별적립의 모든 것스타벅스 카드• 스타벅스 충전 카드는 결제 카드 겸 적립카...</td>\n      <td>스타벅스 꿀팁이 궁금하세요 스타벅스 별적립의 모든 것스타벅스 카드 스타벅스 충전 카...</td>\n    </tr>\n    <tr>\n      <th>17</th>\n      <td>맥을 똑똑하게쓰기</td>\n      <td>맥북비싸,맥북,돈값해야지</td>\n      <td>HOBBY</td>\n      <td>맥을 조금더 똑똑하게 쓰는방법 몇가지를 알려드릴께요App Cleaner(무료!!!)...</td>\n      <td>맥을 똑똑하게쓰기 맥을 조금더 똑똑하게 쓰는방법 몇가지를 알려드릴께요App Clea...</td>\n    </tr>\n    <tr>\n      <th>18</th>\n      <td>마인크래프트 엔더드래곤 원트에 잡는방법</td>\n      <td>마인크래프트,게임,마크</td>\n      <td>GAME</td>\n      <td>엔더드래곤 원트에 잡고 글 올립니다.준비물다이아 풀셋활&amp;화살물양동이엔더진주 5개만 ...</td>\n      <td>마인크래프트 엔더드래곤 원트에 잡는방법 엔더드래곤 원트에 잡고 글 올립니다준비물다이...</td>\n    </tr>\n    <tr>\n      <th>19</th>\n      <td>판타지 웹소설 쓸 때 참조할만한 스킬 &amp; 아이템 설정집</td>\n      <td>웹소설</td>\n      <td>SIDE_JOB</td>\n      <td>﻿판타지 웹소설을 쓸 때 골아픈 게 뭘까요?뭐 여러가지 많겠지만서도 세계관 짜는 거...</td>\n      <td>판타지 웹소설 쓸 때 참조할만한 스킬  아이템 설정집 판타지 웹소설을 쓸 때 골아픈...</td>\n    </tr>\n    <tr>\n      <th>20</th>\n      <td>조회수 떡상하는 웹소설 표지 만드는 법 (1)</td>\n      <td>웹소설</td>\n      <td>SIDE_JOB</td>\n      <td>지난번 웹소설 제목 짓는 법에 이어서이번에는 웹소설 표지 만드는 법에 대해서 얘기해...</td>\n      <td>조회수 떡상하는 웹소설 표지 만드는 법 1 지난번 웹소설 제목 짓는 법에 이어서이번...</td>\n    </tr>\n  </tbody>\n</table>\n</div>"
     },
     "execution_count": 11,
     "metadata": {},
     "output_type": "execute_result"
    }
   ],
   "source": [
    "import re\n",
    "\n",
    "articles_df[\"processed_text\"] = (\n",
    "    articles_df.apply(lambda x: re.sub(r\"[^\\uAC00-\\uD7A30-9a-zA-Z\\s]\", \"\",\n",
    "                                       f\"{x['title']} {x['content']} {' '.join(x['tags'].split(','))}\"),\n",
    "                      axis=1))\n",
    "\n",
    "articles_df"
   ],
   "metadata": {
    "collapsed": false,
    "ExecuteTime": {
     "end_time": "2024-04-17T02:21:35.097192Z",
     "start_time": "2024-04-17T02:21:35.079514Z"
    }
   },
   "id": "8d79215807d22dd",
   "execution_count": 11
  },
  {
   "cell_type": "code",
   "outputs": [],
   "source": [
    "stop_words = pd.read_csv('../data/stop_words_ko.csv')\n",
    "\n",
    "from nltk.tokenize import word_tokenize\n",
    "\n",
    "articles_df[\"processed_text\"] = (\n",
    "    articles_df.apply(lambda x: ' '.join(\n",
    "        [word for word in word_tokenize(x['processed_text']) if word not in stop_words['stop_words'].tolist()]),\n",
    "                      axis=1))\n"
   ],
   "metadata": {
    "collapsed": false,
    "ExecuteTime": {
     "end_time": "2024-04-17T02:22:22.502678Z",
     "start_time": "2024-04-17T02:22:21.610935Z"
    }
   },
   "id": "7eccc5494082d7ba",
   "execution_count": 12
  },
  {
   "cell_type": "code",
   "outputs": [],
   "source": [
    "from langchain_openai import OpenAIEmbeddings\n",
    "\n",
    "model_name = 'text-embedding-3-large'\n",
    "embed = OpenAIEmbeddings(\n",
    "\n",
    "    model=model_name,\n",
    "    api_key=openai_api_key\n",
    ")"
   ],
   "metadata": {
    "collapsed": false,
    "ExecuteTime": {
     "end_time": "2024-04-17T02:23:24.024145Z",
     "start_time": "2024-04-17T02:23:23.888102Z"
    }
   },
   "id": "fd81f4805eb76042",
   "execution_count": 14
  },
  {
   "cell_type": "code",
   "outputs": [],
   "source": [
    "from langchain.text_splitter import RecursiveCharacterTextSplitter\n",
    "\n",
    "text_splitter = RecursiveCharacterTextSplitter(\n",
    "    chunk_size=400,\n",
    "    chunk_overlap=20,\n",
    "    separators=[\"\\n\\n\", \"\\n\", \"\", \" \"]\n",
    "\n",
    ")"
   ],
   "metadata": {
    "collapsed": false,
    "ExecuteTime": {
     "end_time": "2024-04-17T02:23:31.179077Z",
     "start_time": "2024-04-17T02:23:31.169462Z"
    }
   },
   "id": "5eec2b98fd44f76f",
   "execution_count": 15
  },
  {
   "cell_type": "code",
   "outputs": [
    {
     "data": {
      "text/plain": "0it [00:00, ?it/s]",
      "application/vnd.jupyter.widget-view+json": {
       "version_major": 2,
       "version_minor": 0,
       "model_id": "7e8ba8a1b5634c1f8cfd2b1d9164f357"
      }
     },
     "metadata": {},
     "output_type": "display_data"
    }
   ],
   "source": [
    "from tqdm.auto import tqdm\n",
    "from uuid import uuid4\n",
    "\n",
    "\n",
    "def process_and_upload_records(dataset, batch_limit=100):\n",
    "    texts = []\n",
    "    metadatas = []\n",
    "\n",
    "    for index, record in tqdm(dataset.iterrows()):\n",
    "        metadata = {\n",
    "            'title': record[\"title\"],\n",
    "        }\n",
    "\n",
    "        record_texts = text_splitter.split_text(record[\"processed_text\"])\n",
    "        record_metadatas = [\n",
    "            {\"chunk\": j, \"processed_text\": text, **metadata}\n",
    "            for j, text in enumerate(record_texts)\n",
    "        ]\n",
    "\n",
    "        texts.extend(record_texts)\n",
    "        metadatas.extend(record_metadatas)\n",
    "\n",
    "        if len(texts) >= batch_limit:\n",
    "            upload_data(texts, metadatas)\n",
    "            texts, metadatas = [], []\n",
    "\n",
    "    if texts:\n",
    "        upload_data(texts, metadatas)\n",
    "\n",
    "\n",
    "def upload_data(texts, metadatas):\n",
    "    ids = [str(uuid4()) for _ in range(len(texts))]\n",
    "    embeds = embed.embed_documents(texts)\n",
    "    index.upsert(vectors=zip(ids, embeds, metadatas))\n",
    "\n",
    "\n",
    "process_and_upload_records(articles_df)"
   ],
   "metadata": {
    "collapsed": false,
    "ExecuteTime": {
     "end_time": "2024-04-17T02:34:57.077025Z",
     "start_time": "2024-04-17T02:34:46.554170Z"
    }
   },
   "id": "5b3e55268cbef721",
   "execution_count": 32
  },
  {
   "cell_type": "code",
   "outputs": [
    {
     "data": {
      "text/plain": "{'dimension': 3072,\n 'index_fullness': 0.00237,\n 'namespaces': {'': {'vector_count': 237}},\n 'total_vector_count': 237}"
     },
     "execution_count": 33,
     "metadata": {},
     "output_type": "execute_result"
    }
   ],
   "source": [
    "index.describe_index_stats()"
   ],
   "metadata": {
    "collapsed": false,
    "ExecuteTime": {
     "end_time": "2024-04-17T02:35:13.213718Z",
     "start_time": "2024-04-17T02:35:13.022653Z"
    }
   },
   "id": "b969f4a1c4ff58c6",
   "execution_count": 33
  },
  {
   "cell_type": "code",
   "outputs": [
    {
     "name": "stderr",
     "output_type": "stream",
     "text": [
      "/Users/jaypark/anaconda3/envs/embedding/lib/python3.11/site-packages/langchain_community/vectorstores/pinecone.py:68: UserWarning: Passing in `embedding` as a Callable is deprecated. Please pass in an Embeddings object instead.\n",
      "  warnings.warn(\n"
     ]
    }
   ],
   "source": [
    "from langchain_community.vectorstores import Pinecone\n",
    "\n",
    "text_field = \"processed_text\"\n",
    "\n",
    "vectorstore = Pinecone(\n",
    "    index, embed.embed_query, text_field\n",
    ")"
   ],
   "metadata": {
    "collapsed": false,
    "ExecuteTime": {
     "end_time": "2024-04-17T02:44:20.740057Z",
     "start_time": "2024-04-17T02:44:20.724013Z"
    }
   },
   "id": "10d0908d105d130c",
   "execution_count": 47
  },
  {
   "cell_type": "code",
   "outputs": [
    {
     "data": {
      "text/plain": "[Document(page_content='한국에서 돈을 가장 빨리 불리는 비법 feat13월의 월급 두둑해짐 안녕하세요 오늘은 30살에 2억 5천만원을 모은 동생에게 전수받고 다양한 유튜버들의 다양한 아이디어를 통해 배운 한국에서 돈을 가장 빨리 불리는 방법에 대해 공유드리려고 합니다저는 2023년 말이 되어서야 방법으로 투자를 시작했는데요 그동안 열심히 소비하며 보낸 시간이 너무 아쉬울 뿐입니다우선 큰 맥락은 연금저축 통장을 적극적으로 이용하고 미국 상장 ETF를 통해 불리는 방법입니다 이미 이와 관련된 내용은 이미 아실만 분들은 다 알고계시는 내용이죠 이미 알고있는 분들에게도 도움되는 다양한 예시와 시뮬레이션을 통해 재미있게 소개드릴테니 많은 관심 부탁드립니다마지막에는 내가 한달에 얼마씩 넣었을 미래에 돈을 얼마가 될지 계산해 볼 있는 구글 스', metadata={'chunk': 0.0, 'title': '한국에서 돈을 가장 빨리 불리는 비법 (feat.13월의 월급 두둑해짐)'}),\n Document(page_content='한국에서 돈을 가장 빨리 불리는 비법 feat13월의 월급 두둑해짐 안녕하세요 오늘은 30살에 2억 5천만원을 모은 동생에게 전수받고 다양한 유튜버들의 다양한 아이디어를 통해 배운 한국에서 돈을 가장 빨리 불리는 방법에 대해 공유드리려고 합니다저는 2023년 말이 되어서야 방법으로 투자를 시작했는데요 그동안 열심히 소비하며 보낸 시간이 너무 아쉬울 뿐입니다우선 큰 맥락은 연금저축 통장을 적극적으로 이용하고 미국 상장 ETF를 통해 불리는 방법입니다 이미 이와 관련된 내용은 이미 아실만 분들은 다 알고계시는 내용이죠 이미 알고있는 분들에게도 도움되는 다양한 예시와 시뮬레이션을 통해 재미있게 소개드릴테니 많은 관심 부탁드립니다마지막에는 내가 한달에 얼마씩 넣었을 미래에 돈을 얼마가 될지 계산해 볼 있는 구글 스', metadata={'chunk': 0.0, 'title': '한국에서 돈을 가장 빨리 불리는 비법 (feat.13월의 월급 두둑해짐)'}),\n Document(page_content='지만 내면적으로 탐색중입니다돈과 의미 사이에서 또는 두마리 토끼를 잡고싶은 분들께수익성에 전혀 연연하지 않으시는 멋진 분들도 계시지만 일과 돈은 분리해서 생각할 없는 같아요 저도 적게 노동하고 많이 벌고 싶습니다 선택의 갈림길에서 또는 의미와 돈이라는 가치 사이에서 고민과 갈등이 있을 일이 나에게 또는 내가 중요하다고 생각하는 것에 의미가 있는지 생각해보면 좋을 같아요 일러스트레이터 부업 자기계발 N잡 커리어 디자이너 자기개발 프리랜서 수익화', metadata={'chunk': 5.0, 'title': '조직 밖에서 스스로 돈벌기, 절반의 성공과 절반의 실패'})]"
     },
     "execution_count": 49,
     "metadata": {},
     "output_type": "execute_result"
    }
   ],
   "source": [
    "query = \"돈 많이 벌고 싶어\"\n",
    "\n",
    "vectorstore.similarity_search(\n",
    "    query, k=3\n",
    ")\n"
   ],
   "metadata": {
    "collapsed": false,
    "ExecuteTime": {
     "end_time": "2024-04-17T02:44:41.538967Z",
     "start_time": "2024-04-17T02:44:40.784539Z"
    }
   },
   "id": "103441c87748803f",
   "execution_count": 49
  },
  {
   "cell_type": "code",
   "outputs": [],
   "source": [],
   "metadata": {
    "collapsed": false
   },
   "id": "a7fb6216b8d40ec3"
  }
 ],
 "metadata": {
  "kernelspec": {
   "display_name": "Python 3",
   "language": "python",
   "name": "python3"
  },
  "language_info": {
   "codemirror_mode": {
    "name": "ipython",
    "version": 2
   },
   "file_extension": ".py",
   "mimetype": "text/x-python",
   "name": "python",
   "nbconvert_exporter": "python",
   "pygments_lexer": "ipython2",
   "version": "2.7.6"
  }
 },
 "nbformat": 4,
 "nbformat_minor": 5
}
