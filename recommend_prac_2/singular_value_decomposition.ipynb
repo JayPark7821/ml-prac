{
 "cells": [
  {
   "cell_type": "markdown",
   "source": [
    "## Singular Value Decomposition (SVD)"
   ],
   "metadata": {
    "collapsed": false
   },
   "id": "81b0607e1acabb03"
  },
  {
   "cell_type": "code",
   "outputs": [],
   "source": [
    "import pandas as pd\n",
    "import numpy as np\n",
    "from tqdm import tqdm\n",
    "from datasets import load_dataset\n",
    "from sklearn.model_selection import train_test_split\n",
    "from scipy.sparse.linalg import svds\n",
    "from scipy.sparse import csr_matrix\n",
    "import matplotlib.pyplot as plt"
   ],
   "metadata": {
    "collapsed": false,
    "ExecuteTime": {
     "end_time": "2024-03-15T01:59:47.879851Z",
     "start_time": "2024-03-15T01:59:47.877360Z"
    }
   },
   "id": "aaa208aa783c6053",
   "execution_count": 5
  },
  {
   "cell_type": "code",
   "outputs": [
    {
     "name": "stderr",
     "output_type": "stream",
     "text": [
      "Found cached dataset parquet (/Users/jaypark/.cache/huggingface/datasets/nbtpj___parquet/nbtpj--movielens-1m-ratings-b1aa424c884e38a3/0.0.0/2a3b91fbd88a2c90d1dbbb32b460cf621d31bd5b05b934492fdef7d8d6f236ec)\n"
     ]
    },
    {
     "data": {
      "text/plain": "  0%|          | 0/1 [00:00<?, ?it/s]",
      "application/vnd.jupyter.widget-view+json": {
       "version_major": 2,
       "version_minor": 0,
       "model_id": "a87e39e08de541e7b5f1e290f417e557"
      }
     },
     "metadata": {},
     "output_type": "display_data"
    },
    {
     "name": "stderr",
     "output_type": "stream",
     "text": [
      "Loading cached shuffled indices for dataset at /Users/jaypark/.cache/huggingface/datasets/nbtpj___parquet/nbtpj--movielens-1m-ratings-b1aa424c884e38a3/0.0.0/2a3b91fbd88a2c90d1dbbb32b460cf621d31bd5b05b934492fdef7d8d6f236ec/cache-15aa091e090a52af.arrow\n"
     ]
    }
   ],
   "source": [
    "data = load_dataset(\"nbtpj/movielens-1m-ratings\")[\"train\"].shuffle(seed=10).select(range(200000))\n",
    "movielens_df = pd.DataFrame(data)\n",
    "movielens_df = movielens_df[[\"user_id\", \"movie_id\", \"user_rating\"]]\n",
    "\n",
    "user_ids = movielens_df[\"user_id\"].unique()\n",
    "user_id_map = {id: index for index, id in enumerate(user_ids)}\n",
    "movie_ids = movielens_df[\"movie_id\"].unique()\n",
    "movie_id_map = {id: index for index, id in enumerate(movie_ids)}\n",
    "\n",
    "movielens_df[\"user_id\"] = movielens_df[\"user_id\"].map(user_id_map)\n",
    "movielens_df[\"movie_id\"] = movielens_df[\"movie_id\"].map(movie_id_map)"
   ],
   "metadata": {
    "collapsed": false,
    "ExecuteTime": {
     "end_time": "2024-03-15T02:00:00.944483Z",
     "start_time": "2024-03-15T01:59:47.904336Z"
    }
   },
   "id": "397fd703d1295657",
   "execution_count": 6
  },
  {
   "cell_type": "code",
   "outputs": [],
   "source": [
    "train_data, test_data = train_test_split(movielens_df, test_size=0.2, random_state=10)\n",
    "\n",
    "user_avg_ratings = train_data.groupby(\"user_id\")[\"user_rating\"].mean().to_dict()\n",
    "ratings_matrix = train_data.pivot(index=\"user_id\", columns=\"movie_id\", values=\"user_rating\").apply(lambda x: x.fillna(user_avg_ratings[x.name]),axis = 1)\n",
    "user_rating_mean = ratings_matrix.mean(axis=1)\n",
    "ratings_matrix_demeaned = ratings_matrix - user_rating_mean.values.reshape(-1, 1)\n",
    "ratings_matrix_csr = csr_matrix(ratings_matrix_demeaned.values)\n",
    "\n",
    "U, sigma, Vt = svds(ratings_matrix_csr, k=50)\n",
    "sigma = np.diag(sigma)"
   ],
   "metadata": {
    "collapsed": false,
    "ExecuteTime": {
     "end_time": "2024-03-15T02:00:06.809905Z",
     "start_time": "2024-03-15T02:00:00.945452Z"
    }
   },
   "id": "2b77ddb617cc82b7",
   "execution_count": 7
  },
  {
   "cell_type": "code",
   "outputs": [
    {
     "name": "stderr",
     "output_type": "stream",
     "text": [
      "100%|██████████| 40000/40000 [00:00<00:00, 71152.22it/s]"
     ]
    },
    {
     "name": "stdout",
     "output_type": "stream",
     "text": [
      "RMSE: 1.21\n"
     ]
    },
    {
     "name": "stderr",
     "output_type": "stream",
     "text": [
      "\n"
     ]
    }
   ],
   "source": [
    "all_user_predicted_ratings = np.dot(np.dot(U, sigma), Vt) + user_rating_mean.values.reshape(-1, 1)\n",
    "user_mean = np.mean(all_user_predicted_ratings)\n",
    "\n",
    "def predict_rating_svd(user_id:int, movie_id: int):\n",
    "    if user_id < all_user_predicted_ratings.shape[0] and movie_id < all_user_predicted_ratings.shape[1]:\n",
    "        return all_user_predicted_ratings[user_id, movie_id]\n",
    "    else:\n",
    "        return user_mean\n",
    "    \n",
    "predictions : list[float] = []\n",
    "true_ratings : list[float] = []\n",
    "\n",
    "for _, row in tqdm(test_data.iterrows(), total=test_data.shape[0]):\n",
    "    user_id = int(row[\"user_id\"])\n",
    "    movie_id = int(row[\"movie_id\"])\n",
    "    user_rating = row[\"user_rating\"]\n",
    "    \n",
    "    predicted_rating = predict_rating_svd(user_id, movie_id)\n",
    "    predictions.append(round(predicted_rating))\n",
    "    true_ratings.append(user_rating)\n",
    "    \n",
    "rmse = np.sqrt(np.mean((np.array(predictions) - np.array(true_ratings))**2))\n",
    "print(f\"RMSE: {rmse:.2f}\")\n",
    "\n"
   ],
   "metadata": {
    "collapsed": false,
    "ExecuteTime": {
     "end_time": "2024-03-15T02:00:37.494631Z",
     "start_time": "2024-03-15T02:00:36.811781Z"
    }
   },
   "id": "3af64babbb1d0ddb",
   "execution_count": 9
  },
  {
   "cell_type": "code",
   "outputs": [
    {
     "data": {
      "text/plain": "<Figure size 1000x500 with 1 Axes>",
      "image/png": "[encoded data removed]"
     },
     "metadata": {},
     "output_type": "display_data"
    }
   ],
   "source": [
    "plt.figure(figsize=(10, 5))\n",
    "plt.hist(predictions, bins=5, alpha=0.5, label=\"Predictions\", color=\"blue\")\n",
    "plt.hist(true_ratings, bins=5, alpha=0.5, label=\"Actual\", color=\"red\")\n",
    "plt.title(\"Predicted vs Actual Ratings\")\n",
    "plt.xlabel(\"Rating\")\n",
    "plt.ylabel(\"Frequency\")\n",
    "plt.legend()\n",
    "plt.show()"
   ],
   "metadata": {
    "collapsed": false,
    "ExecuteTime": {
     "end_time": "2024-03-15T02:02:01.577295Z",
     "start_time": "2024-03-15T02:02:01.399122Z"
    }
   },
   "id": "cd1c15e69e2d0a70",
   "execution_count": 10
  },
  {
   "cell_type": "code",
   "outputs": [],
   "source": [],
   "metadata": {
    "collapsed": false
   },
   "id": "91723eb22c5b30f1"
  }
 ],
 "metadata": {
  "kernelspec": {
   "display_name": "Python 3",
   "language": "python",
   "name": "python3"
  },
  "language_info": {
   "codemirror_mode": {
    "name": "ipython",
    "version": 2
   },
   "file_extension": ".py",
   "mimetype": "text/x-python",
   "name": "python",
   "nbconvert_exporter": "python",
   "pygments_lexer": "ipython2",
   "version": "2.7.6"
  }
 },
 "nbformat": 4,
 "nbformat_minor": 5
}
